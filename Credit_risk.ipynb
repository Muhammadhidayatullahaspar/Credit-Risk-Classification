{
  "cells": [
    {
      "cell_type": "markdown",
      "id": "99597ca5-47d9-4f63-bed9-b3d873f16841",
      "metadata": {
        "id": "99597ca5-47d9-4f63-bed9-b3d873f16841"
      },
      "source": [
        "# LIBRARIES"
      ]
    },
    {
      "cell_type": "code",
      "execution_count": 275,
      "id": "6b5abe4a",
      "metadata": {},
      "outputs": [
        {
          "name": "stdout",
          "output_type": "stream",
          "text": [
            "Requirement already satisfied: imblearn in c:\\users\\user\\appdata\\local\\packages\\pythonsoftwarefoundation.python.3.10_qbz5n2kfra8p0\\localcache\\local-packages\\python310\\site-packages (0.0)\n",
            "Requirement already satisfied: imbalanced-learn in c:\\users\\user\\appdata\\local\\packages\\pythonsoftwarefoundation.python.3.10_qbz5n2kfra8p0\\localcache\\local-packages\\python310\\site-packages (from imblearn) (0.10.1)\n",
            "Requirement already satisfied: numpy>=1.17.3 in c:\\users\\user\\appdata\\local\\packages\\pythonsoftwarefoundation.python.3.10_qbz5n2kfra8p0\\localcache\\local-packages\\python310\\site-packages (from imbalanced-learn->imblearn) (1.24.2)\n",
            "Requirement already satisfied: scikit-learn>=1.0.2 in c:\\users\\user\\appdata\\local\\packages\\pythonsoftwarefoundation.python.3.10_qbz5n2kfra8p0\\localcache\\local-packages\\python310\\site-packages (from imbalanced-learn->imblearn) (1.2.2)\n",
            "Requirement already satisfied: joblib>=1.1.1 in c:\\users\\user\\appdata\\local\\packages\\pythonsoftwarefoundation.python.3.10_qbz5n2kfra8p0\\localcache\\local-packages\\python310\\site-packages (from imbalanced-learn->imblearn) (1.2.0)\n",
            "Requirement already satisfied: threadpoolctl>=2.0.0 in c:\\users\\user\\appdata\\local\\packages\\pythonsoftwarefoundation.python.3.10_qbz5n2kfra8p0\\localcache\\local-packages\\python310\\site-packages (from imbalanced-learn->imblearn) (3.1.0)\n",
            "Requirement already satisfied: scipy>=1.3.2 in c:\\users\\user\\appdata\\local\\packages\\pythonsoftwarefoundation.python.3.10_qbz5n2kfra8p0\\localcache\\local-packages\\python310\\site-packages (from imbalanced-learn->imblearn) (1.10.1)\n",
            "Note: you may need to restart the kernel to use updated packages.\n"
          ]
        }
      ],
      "source": [
        "pip install imblearn"
      ]
    },
    {
      "cell_type": "code",
      "execution_count": 276,
      "id": "0acf546c",
      "metadata": {},
      "outputs": [
        {
          "name": "stdout",
          "output_type": "stream",
          "text": [
            "Requirement already satisfied: scikit-learn in c:\\users\\user\\appdata\\local\\packages\\pythonsoftwarefoundation.python.3.10_qbz5n2kfra8p0\\localcache\\local-packages\\python310\\site-packages (1.2.2)\n",
            "Requirement already satisfied: threadpoolctl>=2.0.0 in c:\\users\\user\\appdata\\local\\packages\\pythonsoftwarefoundation.python.3.10_qbz5n2kfra8p0\\localcache\\local-packages\\python310\\site-packages (from scikit-learn) (3.1.0)\n",
            "Requirement already satisfied: scipy>=1.3.2 in c:\\users\\user\\appdata\\local\\packages\\pythonsoftwarefoundation.python.3.10_qbz5n2kfra8p0\\localcache\\local-packages\\python310\\site-packages (from scikit-learn) (1.10.1)\n",
            "Requirement already satisfied: joblib>=1.1.1 in c:\\users\\user\\appdata\\local\\packages\\pythonsoftwarefoundation.python.3.10_qbz5n2kfra8p0\\localcache\\local-packages\\python310\\site-packages (from scikit-learn) (1.2.0)\n",
            "Requirement already satisfied: numpy>=1.17.3 in c:\\users\\user\\appdata\\local\\packages\\pythonsoftwarefoundation.python.3.10_qbz5n2kfra8p0\\localcache\\local-packages\\python310\\site-packages (from scikit-learn) (1.24.2)\n",
            "Note: you may need to restart the kernel to use updated packages.\n"
          ]
        }
      ],
      "source": [
        "pip install scikit-learn"
      ]
    },
    {
      "cell_type": "code",
      "execution_count": 277,
      "id": "02e305f8",
      "metadata": {},
      "outputs": [
        {
          "name": "stdout",
          "output_type": "stream",
          "text": [
            "Requirement already satisfied: numpy in c:\\users\\user\\appdata\\local\\packages\\pythonsoftwarefoundation.python.3.10_qbz5n2kfra8p0\\localcache\\local-packages\\python310\\site-packages (1.24.2)\n",
            "Note: you may need to restart the kernel to use updated packages.\n"
          ]
        }
      ],
      "source": [
        "pip install numpy"
      ]
    },
    {
      "cell_type": "code",
      "execution_count": 278,
      "id": "c4ee39ad",
      "metadata": {},
      "outputs": [
        {
          "name": "stdout",
          "output_type": "stream",
          "text": [
            "Requirement already satisfied: pandas in c:\\users\\user\\appdata\\local\\packages\\pythonsoftwarefoundation.python.3.10_qbz5n2kfra8p0\\localcache\\local-packages\\python310\\site-packages (1.5.3)\n",
            "Requirement already satisfied: numpy>=1.21.0 in c:\\users\\user\\appdata\\local\\packages\\pythonsoftwarefoundation.python.3.10_qbz5n2kfra8p0\\localcache\\local-packages\\python310\\site-packages (from pandas) (1.24.2)\n",
            "Requirement already satisfied: pytz>=2020.1 in c:\\users\\user\\appdata\\local\\packages\\pythonsoftwarefoundation.python.3.10_qbz5n2kfra8p0\\localcache\\local-packages\\python310\\site-packages (from pandas) (2023.2)\n",
            "Requirement already satisfied: python-dateutil>=2.8.1 in c:\\users\\user\\appdata\\local\\packages\\pythonsoftwarefoundation.python.3.10_qbz5n2kfra8p0\\localcache\\local-packages\\python310\\site-packages (from pandas) (2.8.2)\n",
            "Requirement already satisfied: six>=1.5 in c:\\users\\user\\appdata\\local\\packages\\pythonsoftwarefoundation.python.3.10_qbz5n2kfra8p0\\localcache\\local-packages\\python310\\site-packages (from python-dateutil>=2.8.1->pandas) (1.16.0)\n",
            "Note: you may need to restart the kernel to use updated packages.\n"
          ]
        }
      ],
      "source": [
        "pip install pandas"
      ]
    },
    {
      "cell_type": "code",
      "execution_count": 279,
      "id": "d1fa1559",
      "metadata": {},
      "outputs": [
        {
          "name": "stdout",
          "output_type": "stream",
          "text": [
            "Requirement already satisfied: seaborn in c:\\users\\user\\appdata\\local\\packages\\pythonsoftwarefoundation.python.3.10_qbz5n2kfra8p0\\localcache\\local-packages\\python310\\site-packages (0.12.2)\n",
            "Requirement already satisfied: numpy!=1.24.0,>=1.17 in c:\\users\\user\\appdata\\local\\packages\\pythonsoftwarefoundation.python.3.10_qbz5n2kfra8p0\\localcache\\local-packages\\python310\\site-packages (from seaborn) (1.24.2)\n",
            "Requirement already satisfied: pandas>=0.25 in c:\\users\\user\\appdata\\local\\packages\\pythonsoftwarefoundation.python.3.10_qbz5n2kfra8p0\\localcache\\local-packages\\python310\\site-packages (from seaborn) (1.5.3)\n",
            "Requirement already satisfied: matplotlib!=3.6.1,>=3.1 in c:\\users\\user\\appdata\\local\\packages\\pythonsoftwarefoundation.python.3.10_qbz5n2kfra8p0\\localcache\\local-packages\\python310\\site-packages (from seaborn) (3.7.1)\n",
            "Requirement already satisfied: fonttools>=4.22.0 in c:\\users\\user\\appdata\\local\\packages\\pythonsoftwarefoundation.python.3.10_qbz5n2kfra8p0\\localcache\\local-packages\\python310\\site-packages (from matplotlib!=3.6.1,>=3.1->seaborn) (4.39.3)\n",
            "Requirement already satisfied: cycler>=0.10 in c:\\users\\user\\appdata\\local\\packages\\pythonsoftwarefoundation.python.3.10_qbz5n2kfra8p0\\localcache\\local-packages\\python310\\site-packages (from matplotlib!=3.6.1,>=3.1->seaborn) (0.11.0)\n",
            "Requirement already satisfied: kiwisolver>=1.0.1 in c:\\users\\user\\appdata\\local\\packages\\pythonsoftwarefoundation.python.3.10_qbz5n2kfra8p0\\localcache\\local-packages\\python310\\site-packages (from matplotlib!=3.6.1,>=3.1->seaborn) (1.4.4)\n",
            "Requirement already satisfied: pillow>=6.2.0 in c:\\users\\user\\appdata\\local\\packages\\pythonsoftwarefoundation.python.3.10_qbz5n2kfra8p0\\localcache\\local-packages\\python310\\site-packages (from matplotlib!=3.6.1,>=3.1->seaborn) (9.4.0)\n",
            "Requirement already satisfied: packaging>=20.0 in c:\\users\\user\\appdata\\local\\packages\\pythonsoftwarefoundation.python.3.10_qbz5n2kfra8p0\\localcache\\local-packages\\python310\\site-packages (from matplotlib!=3.6.1,>=3.1->seaborn) (23.0)\n",
            "Requirement already satisfied: python-dateutil>=2.7 in c:\\users\\user\\appdata\\local\\packages\\pythonsoftwarefoundation.python.3.10_qbz5n2kfra8p0\\localcache\\local-packages\\python310\\site-packages (from matplotlib!=3.6.1,>=3.1->seaborn) (2.8.2)\n",
            "Requirement already satisfied: pyparsing>=2.3.1 in c:\\users\\user\\appdata\\local\\packages\\pythonsoftwarefoundation.python.3.10_qbz5n2kfra8p0\\localcache\\local-packages\\python310\\site-packages (from matplotlib!=3.6.1,>=3.1->seaborn) (3.0.9)\n",
            "Requirement already satisfied: contourpy>=1.0.1 in c:\\users\\user\\appdata\\local\\packages\\pythonsoftwarefoundation.python.3.10_qbz5n2kfra8p0\\localcache\\local-packages\\python310\\site-packages (from matplotlib!=3.6.1,>=3.1->seaborn) (1.0.7)\n",
            "Requirement already satisfied: pytz>=2020.1 in c:\\users\\user\\appdata\\local\\packages\\pythonsoftwarefoundation.python.3.10_qbz5n2kfra8p0\\localcache\\local-packages\\python310\\site-packages (from pandas>=0.25->seaborn) (2023.2)\n",
            "Requirement already satisfied: six>=1.5 in c:\\users\\user\\appdata\\local\\packages\\pythonsoftwarefoundation.python.3.10_qbz5n2kfra8p0\\localcache\\local-packages\\python310\\site-packages (from python-dateutil>=2.7->matplotlib!=3.6.1,>=3.1->seaborn) (1.16.0)\n",
            "Note: you may need to restart the kernel to use updated packages.\n"
          ]
        }
      ],
      "source": [
        "pip install seaborn"
      ]
    },
    {
      "cell_type": "code",
      "execution_count": 280,
      "id": "a768a44e",
      "metadata": {},
      "outputs": [
        {
          "name": "stdout",
          "output_type": "stream",
          "text": [
            "Requirement already satisfied: matplotlib in c:\\users\\user\\appdata\\local\\packages\\pythonsoftwarefoundation.python.3.10_qbz5n2kfra8p0\\localcache\\local-packages\\python310\\site-packages (3.7.1)\n",
            "Requirement already satisfied: pillow>=6.2.0 in c:\\users\\user\\appdata\\local\\packages\\pythonsoftwarefoundation.python.3.10_qbz5n2kfra8p0\\localcache\\local-packages\\python310\\site-packages (from matplotlib) (9.4.0)\n",
            "Requirement already satisfied: kiwisolver>=1.0.1 in c:\\users\\user\\appdata\\local\\packages\\pythonsoftwarefoundation.python.3.10_qbz5n2kfra8p0\\localcache\\local-packages\\python310\\site-packages (from matplotlib) (1.4.4)\n",
            "Requirement already satisfied: packaging>=20.0 in c:\\users\\user\\appdata\\local\\packages\\pythonsoftwarefoundation.python.3.10_qbz5n2kfra8p0\\localcache\\local-packages\\python310\\site-packages (from matplotlib) (23.0)\n",
            "Requirement already satisfied: fonttools>=4.22.0 in c:\\users\\user\\appdata\\local\\packages\\pythonsoftwarefoundation.python.3.10_qbz5n2kfra8p0\\localcache\\local-packages\\python310\\site-packages (from matplotlib) (4.39.3)\n",
            "Requirement already satisfied: python-dateutil>=2.7 in c:\\users\\user\\appdata\\local\\packages\\pythonsoftwarefoundation.python.3.10_qbz5n2kfra8p0\\localcache\\local-packages\\python310\\site-packages (from matplotlib) (2.8.2)\n",
            "Requirement already satisfied: contourpy>=1.0.1 in c:\\users\\user\\appdata\\local\\packages\\pythonsoftwarefoundation.python.3.10_qbz5n2kfra8p0\\localcache\\local-packages\\python310\\site-packages (from matplotlib) (1.0.7)\n",
            "Requirement already satisfied: cycler>=0.10 in c:\\users\\user\\appdata\\local\\packages\\pythonsoftwarefoundation.python.3.10_qbz5n2kfra8p0\\localcache\\local-packages\\python310\\site-packages (from matplotlib) (0.11.0)\n",
            "Requirement already satisfied: pyparsing>=2.3.1 in c:\\users\\user\\appdata\\local\\packages\\pythonsoftwarefoundation.python.3.10_qbz5n2kfra8p0\\localcache\\local-packages\\python310\\site-packages (from matplotlib) (3.0.9)\n",
            "Requirement already satisfied: numpy>=1.20 in c:\\users\\user\\appdata\\local\\packages\\pythonsoftwarefoundation.python.3.10_qbz5n2kfra8p0\\localcache\\local-packages\\python310\\site-packages (from matplotlib) (1.24.2)\n",
            "Requirement already satisfied: six>=1.5 in c:\\users\\user\\appdata\\local\\packages\\pythonsoftwarefoundation.python.3.10_qbz5n2kfra8p0\\localcache\\local-packages\\python310\\site-packages (from python-dateutil>=2.7->matplotlib) (1.16.0)\n",
            "Note: you may need to restart the kernel to use updated packages.\n"
          ]
        }
      ],
      "source": [
        "pip install matplotlib"
      ]
    },
    {
      "cell_type": "code",
      "execution_count": 281,
      "id": "66707289-c198-4047-ac46-0de7a73a533c",
      "metadata": {
        "id": "66707289-c198-4047-ac46-0de7a73a533c"
      },
      "outputs": [],
      "source": [
        "import numpy as np \n",
        "\n",
        "import pandas as pd \n",
        "pd.set_option('display.max_columns', None)\n",
        "pd.set_option('display.max_rows', 99)\n",
        "\n",
        "import matplotlib.pyplot as plt \n",
        "import seaborn as sns \n",
        "sns.set()"
      ]
    },
    {
      "cell_type": "markdown",
      "id": "e39d1c0c-0778-4f15-bacb-6ec77b9259d5",
      "metadata": {
        "id": "e39d1c0c-0778-4f15-bacb-6ec77b9259d5",
        "tags": []
      },
      "source": [
        "# IMPORTING DATA "
      ]
    },
    {
      "cell_type": "code",
      "execution_count": 282,
      "id": "a52599e9-619e-4263-b5a5-d14dbea62c44",
      "metadata": {
        "colab": {
          "base_uri": "https://localhost:8080/"
        },
        "id": "a52599e9-619e-4263-b5a5-d14dbea62c44",
        "outputId": "ae67f65e-65a7-4bb0-f053-89d66c576e6b"
      },
      "outputs": [
        {
          "name": "stderr",
          "output_type": "stream",
          "text": [
            "C:\\Users\\user\\AppData\\Local\\Temp\\ipykernel_15396\\2969852544.py:1: DtypeWarning: Columns (20) have mixed types. Specify dtype option on import or set low_memory=False.\n",
            "  data_raw = pd.read_csv('loan_data_2007_2014.csv', index_col=0)\n"
          ]
        }
      ],
      "source": [
        "data_raw = pd.read_csv('loan_data_2007_2014.csv', index_col=0)"
      ]
    },
    {
      "cell_type": "markdown",
      "id": "e8ea4fa6-0ae4-4435-adab-641d2f3a26b9",
      "metadata": {
        "id": "e8ea4fa6-0ae4-4435-adab-641d2f3a26b9"
      },
      "source": [
        "# EXPLORING DATA "
      ]
    },
    {
      "cell_type": "code",
      "execution_count": 283,
      "id": "d14e5613-33db-4928-b4f0-13c2c957aaeb",
      "metadata": {
        "colab": {
          "base_uri": "https://localhost:8080/"
        },
        "id": "d14e5613-33db-4928-b4f0-13c2c957aaeb",
        "outputId": "fc906199-4016-4f4b-ec5a-7a793485216a"
      },
      "outputs": [
        {
          "data": {
            "text/plain": [
              "(466285, 74)"
            ]
          },
          "execution_count": 283,
          "metadata": {},
          "output_type": "execute_result"
        }
      ],
      "source": [
        "data_raw.shape"
      ]
    },
    {
      "cell_type": "code",
      "execution_count": 284,
      "id": "14f2a434-98e4-426d-8914-5b56dba4f1c3",
      "metadata": {
        "colab": {
          "base_uri": "https://localhost:8080/"
        },
        "id": "14f2a434-98e4-426d-8914-5b56dba4f1c3",
        "outputId": "4df9e971-aaff-4556-ea7b-30fa689a2004",
        "scrolled": true,
        "tags": []
      },
      "outputs": [
        {
          "name": "stdout",
          "output_type": "stream",
          "text": [
            "<class 'pandas.core.frame.DataFrame'>\n",
            "Int64Index: 466285 entries, 0 to 466284\n",
            "Data columns (total 74 columns):\n",
            " #   Column                       Non-Null Count   Dtype  \n",
            "---  ------                       --------------   -----  \n",
            " 0   id                           466285 non-null  int64  \n",
            " 1   member_id                    466285 non-null  int64  \n",
            " 2   loan_amnt                    466285 non-null  int64  \n",
            " 3   funded_amnt                  466285 non-null  int64  \n",
            " 4   funded_amnt_inv              466285 non-null  float64\n",
            " 5   term                         466285 non-null  object \n",
            " 6   int_rate                     466285 non-null  float64\n",
            " 7   installment                  466285 non-null  float64\n",
            " 8   grade                        466285 non-null  object \n",
            " 9   sub_grade                    466285 non-null  object \n",
            " 10  emp_title                    438697 non-null  object \n",
            " 11  emp_length                   445277 non-null  object \n",
            " 12  home_ownership               466285 non-null  object \n",
            " 13  annual_inc                   466281 non-null  float64\n",
            " 14  verification_status          466285 non-null  object \n",
            " 15  issue_d                      466285 non-null  object \n",
            " 16  loan_status                  466285 non-null  object \n",
            " 17  pymnt_plan                   466285 non-null  object \n",
            " 18  url                          466285 non-null  object \n",
            " 19  desc                         125983 non-null  object \n",
            " 20  purpose                      466285 non-null  object \n",
            " 21  title                        466265 non-null  object \n",
            " 22  zip_code                     466285 non-null  object \n",
            " 23  addr_state                   466285 non-null  object \n",
            " 24  dti                          466285 non-null  float64\n",
            " 25  delinq_2yrs                  466256 non-null  float64\n",
            " 26  earliest_cr_line             466256 non-null  object \n",
            " 27  inq_last_6mths               466256 non-null  float64\n",
            " 28  mths_since_last_delinq       215934 non-null  float64\n",
            " 29  mths_since_last_record       62638 non-null   float64\n",
            " 30  open_acc                     466256 non-null  float64\n",
            " 31  pub_rec                      466256 non-null  float64\n",
            " 32  revol_bal                    466285 non-null  int64  \n",
            " 33  revol_util                   465945 non-null  float64\n",
            " 34  total_acc                    466256 non-null  float64\n",
            " 35  initial_list_status          466285 non-null  object \n",
            " 36  out_prncp                    466285 non-null  float64\n",
            " 37  out_prncp_inv                466285 non-null  float64\n",
            " 38  total_pymnt                  466285 non-null  float64\n",
            " 39  total_pymnt_inv              466285 non-null  float64\n",
            " 40  total_rec_prncp              466285 non-null  float64\n",
            " 41  total_rec_int                466285 non-null  float64\n",
            " 42  total_rec_late_fee           466285 non-null  float64\n",
            " 43  recoveries                   466285 non-null  float64\n",
            " 44  collection_recovery_fee      466285 non-null  float64\n",
            " 45  last_pymnt_d                 465909 non-null  object \n",
            " 46  last_pymnt_amnt              466285 non-null  float64\n",
            " 47  next_pymnt_d                 239071 non-null  object \n",
            " 48  last_credit_pull_d           466243 non-null  object \n",
            " 49  collections_12_mths_ex_med   466140 non-null  float64\n",
            " 50  mths_since_last_major_derog  98974 non-null   float64\n",
            " 51  policy_code                  466285 non-null  int64  \n",
            " 52  application_type             466285 non-null  object \n",
            " 53  annual_inc_joint             0 non-null       float64\n",
            " 54  dti_joint                    0 non-null       float64\n",
            " 55  verification_status_joint    0 non-null       float64\n",
            " 56  acc_now_delinq               466256 non-null  float64\n",
            " 57  tot_coll_amt                 396009 non-null  float64\n",
            " 58  tot_cur_bal                  396009 non-null  float64\n",
            " 59  open_acc_6m                  0 non-null       float64\n",
            " 60  open_il_6m                   0 non-null       float64\n",
            " 61  open_il_12m                  0 non-null       float64\n",
            " 62  open_il_24m                  0 non-null       float64\n",
            " 63  mths_since_rcnt_il           0 non-null       float64\n",
            " 64  total_bal_il                 0 non-null       float64\n",
            " 65  il_util                      0 non-null       float64\n",
            " 66  open_rv_12m                  0 non-null       float64\n",
            " 67  open_rv_24m                  0 non-null       float64\n",
            " 68  max_bal_bc                   0 non-null       float64\n",
            " 69  all_util                     0 non-null       float64\n",
            " 70  total_rev_hi_lim             396009 non-null  float64\n",
            " 71  inq_fi                       0 non-null       float64\n",
            " 72  total_cu_tl                  0 non-null       float64\n",
            " 73  inq_last_12m                 0 non-null       float64\n",
            "dtypes: float64(46), int64(6), object(22)\n",
            "memory usage: 266.8+ MB\n"
          ]
        }
      ],
      "source": [
        "data_raw.info()"
      ]
    },
    {
      "cell_type": "code",
      "execution_count": 285,
      "id": "ae2de89b-b107-4aed-a27a-d3e459dad9a7",
      "metadata": {
        "colab": {
          "base_uri": "https://localhost:8080/",
          "height": 249
        },
        "id": "ae2de89b-b107-4aed-a27a-d3e459dad9a7",
        "outputId": "7ae1e20f-8aa9-4fe6-f7c8-be26e0864cad"
      },
      "outputs": [
        {
          "data": {
            "text/html": [
              "<div>\n",
              "<style scoped>\n",
              "    .dataframe tbody tr th:only-of-type {\n",
              "        vertical-align: middle;\n",
              "    }\n",
              "\n",
              "    .dataframe tbody tr th {\n",
              "        vertical-align: top;\n",
              "    }\n",
              "\n",
              "    .dataframe thead th {\n",
              "        text-align: right;\n",
              "    }\n",
              "</style>\n",
              "<table border=\"1\" class=\"dataframe\">\n",
              "  <thead>\n",
              "    <tr style=\"text-align: right;\">\n",
              "      <th></th>\n",
              "      <th>id</th>\n",
              "      <th>member_id</th>\n",
              "      <th>loan_amnt</th>\n",
              "      <th>funded_amnt</th>\n",
              "      <th>funded_amnt_inv</th>\n",
              "      <th>term</th>\n",
              "      <th>int_rate</th>\n",
              "      <th>installment</th>\n",
              "      <th>grade</th>\n",
              "      <th>sub_grade</th>\n",
              "      <th>emp_title</th>\n",
              "      <th>emp_length</th>\n",
              "      <th>home_ownership</th>\n",
              "      <th>annual_inc</th>\n",
              "      <th>verification_status</th>\n",
              "      <th>issue_d</th>\n",
              "      <th>loan_status</th>\n",
              "      <th>pymnt_plan</th>\n",
              "      <th>url</th>\n",
              "      <th>desc</th>\n",
              "      <th>purpose</th>\n",
              "      <th>title</th>\n",
              "      <th>zip_code</th>\n",
              "      <th>addr_state</th>\n",
              "      <th>dti</th>\n",
              "      <th>delinq_2yrs</th>\n",
              "      <th>earliest_cr_line</th>\n",
              "      <th>inq_last_6mths</th>\n",
              "      <th>mths_since_last_delinq</th>\n",
              "      <th>mths_since_last_record</th>\n",
              "      <th>open_acc</th>\n",
              "      <th>pub_rec</th>\n",
              "      <th>revol_bal</th>\n",
              "      <th>revol_util</th>\n",
              "      <th>total_acc</th>\n",
              "      <th>initial_list_status</th>\n",
              "      <th>out_prncp</th>\n",
              "      <th>out_prncp_inv</th>\n",
              "      <th>total_pymnt</th>\n",
              "      <th>total_pymnt_inv</th>\n",
              "      <th>total_rec_prncp</th>\n",
              "      <th>total_rec_int</th>\n",
              "      <th>total_rec_late_fee</th>\n",
              "      <th>recoveries</th>\n",
              "      <th>collection_recovery_fee</th>\n",
              "      <th>last_pymnt_d</th>\n",
              "      <th>last_pymnt_amnt</th>\n",
              "      <th>next_pymnt_d</th>\n",
              "      <th>last_credit_pull_d</th>\n",
              "      <th>collections_12_mths_ex_med</th>\n",
              "      <th>mths_since_last_major_derog</th>\n",
              "      <th>policy_code</th>\n",
              "      <th>application_type</th>\n",
              "      <th>annual_inc_joint</th>\n",
              "      <th>dti_joint</th>\n",
              "      <th>verification_status_joint</th>\n",
              "      <th>acc_now_delinq</th>\n",
              "      <th>tot_coll_amt</th>\n",
              "      <th>tot_cur_bal</th>\n",
              "      <th>open_acc_6m</th>\n",
              "      <th>open_il_6m</th>\n",
              "      <th>open_il_12m</th>\n",
              "      <th>open_il_24m</th>\n",
              "      <th>mths_since_rcnt_il</th>\n",
              "      <th>total_bal_il</th>\n",
              "      <th>il_util</th>\n",
              "      <th>open_rv_12m</th>\n",
              "      <th>open_rv_24m</th>\n",
              "      <th>max_bal_bc</th>\n",
              "      <th>all_util</th>\n",
              "      <th>total_rev_hi_lim</th>\n",
              "      <th>inq_fi</th>\n",
              "      <th>total_cu_tl</th>\n",
              "      <th>inq_last_12m</th>\n",
              "    </tr>\n",
              "  </thead>\n",
              "  <tbody>\n",
              "    <tr>\n",
              "      <th>175565</th>\n",
              "      <td>2896500</td>\n",
              "      <td>3528887</td>\n",
              "      <td>11000</td>\n",
              "      <td>11000</td>\n",
              "      <td>11000.0</td>\n",
              "      <td>36 months</td>\n",
              "      <td>14.33</td>\n",
              "      <td>377.72</td>\n",
              "      <td>C</td>\n",
              "      <td>C1</td>\n",
              "      <td>FedEx Express</td>\n",
              "      <td>7 years</td>\n",
              "      <td>OWN</td>\n",
              "      <td>40600.0</td>\n",
              "      <td>Verified</td>\n",
              "      <td>Jan-13</td>\n",
              "      <td>Fully Paid</td>\n",
              "      <td>n</td>\n",
              "      <td>https://www.lendingclub.com/browse/loanDetail....</td>\n",
              "      <td>NaN</td>\n",
              "      <td>debt_consolidation</td>\n",
              "      <td>bill payoff</td>\n",
              "      <td>874xx</td>\n",
              "      <td>NM</td>\n",
              "      <td>31.45</td>\n",
              "      <td>0.0</td>\n",
              "      <td>Mar-04</td>\n",
              "      <td>0.0</td>\n",
              "      <td>NaN</td>\n",
              "      <td>110.0</td>\n",
              "      <td>9.0</td>\n",
              "      <td>1.0</td>\n",
              "      <td>8895</td>\n",
              "      <td>59.7</td>\n",
              "      <td>13.0</td>\n",
              "      <td>w</td>\n",
              "      <td>0.0</td>\n",
              "      <td>0.0</td>\n",
              "      <td>13601.9802</td>\n",
              "      <td>13601.98</td>\n",
              "      <td>11000.0</td>\n",
              "      <td>2601.98</td>\n",
              "      <td>0.0</td>\n",
              "      <td>0.0</td>\n",
              "      <td>0.0</td>\n",
              "      <td>Jan-16</td>\n",
              "      <td>377.7</td>\n",
              "      <td>NaN</td>\n",
              "      <td>Jan-16</td>\n",
              "      <td>0.0</td>\n",
              "      <td>NaN</td>\n",
              "      <td>1</td>\n",
              "      <td>INDIVIDUAL</td>\n",
              "      <td>NaN</td>\n",
              "      <td>NaN</td>\n",
              "      <td>NaN</td>\n",
              "      <td>0.0</td>\n",
              "      <td>61.0</td>\n",
              "      <td>51204.0</td>\n",
              "      <td>NaN</td>\n",
              "      <td>NaN</td>\n",
              "      <td>NaN</td>\n",
              "      <td>NaN</td>\n",
              "      <td>NaN</td>\n",
              "      <td>NaN</td>\n",
              "      <td>NaN</td>\n",
              "      <td>NaN</td>\n",
              "      <td>NaN</td>\n",
              "      <td>NaN</td>\n",
              "      <td>NaN</td>\n",
              "      <td>14900.0</td>\n",
              "      <td>NaN</td>\n",
              "      <td>NaN</td>\n",
              "      <td>NaN</td>\n",
              "    </tr>\n",
              "  </tbody>\n",
              "</table>\n",
              "</div>"
            ],
            "text/plain": [
              "             id  member_id  loan_amnt  funded_amnt  funded_amnt_inv  \\\n",
              "175565  2896500    3528887      11000        11000          11000.0   \n",
              "\n",
              "              term  int_rate  installment grade sub_grade      emp_title  \\\n",
              "175565   36 months     14.33       377.72     C        C1  FedEx Express   \n",
              "\n",
              "       emp_length home_ownership  annual_inc verification_status issue_d  \\\n",
              "175565    7 years            OWN     40600.0            Verified  Jan-13   \n",
              "\n",
              "       loan_status pymnt_plan  \\\n",
              "175565  Fully Paid          n   \n",
              "\n",
              "                                                      url desc  \\\n",
              "175565  https://www.lendingclub.com/browse/loanDetail....  NaN   \n",
              "\n",
              "                   purpose        title zip_code addr_state    dti  \\\n",
              "175565  debt_consolidation  bill payoff    874xx         NM  31.45   \n",
              "\n",
              "        delinq_2yrs earliest_cr_line  inq_last_6mths  mths_since_last_delinq  \\\n",
              "175565          0.0           Mar-04             0.0                     NaN   \n",
              "\n",
              "        mths_since_last_record  open_acc  pub_rec  revol_bal  revol_util  \\\n",
              "175565                   110.0       9.0      1.0       8895        59.7   \n",
              "\n",
              "        total_acc initial_list_status  out_prncp  out_prncp_inv  total_pymnt  \\\n",
              "175565       13.0                   w        0.0            0.0   13601.9802   \n",
              "\n",
              "        total_pymnt_inv  total_rec_prncp  total_rec_int  total_rec_late_fee  \\\n",
              "175565         13601.98          11000.0        2601.98                 0.0   \n",
              "\n",
              "        recoveries  collection_recovery_fee last_pymnt_d  last_pymnt_amnt  \\\n",
              "175565         0.0                      0.0       Jan-16            377.7   \n",
              "\n",
              "       next_pymnt_d last_credit_pull_d  collections_12_mths_ex_med  \\\n",
              "175565          NaN             Jan-16                         0.0   \n",
              "\n",
              "        mths_since_last_major_derog  policy_code application_type  \\\n",
              "175565                          NaN            1       INDIVIDUAL   \n",
              "\n",
              "        annual_inc_joint  dti_joint  verification_status_joint  \\\n",
              "175565               NaN        NaN                        NaN   \n",
              "\n",
              "        acc_now_delinq  tot_coll_amt  tot_cur_bal  open_acc_6m  open_il_6m  \\\n",
              "175565             0.0          61.0      51204.0          NaN         NaN   \n",
              "\n",
              "        open_il_12m  open_il_24m  mths_since_rcnt_il  total_bal_il  il_util  \\\n",
              "175565          NaN          NaN                 NaN           NaN      NaN   \n",
              "\n",
              "        open_rv_12m  open_rv_24m  max_bal_bc  all_util  total_rev_hi_lim  \\\n",
              "175565          NaN          NaN         NaN       NaN           14900.0   \n",
              "\n",
              "        inq_fi  total_cu_tl  inq_last_12m  \n",
              "175565     NaN          NaN           NaN  "
            ]
          },
          "execution_count": 285,
          "metadata": {},
          "output_type": "execute_result"
        }
      ],
      "source": [
        "data_raw.sample()"
      ]
    },
    {
      "cell_type": "code",
      "execution_count": 286,
      "id": "b72e82ae-d940-42c7-afd7-c0b1355aee20",
      "metadata": {
        "colab": {
          "base_uri": "https://localhost:8080/"
        },
        "id": "b72e82ae-d940-42c7-afd7-c0b1355aee20",
        "outputId": "79732320-6d8c-48ef-8f79-807644d55610"
      },
      "outputs": [
        {
          "data": {
            "text/plain": [
              "466285"
            ]
          },
          "execution_count": 286,
          "metadata": {},
          "output_type": "execute_result"
        }
      ],
      "source": [
        "data_raw.id.nunique()"
      ]
    },
    {
      "cell_type": "code",
      "execution_count": 287,
      "id": "dc5c9660-f592-49a0-86ea-6117fcb1b177",
      "metadata": {
        "colab": {
          "base_uri": "https://localhost:8080/"
        },
        "id": "dc5c9660-f592-49a0-86ea-6117fcb1b177",
        "outputId": "f0a71572-764e-4fc8-92c7-754d6a6b6fd1"
      },
      "outputs": [
        {
          "data": {
            "text/plain": [
              "466285"
            ]
          },
          "execution_count": 287,
          "metadata": {},
          "output_type": "execute_result"
        }
      ],
      "source": [
        "data_raw.member_id.nunique()"
      ]
    },
    {
      "cell_type": "markdown",
      "id": "2a432ed8-4223-4a72-a272-a3ec9e088dec",
      "metadata": {
        "id": "2a432ed8-4223-4a72-a272-a3ec9e088dec",
        "jp-MarkdownHeadingCollapsed": true,
        "tags": []
      },
      "source": [
        "Terlihat bahwa tidak ada `id` atau `member_id` yang duplikat, artinya setiap baris sudah mewakili satu individu."
      ]
    },
    {
      "cell_type": "markdown",
      "id": "96d47ff1-4569-4a19-8236-51efda3c4e45",
      "metadata": {
        "id": "96d47ff1-4569-4a19-8236-51efda3c4e45"
      },
      "source": [
        "Selanjutnya, pembuangan fitur-fitur yang tidak berguna dilakukan. Contohnya seperti fitur yang merupakan id unik, berupa free text, nilainya kosong semua (NULL), dsb."
      ]
    },
    {
      "cell_type": "code",
      "execution_count": 288,
      "id": "9b836e49-0716-47c6-b5e8-657156bc41ed",
      "metadata": {
        "id": "9b836e49-0716-47c6-b5e8-657156bc41ed"
      },
      "outputs": [],
      "source": [
        "cols_to_drop = [\n",
        "    # unique id\n",
        "    'id'\n",
        "    , 'member_id'\n",
        "    \n",
        "    # free text\n",
        "    , 'url'\n",
        "    , 'desc'\n",
        "    \n",
        "    # all null / constant / others\n",
        "    , 'zip_code' \n",
        "    , 'annual_inc_joint'\n",
        "    , 'dti_joint'\n",
        "    , 'verification_status_joint'\n",
        "    , 'open_acc_6m'\n",
        "    , 'open_il_6m'\n",
        "    , 'open_il_12m'\n",
        "    , 'open_il_24m'\n",
        "    , 'mths_since_rcnt_il'\n",
        "    , 'total_bal_il'\n",
        "    , 'il_util'\n",
        "    , 'open_rv_12m'\n",
        "    , 'open_rv_24m'\n",
        "    , 'max_bal_bc'\n",
        "    , 'all_util'\n",
        "    , 'inq_fi'\n",
        "    , 'total_cu_tl'\n",
        "    , 'inq_last_12m'\n",
        "    \n",
        "    # expert judgment\n",
        "    , 'sub_grade'\n",
        "]"
      ]
    },
    {
      "cell_type": "code",
      "execution_count": 289,
      "id": "ad25b882-2dad-4f6a-a4b1-4d8560b18143",
      "metadata": {
        "id": "ad25b882-2dad-4f6a-a4b1-4d8560b18143"
      },
      "outputs": [],
      "source": [
        "data = data_raw.drop(cols_to_drop, axis=1)"
      ]
    },
    {
      "cell_type": "code",
      "execution_count": 290,
      "id": "816f0626-4128-4070-a773-89032db86642",
      "metadata": {
        "colab": {
          "base_uri": "https://localhost:8080/",
          "height": 391
        },
        "id": "816f0626-4128-4070-a773-89032db86642",
        "outputId": "49271ea7-8976-4c5f-f85d-d1b858747954"
      },
      "outputs": [
        {
          "data": {
            "text/html": [
              "<div>\n",
              "<style scoped>\n",
              "    .dataframe tbody tr th:only-of-type {\n",
              "        vertical-align: middle;\n",
              "    }\n",
              "\n",
              "    .dataframe tbody tr th {\n",
              "        vertical-align: top;\n",
              "    }\n",
              "\n",
              "    .dataframe thead th {\n",
              "        text-align: right;\n",
              "    }\n",
              "</style>\n",
              "<table border=\"1\" class=\"dataframe\">\n",
              "  <thead>\n",
              "    <tr style=\"text-align: right;\">\n",
              "      <th></th>\n",
              "      <th>loan_amnt</th>\n",
              "      <th>funded_amnt</th>\n",
              "      <th>funded_amnt_inv</th>\n",
              "      <th>term</th>\n",
              "      <th>int_rate</th>\n",
              "      <th>installment</th>\n",
              "      <th>grade</th>\n",
              "      <th>emp_title</th>\n",
              "      <th>emp_length</th>\n",
              "      <th>home_ownership</th>\n",
              "      <th>annual_inc</th>\n",
              "      <th>verification_status</th>\n",
              "      <th>issue_d</th>\n",
              "      <th>loan_status</th>\n",
              "      <th>pymnt_plan</th>\n",
              "      <th>purpose</th>\n",
              "      <th>title</th>\n",
              "      <th>addr_state</th>\n",
              "      <th>dti</th>\n",
              "      <th>delinq_2yrs</th>\n",
              "      <th>earliest_cr_line</th>\n",
              "      <th>inq_last_6mths</th>\n",
              "      <th>mths_since_last_delinq</th>\n",
              "      <th>mths_since_last_record</th>\n",
              "      <th>open_acc</th>\n",
              "      <th>pub_rec</th>\n",
              "      <th>revol_bal</th>\n",
              "      <th>revol_util</th>\n",
              "      <th>total_acc</th>\n",
              "      <th>initial_list_status</th>\n",
              "      <th>out_prncp</th>\n",
              "      <th>out_prncp_inv</th>\n",
              "      <th>total_pymnt</th>\n",
              "      <th>total_pymnt_inv</th>\n",
              "      <th>total_rec_prncp</th>\n",
              "      <th>total_rec_int</th>\n",
              "      <th>total_rec_late_fee</th>\n",
              "      <th>recoveries</th>\n",
              "      <th>collection_recovery_fee</th>\n",
              "      <th>last_pymnt_d</th>\n",
              "      <th>last_pymnt_amnt</th>\n",
              "      <th>next_pymnt_d</th>\n",
              "      <th>last_credit_pull_d</th>\n",
              "      <th>collections_12_mths_ex_med</th>\n",
              "      <th>mths_since_last_major_derog</th>\n",
              "      <th>policy_code</th>\n",
              "      <th>application_type</th>\n",
              "      <th>acc_now_delinq</th>\n",
              "      <th>tot_coll_amt</th>\n",
              "      <th>tot_cur_bal</th>\n",
              "      <th>total_rev_hi_lim</th>\n",
              "    </tr>\n",
              "  </thead>\n",
              "  <tbody>\n",
              "    <tr>\n",
              "      <th>208368</th>\n",
              "      <td>3725</td>\n",
              "      <td>3725</td>\n",
              "      <td>3725.0</td>\n",
              "      <td>36 months</td>\n",
              "      <td>7.90</td>\n",
              "      <td>116.56</td>\n",
              "      <td>A</td>\n",
              "      <td>Pulmuone Foods</td>\n",
              "      <td>1 year</td>\n",
              "      <td>MORTGAGE</td>\n",
              "      <td>34000.0</td>\n",
              "      <td>Verified</td>\n",
              "      <td>Jul-12</td>\n",
              "      <td>Fully Paid</td>\n",
              "      <td>n</td>\n",
              "      <td>credit_card</td>\n",
              "      <td>emergency credit</td>\n",
              "      <td>CA</td>\n",
              "      <td>16.34</td>\n",
              "      <td>0.0</td>\n",
              "      <td>Mar-97</td>\n",
              "      <td>0.0</td>\n",
              "      <td>NaN</td>\n",
              "      <td>NaN</td>\n",
              "      <td>11.0</td>\n",
              "      <td>0.0</td>\n",
              "      <td>21231</td>\n",
              "      <td>59.1</td>\n",
              "      <td>24.0</td>\n",
              "      <td>f</td>\n",
              "      <td>0.0</td>\n",
              "      <td>0.0</td>\n",
              "      <td>4195.206687</td>\n",
              "      <td>4195.21</td>\n",
              "      <td>3725.0</td>\n",
              "      <td>470.21</td>\n",
              "      <td>0.0</td>\n",
              "      <td>0.0</td>\n",
              "      <td>0.0</td>\n",
              "      <td>Jul-15</td>\n",
              "      <td>120.55</td>\n",
              "      <td>NaN</td>\n",
              "      <td>Jul-15</td>\n",
              "      <td>0.0</td>\n",
              "      <td>NaN</td>\n",
              "      <td>1</td>\n",
              "      <td>INDIVIDUAL</td>\n",
              "      <td>0.0</td>\n",
              "      <td>NaN</td>\n",
              "      <td>NaN</td>\n",
              "      <td>NaN</td>\n",
              "    </tr>\n",
              "    <tr>\n",
              "      <th>164797</th>\n",
              "      <td>6000</td>\n",
              "      <td>6000</td>\n",
              "      <td>6000.0</td>\n",
              "      <td>36 months</td>\n",
              "      <td>14.09</td>\n",
              "      <td>205.33</td>\n",
              "      <td>B</td>\n",
              "      <td>ICW Group</td>\n",
              "      <td>5 years</td>\n",
              "      <td>RENT</td>\n",
              "      <td>85000.0</td>\n",
              "      <td>Not Verified</td>\n",
              "      <td>Feb-13</td>\n",
              "      <td>Fully Paid</td>\n",
              "      <td>n</td>\n",
              "      <td>major_purchase</td>\n",
              "      <td>Boat</td>\n",
              "      <td>CA</td>\n",
              "      <td>21.08</td>\n",
              "      <td>0.0</td>\n",
              "      <td>Oct-07</td>\n",
              "      <td>2.0</td>\n",
              "      <td>NaN</td>\n",
              "      <td>NaN</td>\n",
              "      <td>6.0</td>\n",
              "      <td>0.0</td>\n",
              "      <td>6044</td>\n",
              "      <td>67.2</td>\n",
              "      <td>11.0</td>\n",
              "      <td>f</td>\n",
              "      <td>0.0</td>\n",
              "      <td>0.0</td>\n",
              "      <td>6735.880000</td>\n",
              "      <td>6735.88</td>\n",
              "      <td>6000.0</td>\n",
              "      <td>735.88</td>\n",
              "      <td>0.0</td>\n",
              "      <td>0.0</td>\n",
              "      <td>0.0</td>\n",
              "      <td>Feb-14</td>\n",
              "      <td>4483.20</td>\n",
              "      <td>NaN</td>\n",
              "      <td>Apr-15</td>\n",
              "      <td>0.0</td>\n",
              "      <td>NaN</td>\n",
              "      <td>1</td>\n",
              "      <td>INDIVIDUAL</td>\n",
              "      <td>0.0</td>\n",
              "      <td>0.0</td>\n",
              "      <td>63751.0</td>\n",
              "      <td>9000.0</td>\n",
              "    </tr>\n",
              "    <tr>\n",
              "      <th>3873</th>\n",
              "      <td>23000</td>\n",
              "      <td>23000</td>\n",
              "      <td>23000.0</td>\n",
              "      <td>36 months</td>\n",
              "      <td>11.71</td>\n",
              "      <td>760.75</td>\n",
              "      <td>B</td>\n",
              "      <td>Healthcare Resource Group</td>\n",
              "      <td>3 years</td>\n",
              "      <td>RENT</td>\n",
              "      <td>56544.0</td>\n",
              "      <td>Verified</td>\n",
              "      <td>Nov-11</td>\n",
              "      <td>Fully Paid</td>\n",
              "      <td>n</td>\n",
              "      <td>debt_consolidation</td>\n",
              "      <td>Consolidation loan</td>\n",
              "      <td>WA</td>\n",
              "      <td>19.86</td>\n",
              "      <td>0.0</td>\n",
              "      <td>Dec-93</td>\n",
              "      <td>1.0</td>\n",
              "      <td>NaN</td>\n",
              "      <td>NaN</td>\n",
              "      <td>7.0</td>\n",
              "      <td>0.0</td>\n",
              "      <td>18112</td>\n",
              "      <td>83.5</td>\n",
              "      <td>25.0</td>\n",
              "      <td>f</td>\n",
              "      <td>0.0</td>\n",
              "      <td>0.0</td>\n",
              "      <td>27373.300060</td>\n",
              "      <td>27373.30</td>\n",
              "      <td>23000.0</td>\n",
              "      <td>4373.30</td>\n",
              "      <td>0.0</td>\n",
              "      <td>0.0</td>\n",
              "      <td>0.0</td>\n",
              "      <td>Dec-14</td>\n",
              "      <td>786.84</td>\n",
              "      <td>NaN</td>\n",
              "      <td>Jan-16</td>\n",
              "      <td>0.0</td>\n",
              "      <td>NaN</td>\n",
              "      <td>1</td>\n",
              "      <td>INDIVIDUAL</td>\n",
              "      <td>0.0</td>\n",
              "      <td>NaN</td>\n",
              "      <td>NaN</td>\n",
              "      <td>NaN</td>\n",
              "    </tr>\n",
              "    <tr>\n",
              "      <th>115307</th>\n",
              "      <td>35000</td>\n",
              "      <td>35000</td>\n",
              "      <td>35000.0</td>\n",
              "      <td>36 months</td>\n",
              "      <td>17.56</td>\n",
              "      <td>1257.63</td>\n",
              "      <td>D</td>\n",
              "      <td>Cabrera Contracting</td>\n",
              "      <td>8 years</td>\n",
              "      <td>RENT</td>\n",
              "      <td>85000.0</td>\n",
              "      <td>Verified</td>\n",
              "      <td>Aug-13</td>\n",
              "      <td>Fully Paid</td>\n",
              "      <td>n</td>\n",
              "      <td>house</td>\n",
              "      <td>house loan</td>\n",
              "      <td>CA</td>\n",
              "      <td>29.97</td>\n",
              "      <td>0.0</td>\n",
              "      <td>Mar-98</td>\n",
              "      <td>0.0</td>\n",
              "      <td>NaN</td>\n",
              "      <td>NaN</td>\n",
              "      <td>11.0</td>\n",
              "      <td>0.0</td>\n",
              "      <td>13878</td>\n",
              "      <td>87.3</td>\n",
              "      <td>13.0</td>\n",
              "      <td>f</td>\n",
              "      <td>0.0</td>\n",
              "      <td>0.0</td>\n",
              "      <td>38779.436800</td>\n",
              "      <td>38779.44</td>\n",
              "      <td>35000.0</td>\n",
              "      <td>3779.44</td>\n",
              "      <td>0.0</td>\n",
              "      <td>0.0</td>\n",
              "      <td>0.0</td>\n",
              "      <td>Apr-14</td>\n",
              "      <td>29984.73</td>\n",
              "      <td>NaN</td>\n",
              "      <td>Dec-14</td>\n",
              "      <td>0.0</td>\n",
              "      <td>NaN</td>\n",
              "      <td>1</td>\n",
              "      <td>INDIVIDUAL</td>\n",
              "      <td>0.0</td>\n",
              "      <td>0.0</td>\n",
              "      <td>39796.0</td>\n",
              "      <td>15900.0</td>\n",
              "    </tr>\n",
              "    <tr>\n",
              "      <th>138917</th>\n",
              "      <td>35000</td>\n",
              "      <td>35000</td>\n",
              "      <td>35000.0</td>\n",
              "      <td>60 months</td>\n",
              "      <td>21.49</td>\n",
              "      <td>956.55</td>\n",
              "      <td>E</td>\n",
              "      <td>Express Scripts</td>\n",
              "      <td>3 years</td>\n",
              "      <td>MORTGAGE</td>\n",
              "      <td>85000.0</td>\n",
              "      <td>Verified</td>\n",
              "      <td>May-13</td>\n",
              "      <td>Fully Paid</td>\n",
              "      <td>n</td>\n",
              "      <td>debt_consolidation</td>\n",
              "      <td>Credit Consolidation</td>\n",
              "      <td>NJ</td>\n",
              "      <td>23.77</td>\n",
              "      <td>0.0</td>\n",
              "      <td>Dec-00</td>\n",
              "      <td>0.0</td>\n",
              "      <td>44.0</td>\n",
              "      <td>NaN</td>\n",
              "      <td>19.0</td>\n",
              "      <td>0.0</td>\n",
              "      <td>30901</td>\n",
              "      <td>78.4</td>\n",
              "      <td>35.0</td>\n",
              "      <td>f</td>\n",
              "      <td>0.0</td>\n",
              "      <td>0.0</td>\n",
              "      <td>44775.228270</td>\n",
              "      <td>44775.23</td>\n",
              "      <td>35000.0</td>\n",
              "      <td>9775.23</td>\n",
              "      <td>0.0</td>\n",
              "      <td>0.0</td>\n",
              "      <td>0.0</td>\n",
              "      <td>Oct-14</td>\n",
              "      <td>29471.15</td>\n",
              "      <td>NaN</td>\n",
              "      <td>Nov-14</td>\n",
              "      <td>0.0</td>\n",
              "      <td>63.0</td>\n",
              "      <td>1</td>\n",
              "      <td>INDIVIDUAL</td>\n",
              "      <td>0.0</td>\n",
              "      <td>0.0</td>\n",
              "      <td>312451.0</td>\n",
              "      <td>39400.0</td>\n",
              "    </tr>\n",
              "  </tbody>\n",
              "</table>\n",
              "</div>"
            ],
            "text/plain": [
              "        loan_amnt  funded_amnt  funded_amnt_inv        term  int_rate  \\\n",
              "208368       3725         3725           3725.0   36 months      7.90   \n",
              "164797       6000         6000           6000.0   36 months     14.09   \n",
              "3873        23000        23000          23000.0   36 months     11.71   \n",
              "115307      35000        35000          35000.0   36 months     17.56   \n",
              "138917      35000        35000          35000.0   60 months     21.49   \n",
              "\n",
              "        installment grade                  emp_title emp_length  \\\n",
              "208368       116.56     A             Pulmuone Foods     1 year   \n",
              "164797       205.33     B                  ICW Group    5 years   \n",
              "3873         760.75     B  Healthcare Resource Group    3 years   \n",
              "115307      1257.63     D        Cabrera Contracting    8 years   \n",
              "138917       956.55     E            Express Scripts    3 years   \n",
              "\n",
              "       home_ownership  annual_inc verification_status issue_d loan_status  \\\n",
              "208368       MORTGAGE     34000.0            Verified  Jul-12  Fully Paid   \n",
              "164797           RENT     85000.0        Not Verified  Feb-13  Fully Paid   \n",
              "3873             RENT     56544.0            Verified  Nov-11  Fully Paid   \n",
              "115307           RENT     85000.0            Verified  Aug-13  Fully Paid   \n",
              "138917       MORTGAGE     85000.0            Verified  May-13  Fully Paid   \n",
              "\n",
              "       pymnt_plan             purpose                 title addr_state    dti  \\\n",
              "208368          n         credit_card      emergency credit         CA  16.34   \n",
              "164797          n      major_purchase                  Boat         CA  21.08   \n",
              "3873            n  debt_consolidation    Consolidation loan         WA  19.86   \n",
              "115307          n               house            house loan         CA  29.97   \n",
              "138917          n  debt_consolidation  Credit Consolidation         NJ  23.77   \n",
              "\n",
              "        delinq_2yrs earliest_cr_line  inq_last_6mths  mths_since_last_delinq  \\\n",
              "208368          0.0           Mar-97             0.0                     NaN   \n",
              "164797          0.0           Oct-07             2.0                     NaN   \n",
              "3873            0.0           Dec-93             1.0                     NaN   \n",
              "115307          0.0           Mar-98             0.0                     NaN   \n",
              "138917          0.0           Dec-00             0.0                    44.0   \n",
              "\n",
              "        mths_since_last_record  open_acc  pub_rec  revol_bal  revol_util  \\\n",
              "208368                     NaN      11.0      0.0      21231        59.1   \n",
              "164797                     NaN       6.0      0.0       6044        67.2   \n",
              "3873                       NaN       7.0      0.0      18112        83.5   \n",
              "115307                     NaN      11.0      0.0      13878        87.3   \n",
              "138917                     NaN      19.0      0.0      30901        78.4   \n",
              "\n",
              "        total_acc initial_list_status  out_prncp  out_prncp_inv   total_pymnt  \\\n",
              "208368       24.0                   f        0.0            0.0   4195.206687   \n",
              "164797       11.0                   f        0.0            0.0   6735.880000   \n",
              "3873         25.0                   f        0.0            0.0  27373.300060   \n",
              "115307       13.0                   f        0.0            0.0  38779.436800   \n",
              "138917       35.0                   f        0.0            0.0  44775.228270   \n",
              "\n",
              "        total_pymnt_inv  total_rec_prncp  total_rec_int  total_rec_late_fee  \\\n",
              "208368          4195.21           3725.0         470.21                 0.0   \n",
              "164797          6735.88           6000.0         735.88                 0.0   \n",
              "3873           27373.30          23000.0        4373.30                 0.0   \n",
              "115307         38779.44          35000.0        3779.44                 0.0   \n",
              "138917         44775.23          35000.0        9775.23                 0.0   \n",
              "\n",
              "        recoveries  collection_recovery_fee last_pymnt_d  last_pymnt_amnt  \\\n",
              "208368         0.0                      0.0       Jul-15           120.55   \n",
              "164797         0.0                      0.0       Feb-14          4483.20   \n",
              "3873           0.0                      0.0       Dec-14           786.84   \n",
              "115307         0.0                      0.0       Apr-14         29984.73   \n",
              "138917         0.0                      0.0       Oct-14         29471.15   \n",
              "\n",
              "       next_pymnt_d last_credit_pull_d  collections_12_mths_ex_med  \\\n",
              "208368          NaN             Jul-15                         0.0   \n",
              "164797          NaN             Apr-15                         0.0   \n",
              "3873            NaN             Jan-16                         0.0   \n",
              "115307          NaN             Dec-14                         0.0   \n",
              "138917          NaN             Nov-14                         0.0   \n",
              "\n",
              "        mths_since_last_major_derog  policy_code application_type  \\\n",
              "208368                          NaN            1       INDIVIDUAL   \n",
              "164797                          NaN            1       INDIVIDUAL   \n",
              "3873                            NaN            1       INDIVIDUAL   \n",
              "115307                          NaN            1       INDIVIDUAL   \n",
              "138917                         63.0            1       INDIVIDUAL   \n",
              "\n",
              "        acc_now_delinq  tot_coll_amt  tot_cur_bal  total_rev_hi_lim  \n",
              "208368             0.0           NaN          NaN               NaN  \n",
              "164797             0.0           0.0      63751.0            9000.0  \n",
              "3873               0.0           NaN          NaN               NaN  \n",
              "115307             0.0           0.0      39796.0           15900.0  \n",
              "138917             0.0           0.0     312451.0           39400.0  "
            ]
          },
          "execution_count": 290,
          "metadata": {},
          "output_type": "execute_result"
        }
      ],
      "source": [
        "data.sample(5)"
      ]
    },
    {
      "cell_type": "markdown",
      "id": "da3e1988-70da-4958-85ec-c8866cebd7fd",
      "metadata": {
        "id": "da3e1988-70da-4958-85ec-c8866cebd7fd",
        "tags": []
      },
      "source": [
        "# DEFINE TARGET VARIABLE / LABELING"
      ]
    },
    {
      "cell_type": "markdown",
      "id": "44602917-ef8a-46c6-9331-9272c123e0e5",
      "metadata": {
        "id": "44602917-ef8a-46c6-9331-9272c123e0e5"
      },
      "source": [
        "Dalam project credit risk modeling, tujuan utama adalah untuk melakukan prediksi terhadap suatu individu akan kemampuan mereka untuk melakukan pembayaran terhadap pinjaman/kredit yang diberikan. Oleh karena itu, variabel target yang digunakan harus mencerminkan kemampuan individu dalam hal tersebut. "
      ]
    },
    {
      "cell_type": "markdown",
      "id": "5e4fcac9-6eb4-4890-9eb5-538f21f0983c",
      "metadata": {
        "id": "5e4fcac9-6eb4-4890-9eb5-538f21f0983c"
      },
      "source": [
        "Dalam dataset ini, variabel `loan_status` adalah variabel yang dapat dijadikan variabel target karena mencerminkan performa masing-masing individu dalam melakukan pembayaran terhadap pinjaman/kredit selama ini."
      ]
    },
    {
      "cell_type": "code",
      "execution_count": 291,
      "id": "44f62c30-218b-421a-a0ae-435b0a10fad1",
      "metadata": {
        "colab": {
          "base_uri": "https://localhost:8080/"
        },
        "id": "44f62c30-218b-421a-a0ae-435b0a10fad1",
        "outputId": "3720f24f-46e0-4f8c-91ec-538c59b171d9"
      },
      "outputs": [
        {
          "data": {
            "text/plain": [
              "Current                                                48.087757\n",
              "Fully Paid                                             39.619332\n",
              "Charged Off                                             9.109236\n",
              "Late (31-120 days)                                      1.479782\n",
              "In Grace Period                                         0.674695\n",
              "Does not meet the credit policy. Status:Fully Paid      0.426349\n",
              "Late (16-30 days)                                       0.261214\n",
              "Default                                                 0.178432\n",
              "Does not meet the credit policy. Status:Charged Off     0.163205\n",
              "Name: loan_status, dtype: float64"
            ]
          },
          "execution_count": 291,
          "metadata": {},
          "output_type": "execute_result"
        }
      ],
      "source": [
        "data.loan_status.value_counts(normalize=True)*100"
      ]
    },
    {
      "cell_type": "markdown",
      "id": "a2eae777-8b21-41be-b3e6-6f94e7da71b1",
      "metadata": {
        "id": "a2eae777-8b21-41be-b3e6-6f94e7da71b1"
      },
      "source": [
        "Dapat dilihat bahwa variabel `loan_status` memiliki beberapa nilai:"
      ]
    },
    {
      "cell_type": "markdown",
      "id": "aa95e9b6-184e-4f39-876a-0b10d02572e7",
      "metadata": {
        "id": "aa95e9b6-184e-4f39-876a-0b10d02572e7"
      },
      "source": [
        "`Current` artinya pembayaran lancar; `Charged Off` artinya pembayaran macet sehingga dihapusbukukan; `Late` artinya pembayaran telat dilakukan; `In Grace Period` artinya dalam masa tenggang; `Fully Paid` artinya pembayaran lunas; `Default` artinya pembayaran macet"
      ]
    },
    {
      "cell_type": "markdown",
      "id": "cef1c933-a27a-4f31-b8f5-6396b4230a71",
      "metadata": {
        "id": "cef1c933-a27a-4f31-b8f5-6396b4230a71"
      },
      "source": [
        "Dari definisi-definisi tersebut, masing-masing individu dapat ditandai apakah mereka merupakan `bad loan` (peminjam yang buruk) atau `good loan` (peminjam yang baik)"
      ]
    },
    {
      "cell_type": "markdown",
      "id": "ae1c5e10-21cc-46f5-9afe-9eb15e1cb08e",
      "metadata": {
        "id": "ae1c5e10-21cc-46f5-9afe-9eb15e1cb08e"
      },
      "source": [
        "Definisi bad dan good loan terkadang bisa berbeda tergantung dari kebutuhan bisnis. Pada contoh ini, saya menggunakan keterlambatan pembayaran di atas 30 hari dan yang lebih buruk dari itu sebagai penanda bad loan."
      ]
    },
    {
      "cell_type": "code",
      "execution_count": 292,
      "id": "40095b4b-0181-432d-af07-fc25e5c6b8fe",
      "metadata": {
        "id": "40095b4b-0181-432d-af07-fc25e5c6b8fe"
      },
      "outputs": [],
      "source": [
        "bad_status = [\n",
        "    'Charged Off' \n",
        "    , 'Default' \n",
        "    , 'Does not meet the credit policy. Status:Charged Off'\n",
        "    , 'Late (31-120 days)'\n",
        "]\n",
        "\n",
        "data['bad_flag'] = np.where(data['loan_status'].isin(bad_status), 1, 0)"
      ]
    },
    {
      "cell_type": "code",
      "execution_count": 293,
      "id": "d2e90734-c995-4dca-af6c-7db90b3beb79",
      "metadata": {
        "colab": {
          "base_uri": "https://localhost:8080/"
        },
        "id": "d2e90734-c995-4dca-af6c-7db90b3beb79",
        "outputId": "750b6316-2b85-40eb-ef30-5d5e94adfa42"
      },
      "outputs": [
        {
          "data": {
            "text/plain": [
              "0    89.069346\n",
              "1    10.930654\n",
              "Name: bad_flag, dtype: float64"
            ]
          },
          "execution_count": 293,
          "metadata": {},
          "output_type": "execute_result"
        }
      ],
      "source": [
        "data['bad_flag'].value_counts(normalize=True)*100"
      ]
    },
    {
      "cell_type": "markdown",
      "id": "934107d7-9757-42d4-9333-c234430c0648",
      "metadata": {
        "id": "934107d7-9757-42d4-9333-c234430c0648"
      },
      "source": [
        "Setelah melakukan flagging terhadap bad/good loan, dapat dilihat bahwa jumlah individu yang ditandai sebagai bad loan jauh lebih sedikit daripada good loan. Hal ini menyebabkan problem ini menjadi problem imbalanced dataset."
      ]
    },
    {
      "cell_type": "markdown",
      "id": "175024c9-9686-4a2f-8c9c-f4b2f74edb29",
      "metadata": {
        "id": "175024c9-9686-4a2f-8c9c-f4b2f74edb29"
      },
      "source": [
        "Jangan lupa untuk membuang kolom asal `loan_status` "
      ]
    },
    {
      "cell_type": "code",
      "execution_count": 294,
      "id": "64ca6b3f-d165-4e53-9368-b890335c0f04",
      "metadata": {
        "id": "64ca6b3f-d165-4e53-9368-b890335c0f04"
      },
      "outputs": [],
      "source": [
        "data.drop('loan_status', axis=1, inplace=True)"
      ]
    },
    {
      "cell_type": "markdown",
      "id": "55a4d30b-deea-4d22-b082-9e47fff922d5",
      "metadata": {
        "id": "55a4d30b-deea-4d22-b082-9e47fff922d5",
        "tags": []
      },
      "source": [
        "# CLEANING, PREPROCESSING, FEATURE ENGINEERING"
      ]
    },
    {
      "cell_type": "markdown",
      "id": "36ea8436-a032-4c92-b267-d6c600b8f51a",
      "metadata": {
        "id": "36ea8436-a032-4c92-b267-d6c600b8f51a"
      },
      "source": [
        "Pada step ini, dilakukan pembersihan/modifikasi beberapa fitur ke dalam format yang dapat digunakan untuk modeling."
      ]
    },
    {
      "cell_type": "markdown",
      "id": "07f366c4-907d-4ab9-84bb-49ba304baae7",
      "metadata": {
        "id": "07f366c4-907d-4ab9-84bb-49ba304baae7"
      },
      "source": [
        "### emp_length"
      ]
    },
    {
      "cell_type": "markdown",
      "id": "8b0089ae-9856-4295-8f13-259ffa53541e",
      "metadata": {
        "id": "8b0089ae-9856-4295-8f13-259ffa53541e"
      },
      "source": [
        "Memodifikasi `emp_length`. Contoh: 4 years -> 4"
      ]
    },
    {
      "cell_type": "code",
      "execution_count": 295,
      "id": "f3a36a04-a5dc-4e16-8930-176c03442155",
      "metadata": {
        "colab": {
          "base_uri": "https://localhost:8080/"
        },
        "id": "f3a36a04-a5dc-4e16-8930-176c03442155",
        "outputId": "c8f0256c-4a0c-4427-c0bd-5c773e96d8a3"
      },
      "outputs": [
        {
          "data": {
            "text/plain": [
              "array(['10+ years', '< 1 year', '1 year', '3 years', '8 years', '9 years',\n",
              "       '4 years', '5 years', '6 years', '2 years', '7 years', nan],\n",
              "      dtype=object)"
            ]
          },
          "execution_count": 295,
          "metadata": {},
          "output_type": "execute_result"
        }
      ],
      "source": [
        "data['emp_length'].unique()"
      ]
    },
    {
      "cell_type": "code",
      "execution_count": 296,
      "id": "e39a05a9-b651-413a-8e12-9890f68923b5",
      "metadata": {
        "colab": {
          "base_uri": "https://localhost:8080/"
        },
        "id": "e39a05a9-b651-413a-8e12-9890f68923b5",
        "outputId": "e0173987-f380-416f-ec9a-a47a6492b0e4"
      },
      "outputs": [
        {
          "name": "stderr",
          "output_type": "stream",
          "text": [
            "C:\\Users\\user\\AppData\\Local\\Temp\\ipykernel_15396\\1742887160.py:1: FutureWarning: The default value of regex will change from True to False in a future version.\n",
            "  data['emp_length_int'] = data['emp_length'].str.replace('\\+ years', '')\n"
          ]
        }
      ],
      "source": [
        "data['emp_length_int'] = data['emp_length'].str.replace('\\+ years', '')\n",
        "data['emp_length_int'] = data['emp_length_int'].str.replace('< 1 year', str(0))\n",
        "data['emp_length_int'] = data['emp_length_int'].str.replace(' years', '')\n",
        "data['emp_length_int'] = data['emp_length_int'].str.replace(' year', '')"
      ]
    },
    {
      "cell_type": "code",
      "execution_count": 297,
      "id": "da25ef25-1c61-45a4-bd2d-0b7b44ac19cd",
      "metadata": {
        "id": "da25ef25-1c61-45a4-bd2d-0b7b44ac19cd"
      },
      "outputs": [],
      "source": [
        "data['emp_length_int'] = data['emp_length_int'].astype(float)"
      ]
    },
    {
      "cell_type": "code",
      "execution_count": 298,
      "id": "882c194d-9e31-4b64-b333-c653466db304",
      "metadata": {
        "id": "882c194d-9e31-4b64-b333-c653466db304"
      },
      "outputs": [],
      "source": [
        "data.drop('emp_length', axis=1, inplace=True)"
      ]
    },
    {
      "cell_type": "markdown",
      "id": "752b77e6-0b41-4126-bf8f-48267cbadce7",
      "metadata": {
        "id": "752b77e6-0b41-4126-bf8f-48267cbadce7"
      },
      "source": [
        "### term"
      ]
    },
    {
      "cell_type": "markdown",
      "id": "d5887e83-7874-4f46-978e-c760f872da6e",
      "metadata": {
        "id": "d5887e83-7874-4f46-978e-c760f872da6e"
      },
      "source": [
        "Memodifikasi `term`. Contoh: 36 months -> 36"
      ]
    },
    {
      "cell_type": "code",
      "execution_count": 299,
      "id": "a2fe1bd1-ee4e-4d24-a7da-48915f7994ac",
      "metadata": {
        "colab": {
          "base_uri": "https://localhost:8080/"
        },
        "id": "a2fe1bd1-ee4e-4d24-a7da-48915f7994ac",
        "outputId": "d56289ba-cdf9-4a0b-c178-6654c7b60b38"
      },
      "outputs": [
        {
          "data": {
            "text/plain": [
              "array([' 36 months', ' 60 months'], dtype=object)"
            ]
          },
          "execution_count": 299,
          "metadata": {},
          "output_type": "execute_result"
        }
      ],
      "source": [
        "data['term'].unique()"
      ]
    },
    {
      "cell_type": "code",
      "execution_count": 300,
      "id": "fcb118cf-b5e6-4e4d-a599-2cbd467c93f9",
      "metadata": {
        "id": "fcb118cf-b5e6-4e4d-a599-2cbd467c93f9"
      },
      "outputs": [],
      "source": [
        "data['term_int'] = data['term'].str.replace(' months', '')\n",
        "data['term_int'] = data['term_int'].astype(float)"
      ]
    },
    {
      "cell_type": "code",
      "execution_count": 301,
      "id": "612fb81d-be67-498c-9b66-ec318aa91147",
      "metadata": {
        "id": "612fb81d-be67-498c-9b66-ec318aa91147"
      },
      "outputs": [],
      "source": [
        "data.drop('term', axis=1, inplace=True)"
      ]
    },
    {
      "cell_type": "markdown",
      "id": "29f06348-36b5-4dcb-8bf0-ba9ce8fe5926",
      "metadata": {
        "id": "29f06348-36b5-4dcb-8bf0-ba9ce8fe5926"
      },
      "source": [
        "### earliest_cr_line"
      ]
    },
    {
      "cell_type": "markdown",
      "id": "ee00acc9-5100-45d8-bd2e-f60897611c81",
      "metadata": {
        "id": "ee00acc9-5100-45d8-bd2e-f60897611c81"
      },
      "source": [
        "Memodifikasi `earliest_cr_line` dari format bulan-tahun menjadi perhitungan berapa lama waktu berlalu sejak waktu tersebut. Untuk melakukan hal ini, umumnya digunakan reference date = hari ini. Namun, karena dataset ini merupakan dataset tahun 2007-2014, maka akan lebih relevan jika menggunakan reference date di sekitar tahun 2017. Dalam contoh ini, saya menggunakan tanggal 2017-12-01 sebagai reference date."
      ]
    },
    {
      "cell_type": "code",
      "execution_count": 302,
      "id": "61a11bc8-67bc-4049-85e2-49d14e0a7595",
      "metadata": {
        "colab": {
          "base_uri": "https://localhost:8080/"
        },
        "id": "61a11bc8-67bc-4049-85e2-49d14e0a7595",
        "outputId": "4dfe7264-8817-47bf-c232-ccf5886da658"
      },
      "outputs": [
        {
          "data": {
            "text/plain": [
              "0    Jan-85\n",
              "1    Apr-99\n",
              "2    Nov-01\n",
              "Name: earliest_cr_line, dtype: object"
            ]
          },
          "execution_count": 302,
          "metadata": {},
          "output_type": "execute_result"
        }
      ],
      "source": [
        "data['earliest_cr_line'].head(3)"
      ]
    },
    {
      "cell_type": "code",
      "execution_count": 303,
      "id": "ef6a827e-9b23-4c6d-b6ea-35f18466278f",
      "metadata": {
        "colab": {
          "base_uri": "https://localhost:8080/"
        },
        "id": "ef6a827e-9b23-4c6d-b6ea-35f18466278f",
        "outputId": "d7dcb69f-731e-43f0-9f4d-912e6764e4dd"
      },
      "outputs": [
        {
          "data": {
            "text/plain": [
              "0   1985-01-01\n",
              "1   1999-04-01\n",
              "2   2001-11-01\n",
              "Name: earliest_cr_line_date, dtype: datetime64[ns]"
            ]
          },
          "execution_count": 303,
          "metadata": {},
          "output_type": "execute_result"
        }
      ],
      "source": [
        "data['earliest_cr_line_date'] = pd.to_datetime(data['earliest_cr_line'], format='%b-%y')\n",
        "data['earliest_cr_line_date'].head(3)"
      ]
    },
    {
      "cell_type": "code",
      "execution_count": 304,
      "id": "927e5fa7-f538-42c4-a41d-2d1e675e34a0",
      "metadata": {
        "colab": {
          "base_uri": "https://localhost:8080/"
        },
        "id": "927e5fa7-f538-42c4-a41d-2d1e675e34a0",
        "outputId": "f732ae70-6ed1-498c-87ce-e3fbf7b4b761"
      },
      "outputs": [
        {
          "data": {
            "text/plain": [
              "0    395.0\n",
              "1    224.0\n",
              "2    193.0\n",
              "Name: mths_since_earliest_cr_line, dtype: float64"
            ]
          },
          "execution_count": 304,
          "metadata": {},
          "output_type": "execute_result"
        }
      ],
      "source": [
        "data['mths_since_earliest_cr_line'] = round(pd.to_numeric((pd.to_datetime('2017-12-01') - data['earliest_cr_line_date']) / np.timedelta64(1, 'M')))\n",
        "data['mths_since_earliest_cr_line'].head(3)"
      ]
    },
    {
      "cell_type": "code",
      "execution_count": 305,
      "id": "734bde13-2bf2-4672-907a-4e684c2f3701",
      "metadata": {
        "colab": {
          "base_uri": "https://localhost:8080/"
        },
        "id": "734bde13-2bf2-4672-907a-4e684c2f3701",
        "outputId": "63d0883f-2eb6-42d9-ea92-82fc9581758c"
      },
      "outputs": [
        {
          "data": {
            "text/plain": [
              "count    466256.000000\n",
              "mean        239.482430\n",
              "std          93.974829\n",
              "min        -612.000000\n",
              "25%         183.000000\n",
              "50%         225.000000\n",
              "75%         285.000000\n",
              "max         587.000000\n",
              "Name: mths_since_earliest_cr_line, dtype: float64"
            ]
          },
          "execution_count": 305,
          "metadata": {},
          "output_type": "execute_result"
        }
      ],
      "source": [
        "data['mths_since_earliest_cr_line'].describe()"
      ]
    },
    {
      "cell_type": "markdown",
      "id": "17cc3cf6-d3f3-4673-97cb-53394a43ec3b",
      "metadata": {
        "id": "17cc3cf6-d3f3-4673-97cb-53394a43ec3b"
      },
      "source": [
        "Terlihat ada nilai yang aneh, yaitu negatif."
      ]
    },
    {
      "cell_type": "code",
      "execution_count": 306,
      "id": "d84de89b-00ab-40d5-8690-a78d9ef0c98d",
      "metadata": {
        "colab": {
          "base_uri": "https://localhost:8080/",
          "height": 143
        },
        "id": "d84de89b-00ab-40d5-8690-a78d9ef0c98d",
        "outputId": "8fe5e2d3-60c4-4822-a91b-60168ceedc69"
      },
      "outputs": [
        {
          "data": {
            "text/html": [
              "<div>\n",
              "<style scoped>\n",
              "    .dataframe tbody tr th:only-of-type {\n",
              "        vertical-align: middle;\n",
              "    }\n",
              "\n",
              "    .dataframe tbody tr th {\n",
              "        vertical-align: top;\n",
              "    }\n",
              "\n",
              "    .dataframe thead th {\n",
              "        text-align: right;\n",
              "    }\n",
              "</style>\n",
              "<table border=\"1\" class=\"dataframe\">\n",
              "  <thead>\n",
              "    <tr style=\"text-align: right;\">\n",
              "      <th></th>\n",
              "      <th>earliest_cr_line</th>\n",
              "      <th>earliest_cr_line_date</th>\n",
              "      <th>mths_since_earliest_cr_line</th>\n",
              "    </tr>\n",
              "  </thead>\n",
              "  <tbody>\n",
              "    <tr>\n",
              "      <th>1580</th>\n",
              "      <td>Sep-62</td>\n",
              "      <td>2062-09-01</td>\n",
              "      <td>-537.0</td>\n",
              "    </tr>\n",
              "    <tr>\n",
              "      <th>1770</th>\n",
              "      <td>Sep-68</td>\n",
              "      <td>2068-09-01</td>\n",
              "      <td>-609.0</td>\n",
              "    </tr>\n",
              "    <tr>\n",
              "      <th>2799</th>\n",
              "      <td>Sep-64</td>\n",
              "      <td>2064-09-01</td>\n",
              "      <td>-561.0</td>\n",
              "    </tr>\n",
              "  </tbody>\n",
              "</table>\n",
              "</div>"
            ],
            "text/plain": [
              "     earliest_cr_line earliest_cr_line_date  mths_since_earliest_cr_line\n",
              "1580           Sep-62            2062-09-01                       -537.0\n",
              "1770           Sep-68            2068-09-01                       -609.0\n",
              "2799           Sep-64            2064-09-01                       -561.0"
            ]
          },
          "execution_count": 306,
          "metadata": {},
          "output_type": "execute_result"
        }
      ],
      "source": [
        "data[data['mths_since_earliest_cr_line']<0][['earliest_cr_line', 'earliest_cr_line_date', 'mths_since_earliest_cr_line']].head(3)"
      ]
    },
    {
      "cell_type": "markdown",
      "id": "6a0374c3-77fa-46e3-8075-5ff6cedb7de7",
      "metadata": {
        "id": "6a0374c3-77fa-46e3-8075-5ff6cedb7de7"
      },
      "source": [
        "Ternyata nilai negatif muncul karena fungsi Python salah menginterpretasikan tahun 62 menjadi tahun 2062, padahal seharusnya merupakan tahun 1962."
      ]
    },
    {
      "cell_type": "markdown",
      "id": "3d909118-1988-4bfc-8795-f6a44809b3c7",
      "metadata": {
        "id": "3d909118-1988-4bfc-8795-f6a44809b3c7"
      },
      "source": [
        "Untuk mengatasi hal ini, dapat dilakukan preprocessing lebih jauh jika ingin membenarkan tahun 2062 menjadi 1962. Namun, kali ini saya hanya mengubah nilai yang negatif menjadi nilai maximum dari fitur tersebut. Karena di sini saya mengetahui bahwa nilai-nilai yang negatif artinya adalah data yang sudah tua (tahun 1900an), maka masih masuk akal jika saya mengganti nilai-nilai tersebut menjadi nilai terbesar."
      ]
    },
    {
      "cell_type": "code",
      "execution_count": 307,
      "id": "3eece212-c803-4298-91db-f8f645ca5e22",
      "metadata": {
        "id": "3eece212-c803-4298-91db-f8f645ca5e22"
      },
      "outputs": [],
      "source": [
        "data.loc[data['mths_since_earliest_cr_line']<0, 'mths_since_earliest_cr_line'] = data['mths_since_earliest_cr_line'].max()"
      ]
    },
    {
      "cell_type": "code",
      "execution_count": 308,
      "id": "c834fa5d-7f28-4a3e-afa7-11bd919973c3",
      "metadata": {
        "id": "c834fa5d-7f28-4a3e-afa7-11bd919973c3"
      },
      "outputs": [],
      "source": [
        "data.drop(['earliest_cr_line', 'earliest_cr_line_date'], axis=1, inplace=True)"
      ]
    },
    {
      "cell_type": "markdown",
      "id": "f37a5e3b-480f-4c63-8e95-bb4852654c6c",
      "metadata": {
        "id": "f37a5e3b-480f-4c63-8e95-bb4852654c6c",
        "tags": []
      },
      "source": [
        "### issue_d"
      ]
    },
    {
      "cell_type": "markdown",
      "id": "715e5c98-bf11-46e8-902f-601d8e2eee3f",
      "metadata": {
        "id": "715e5c98-bf11-46e8-902f-601d8e2eee3f"
      },
      "source": [
        "Konsep preprocessing yang dilakukan sama dengan yang dilakukan terhadap variabel `earliest_cr_line`"
      ]
    },
    {
      "cell_type": "code",
      "execution_count": 309,
      "id": "aa592e64-24ea-475e-b7ff-df599dc07943",
      "metadata": {
        "id": "aa592e64-24ea-475e-b7ff-df599dc07943"
      },
      "outputs": [],
      "source": [
        "data['issue_d_date'] = pd.to_datetime(data['issue_d'], format='%b-%y')\n",
        "data['mths_since_issue_d'] = round(pd.to_numeric((pd.to_datetime('2017-12-01') - data['issue_d_date']) / np.timedelta64(1, 'M')))"
      ]
    },
    {
      "cell_type": "code",
      "execution_count": 310,
      "id": "c39bc522-0586-4952-9de8-d60d4b5a605d",
      "metadata": {
        "colab": {
          "base_uri": "https://localhost:8080/"
        },
        "id": "c39bc522-0586-4952-9de8-d60d4b5a605d",
        "outputId": "a4847b42-d110-47af-edab-dbd0e7bdd959"
      },
      "outputs": [
        {
          "data": {
            "text/plain": [
              "count    466285.000000\n",
              "mean         51.255187\n",
              "std          14.340154\n",
              "min          36.000000\n",
              "25%          41.000000\n",
              "50%          47.000000\n",
              "75%          57.000000\n",
              "max         126.000000\n",
              "Name: mths_since_issue_d, dtype: float64"
            ]
          },
          "execution_count": 310,
          "metadata": {},
          "output_type": "execute_result"
        }
      ],
      "source": [
        "data['mths_since_issue_d'].describe()"
      ]
    },
    {
      "cell_type": "code",
      "execution_count": 311,
      "id": "2ac3f14a-0234-40e4-a069-86ce36cf6c48",
      "metadata": {
        "id": "2ac3f14a-0234-40e4-a069-86ce36cf6c48"
      },
      "outputs": [],
      "source": [
        "data.drop(['issue_d', 'issue_d_date'], axis=1, inplace=True)"
      ]
    },
    {
      "cell_type": "markdown",
      "id": "20cb8392-d204-4b9c-a7b2-ca6e69ce3b7e",
      "metadata": {
        "id": "20cb8392-d204-4b9c-a7b2-ca6e69ce3b7e",
        "tags": []
      },
      "source": [
        "### last_pymnt_d"
      ]
    },
    {
      "cell_type": "markdown",
      "id": "f7cdd097-6263-45da-8bf6-dc3d2a15c2c3",
      "metadata": {
        "id": "f7cdd097-6263-45da-8bf6-dc3d2a15c2c3"
      },
      "source": [
        "Konsep preprocessing yang dilakukan sama dengan yang dilakukan terhadap variabel `earliest_cr_line`"
      ]
    },
    {
      "cell_type": "code",
      "execution_count": 312,
      "id": "ee5adad6-8ab8-43df-8a34-21b21effe274",
      "metadata": {
        "id": "ee5adad6-8ab8-43df-8a34-21b21effe274"
      },
      "outputs": [],
      "source": [
        "data['last_pymnt_d_date'] = pd.to_datetime(data['last_pymnt_d'], format='%b-%y')\n",
        "data['mths_since_last_pymnt_d'] = round(pd.to_numeric((pd.to_datetime('2017-12-01') - data['last_pymnt_d_date']) / np.timedelta64(1, 'M')))"
      ]
    },
    {
      "cell_type": "code",
      "execution_count": 313,
      "id": "6ef28e75-4263-48bc-a2f2-56d05236afd4",
      "metadata": {
        "colab": {
          "base_uri": "https://localhost:8080/"
        },
        "id": "6ef28e75-4263-48bc-a2f2-56d05236afd4",
        "outputId": "dd2260a4-7784-482b-85d5-146807b4fa12"
      },
      "outputs": [
        {
          "data": {
            "text/plain": [
              "count    465909.000000\n",
              "mean         31.294369\n",
              "std          12.809898\n",
              "min          23.000000\n",
              "25%          23.000000\n",
              "50%          24.000000\n",
              "75%          35.000000\n",
              "max         120.000000\n",
              "Name: mths_since_last_pymnt_d, dtype: float64"
            ]
          },
          "execution_count": 313,
          "metadata": {},
          "output_type": "execute_result"
        }
      ],
      "source": [
        "data['mths_since_last_pymnt_d'].describe()"
      ]
    },
    {
      "cell_type": "code",
      "execution_count": 314,
      "id": "0a6c53d6-0659-4e2b-b643-6ae7531f87e6",
      "metadata": {
        "id": "0a6c53d6-0659-4e2b-b643-6ae7531f87e6"
      },
      "outputs": [],
      "source": [
        "data.drop(['last_pymnt_d', 'last_pymnt_d_date'], axis=1, inplace=True)"
      ]
    },
    {
      "cell_type": "markdown",
      "id": "f79cfb76-cf00-4c9a-9516-f27f6a2886bf",
      "metadata": {
        "id": "f79cfb76-cf00-4c9a-9516-f27f6a2886bf",
        "tags": []
      },
      "source": [
        "### next_pymnt_d"
      ]
    },
    {
      "cell_type": "markdown",
      "id": "b9590ea1-c59c-4c9e-a7b6-842cd7746bbe",
      "metadata": {
        "id": "b9590ea1-c59c-4c9e-a7b6-842cd7746bbe"
      },
      "source": [
        "Konsep preprocessing yang dilakukan sama dengan yang dilakukan terhadap variabel `earliest_cr_line`"
      ]
    },
    {
      "cell_type": "code",
      "execution_count": 315,
      "id": "e6cf8d29-edc9-42af-b837-6fa1d4eb5519",
      "metadata": {
        "id": "e6cf8d29-edc9-42af-b837-6fa1d4eb5519"
      },
      "outputs": [],
      "source": [
        "data['next_pymnt_d_date'] = pd.to_datetime(data['next_pymnt_d'], format='%b-%y')\n",
        "data['mths_since_next_pymnt_d'] = round(pd.to_numeric((pd.to_datetime('2017-12-01') - data['next_pymnt_d_date']) / np.timedelta64(1, 'M')))"
      ]
    },
    {
      "cell_type": "code",
      "execution_count": 316,
      "id": "78b1654d-25b1-4d84-9fbb-4ba6ee77f9e9",
      "metadata": {
        "colab": {
          "base_uri": "https://localhost:8080/"
        },
        "id": "78b1654d-25b1-4d84-9fbb-4ba6ee77f9e9",
        "outputId": "6047298a-215e-4bfa-cee6-7757df778efc"
      },
      "outputs": [
        {
          "data": {
            "text/plain": [
              "count    239071.000000\n",
              "mean         22.738136\n",
              "std           6.082298\n",
              "min          21.000000\n",
              "25%          22.000000\n",
              "50%          22.000000\n",
              "75%          22.000000\n",
              "max         120.000000\n",
              "Name: mths_since_next_pymnt_d, dtype: float64"
            ]
          },
          "execution_count": 316,
          "metadata": {},
          "output_type": "execute_result"
        }
      ],
      "source": [
        "data['mths_since_next_pymnt_d'].describe()"
      ]
    },
    {
      "cell_type": "code",
      "execution_count": 317,
      "id": "43b09dc7-2c7f-499d-8c9c-499252754bd4",
      "metadata": {
        "id": "43b09dc7-2c7f-499d-8c9c-499252754bd4"
      },
      "outputs": [],
      "source": [
        "data.drop(['next_pymnt_d', 'next_pymnt_d_date'], axis=1, inplace=True)"
      ]
    },
    {
      "cell_type": "markdown",
      "id": "a1af0a43-71e2-4b08-9ad3-7f8cf394b1d0",
      "metadata": {
        "id": "a1af0a43-71e2-4b08-9ad3-7f8cf394b1d0",
        "tags": []
      },
      "source": [
        "### last_credit_pull_d"
      ]
    },
    {
      "cell_type": "markdown",
      "id": "b20d2cb6-570a-4055-9c0d-5c8313f3289b",
      "metadata": {
        "id": "b20d2cb6-570a-4055-9c0d-5c8313f3289b"
      },
      "source": [
        "Konsep preprocessing yang dilakukan sama dengan yang dilakukan terhadap variabel `earliest_cr_line`"
      ]
    },
    {
      "cell_type": "code",
      "execution_count": 318,
      "id": "19581450-4d1a-4ca6-9c5b-08cd3b730b84",
      "metadata": {
        "id": "19581450-4d1a-4ca6-9c5b-08cd3b730b84"
      },
      "outputs": [],
      "source": [
        "data['last_credit_pull_d_date'] = pd.to_datetime(data['last_credit_pull_d'], format='%b-%y')\n",
        "data['mths_since_last_credit_pull_d'] = round(pd.to_numeric((pd.to_datetime('2017-12-01') - data['last_credit_pull_d_date']) / np.timedelta64(1, 'M')))"
      ]
    },
    {
      "cell_type": "code",
      "execution_count": 319,
      "id": "cb959846-54bf-4ec3-8160-b6b35b6bc093",
      "metadata": {
        "colab": {
          "base_uri": "https://localhost:8080/"
        },
        "id": "cb959846-54bf-4ec3-8160-b6b35b6bc093",
        "outputId": "2575fdbd-7495-479c-868f-a59c38d238e3"
      },
      "outputs": [
        {
          "data": {
            "text/plain": [
              "count    466243.000000\n",
              "mean         27.045588\n",
              "std           9.636423\n",
              "min          23.000000\n",
              "25%          23.000000\n",
              "50%          23.000000\n",
              "75%          25.000000\n",
              "max         127.000000\n",
              "Name: mths_since_last_credit_pull_d, dtype: float64"
            ]
          },
          "execution_count": 319,
          "metadata": {},
          "output_type": "execute_result"
        }
      ],
      "source": [
        "data['mths_since_last_credit_pull_d'].describe()"
      ]
    },
    {
      "cell_type": "code",
      "execution_count": 320,
      "id": "58a28346-0b6d-4b5f-acc6-3f8bf8ca3395",
      "metadata": {
        "id": "58a28346-0b6d-4b5f-acc6-3f8bf8ca3395"
      },
      "outputs": [],
      "source": [
        "data.drop(['last_credit_pull_d', 'last_credit_pull_d_date'], axis=1, inplace=True)"
      ]
    },
    {
      "cell_type": "markdown",
      "id": "202362f6-3d5f-4e72-a795-b3d145416277",
      "metadata": {
        "id": "202362f6-3d5f-4e72-a795-b3d145416277",
        "tags": []
      },
      "source": [
        "# EXPLORATORY DATA ANALYSIS"
      ]
    },
    {
      "cell_type": "markdown",
      "id": "f35f6fc5-19b4-47b5-83c6-410a296a3561",
      "metadata": {
        "id": "f35f6fc5-19b4-47b5-83c6-410a296a3561"
      },
      "source": [
        "### Correlation Check"
      ]
    },
    {
      "cell_type": "code",
      "execution_count": 321,
      "id": "d13dd53d-fdbf-4a55-b2c3-9c175e027a32",
      "metadata": {
        "colab": {
          "base_uri": "https://localhost:8080/",
          "height": 1000
        },
        "id": "d13dd53d-fdbf-4a55-b2c3-9c175e027a32",
        "outputId": "230bcc60-df55-404c-aa58-8e24437f72d3"
      },
      "outputs": [
        {
          "name": "stderr",
          "output_type": "stream",
          "text": [
            "C:\\Users\\user\\AppData\\Local\\Temp\\ipykernel_15396\\594547999.py:2: FutureWarning: The default value of numeric_only in DataFrame.corr is deprecated. In a future version, it will default to False. Select only valid columns or specify the value of numeric_only to silence this warning.\n",
            "  sns.heatmap(data.corr())\n"
          ]
        },
        {
          "data": {
            "text/plain": [
              "<Axes: >"
            ]
          },
          "execution_count": 321,
          "metadata": {},
          "output_type": "execute_result"
        },
        {
          "data": {
            "image/png": "[encoded data removed]",
            "text/plain": [
              "<Figure size 2000x2000 with 2 Axes>"
            ]
          },
          "metadata": {},
          "output_type": "display_data"
        }
      ],
      "source": [
        "plt.figure(figsize=(20,20))\n",
        "sns.heatmap(data.corr())"
      ]
    },
    {
      "cell_type": "markdown",
      "id": "79ee2ff5-f2a5-4ab1-b286-5bcca623bb2b",
      "metadata": {
        "id": "79ee2ff5-f2a5-4ab1-b286-5bcca623bb2b"
      },
      "source": [
        "Di sini, jika ada pasangan fitur-fitur yang memiliki korelasi tinggi maka akan diambil salah satu saja. Nilai korelasi yang dijadikan patokan sebagai korelasi tinggi tidak pasti, umumnya digunakan angka 0.7."
      ]
    },
    {
      "cell_type": "code",
      "execution_count": 322,
      "id": "c0dc104b-10be-425f-a192-7ed77ef73805",
      "metadata": {
        "colab": {
          "base_uri": "https://localhost:8080/"
        },
        "id": "c0dc104b-10be-425f-a192-7ed77ef73805",
        "outputId": "0c724aba-8ed9-4484-987d-dce6fb95f8c2"
      },
      "outputs": [
        {
          "name": "stderr",
          "output_type": "stream",
          "text": [
            "C:\\Users\\user\\AppData\\Local\\Temp\\ipykernel_15396\\2288160448.py:1: FutureWarning: The default value of numeric_only in DataFrame.corr is deprecated. In a future version, it will default to False. Select only valid columns or specify the value of numeric_only to silence this warning.\n",
            "  corr_matrix = data.corr().abs()\n"
          ]
        }
      ],
      "source": [
        "corr_matrix = data.corr().abs()\n",
        "upper = corr_matrix.where(np.triu(np.ones(corr_matrix.shape), k=1).astype(np.bool_))\n",
        "to_drop_hicorr = [column for column in upper.columns if any(upper[column] > 0.7)]"
      ]
    },
    {
      "cell_type": "code",
      "execution_count": 323,
      "id": "e113849b-e0fb-4b08-8d26-68d5436d2480",
      "metadata": {
        "colab": {
          "base_uri": "https://localhost:8080/"
        },
        "id": "e113849b-e0fb-4b08-8d26-68d5436d2480",
        "outputId": "a298fd04-628b-41a5-9f0d-aa8560f5d78d"
      },
      "outputs": [
        {
          "data": {
            "text/plain": [
              "['funded_amnt',\n",
              " 'funded_amnt_inv',\n",
              " 'installment',\n",
              " 'out_prncp_inv',\n",
              " 'total_pymnt',\n",
              " 'total_pymnt_inv',\n",
              " 'total_rec_prncp',\n",
              " 'total_rec_int',\n",
              " 'collection_recovery_fee',\n",
              " 'last_pymnt_amnt',\n",
              " 'mths_since_last_major_derog',\n",
              " 'total_rev_hi_lim',\n",
              " 'mths_since_last_pymnt_d',\n",
              " 'mths_since_next_pymnt_d',\n",
              " 'mths_since_last_credit_pull_d']"
            ]
          },
          "execution_count": 323,
          "metadata": {},
          "output_type": "execute_result"
        }
      ],
      "source": [
        "to_drop_hicorr"
      ]
    },
    {
      "cell_type": "code",
      "execution_count": 324,
      "id": "b150ab38-812e-468b-aa67-99d39a9a3fbb",
      "metadata": {
        "id": "b150ab38-812e-468b-aa67-99d39a9a3fbb"
      },
      "outputs": [],
      "source": [
        "data.drop(to_drop_hicorr, axis=1, inplace=True)"
      ]
    },
    {
      "cell_type": "markdown",
      "id": "6bb5b4b0-bab4-400d-b3ce-464273308583",
      "metadata": {
        "id": "6bb5b4b0-bab4-400d-b3ce-464273308583"
      },
      "source": [
        "### Check Categorical Features"
      ]
    },
    {
      "cell_type": "code",
      "execution_count": 325,
      "id": "1652040d-321a-46b2-890a-c1a44cb8417f",
      "metadata": {
        "colab": {
          "base_uri": "https://localhost:8080/"
        },
        "id": "1652040d-321a-46b2-890a-c1a44cb8417f",
        "outputId": "da952822-8934-477d-bd76-f96babcbf50e"
      },
      "outputs": [
        {
          "data": {
            "text/plain": [
              "grade                       7\n",
              "emp_title              205475\n",
              "home_ownership              6\n",
              "verification_status         3\n",
              "pymnt_plan                  2\n",
              "purpose                    14\n",
              "title                   63099\n",
              "addr_state                 50\n",
              "initial_list_status         2\n",
              "application_type            1\n",
              "dtype: int64"
            ]
          },
          "execution_count": 325,
          "metadata": {},
          "output_type": "execute_result"
        }
      ],
      "source": [
        "data.select_dtypes(include='object').nunique()"
      ]
    },
    {
      "cell_type": "markdown",
      "id": "6666c857-7105-4038-a02d-0e930aba210f",
      "metadata": {
        "id": "6666c857-7105-4038-a02d-0e930aba210f"
      },
      "source": [
        "Pada tahap ini dilakukan pembuangan fitur yang memiliki nilai unik yang sangat tinggi (high cardinality) dan fitur yang hanya memiliki satu nilai unik saja."
      ]
    },
    {
      "cell_type": "code",
      "execution_count": 326,
      "id": "db7d858a-8b92-4f2b-bfb5-534161faeda0",
      "metadata": {
        "id": "db7d858a-8b92-4f2b-bfb5-534161faeda0"
      },
      "outputs": [],
      "source": [
        "data.drop(['emp_title', 'title', 'application_type','initial_list_status'], axis=1, inplace=True)"
      ]
    },
    {
      "cell_type": "code",
      "execution_count": 327,
      "id": "c8d4b6e7-40d3-4558-9136-bf2ed6eba493",
      "metadata": {
        "colab": {
          "base_uri": "https://localhost:8080/"
        },
        "id": "c8d4b6e7-40d3-4558-9136-bf2ed6eba493",
        "outputId": "0b3b3daa-7569-4552-e4d7-47ff81db41e8"
      },
      "outputs": [
        {
          "data": {
            "text/plain": [
              "loan_amnt                        1352\n",
              "int_rate                          506\n",
              "annual_inc                      31901\n",
              "dti                              3997\n",
              "delinq_2yrs                        24\n",
              "inq_last_6mths                     28\n",
              "mths_since_last_delinq            145\n",
              "mths_since_last_record            123\n",
              "open_acc                           62\n",
              "pub_rec                            26\n",
              "revol_bal                       58142\n",
              "revol_util                       1269\n",
              "total_acc                         112\n",
              "out_prncp                      135665\n",
              "total_rec_late_fee               5808\n",
              "recoveries                      22773\n",
              "collections_12_mths_ex_med          9\n",
              "policy_code                         1\n",
              "acc_now_delinq                      6\n",
              "tot_coll_amt                     6321\n",
              "tot_cur_bal                    220690\n",
              "bad_flag                            2\n",
              "emp_length_int                     11\n",
              "term_int                            2\n",
              "mths_since_earliest_cr_line       515\n",
              "mths_since_issue_d                 91\n",
              "dtype: int64"
            ]
          },
          "execution_count": 327,
          "metadata": {},
          "output_type": "execute_result"
        }
      ],
      "source": [
        "data.select_dtypes(exclude='object').nunique()"
      ]
    },
    {
      "cell_type": "markdown",
      "id": "ed85b594-0a47-4fb4-9f07-9e7a3a530709",
      "metadata": {
        "id": "ed85b594-0a47-4fb4-9f07-9e7a3a530709"
      },
      "source": [
        "Ternyata, pada tipe data selain `object` juga terdapat fitur yang hanya memiliki satu nilai unik saja maka akan ikut dibuang juga. nilai nilai fitur tinggi yang terdapat diatas tidak dibuang karena penting untuk pemodelan"
      ]
    },
    {
      "cell_type": "code",
      "execution_count": 328,
      "id": "0554d26d-dec2-40fd-8eae-b58ecc295a20",
      "metadata": {
        "id": "0554d26d-dec2-40fd-8eae-b58ecc295a20"
      },
      "outputs": [],
      "source": [
        "data.drop(['policy_code'], axis=1, inplace=True)"
      ]
    },
    {
      "cell_type": "code",
      "execution_count": 329,
      "id": "dcb23327-e01d-49e2-99ed-8ddf1a59b554",
      "metadata": {
        "colab": {
          "base_uri": "https://localhost:8080/"
        },
        "id": "dcb23327-e01d-49e2-99ed-8ddf1a59b554",
        "outputId": "fb292f2c-4442-417a-c511-e364d2bf8006",
        "tags": []
      },
      "outputs": [
        {
          "name": "stdout",
          "output_type": "stream",
          "text": [
            "B    29.365946\n",
            "C    26.870476\n",
            "D    16.489486\n",
            "A    16.056060\n",
            "E     7.668486\n",
            "F     2.837106\n",
            "G     0.712440\n",
            "Name: grade, dtype: float64\n",
            "\n",
            "\n",
            "MORTGAGE    50.586015\n",
            "RENT        40.420129\n",
            "OWN          8.943886\n",
            "OTHER        0.039032\n",
            "NONE         0.010723\n",
            "ANY          0.000214\n",
            "Name: home_ownership, dtype: float64\n",
            "\n",
            "\n",
            "Verified           36.041262\n",
            "Source Verified    32.167666\n",
            "Not Verified       31.791072\n",
            "Name: verification_status, dtype: float64\n",
            "\n",
            "\n",
            "n    99.99807\n",
            "y     0.00193\n",
            "Name: pymnt_plan, dtype: float64\n",
            "\n",
            "\n",
            "debt_consolidation    58.804165\n",
            "credit_card           22.337626\n",
            "home_improvement       5.691155\n",
            "other                  5.080584\n",
            "major_purchase         2.107724\n",
            "small_business         1.504016\n",
            "car                    1.157447\n",
            "medical                0.986950\n",
            "moving                 0.642097\n",
            "vacation               0.533365\n",
            "wedding                0.502482\n",
            "house                  0.486612\n",
            "educational            0.090503\n",
            "renewable_energy       0.075276\n",
            "Name: purpose, dtype: float64\n",
            "\n",
            "\n",
            "CA    15.323247\n",
            "NY     8.630344\n",
            "TX     7.814748\n",
            "FL     6.784906\n",
            "IL     3.991550\n",
            "NJ     3.873382\n",
            "PA     3.522309\n",
            "OH     3.267744\n",
            "GA     3.211555\n",
            "VA     3.050066\n",
            "NC     2.719796\n",
            "MI     2.476811\n",
            "MA     2.374513\n",
            "MD     2.353496\n",
            "AZ     2.297307\n",
            "WA     2.255488\n",
            "CO     2.088637\n",
            "MN     1.749574\n",
            "MO     1.610174\n",
            "CT     1.544978\n",
            "IN     1.399359\n",
            "NV     1.398072\n",
            "TN     1.283335\n",
            "OR     1.275829\n",
            "WI     1.267680\n",
            "AL     1.255241\n",
            "SC     1.197336\n",
            "LA     1.177177\n",
            "KY     0.951778\n",
            "KS     0.898592\n",
            "OK     0.882936\n",
            "AR     0.748040\n",
            "UT     0.735173\n",
            "NM     0.555025\n",
            "HI     0.533365\n",
            "WV     0.517280\n",
            "NH     0.478677\n",
            "RI     0.439645\n",
            "DC     0.305822\n",
            "MT     0.299388\n",
            "DE     0.272795\n",
            "AK     0.268291\n",
            "MS     0.262929\n",
            "WY     0.241912\n",
            "SD     0.210172\n",
            "VT     0.194087\n",
            "IA     0.003002\n",
            "NE     0.003002\n",
            "ID     0.002574\n",
            "ME     0.000858\n",
            "Name: addr_state, dtype: float64\n",
            "\n",
            "\n"
          ]
        }
      ],
      "source": [
        "for col in data.select_dtypes(include='object').columns.tolist():\n",
        "    print(data[col].value_counts(normalize=True)*100)\n",
        "    print('\\n')"
      ]
    },
    {
      "cell_type": "markdown",
      "id": "69075c25-4d3e-486a-9120-b453a67e6894",
      "metadata": {
        "id": "69075c25-4d3e-486a-9120-b453a67e6894"
      },
      "source": [
        "Fitur yang sangat didominasi oleh salah satu nilai saja akan dibuang pada tahap ini."
      ]
    },
    {
      "cell_type": "code",
      "execution_count": 330,
      "id": "d01b0ed0-2223-4cd6-a7d4-b4ad40373c31",
      "metadata": {
        "id": "d01b0ed0-2223-4cd6-a7d4-b4ad40373c31"
      },
      "outputs": [],
      "source": [
        "data.drop('pymnt_plan', axis=1, inplace=True)"
      ]
    },
    {
      "cell_type": "markdown",
      "id": "8483ce96-e8bc-4dd4-b247-d58b1d269442",
      "metadata": {
        "id": "8483ce96-e8bc-4dd4-b247-d58b1d269442",
        "tags": []
      },
      "source": [
        "# MISSING VALUES"
      ]
    },
    {
      "cell_type": "markdown",
      "id": "1101903e-08e6-4d64-8b5e-89977b5b9131",
      "metadata": {
        "id": "1101903e-08e6-4d64-8b5e-89977b5b9131"
      },
      "source": [
        "### Missing Value Checking"
      ]
    },
    {
      "cell_type": "code",
      "execution_count": 331,
      "id": "5cdcfdbc-4b86-4660-8cab-a6af9c28c972",
      "metadata": {
        "colab": {
          "base_uri": "https://localhost:8080/"
        },
        "id": "5cdcfdbc-4b86-4660-8cab-a6af9c28c972",
        "outputId": "439adda5-d52d-4c7c-dbb8-c1707f3198d6",
        "tags": []
      },
      "outputs": [
        {
          "data": {
            "text/plain": [
              "mths_since_last_record         86.566585\n",
              "mths_since_last_delinq         53.690554\n",
              "tot_coll_amt                   15.071469\n",
              "tot_cur_bal                    15.071469\n",
              "emp_length_int                  4.505399\n",
              "revol_util                      0.072917\n",
              "collections_12_mths_ex_med      0.031097\n",
              "delinq_2yrs                     0.006219\n",
              "inq_last_6mths                  0.006219\n",
              "open_acc                        0.006219\n",
              "pub_rec                         0.006219\n",
              "total_acc                       0.006219\n",
              "acc_now_delinq                  0.006219\n",
              "mths_since_earliest_cr_line     0.006219\n",
              "annual_inc                      0.000858\n",
              "dtype: float64"
            ]
          },
          "execution_count": 331,
          "metadata": {},
          "output_type": "execute_result"
        }
      ],
      "source": [
        "check_missing = data.isnull().sum() * 100 / data.shape[0]\n",
        "check_missing[check_missing > 0].sort_values(ascending=False)"
      ]
    },
    {
      "cell_type": "markdown",
      "id": "0ad9003e-ebbe-4fba-8d14-ab076156679f",
      "metadata": {
        "id": "0ad9003e-ebbe-4fba-8d14-ab076156679f"
      },
      "source": [
        "Di sini, kolom-kolom dengan missing values di atas 75% dibuang"
      ]
    },
    {
      "cell_type": "code",
      "execution_count": 332,
      "id": "KgOeW3sreok0",
      "metadata": {
        "colab": {
          "base_uri": "https://localhost:8080/"
        },
        "id": "KgOeW3sreok0",
        "outputId": "39b2edb6-80cd-4627-caaa-d9f0599b6a0a"
      },
      "outputs": [
        {
          "name": "stdout",
          "output_type": "stream",
          "text": [
            "mths_since_last_record    86.566585\n",
            "dtype: float64\n"
          ]
        }
      ],
      "source": [
        "fordrop = check_missing[check_missing > 75]\n",
        "print(fordrop)"
      ]
    },
    {
      "cell_type": "code",
      "execution_count": 333,
      "id": "7ubhHNORgyEs",
      "metadata": {
        "id": "7ubhHNORgyEs"
      },
      "outputs": [],
      "source": [
        "data.drop(fordrop.index, axis=1, inplace=True)"
      ]
    },
    {
      "cell_type": "markdown",
      "id": "517f9f50-a6a9-4256-bed5-9c7257cb7d7c",
      "metadata": {
        "id": "517f9f50-a6a9-4256-bed5-9c7257cb7d7c"
      },
      "source": [
        "### Missing Values Filling"
      ]
    },
    {
      "cell_type": "code",
      "execution_count": 334,
      "id": "54d0a97a-751e-47a6-82dc-30d69f84c542",
      "metadata": {
        "colab": {
          "base_uri": "https://localhost:8080/",
          "height": 501
        },
        "id": "54d0a97a-751e-47a6-82dc-30d69f84c542",
        "outputId": "08007a20-6e13-4e35-91d8-00f47fe7249d"
      },
      "outputs": [],
      "source": [
        "data['annual_inc'].fillna(data['annual_inc'].mean(), inplace=True)\n",
        "data['mths_since_earliest_cr_line'].fillna(0, inplace=True)\n",
        "data['acc_now_delinq'].fillna(0, inplace=True)\n",
        "data['total_acc'].fillna(0, inplace=True)\n",
        "data['pub_rec'].fillna(0, inplace=True)\n",
        "data['open_acc'].fillna(0, inplace=True)\n",
        "data['inq_last_6mths'].fillna(0, inplace=True)\n",
        "data['delinq_2yrs'].fillna(0, inplace=True)\n",
        "data['collections_12_mths_ex_med'].fillna(0, inplace=True)\n",
        "data['revol_util'].fillna(0, inplace=True)\n",
        "data['emp_length_int'].fillna(0, inplace=True)\n",
        "data['tot_cur_bal'].fillna(0, inplace=True)\n",
        "data['tot_coll_amt'].fillna(0, inplace=True)\n",
        "data['mths_since_last_delinq'].fillna(-1, inplace=True)"
      ]
    },
    {
      "cell_type": "markdown",
      "id": "XfAu4omG-ev-",
      "metadata": {
        "id": "XfAu4omG-ev-"
      },
      "source": [
        "### cek missing value"
      ]
    },
    {
      "cell_type": "code",
      "execution_count": 335,
      "id": "eZeSwWrd-hqL",
      "metadata": {
        "colab": {
          "base_uri": "https://localhost:8080/"
        },
        "id": "eZeSwWrd-hqL",
        "outputId": "c093e41e-740b-48aa-b4c1-53e6a321d35a"
      },
      "outputs": [
        {
          "data": {
            "text/plain": [
              "loan_amnt                      0\n",
              "int_rate                       0\n",
              "grade                          0\n",
              "home_ownership                 0\n",
              "annual_inc                     0\n",
              "verification_status            0\n",
              "purpose                        0\n",
              "addr_state                     0\n",
              "dti                            0\n",
              "delinq_2yrs                    0\n",
              "inq_last_6mths                 0\n",
              "mths_since_last_delinq         0\n",
              "open_acc                       0\n",
              "pub_rec                        0\n",
              "revol_bal                      0\n",
              "revol_util                     0\n",
              "total_acc                      0\n",
              "out_prncp                      0\n",
              "total_rec_late_fee             0\n",
              "recoveries                     0\n",
              "collections_12_mths_ex_med     0\n",
              "acc_now_delinq                 0\n",
              "tot_coll_amt                   0\n",
              "tot_cur_bal                    0\n",
              "bad_flag                       0\n",
              "emp_length_int                 0\n",
              "term_int                       0\n",
              "mths_since_earliest_cr_line    0\n",
              "mths_since_issue_d             0\n",
              "dtype: int64"
            ]
          },
          "execution_count": 335,
          "metadata": {},
          "output_type": "execute_result"
        }
      ],
      "source": [
        "data.isnull().sum()"
      ]
    },
    {
      "cell_type": "markdown",
      "id": "IA4KPnNGCQTW",
      "metadata": {
        "id": "IA4KPnNGCQTW"
      },
      "source": [
        "pastikan semua missing value hilang dengan cara hapus baris yang terdapat missing value."
      ]
    },
    {
      "cell_type": "code",
      "execution_count": 336,
      "id": "F7cd8YdTCXxp",
      "metadata": {
        "id": "F7cd8YdTCXxp"
      },
      "outputs": [],
      "source": [
        "data.dropna(axis = 0,inplace=True)"
      ]
    },
    {
      "cell_type": "code",
      "execution_count": 337,
      "id": "0uMJWe34w-Q8",
      "metadata": {
        "id": "0uMJWe34w-Q8"
      },
      "outputs": [
        {
          "data": {
            "text/plain": [
              "loan_amnt                      0\n",
              "int_rate                       0\n",
              "grade                          0\n",
              "home_ownership                 0\n",
              "annual_inc                     0\n",
              "verification_status            0\n",
              "purpose                        0\n",
              "addr_state                     0\n",
              "dti                            0\n",
              "delinq_2yrs                    0\n",
              "inq_last_6mths                 0\n",
              "mths_since_last_delinq         0\n",
              "open_acc                       0\n",
              "pub_rec                        0\n",
              "revol_bal                      0\n",
              "revol_util                     0\n",
              "total_acc                      0\n",
              "out_prncp                      0\n",
              "total_rec_late_fee             0\n",
              "recoveries                     0\n",
              "collections_12_mths_ex_med     0\n",
              "acc_now_delinq                 0\n",
              "tot_coll_amt                   0\n",
              "tot_cur_bal                    0\n",
              "bad_flag                       0\n",
              "emp_length_int                 0\n",
              "term_int                       0\n",
              "mths_since_earliest_cr_line    0\n",
              "mths_since_issue_d             0\n",
              "dtype: int64"
            ]
          },
          "execution_count": 337,
          "metadata": {},
          "output_type": "execute_result"
        }
      ],
      "source": [
        "data.isnull().sum() # cek kembali missing value"
      ]
    },
    {
      "cell_type": "code",
      "execution_count": 338,
      "id": "d19bcc39",
      "metadata": {},
      "outputs": [
        {
          "data": {
            "text/html": [
              "<div>\n",
              "<style scoped>\n",
              "    .dataframe tbody tr th:only-of-type {\n",
              "        vertical-align: middle;\n",
              "    }\n",
              "\n",
              "    .dataframe tbody tr th {\n",
              "        vertical-align: top;\n",
              "    }\n",
              "\n",
              "    .dataframe thead th {\n",
              "        text-align: right;\n",
              "    }\n",
              "</style>\n",
              "<table border=\"1\" class=\"dataframe\">\n",
              "  <thead>\n",
              "    <tr style=\"text-align: right;\">\n",
              "      <th></th>\n",
              "      <th>loan_amnt</th>\n",
              "      <th>int_rate</th>\n",
              "      <th>grade</th>\n",
              "      <th>home_ownership</th>\n",
              "      <th>annual_inc</th>\n",
              "      <th>verification_status</th>\n",
              "      <th>purpose</th>\n",
              "      <th>addr_state</th>\n",
              "      <th>dti</th>\n",
              "      <th>delinq_2yrs</th>\n",
              "      <th>inq_last_6mths</th>\n",
              "      <th>mths_since_last_delinq</th>\n",
              "      <th>open_acc</th>\n",
              "      <th>pub_rec</th>\n",
              "      <th>revol_bal</th>\n",
              "      <th>revol_util</th>\n",
              "      <th>total_acc</th>\n",
              "      <th>out_prncp</th>\n",
              "      <th>total_rec_late_fee</th>\n",
              "      <th>recoveries</th>\n",
              "      <th>collections_12_mths_ex_med</th>\n",
              "      <th>acc_now_delinq</th>\n",
              "      <th>tot_coll_amt</th>\n",
              "      <th>tot_cur_bal</th>\n",
              "      <th>bad_flag</th>\n",
              "      <th>emp_length_int</th>\n",
              "      <th>term_int</th>\n",
              "      <th>mths_since_earliest_cr_line</th>\n",
              "      <th>mths_since_issue_d</th>\n",
              "    </tr>\n",
              "  </thead>\n",
              "  <tbody>\n",
              "    <tr>\n",
              "      <th>174087</th>\n",
              "      <td>15000</td>\n",
              "      <td>12.12</td>\n",
              "      <td>B</td>\n",
              "      <td>MORTGAGE</td>\n",
              "      <td>68000.0</td>\n",
              "      <td>Verified</td>\n",
              "      <td>debt_consolidation</td>\n",
              "      <td>CA</td>\n",
              "      <td>19.69</td>\n",
              "      <td>0.0</td>\n",
              "      <td>1.0</td>\n",
              "      <td>-1.0</td>\n",
              "      <td>10.0</td>\n",
              "      <td>0.0</td>\n",
              "      <td>14750</td>\n",
              "      <td>93.9</td>\n",
              "      <td>23.0</td>\n",
              "      <td>0.00</td>\n",
              "      <td>0.0</td>\n",
              "      <td>909.38</td>\n",
              "      <td>0.0</td>\n",
              "      <td>0.0</td>\n",
              "      <td>0.0</td>\n",
              "      <td>263944.0</td>\n",
              "      <td>1</td>\n",
              "      <td>5.0</td>\n",
              "      <td>36.0</td>\n",
              "      <td>254.0</td>\n",
              "      <td>59.0</td>\n",
              "    </tr>\n",
              "    <tr>\n",
              "      <th>184614</th>\n",
              "      <td>6400</td>\n",
              "      <td>12.12</td>\n",
              "      <td>B</td>\n",
              "      <td>MORTGAGE</td>\n",
              "      <td>76960.0</td>\n",
              "      <td>Verified</td>\n",
              "      <td>medical</td>\n",
              "      <td>MT</td>\n",
              "      <td>28.38</td>\n",
              "      <td>4.0</td>\n",
              "      <td>0.0</td>\n",
              "      <td>13.0</td>\n",
              "      <td>9.0</td>\n",
              "      <td>0.0</td>\n",
              "      <td>3913</td>\n",
              "      <td>64.1</td>\n",
              "      <td>36.0</td>\n",
              "      <td>0.00</td>\n",
              "      <td>0.0</td>\n",
              "      <td>0.00</td>\n",
              "      <td>0.0</td>\n",
              "      <td>0.0</td>\n",
              "      <td>0.0</td>\n",
              "      <td>211288.0</td>\n",
              "      <td>0</td>\n",
              "      <td>10.0</td>\n",
              "      <td>36.0</td>\n",
              "      <td>336.0</td>\n",
              "      <td>61.0</td>\n",
              "    </tr>\n",
              "    <tr>\n",
              "      <th>225903</th>\n",
              "      <td>8400</td>\n",
              "      <td>6.62</td>\n",
              "      <td>A</td>\n",
              "      <td>MORTGAGE</td>\n",
              "      <td>70000.0</td>\n",
              "      <td>Verified</td>\n",
              "      <td>car</td>\n",
              "      <td>NY</td>\n",
              "      <td>17.73</td>\n",
              "      <td>0.0</td>\n",
              "      <td>0.0</td>\n",
              "      <td>-1.0</td>\n",
              "      <td>6.0</td>\n",
              "      <td>0.0</td>\n",
              "      <td>11289</td>\n",
              "      <td>41.5</td>\n",
              "      <td>11.0</td>\n",
              "      <td>0.00</td>\n",
              "      <td>0.0</td>\n",
              "      <td>0.00</td>\n",
              "      <td>0.0</td>\n",
              "      <td>0.0</td>\n",
              "      <td>0.0</td>\n",
              "      <td>0.0</td>\n",
              "      <td>0</td>\n",
              "      <td>3.0</td>\n",
              "      <td>36.0</td>\n",
              "      <td>266.0</td>\n",
              "      <td>69.0</td>\n",
              "    </tr>\n",
              "    <tr>\n",
              "      <th>45276</th>\n",
              "      <td>12375</td>\n",
              "      <td>14.47</td>\n",
              "      <td>C</td>\n",
              "      <td>RENT</td>\n",
              "      <td>52100.0</td>\n",
              "      <td>Source Verified</td>\n",
              "      <td>debt_consolidation</td>\n",
              "      <td>IL</td>\n",
              "      <td>9.65</td>\n",
              "      <td>0.0</td>\n",
              "      <td>2.0</td>\n",
              "      <td>-1.0</td>\n",
              "      <td>7.0</td>\n",
              "      <td>0.0</td>\n",
              "      <td>5023</td>\n",
              "      <td>37.0</td>\n",
              "      <td>8.0</td>\n",
              "      <td>4730.39</td>\n",
              "      <td>0.0</td>\n",
              "      <td>0.00</td>\n",
              "      <td>0.0</td>\n",
              "      <td>0.0</td>\n",
              "      <td>0.0</td>\n",
              "      <td>7116.0</td>\n",
              "      <td>0</td>\n",
              "      <td>8.0</td>\n",
              "      <td>36.0</td>\n",
              "      <td>566.0</td>\n",
              "      <td>48.0</td>\n",
              "    </tr>\n",
              "    <tr>\n",
              "      <th>230123</th>\n",
              "      <td>3200</td>\n",
              "      <td>17.58</td>\n",
              "      <td>D</td>\n",
              "      <td>MORTGAGE</td>\n",
              "      <td>60000.0</td>\n",
              "      <td>Not Verified</td>\n",
              "      <td>credit_card</td>\n",
              "      <td>NJ</td>\n",
              "      <td>18.48</td>\n",
              "      <td>0.0</td>\n",
              "      <td>2.0</td>\n",
              "      <td>29.0</td>\n",
              "      <td>11.0</td>\n",
              "      <td>0.0</td>\n",
              "      <td>14455</td>\n",
              "      <td>95.7</td>\n",
              "      <td>20.0</td>\n",
              "      <td>0.00</td>\n",
              "      <td>0.0</td>\n",
              "      <td>0.00</td>\n",
              "      <td>0.0</td>\n",
              "      <td>0.0</td>\n",
              "      <td>0.0</td>\n",
              "      <td>0.0</td>\n",
              "      <td>0</td>\n",
              "      <td>3.0</td>\n",
              "      <td>36.0</td>\n",
              "      <td>247.0</td>\n",
              "      <td>71.0</td>\n",
              "    </tr>\n",
              "  </tbody>\n",
              "</table>\n",
              "</div>"
            ],
            "text/plain": [
              "        loan_amnt  int_rate grade home_ownership  annual_inc  \\\n",
              "174087      15000     12.12     B       MORTGAGE     68000.0   \n",
              "184614       6400     12.12     B       MORTGAGE     76960.0   \n",
              "225903       8400      6.62     A       MORTGAGE     70000.0   \n",
              "45276       12375     14.47     C           RENT     52100.0   \n",
              "230123       3200     17.58     D       MORTGAGE     60000.0   \n",
              "\n",
              "       verification_status             purpose addr_state    dti  delinq_2yrs  \\\n",
              "174087            Verified  debt_consolidation         CA  19.69          0.0   \n",
              "184614            Verified             medical         MT  28.38          4.0   \n",
              "225903            Verified                 car         NY  17.73          0.0   \n",
              "45276      Source Verified  debt_consolidation         IL   9.65          0.0   \n",
              "230123        Not Verified         credit_card         NJ  18.48          0.0   \n",
              "\n",
              "        inq_last_6mths  mths_since_last_delinq  open_acc  pub_rec  revol_bal  \\\n",
              "174087             1.0                    -1.0      10.0      0.0      14750   \n",
              "184614             0.0                    13.0       9.0      0.0       3913   \n",
              "225903             0.0                    -1.0       6.0      0.0      11289   \n",
              "45276              2.0                    -1.0       7.0      0.0       5023   \n",
              "230123             2.0                    29.0      11.0      0.0      14455   \n",
              "\n",
              "        revol_util  total_acc  out_prncp  total_rec_late_fee  recoveries  \\\n",
              "174087        93.9       23.0       0.00                 0.0      909.38   \n",
              "184614        64.1       36.0       0.00                 0.0        0.00   \n",
              "225903        41.5       11.0       0.00                 0.0        0.00   \n",
              "45276         37.0        8.0    4730.39                 0.0        0.00   \n",
              "230123        95.7       20.0       0.00                 0.0        0.00   \n",
              "\n",
              "        collections_12_mths_ex_med  acc_now_delinq  tot_coll_amt  tot_cur_bal  \\\n",
              "174087                         0.0             0.0           0.0     263944.0   \n",
              "184614                         0.0             0.0           0.0     211288.0   \n",
              "225903                         0.0             0.0           0.0          0.0   \n",
              "45276                          0.0             0.0           0.0       7116.0   \n",
              "230123                         0.0             0.0           0.0          0.0   \n",
              "\n",
              "        bad_flag  emp_length_int  term_int  mths_since_earliest_cr_line  \\\n",
              "174087         1             5.0      36.0                        254.0   \n",
              "184614         0            10.0      36.0                        336.0   \n",
              "225903         0             3.0      36.0                        266.0   \n",
              "45276          0             8.0      36.0                        566.0   \n",
              "230123         0             3.0      36.0                        247.0   \n",
              "\n",
              "        mths_since_issue_d  \n",
              "174087                59.0  \n",
              "184614                61.0  \n",
              "225903                69.0  \n",
              "45276                 48.0  \n",
              "230123                71.0  "
            ]
          },
          "execution_count": 338,
          "metadata": {},
          "output_type": "execute_result"
        }
      ],
      "source": [
        "data.sample(5)"
      ]
    },
    {
      "attachments": {},
      "cell_type": "markdown",
      "id": "W8YMViafOlvi",
      "metadata": {
        "id": "W8YMViafOlvi"
      },
      "source": [
        "# Visual Analysis"
      ]
    },
    {
      "attachments": {},
      "cell_type": "markdown",
      "id": "ada8dc65",
      "metadata": {},
      "source": [
        "### Loan amount distribution"
      ]
    },
    {
      "cell_type": "code",
      "execution_count": 339,
      "id": "wy5qNDBgQ1dO",
      "metadata": {
        "id": "wy5qNDBgQ1dO"
      },
      "outputs": [
        {
          "data": {
            "image/png": "[encoded data removed]",
            "text/plain": [
              "<Figure size 1100x600 with 1 Axes>"
            ]
          },
          "metadata": {},
          "output_type": "display_data"
        }
      ],
      "source": [
        "import matplotlib.pyplot as plt\n",
        "\n",
        "plt.figure(figsize=(11, 6))\n",
        "n, bins, patches = plt.hist(data['loan_amnt'], bins=20, edgecolor='black', alpha=0.7)\n",
        "\n",
        "plt.xlabel('Frequency', fontsize=12)\n",
        "plt.ylabel('Loan Amount ($)', fontsize=12)\n",
        "plt.title('Loan Amount Distribution', fontsize=14)\n",
        "plt.xticks(fontsize=10)\n",
        "plt.yticks(fontsize=10)\n",
        "plt.grid(axis='y', alpha=0.75)\n",
        "\n",
        "colors = ['green', 'blue', 'red', 'yellow', 'purple', 'orange', 'magenta', 'cyan', 'grey', 'pink', 'brown', 'olive', 'teal', 'navy', 'maroon', 'indigo', 'turquoise', 'lavender', 'coral', 'silver']\n",
        "\n",
        "for i in range(len(patches)):\n",
        "    patches[i].set_facecolor(colors[i])\n",
        "\n",
        "    plt.text(x=bins[i]+(bins[i+1]-bins[i])/2, y=n[i]+100, s=int(bins[i]), ha='center', fontsize=10)\n",
        "\n",
        "plt.show()\n"
      ]
    },
    {
      "attachments": {},
      "cell_type": "markdown",
      "id": "9e780304",
      "metadata": {},
      "source": [
        "loan amount distribution. pada hasil visualisasi diatas didapatkan insight bahwa pinjaman 9125$ memiliki frequensi tertinggi sedangkan 28100 dan 31550 memiliki frekuensi peminjaman paling sedikit."
      ]
    },
    {
      "attachments": {},
      "cell_type": "markdown",
      "id": "b67cdbca",
      "metadata": {},
      "source": [
        "### Distribution of credit grades"
      ]
    },
    {
      "cell_type": "code",
      "execution_count": 340,
      "id": "44da909a",
      "metadata": {},
      "outputs": [
        {
          "data": {
            "image/png": "[encoded data removed]",
            "text/plain": [
              "<Figure size 1000x600 with 1 Axes>"
            ]
          },
          "metadata": {},
          "output_type": "display_data"
        }
      ],
      "source": [
        "import seaborn as sns\n",
        "import matplotlib.pyplot as plt\n",
        "\n",
        "sns.set_style('whitegrid')\n",
        "sns.set_palette(sns.color_palette(colors))\n",
        "plt.figure(figsize=(10, 6))\n",
        "ax = sns.countplot(x='grade', data=data, palette=colors, edgecolor='black')\n",
        "\n",
        "plt.xlabel('Grade', fontsize=12)\n",
        "plt.ylabel('Count', fontsize=12)\n",
        "plt.title('Distribution of Credit Grades', fontsize=14, fontweight='bold')\n",
        "plt.xticks(fontsize=10)\n",
        "plt.yticks(fontsize=10)\n",
        "plt.grid(axis='y', alpha=0.75)\n",
        "\n",
        "for p, c in zip(ax.patches, colors):\n",
        "    plt.setp(p, facecolor=c)\n",
        "    ax.annotate('{:.1f}%'.format(p.get_height()/len(data)*100),\n",
        "                (p.get_x()+p.get_width()/2., p.get_height()),\n",
        "                ha='center', va='center', fontsize=10, color='gray', xytext=(0, 5),\n",
        "                textcoords='offset points')\n",
        "\n",
        "sns.despine(left=True, bottom=True)\n",
        "plt.tight_layout()\n",
        "plt.show()\n"
      ]
    },
    {
      "attachments": {},
      "cell_type": "markdown",
      "id": "579888b4",
      "metadata": {},
      "source": [
        "Dari visualisasi tersebut, dapat dilihat bahwa sebagian besar peminjam memiliki kredit dengan grade yang baik, yaitu di antara A hingga D. Grade B memiliki jumlah peminjam terbanyak dibandingkan dengan grade lainnya, diikuti oleh grade C dan A. Sementara itu, grade G memiliki jumlah peminjam yang paling sedikit.\n",
        "\n",
        "Dapat dilihat bahwa grade A berada pada posisi keempat tertinggi dari jumlah peminjam, meskipun masih cukup jauh dari grade B, C, dan D yang menjadi grade dengan jumlah peminjam terbanyak. Hal ini menunjukkan bahwa sebagian besar peminjam memiliki kualitas kredit yang baik, tetapi masih ada sebagian kecil yang memiliki risiko kredit yang lebih tinggi, terutama di grade E hingga G."
      ]
    },
    {
      "attachments": {},
      "cell_type": "markdown",
      "id": "671c42d5",
      "metadata": {},
      "source": [
        "### Distribution of home ownership"
      ]
    },
    {
      "cell_type": "code",
      "execution_count": 341,
      "id": "b3d86aea",
      "metadata": {},
      "outputs": [
        {
          "name": "stdout",
          "output_type": "stream",
          "text": [
            "MORTGAGE    235875\n",
            "RENT        188473\n",
            "OWN          41704\n",
            "OTHER          182\n",
            "NONE            50\n",
            "ANY              1\n",
            "Name: home_ownership, dtype: int64\n"
          ]
        }
      ],
      "source": [
        "print(data['home_ownership'].value_counts())"
      ]
    },
    {
      "attachments": {},
      "cell_type": "markdown",
      "id": "266b0817",
      "metadata": {},
      "source": [
        "any dan other gabung saja"
      ]
    },
    {
      "cell_type": "code",
      "execution_count": 342,
      "id": "441a8f70",
      "metadata": {},
      "outputs": [],
      "source": [
        "data['home_ownership'] = data['home_ownership'].replace(['ANY', 'OTHER'], 'OTHER') "
      ]
    },
    {
      "cell_type": "code",
      "execution_count": 343,
      "id": "bbbd35c4",
      "metadata": {},
      "outputs": [
        {
          "data": {
            "image/png": "[encoded data removed]",
            "text/plain": [
              "<Figure size 800x600 with 1 Axes>"
            ]
          },
          "metadata": {},
          "output_type": "display_data"
        }
      ],
      "source": [
        "import seaborn as sns\n",
        "import matplotlib.pyplot as plt\n",
        "\n",
        "sns.set_style('whitegrid')\n",
        "colors = ['magenta', 'cyan', 'grey', 'pink', 'brown']\n",
        "\n",
        "fig, ax = plt.subplots(figsize=(8, 6))\n",
        "sns.countplot(x='home_ownership', data=data, palette=colors, edgecolor='black', ax=ax)\n",
        "\n",
        "plt.xlabel('Home Ownership', fontsize=12)\n",
        "plt.ylabel('Count', fontsize=12)\n",
        "plt.title('Distribution of Home Ownership', fontsize=14, fontweight='bold')\n",
        "plt.xticks(fontsize=10)\n",
        "plt.yticks(fontsize=10)\n",
        "plt.gca().spines['top'].set_visible(False)\n",
        "plt.gca().spines['right'].set_visible(False)\n",
        "\n",
        "for p in ax.patches:\n",
        "    ax.annotate('{:.1f}%\\n{}'.format(100*p.get_height()/len(data), p.get_height()),\n",
        "    (p.get_x()+p.get_width()/2., p.get_height()),\n",
        "    ha='center', va='center', fontsize=10, color='gray', xytext=(0, 5),\n",
        "    textcoords='offset points', bbox=dict(facecolor='white', edgecolor='none', alpha=0.7))\n",
        "\n",
        "plt.show()"
      ]
    },
    {
      "attachments": {},
      "cell_type": "markdown",
      "id": "96c35673",
      "metadata": {},
      "source": [
        "Dari visualisasi distribusi kepemilikan rumah di antara peminjam, dapat dilihat bahwa kategori 'MORTGAGE' memiliki jumlah peminjam terbanyak, diikuti oleh kategori 'RENT', dan kategori 'OWN'. Sedangkan kategori 'OTHER' dan 'NONE' memiliki jumlah peminjam yang sangat sedikit, bahkan mendekati nol persen.\n",
        "\n",
        "Hal ini menunjukkan bahwa mayoritas peminjam dalam dataset ini memiliki kepemilikan rumah melalui kredit hipotek (mortgage) atau menyewa rumah (rent). Dalam perspektif risiko kredit, dapat dianggap bahwa peminjam dengan kepemilikan rumah melalui kredit hipotek memiliki tingkat risiko yang lebih rendah dibandingkan dengan peminjam yang menyewa rumah atau tidak memiliki rumah, karena memiliki tanggung jawab finansial yang lebih besar dan stabil"
      ]
    },
    {
      "attachments": {},
      "cell_type": "markdown",
      "id": "0058e21a",
      "metadata": {},
      "source": [
        "### Loan purpose distribution"
      ]
    },
    {
      "cell_type": "code",
      "execution_count": 344,
      "id": "46de3376",
      "metadata": {},
      "outputs": [
        {
          "data": {
            "image/png": "[encoded data removed]",
            "text/plain": [
              "<Figure size 1000x800 with 1 Axes>"
            ]
          },
          "metadata": {},
          "output_type": "display_data"
        }
      ],
      "source": [
        "import matplotlib.pyplot as plt\n",
        "\n",
        "# Menghitung frekuensi setiap kategori pada variabel purpose\n",
        "purpose_counts = data['purpose'].value_counts()\n",
        "\n",
        "# Membuat bar plot\n",
        "fig, ax = plt.subplots(figsize=(10, 8))\n",
        "purpose_counts.plot(kind='bar', color=['#2196F3', '#FFC107', '#4CAF50', '#9C27B0', '#E91E63', '#795548',\n",
        "                                       '#FF5722', '#607D8B', '#00BCD4', '#8BC34A', '#F44336', '#FFEB3B', '#CDDC39', '#FF9800'], ax=ax)\n",
        "\n",
        "# Menambahkan persentase pada setiap bar\n",
        "total = len(data)\n",
        "for i, v in enumerate(purpose_counts):\n",
        "    ax.text(i, v + 50, f'{(v/total*100):.1f}%', ha='center')\n",
        "\n",
        "# Menambahkan judul dan label sumbu\n",
        "ax.set_title('Loan Purpose Distribution')\n",
        "ax.set_xlabel('Purpose')\n",
        "ax.set_ylabel('Frequency')\n",
        "\n",
        "# Mengatur margin pada sumbu x agar tidak terpotong\n",
        "plt.margins(0.03, 0)\n",
        "\n",
        "# Menampilkan plot\n",
        "plt.show()\n"
      ]
    },
    {
      "attachments": {},
      "cell_type": "markdown",
      "id": "8a633e0b",
      "metadata": {},
      "source": [
        "Dari hasil visualisasi bar chart jumlah pinjaman berdasarkan tujuan, dapat disimpulkan bahwa tujuan pinjaman yang paling banyak adalah untuk debt consolidation, yang artinya pengguna pinjaman menggunakan pinjaman untuk melunasi hutang-hutang yang ada. Tujuan pinjaman kedua yang paling banyak adalah untuk credit card, yang artinya pengguna pinjaman menggunakan pinjaman untuk membayar tagihan kartu kredit. Tujuan pinjaman ketiga yang paling banyak adalah untuk home improvement, yang artinya pengguna pinjaman menggunakan pinjaman untuk melakukan perbaikan atau renovasi rumah. Tujuan pinjaman lainnya seperti other, major purpose, small business, car, medical, moving, vacation, wedding, house, educational, dan renewable energy memiliki jumlah pinjaman yang lebih sedikit dibandingkan tiga tujuan pinjaman teratas.\n",
        "\n",
        "Dengan mengetahui tujuan pinjaman yang paling banyak, pihak kreditur dapat membuat strategi pemasaran yang lebih efektif untuk menarik lebih banyak peminjam dengan menawarkan produk dan layanan yang sesuai dengan kebutuhan mereka. Selain itu, pihak kreditur juga dapat menyesuaikan syarat dan ketentuan pinjaman yang ditawarkan agar lebih cocok dengan tujuan penggunaan pinjaman. Dalam hal ini, analisis visual dapat membantu dalam pengambilan keputusan dan membuat strategi bisnis yang lebih efektif."
      ]
    },
    {
      "attachments": {},
      "cell_type": "markdown",
      "id": "f66ba75a",
      "metadata": {},
      "source": [
        "### Histogram of dti"
      ]
    },
    {
      "cell_type": "code",
      "execution_count": 345,
      "id": "dd4939eb",
      "metadata": {},
      "outputs": [
        {
          "data": {
            "image/png": "[encoded data removed]",
            "text/plain": [
              "<Figure size 640x480 with 1 Axes>"
            ]
          },
          "metadata": {},
          "output_type": "display_data"
        }
      ],
      "source": [
        "import matplotlib.pyplot as plt\n",
        "\n",
        "# Set style\n",
        "plt.style.use('ggplot')\n",
        "\n",
        "# Visualize Dti using histogram\n",
        "n, bins, patches = plt.hist(data['dti'], bins=50, color='skyblue', edgecolor='black')\n",
        "plt.xlabel('Dti')\n",
        "plt.ylabel('Count')\n",
        "plt.title('Histogram of Dti')\n",
        "\n",
        "# Add text for highest bar\n",
        "index_max = n.argmax()\n",
        "plt.text(bins[index_max], n[index_max], f'{n[index_max]}', ha='center', va='bottom', fontsize=12)\n",
        "\n",
        "# Add text for lowest bar\n",
        "index_min = n.argmin()\n",
        "plt.text(bins[index_min], n[index_min], f'{n[index_min]}', ha='center', va='top', fontsize=12)\n",
        "\n",
        "plt.show()\n"
      ]
    },
    {
      "attachments": {},
      "cell_type": "markdown",
      "id": "1723bb4b",
      "metadata": {},
      "source": [
        "Berdasarkan informasi bahwa nilai tertinggi pada DTI adalah 17573 dengan nilai DTI 15, sementara nilai terendah adalah 467 dengan nilai DTI 40, dapat disimpulkan bahwa terdapat pola kenaikan dan penurunan pada nilai DTI. Pada rentang nilai DTI antara 0 hingga 15, jumlah peminjam dengan rasio utang terhadap pendapatan yang lebih rendah lebih banyak dibandingkan dengan peminjam dengan rasio utang terhadap pendapatan yang lebih tinggi. Hal ini dapat mengindikasikan bahwa pada rentang nilai DTI ini, peminjam memiliki kemampuan yang lebih baik dalam membayar cicilan utang mereka.\n",
        "\n",
        "Namun, pada rentang nilai DTI antara 16 hingga 40, terdapat penurunan jumlah peminjam dengan rasio utang terhadap pendapatan yang lebih rendah dan peningkatan jumlah peminjam dengan rasio utang terhadap pendapatan yang lebih tinggi. Hal ini dapat mengindikasikan bahwa pada rentang nilai DTI ini, peminjam memiliki kemampuan yang lebih rendah dalam membayar cicilan utang mereka."
      ]
    },
    {
      "attachments": {},
      "cell_type": "markdown",
      "id": "2fde4d9e",
      "metadata": {},
      "source": [
        "### Distribution of bad flag"
      ]
    },
    {
      "cell_type": "code",
      "execution_count": 346,
      "id": "e87a297e",
      "metadata": {},
      "outputs": [
        {
          "data": {
            "image/png": "[encoded data removed]",
            "text/plain": [
              "<Figure size 640x480 with 1 Axes>"
            ]
          },
          "metadata": {},
          "output_type": "display_data"
        }
      ],
      "source": [
        "import matplotlib.pyplot as plt\n",
        "\n",
        "# Set style\n",
        "plt.style.use('ggplot')\n",
        "\n",
        "# Count the number of loans in each category\n",
        "bad_flag_count = data['bad_flag'].value_counts()\n",
        "\n",
        "# Create a bar plot\n",
        "plt.bar(bad_flag_count.index.astype(str), bad_flag_count.values, color=['skyblue','red'], edgecolor='black')\n",
        "\n",
        "# Set the title and axis labels\n",
        "plt.title('Distribution of Bad Flag')\n",
        "plt.xlabel('Bad Flag')\n",
        "plt.ylabel('Number of Loans')\n",
        "\n",
        "# Display the plot\n",
        "plt.show()\n"
      ]
    },
    {
      "attachments": {},
      "cell_type": "markdown",
      "id": "cd162a15",
      "metadata": {},
      "source": [
        "Dari distribusi variabel bad_flag yang dapat divisualisasikan dalam bentuk bar plot, jika terdapat ketimpangan antara jumlah pinjaman yang dianggap bermasalah dan tidak, dapat diinterpretasikan sebagai adanya ketidakseimbangan pada data. Ketidakseimbangan pada data ini bisa menjadi masalah dalam analisis data karena model yang dibangun dapat cenderung lebih banyak memprediksi hasil yang dominan (misalnya, model dapat cenderung memprediksi bahwa semua pinjaman akan baik-baik saja). Hal ini dapat menghasilkan kinerja model yang buruk dalam memprediksi kasus yang tidak dominan (dalam kasus ini, kasus pinjaman yang dianggap bermasalah).\n",
        "\n",
        "Oleh karena itu, jika terdapat ketidakseimbangan pada data, maka biasanya perlu dilakukan teknik pengolahan data khusus seperti oversampling atau undersampling untuk mengatasi masalah tersebut dan meningkatkan kinerja model dalam memprediksi kasus minoritas."
      ]
    },
    {
      "cell_type": "markdown",
      "id": "c28ecfd6-bfd0-4d45-b34e-42317e867501",
      "metadata": {
        "id": "c28ecfd6-bfd0-4d45-b34e-42317e867501"
      },
      "source": [
        "# FEATURE SCALING AND TRANSFORMATION"
      ]
    },
    {
      "cell_type": "markdown",
      "id": "ab3c322d-1522-4a5c-9dcf-c1a886b39682",
      "metadata": {
        "id": "ab3c322d-1522-4a5c-9dcf-c1a886b39682"
      },
      "source": [
        "### One Hot Encoding"
      ]
    },
    {
      "cell_type": "markdown",
      "id": "991d3330-8cca-499e-9954-1c808d3b2f34",
      "metadata": {
        "id": "991d3330-8cca-499e-9954-1c808d3b2f34"
      },
      "source": [
        "Semua kolom kategorikal dilakukan One Hot Encoding."
      ]
    },
    {
      "cell_type": "code",
      "execution_count": 347,
      "id": "bb2303a2-31ef-43ab-b56e-768549a03cc3",
      "metadata": {
        "id": "bb2303a2-31ef-43ab-b56e-768549a03cc3"
      },
      "outputs": [],
      "source": [
        "categorical_cols = [col for col in data.select_dtypes(include='object').columns.tolist()]"
      ]
    },
    {
      "cell_type": "code",
      "execution_count": 348,
      "id": "cfa85b8b-37e4-4340-bac5-195823e6e826",
      "metadata": {
        "id": "cfa85b8b-37e4-4340-bac5-195823e6e826"
      },
      "outputs": [],
      "source": [
        "onehot = pd.get_dummies(data[categorical_cols], drop_first=True)"
      ]
    },
    {
      "cell_type": "code",
      "execution_count": 349,
      "id": "1b03ef73-68fa-4cf1-a818-30c351da5371",
      "metadata": {
        "id": "1b03ef73-68fa-4cf1-a818-30c351da5371"
      },
      "outputs": [
        {
          "data": {
            "text/html": [
              "<div>\n",
              "<style scoped>\n",
              "    .dataframe tbody tr th:only-of-type {\n",
              "        vertical-align: middle;\n",
              "    }\n",
              "\n",
              "    .dataframe tbody tr th {\n",
              "        vertical-align: top;\n",
              "    }\n",
              "\n",
              "    .dataframe thead th {\n",
              "        text-align: right;\n",
              "    }\n",
              "</style>\n",
              "<table border=\"1\" class=\"dataframe\">\n",
              "  <thead>\n",
              "    <tr style=\"text-align: right;\">\n",
              "      <th></th>\n",
              "      <th>grade_B</th>\n",
              "      <th>grade_C</th>\n",
              "      <th>grade_D</th>\n",
              "      <th>grade_E</th>\n",
              "      <th>grade_F</th>\n",
              "      <th>grade_G</th>\n",
              "      <th>home_ownership_NONE</th>\n",
              "      <th>home_ownership_OTHER</th>\n",
              "      <th>home_ownership_OWN</th>\n",
              "      <th>home_ownership_RENT</th>\n",
              "      <th>verification_status_Source Verified</th>\n",
              "      <th>verification_status_Verified</th>\n",
              "      <th>purpose_credit_card</th>\n",
              "      <th>purpose_debt_consolidation</th>\n",
              "      <th>purpose_educational</th>\n",
              "      <th>purpose_home_improvement</th>\n",
              "      <th>purpose_house</th>\n",
              "      <th>purpose_major_purchase</th>\n",
              "      <th>purpose_medical</th>\n",
              "      <th>purpose_moving</th>\n",
              "      <th>purpose_other</th>\n",
              "      <th>purpose_renewable_energy</th>\n",
              "      <th>purpose_small_business</th>\n",
              "      <th>purpose_vacation</th>\n",
              "      <th>purpose_wedding</th>\n",
              "      <th>addr_state_AL</th>\n",
              "      <th>addr_state_AR</th>\n",
              "      <th>addr_state_AZ</th>\n",
              "      <th>addr_state_CA</th>\n",
              "      <th>addr_state_CO</th>\n",
              "      <th>addr_state_CT</th>\n",
              "      <th>addr_state_DC</th>\n",
              "      <th>addr_state_DE</th>\n",
              "      <th>addr_state_FL</th>\n",
              "      <th>addr_state_GA</th>\n",
              "      <th>addr_state_HI</th>\n",
              "      <th>addr_state_IA</th>\n",
              "      <th>addr_state_ID</th>\n",
              "      <th>addr_state_IL</th>\n",
              "      <th>addr_state_IN</th>\n",
              "      <th>addr_state_KS</th>\n",
              "      <th>addr_state_KY</th>\n",
              "      <th>addr_state_LA</th>\n",
              "      <th>addr_state_MA</th>\n",
              "      <th>addr_state_MD</th>\n",
              "      <th>addr_state_ME</th>\n",
              "      <th>addr_state_MI</th>\n",
              "      <th>addr_state_MN</th>\n",
              "      <th>addr_state_MO</th>\n",
              "      <th>addr_state_MS</th>\n",
              "      <th>addr_state_MT</th>\n",
              "      <th>addr_state_NC</th>\n",
              "      <th>addr_state_NE</th>\n",
              "      <th>addr_state_NH</th>\n",
              "      <th>addr_state_NJ</th>\n",
              "      <th>addr_state_NM</th>\n",
              "      <th>addr_state_NV</th>\n",
              "      <th>addr_state_NY</th>\n",
              "      <th>addr_state_OH</th>\n",
              "      <th>addr_state_OK</th>\n",
              "      <th>addr_state_OR</th>\n",
              "      <th>addr_state_PA</th>\n",
              "      <th>addr_state_RI</th>\n",
              "      <th>addr_state_SC</th>\n",
              "      <th>addr_state_SD</th>\n",
              "      <th>addr_state_TN</th>\n",
              "      <th>addr_state_TX</th>\n",
              "      <th>addr_state_UT</th>\n",
              "      <th>addr_state_VA</th>\n",
              "      <th>addr_state_VT</th>\n",
              "      <th>addr_state_WA</th>\n",
              "      <th>addr_state_WI</th>\n",
              "      <th>addr_state_WV</th>\n",
              "      <th>addr_state_WY</th>\n",
              "    </tr>\n",
              "  </thead>\n",
              "  <tbody>\n",
              "    <tr>\n",
              "      <th>0</th>\n",
              "      <td>1</td>\n",
              "      <td>0</td>\n",
              "      <td>0</td>\n",
              "      <td>0</td>\n",
              "      <td>0</td>\n",
              "      <td>0</td>\n",
              "      <td>0</td>\n",
              "      <td>0</td>\n",
              "      <td>0</td>\n",
              "      <td>1</td>\n",
              "      <td>0</td>\n",
              "      <td>1</td>\n",
              "      <td>1</td>\n",
              "      <td>0</td>\n",
              "      <td>0</td>\n",
              "      <td>0</td>\n",
              "      <td>0</td>\n",
              "      <td>0</td>\n",
              "      <td>0</td>\n",
              "      <td>0</td>\n",
              "      <td>0</td>\n",
              "      <td>0</td>\n",
              "      <td>0</td>\n",
              "      <td>0</td>\n",
              "      <td>0</td>\n",
              "      <td>0</td>\n",
              "      <td>0</td>\n",
              "      <td>1</td>\n",
              "      <td>0</td>\n",
              "      <td>0</td>\n",
              "      <td>0</td>\n",
              "      <td>0</td>\n",
              "      <td>0</td>\n",
              "      <td>0</td>\n",
              "      <td>0</td>\n",
              "      <td>0</td>\n",
              "      <td>0</td>\n",
              "      <td>0</td>\n",
              "      <td>0</td>\n",
              "      <td>0</td>\n",
              "      <td>0</td>\n",
              "      <td>0</td>\n",
              "      <td>0</td>\n",
              "      <td>0</td>\n",
              "      <td>0</td>\n",
              "      <td>0</td>\n",
              "      <td>0</td>\n",
              "      <td>0</td>\n",
              "      <td>0</td>\n",
              "      <td>0</td>\n",
              "      <td>0</td>\n",
              "      <td>0</td>\n",
              "      <td>0</td>\n",
              "      <td>0</td>\n",
              "      <td>0</td>\n",
              "      <td>0</td>\n",
              "      <td>0</td>\n",
              "      <td>0</td>\n",
              "      <td>0</td>\n",
              "      <td>0</td>\n",
              "      <td>0</td>\n",
              "      <td>0</td>\n",
              "      <td>0</td>\n",
              "      <td>0</td>\n",
              "      <td>0</td>\n",
              "      <td>0</td>\n",
              "      <td>0</td>\n",
              "      <td>0</td>\n",
              "      <td>0</td>\n",
              "      <td>0</td>\n",
              "      <td>0</td>\n",
              "      <td>0</td>\n",
              "      <td>0</td>\n",
              "      <td>0</td>\n",
              "    </tr>\n",
              "    <tr>\n",
              "      <th>1</th>\n",
              "      <td>0</td>\n",
              "      <td>1</td>\n",
              "      <td>0</td>\n",
              "      <td>0</td>\n",
              "      <td>0</td>\n",
              "      <td>0</td>\n",
              "      <td>0</td>\n",
              "      <td>0</td>\n",
              "      <td>0</td>\n",
              "      <td>1</td>\n",
              "      <td>1</td>\n",
              "      <td>0</td>\n",
              "      <td>0</td>\n",
              "      <td>0</td>\n",
              "      <td>0</td>\n",
              "      <td>0</td>\n",
              "      <td>0</td>\n",
              "      <td>0</td>\n",
              "      <td>0</td>\n",
              "      <td>0</td>\n",
              "      <td>0</td>\n",
              "      <td>0</td>\n",
              "      <td>0</td>\n",
              "      <td>0</td>\n",
              "      <td>0</td>\n",
              "      <td>0</td>\n",
              "      <td>0</td>\n",
              "      <td>0</td>\n",
              "      <td>0</td>\n",
              "      <td>0</td>\n",
              "      <td>0</td>\n",
              "      <td>0</td>\n",
              "      <td>0</td>\n",
              "      <td>0</td>\n",
              "      <td>1</td>\n",
              "      <td>0</td>\n",
              "      <td>0</td>\n",
              "      <td>0</td>\n",
              "      <td>0</td>\n",
              "      <td>0</td>\n",
              "      <td>0</td>\n",
              "      <td>0</td>\n",
              "      <td>0</td>\n",
              "      <td>0</td>\n",
              "      <td>0</td>\n",
              "      <td>0</td>\n",
              "      <td>0</td>\n",
              "      <td>0</td>\n",
              "      <td>0</td>\n",
              "      <td>0</td>\n",
              "      <td>0</td>\n",
              "      <td>0</td>\n",
              "      <td>0</td>\n",
              "      <td>0</td>\n",
              "      <td>0</td>\n",
              "      <td>0</td>\n",
              "      <td>0</td>\n",
              "      <td>0</td>\n",
              "      <td>0</td>\n",
              "      <td>0</td>\n",
              "      <td>0</td>\n",
              "      <td>0</td>\n",
              "      <td>0</td>\n",
              "      <td>0</td>\n",
              "      <td>0</td>\n",
              "      <td>0</td>\n",
              "      <td>0</td>\n",
              "      <td>0</td>\n",
              "      <td>0</td>\n",
              "      <td>0</td>\n",
              "      <td>0</td>\n",
              "      <td>0</td>\n",
              "      <td>0</td>\n",
              "      <td>0</td>\n",
              "    </tr>\n",
              "    <tr>\n",
              "      <th>2</th>\n",
              "      <td>0</td>\n",
              "      <td>1</td>\n",
              "      <td>0</td>\n",
              "      <td>0</td>\n",
              "      <td>0</td>\n",
              "      <td>0</td>\n",
              "      <td>0</td>\n",
              "      <td>0</td>\n",
              "      <td>0</td>\n",
              "      <td>1</td>\n",
              "      <td>0</td>\n",
              "      <td>0</td>\n",
              "      <td>0</td>\n",
              "      <td>0</td>\n",
              "      <td>0</td>\n",
              "      <td>0</td>\n",
              "      <td>0</td>\n",
              "      <td>0</td>\n",
              "      <td>0</td>\n",
              "      <td>0</td>\n",
              "      <td>0</td>\n",
              "      <td>0</td>\n",
              "      <td>1</td>\n",
              "      <td>0</td>\n",
              "      <td>0</td>\n",
              "      <td>0</td>\n",
              "      <td>0</td>\n",
              "      <td>0</td>\n",
              "      <td>0</td>\n",
              "      <td>0</td>\n",
              "      <td>0</td>\n",
              "      <td>0</td>\n",
              "      <td>0</td>\n",
              "      <td>0</td>\n",
              "      <td>0</td>\n",
              "      <td>0</td>\n",
              "      <td>0</td>\n",
              "      <td>0</td>\n",
              "      <td>1</td>\n",
              "      <td>0</td>\n",
              "      <td>0</td>\n",
              "      <td>0</td>\n",
              "      <td>0</td>\n",
              "      <td>0</td>\n",
              "      <td>0</td>\n",
              "      <td>0</td>\n",
              "      <td>0</td>\n",
              "      <td>0</td>\n",
              "      <td>0</td>\n",
              "      <td>0</td>\n",
              "      <td>0</td>\n",
              "      <td>0</td>\n",
              "      <td>0</td>\n",
              "      <td>0</td>\n",
              "      <td>0</td>\n",
              "      <td>0</td>\n",
              "      <td>0</td>\n",
              "      <td>0</td>\n",
              "      <td>0</td>\n",
              "      <td>0</td>\n",
              "      <td>0</td>\n",
              "      <td>0</td>\n",
              "      <td>0</td>\n",
              "      <td>0</td>\n",
              "      <td>0</td>\n",
              "      <td>0</td>\n",
              "      <td>0</td>\n",
              "      <td>0</td>\n",
              "      <td>0</td>\n",
              "      <td>0</td>\n",
              "      <td>0</td>\n",
              "      <td>0</td>\n",
              "      <td>0</td>\n",
              "      <td>0</td>\n",
              "    </tr>\n",
              "    <tr>\n",
              "      <th>3</th>\n",
              "      <td>0</td>\n",
              "      <td>1</td>\n",
              "      <td>0</td>\n",
              "      <td>0</td>\n",
              "      <td>0</td>\n",
              "      <td>0</td>\n",
              "      <td>0</td>\n",
              "      <td>0</td>\n",
              "      <td>0</td>\n",
              "      <td>1</td>\n",
              "      <td>1</td>\n",
              "      <td>0</td>\n",
              "      <td>0</td>\n",
              "      <td>0</td>\n",
              "      <td>0</td>\n",
              "      <td>0</td>\n",
              "      <td>0</td>\n",
              "      <td>0</td>\n",
              "      <td>0</td>\n",
              "      <td>0</td>\n",
              "      <td>1</td>\n",
              "      <td>0</td>\n",
              "      <td>0</td>\n",
              "      <td>0</td>\n",
              "      <td>0</td>\n",
              "      <td>0</td>\n",
              "      <td>0</td>\n",
              "      <td>0</td>\n",
              "      <td>1</td>\n",
              "      <td>0</td>\n",
              "      <td>0</td>\n",
              "      <td>0</td>\n",
              "      <td>0</td>\n",
              "      <td>0</td>\n",
              "      <td>0</td>\n",
              "      <td>0</td>\n",
              "      <td>0</td>\n",
              "      <td>0</td>\n",
              "      <td>0</td>\n",
              "      <td>0</td>\n",
              "      <td>0</td>\n",
              "      <td>0</td>\n",
              "      <td>0</td>\n",
              "      <td>0</td>\n",
              "      <td>0</td>\n",
              "      <td>0</td>\n",
              "      <td>0</td>\n",
              "      <td>0</td>\n",
              "      <td>0</td>\n",
              "      <td>0</td>\n",
              "      <td>0</td>\n",
              "      <td>0</td>\n",
              "      <td>0</td>\n",
              "      <td>0</td>\n",
              "      <td>0</td>\n",
              "      <td>0</td>\n",
              "      <td>0</td>\n",
              "      <td>0</td>\n",
              "      <td>0</td>\n",
              "      <td>0</td>\n",
              "      <td>0</td>\n",
              "      <td>0</td>\n",
              "      <td>0</td>\n",
              "      <td>0</td>\n",
              "      <td>0</td>\n",
              "      <td>0</td>\n",
              "      <td>0</td>\n",
              "      <td>0</td>\n",
              "      <td>0</td>\n",
              "      <td>0</td>\n",
              "      <td>0</td>\n",
              "      <td>0</td>\n",
              "      <td>0</td>\n",
              "      <td>0</td>\n",
              "    </tr>\n",
              "    <tr>\n",
              "      <th>4</th>\n",
              "      <td>1</td>\n",
              "      <td>0</td>\n",
              "      <td>0</td>\n",
              "      <td>0</td>\n",
              "      <td>0</td>\n",
              "      <td>0</td>\n",
              "      <td>0</td>\n",
              "      <td>0</td>\n",
              "      <td>0</td>\n",
              "      <td>1</td>\n",
              "      <td>1</td>\n",
              "      <td>0</td>\n",
              "      <td>0</td>\n",
              "      <td>0</td>\n",
              "      <td>0</td>\n",
              "      <td>0</td>\n",
              "      <td>0</td>\n",
              "      <td>0</td>\n",
              "      <td>0</td>\n",
              "      <td>0</td>\n",
              "      <td>1</td>\n",
              "      <td>0</td>\n",
              "      <td>0</td>\n",
              "      <td>0</td>\n",
              "      <td>0</td>\n",
              "      <td>0</td>\n",
              "      <td>0</td>\n",
              "      <td>0</td>\n",
              "      <td>0</td>\n",
              "      <td>0</td>\n",
              "      <td>0</td>\n",
              "      <td>0</td>\n",
              "      <td>0</td>\n",
              "      <td>0</td>\n",
              "      <td>0</td>\n",
              "      <td>0</td>\n",
              "      <td>0</td>\n",
              "      <td>0</td>\n",
              "      <td>0</td>\n",
              "      <td>0</td>\n",
              "      <td>0</td>\n",
              "      <td>0</td>\n",
              "      <td>0</td>\n",
              "      <td>0</td>\n",
              "      <td>0</td>\n",
              "      <td>0</td>\n",
              "      <td>0</td>\n",
              "      <td>0</td>\n",
              "      <td>0</td>\n",
              "      <td>0</td>\n",
              "      <td>0</td>\n",
              "      <td>0</td>\n",
              "      <td>0</td>\n",
              "      <td>0</td>\n",
              "      <td>0</td>\n",
              "      <td>0</td>\n",
              "      <td>0</td>\n",
              "      <td>0</td>\n",
              "      <td>0</td>\n",
              "      <td>0</td>\n",
              "      <td>1</td>\n",
              "      <td>0</td>\n",
              "      <td>0</td>\n",
              "      <td>0</td>\n",
              "      <td>0</td>\n",
              "      <td>0</td>\n",
              "      <td>0</td>\n",
              "      <td>0</td>\n",
              "      <td>0</td>\n",
              "      <td>0</td>\n",
              "      <td>0</td>\n",
              "      <td>0</td>\n",
              "      <td>0</td>\n",
              "      <td>0</td>\n",
              "    </tr>\n",
              "  </tbody>\n",
              "</table>\n",
              "</div>"
            ],
            "text/plain": [
              "   grade_B  grade_C  grade_D  grade_E  grade_F  grade_G  home_ownership_NONE  \\\n",
              "0        1        0        0        0        0        0                    0   \n",
              "1        0        1        0        0        0        0                    0   \n",
              "2        0        1        0        0        0        0                    0   \n",
              "3        0        1        0        0        0        0                    0   \n",
              "4        1        0        0        0        0        0                    0   \n",
              "\n",
              "   home_ownership_OTHER  home_ownership_OWN  home_ownership_RENT  \\\n",
              "0                     0                   0                    1   \n",
              "1                     0                   0                    1   \n",
              "2                     0                   0                    1   \n",
              "3                     0                   0                    1   \n",
              "4                     0                   0                    1   \n",
              "\n",
              "   verification_status_Source Verified  verification_status_Verified  \\\n",
              "0                                    0                             1   \n",
              "1                                    1                             0   \n",
              "2                                    0                             0   \n",
              "3                                    1                             0   \n",
              "4                                    1                             0   \n",
              "\n",
              "   purpose_credit_card  purpose_debt_consolidation  purpose_educational  \\\n",
              "0                    1                           0                    0   \n",
              "1                    0                           0                    0   \n",
              "2                    0                           0                    0   \n",
              "3                    0                           0                    0   \n",
              "4                    0                           0                    0   \n",
              "\n",
              "   purpose_home_improvement  purpose_house  purpose_major_purchase  \\\n",
              "0                         0              0                       0   \n",
              "1                         0              0                       0   \n",
              "2                         0              0                       0   \n",
              "3                         0              0                       0   \n",
              "4                         0              0                       0   \n",
              "\n",
              "   purpose_medical  purpose_moving  purpose_other  purpose_renewable_energy  \\\n",
              "0                0               0              0                         0   \n",
              "1                0               0              0                         0   \n",
              "2                0               0              0                         0   \n",
              "3                0               0              1                         0   \n",
              "4                0               0              1                         0   \n",
              "\n",
              "   purpose_small_business  purpose_vacation  purpose_wedding  addr_state_AL  \\\n",
              "0                       0                 0                0              0   \n",
              "1                       0                 0                0              0   \n",
              "2                       1                 0                0              0   \n",
              "3                       0                 0                0              0   \n",
              "4                       0                 0                0              0   \n",
              "\n",
              "   addr_state_AR  addr_state_AZ  addr_state_CA  addr_state_CO  addr_state_CT  \\\n",
              "0              0              1              0              0              0   \n",
              "1              0              0              0              0              0   \n",
              "2              0              0              0              0              0   \n",
              "3              0              0              1              0              0   \n",
              "4              0              0              0              0              0   \n",
              "\n",
              "   addr_state_DC  addr_state_DE  addr_state_FL  addr_state_GA  addr_state_HI  \\\n",
              "0              0              0              0              0              0   \n",
              "1              0              0              0              1              0   \n",
              "2              0              0              0              0              0   \n",
              "3              0              0              0              0              0   \n",
              "4              0              0              0              0              0   \n",
              "\n",
              "   addr_state_IA  addr_state_ID  addr_state_IL  addr_state_IN  addr_state_KS  \\\n",
              "0              0              0              0              0              0   \n",
              "1              0              0              0              0              0   \n",
              "2              0              0              1              0              0   \n",
              "3              0              0              0              0              0   \n",
              "4              0              0              0              0              0   \n",
              "\n",
              "   addr_state_KY  addr_state_LA  addr_state_MA  addr_state_MD  addr_state_ME  \\\n",
              "0              0              0              0              0              0   \n",
              "1              0              0              0              0              0   \n",
              "2              0              0              0              0              0   \n",
              "3              0              0              0              0              0   \n",
              "4              0              0              0              0              0   \n",
              "\n",
              "   addr_state_MI  addr_state_MN  addr_state_MO  addr_state_MS  addr_state_MT  \\\n",
              "0              0              0              0              0              0   \n",
              "1              0              0              0              0              0   \n",
              "2              0              0              0              0              0   \n",
              "3              0              0              0              0              0   \n",
              "4              0              0              0              0              0   \n",
              "\n",
              "   addr_state_NC  addr_state_NE  addr_state_NH  addr_state_NJ  addr_state_NM  \\\n",
              "0              0              0              0              0              0   \n",
              "1              0              0              0              0              0   \n",
              "2              0              0              0              0              0   \n",
              "3              0              0              0              0              0   \n",
              "4              0              0              0              0              0   \n",
              "\n",
              "   addr_state_NV  addr_state_NY  addr_state_OH  addr_state_OK  addr_state_OR  \\\n",
              "0              0              0              0              0              0   \n",
              "1              0              0              0              0              0   \n",
              "2              0              0              0              0              0   \n",
              "3              0              0              0              0              0   \n",
              "4              0              0              0              0              1   \n",
              "\n",
              "   addr_state_PA  addr_state_RI  addr_state_SC  addr_state_SD  addr_state_TN  \\\n",
              "0              0              0              0              0              0   \n",
              "1              0              0              0              0              0   \n",
              "2              0              0              0              0              0   \n",
              "3              0              0              0              0              0   \n",
              "4              0              0              0              0              0   \n",
              "\n",
              "   addr_state_TX  addr_state_UT  addr_state_VA  addr_state_VT  addr_state_WA  \\\n",
              "0              0              0              0              0              0   \n",
              "1              0              0              0              0              0   \n",
              "2              0              0              0              0              0   \n",
              "3              0              0              0              0              0   \n",
              "4              0              0              0              0              0   \n",
              "\n",
              "   addr_state_WI  addr_state_WV  addr_state_WY  \n",
              "0              0              0              0  \n",
              "1              0              0              0  \n",
              "2              0              0              0  \n",
              "3              0              0              0  \n",
              "4              0              0              0  "
            ]
          },
          "execution_count": 349,
          "metadata": {},
          "output_type": "execute_result"
        }
      ],
      "source": [
        "onehot.head()"
      ]
    },
    {
      "cell_type": "markdown",
      "id": "deb37d80-a83a-4256-837f-f3e4f66cc148",
      "metadata": {
        "id": "deb37d80-a83a-4256-837f-f3e4f66cc148"
      },
      "source": [
        "### Standardization"
      ]
    },
    {
      "cell_type": "markdown",
      "id": "6d32ab99-ff99-4984-91f2-2c8dba37ac47",
      "metadata": {
        "id": "6d32ab99-ff99-4984-91f2-2c8dba37ac47"
      },
      "source": [
        "Semua kolom numerikal dilakukan proses standarisasi dengan StandardScaler."
      ]
    },
    {
      "cell_type": "code",
      "execution_count": 350,
      "id": "e46550bb-77e4-49dd-b995-4d3c8cd9bd00",
      "metadata": {
        "id": "e46550bb-77e4-49dd-b995-4d3c8cd9bd00"
      },
      "outputs": [],
      "source": [
        "numerical_cols = [col for col in data.columns.tolist() if col not in categorical_cols + ['bad_flag']]"
      ]
    },
    {
      "cell_type": "code",
      "execution_count": 351,
      "id": "795b4222-6018-41c3-a655-f9fa130228c5",
      "metadata": {
        "id": "795b4222-6018-41c3-a655-f9fa130228c5"
      },
      "outputs": [],
      "source": [
        "from sklearn.preprocessing import StandardScaler\n",
        "\n",
        "ss = StandardScaler()\n",
        "std = pd.DataFrame(ss.fit_transform(data[numerical_cols]), columns=numerical_cols)"
      ]
    },
    {
      "cell_type": "code",
      "execution_count": 352,
      "id": "vXD36AASgWb4",
      "metadata": {
        "id": "vXD36AASgWb4"
      },
      "outputs": [
        {
          "data": {
            "text/html": [
              "<div>\n",
              "<style scoped>\n",
              "    .dataframe tbody tr th:only-of-type {\n",
              "        vertical-align: middle;\n",
              "    }\n",
              "\n",
              "    .dataframe tbody tr th {\n",
              "        vertical-align: top;\n",
              "    }\n",
              "\n",
              "    .dataframe thead th {\n",
              "        text-align: right;\n",
              "    }\n",
              "</style>\n",
              "<table border=\"1\" class=\"dataframe\">\n",
              "  <thead>\n",
              "    <tr style=\"text-align: right;\">\n",
              "      <th></th>\n",
              "      <th>loan_amnt</th>\n",
              "      <th>int_rate</th>\n",
              "      <th>grade</th>\n",
              "      <th>home_ownership</th>\n",
              "      <th>annual_inc</th>\n",
              "      <th>verification_status</th>\n",
              "      <th>purpose</th>\n",
              "      <th>addr_state</th>\n",
              "      <th>dti</th>\n",
              "      <th>delinq_2yrs</th>\n",
              "      <th>inq_last_6mths</th>\n",
              "      <th>mths_since_last_delinq</th>\n",
              "      <th>open_acc</th>\n",
              "      <th>pub_rec</th>\n",
              "      <th>revol_bal</th>\n",
              "      <th>revol_util</th>\n",
              "      <th>total_acc</th>\n",
              "      <th>out_prncp</th>\n",
              "      <th>total_rec_late_fee</th>\n",
              "      <th>recoveries</th>\n",
              "      <th>collections_12_mths_ex_med</th>\n",
              "      <th>acc_now_delinq</th>\n",
              "      <th>tot_coll_amt</th>\n",
              "      <th>tot_cur_bal</th>\n",
              "      <th>bad_flag</th>\n",
              "      <th>emp_length_int</th>\n",
              "      <th>term_int</th>\n",
              "      <th>mths_since_earliest_cr_line</th>\n",
              "      <th>mths_since_issue_d</th>\n",
              "    </tr>\n",
              "  </thead>\n",
              "  <tbody>\n",
              "    <tr>\n",
              "      <th>0</th>\n",
              "      <td>5000</td>\n",
              "      <td>10.65</td>\n",
              "      <td>B</td>\n",
              "      <td>RENT</td>\n",
              "      <td>24000.0</td>\n",
              "      <td>Verified</td>\n",
              "      <td>credit_card</td>\n",
              "      <td>AZ</td>\n",
              "      <td>27.65</td>\n",
              "      <td>0.0</td>\n",
              "      <td>1.0</td>\n",
              "      <td>-1.0</td>\n",
              "      <td>3.0</td>\n",
              "      <td>0.0</td>\n",
              "      <td>13648</td>\n",
              "      <td>83.7</td>\n",
              "      <td>9.0</td>\n",
              "      <td>0.00</td>\n",
              "      <td>0.00</td>\n",
              "      <td>0.00</td>\n",
              "      <td>0.0</td>\n",
              "      <td>0.0</td>\n",
              "      <td>0.0</td>\n",
              "      <td>0.0</td>\n",
              "      <td>0</td>\n",
              "      <td>10.0</td>\n",
              "      <td>36.0</td>\n",
              "      <td>395.0</td>\n",
              "      <td>72.0</td>\n",
              "    </tr>\n",
              "    <tr>\n",
              "      <th>1</th>\n",
              "      <td>2500</td>\n",
              "      <td>15.27</td>\n",
              "      <td>C</td>\n",
              "      <td>RENT</td>\n",
              "      <td>30000.0</td>\n",
              "      <td>Source Verified</td>\n",
              "      <td>car</td>\n",
              "      <td>GA</td>\n",
              "      <td>1.00</td>\n",
              "      <td>0.0</td>\n",
              "      <td>5.0</td>\n",
              "      <td>-1.0</td>\n",
              "      <td>3.0</td>\n",
              "      <td>0.0</td>\n",
              "      <td>1687</td>\n",
              "      <td>9.4</td>\n",
              "      <td>4.0</td>\n",
              "      <td>0.00</td>\n",
              "      <td>0.00</td>\n",
              "      <td>117.08</td>\n",
              "      <td>0.0</td>\n",
              "      <td>0.0</td>\n",
              "      <td>0.0</td>\n",
              "      <td>0.0</td>\n",
              "      <td>1</td>\n",
              "      <td>0.0</td>\n",
              "      <td>60.0</td>\n",
              "      <td>224.0</td>\n",
              "      <td>72.0</td>\n",
              "    </tr>\n",
              "    <tr>\n",
              "      <th>2</th>\n",
              "      <td>2400</td>\n",
              "      <td>15.96</td>\n",
              "      <td>C</td>\n",
              "      <td>RENT</td>\n",
              "      <td>12252.0</td>\n",
              "      <td>Not Verified</td>\n",
              "      <td>small_business</td>\n",
              "      <td>IL</td>\n",
              "      <td>8.72</td>\n",
              "      <td>0.0</td>\n",
              "      <td>2.0</td>\n",
              "      <td>-1.0</td>\n",
              "      <td>2.0</td>\n",
              "      <td>0.0</td>\n",
              "      <td>2956</td>\n",
              "      <td>98.5</td>\n",
              "      <td>10.0</td>\n",
              "      <td>0.00</td>\n",
              "      <td>0.00</td>\n",
              "      <td>0.00</td>\n",
              "      <td>0.0</td>\n",
              "      <td>0.0</td>\n",
              "      <td>0.0</td>\n",
              "      <td>0.0</td>\n",
              "      <td>0</td>\n",
              "      <td>10.0</td>\n",
              "      <td>36.0</td>\n",
              "      <td>193.0</td>\n",
              "      <td>72.0</td>\n",
              "    </tr>\n",
              "    <tr>\n",
              "      <th>3</th>\n",
              "      <td>10000</td>\n",
              "      <td>13.49</td>\n",
              "      <td>C</td>\n",
              "      <td>RENT</td>\n",
              "      <td>49200.0</td>\n",
              "      <td>Source Verified</td>\n",
              "      <td>other</td>\n",
              "      <td>CA</td>\n",
              "      <td>20.00</td>\n",
              "      <td>0.0</td>\n",
              "      <td>1.0</td>\n",
              "      <td>35.0</td>\n",
              "      <td>10.0</td>\n",
              "      <td>0.0</td>\n",
              "      <td>5598</td>\n",
              "      <td>21.0</td>\n",
              "      <td>37.0</td>\n",
              "      <td>0.00</td>\n",
              "      <td>16.97</td>\n",
              "      <td>0.00</td>\n",
              "      <td>0.0</td>\n",
              "      <td>0.0</td>\n",
              "      <td>0.0</td>\n",
              "      <td>0.0</td>\n",
              "      <td>0</td>\n",
              "      <td>10.0</td>\n",
              "      <td>36.0</td>\n",
              "      <td>262.0</td>\n",
              "      <td>72.0</td>\n",
              "    </tr>\n",
              "    <tr>\n",
              "      <th>4</th>\n",
              "      <td>3000</td>\n",
              "      <td>12.69</td>\n",
              "      <td>B</td>\n",
              "      <td>RENT</td>\n",
              "      <td>80000.0</td>\n",
              "      <td>Source Verified</td>\n",
              "      <td>other</td>\n",
              "      <td>OR</td>\n",
              "      <td>17.94</td>\n",
              "      <td>0.0</td>\n",
              "      <td>0.0</td>\n",
              "      <td>38.0</td>\n",
              "      <td>15.0</td>\n",
              "      <td>0.0</td>\n",
              "      <td>27783</td>\n",
              "      <td>53.9</td>\n",
              "      <td>38.0</td>\n",
              "      <td>766.90</td>\n",
              "      <td>0.00</td>\n",
              "      <td>0.00</td>\n",
              "      <td>0.0</td>\n",
              "      <td>0.0</td>\n",
              "      <td>0.0</td>\n",
              "      <td>0.0</td>\n",
              "      <td>0</td>\n",
              "      <td>1.0</td>\n",
              "      <td>60.0</td>\n",
              "      <td>263.0</td>\n",
              "      <td>72.0</td>\n",
              "    </tr>\n",
              "    <tr>\n",
              "      <th>...</th>\n",
              "      <td>...</td>\n",
              "      <td>...</td>\n",
              "      <td>...</td>\n",
              "      <td>...</td>\n",
              "      <td>...</td>\n",
              "      <td>...</td>\n",
              "      <td>...</td>\n",
              "      <td>...</td>\n",
              "      <td>...</td>\n",
              "      <td>...</td>\n",
              "      <td>...</td>\n",
              "      <td>...</td>\n",
              "      <td>...</td>\n",
              "      <td>...</td>\n",
              "      <td>...</td>\n",
              "      <td>...</td>\n",
              "      <td>...</td>\n",
              "      <td>...</td>\n",
              "      <td>...</td>\n",
              "      <td>...</td>\n",
              "      <td>...</td>\n",
              "      <td>...</td>\n",
              "      <td>...</td>\n",
              "      <td>...</td>\n",
              "      <td>...</td>\n",
              "      <td>...</td>\n",
              "      <td>...</td>\n",
              "      <td>...</td>\n",
              "      <td>...</td>\n",
              "    </tr>\n",
              "    <tr>\n",
              "      <th>466280</th>\n",
              "      <td>18400</td>\n",
              "      <td>14.47</td>\n",
              "      <td>C</td>\n",
              "      <td>MORTGAGE</td>\n",
              "      <td>110000.0</td>\n",
              "      <td>Source Verified</td>\n",
              "      <td>debt_consolidation</td>\n",
              "      <td>TX</td>\n",
              "      <td>19.85</td>\n",
              "      <td>0.0</td>\n",
              "      <td>2.0</td>\n",
              "      <td>-1.0</td>\n",
              "      <td>18.0</td>\n",
              "      <td>0.0</td>\n",
              "      <td>23208</td>\n",
              "      <td>77.6</td>\n",
              "      <td>36.0</td>\n",
              "      <td>12574.00</td>\n",
              "      <td>0.00</td>\n",
              "      <td>0.00</td>\n",
              "      <td>0.0</td>\n",
              "      <td>0.0</td>\n",
              "      <td>0.0</td>\n",
              "      <td>294998.0</td>\n",
              "      <td>0</td>\n",
              "      <td>4.0</td>\n",
              "      <td>60.0</td>\n",
              "      <td>176.0</td>\n",
              "      <td>47.0</td>\n",
              "    </tr>\n",
              "    <tr>\n",
              "      <th>466281</th>\n",
              "      <td>22000</td>\n",
              "      <td>19.97</td>\n",
              "      <td>D</td>\n",
              "      <td>MORTGAGE</td>\n",
              "      <td>78000.0</td>\n",
              "      <td>Verified</td>\n",
              "      <td>debt_consolidation</td>\n",
              "      <td>TN</td>\n",
              "      <td>18.45</td>\n",
              "      <td>0.0</td>\n",
              "      <td>5.0</td>\n",
              "      <td>-1.0</td>\n",
              "      <td>18.0</td>\n",
              "      <td>1.0</td>\n",
              "      <td>18238</td>\n",
              "      <td>46.3</td>\n",
              "      <td>30.0</td>\n",
              "      <td>0.00</td>\n",
              "      <td>0.00</td>\n",
              "      <td>0.00</td>\n",
              "      <td>0.0</td>\n",
              "      <td>0.0</td>\n",
              "      <td>0.0</td>\n",
              "      <td>221830.0</td>\n",
              "      <td>1</td>\n",
              "      <td>10.0</td>\n",
              "      <td>60.0</td>\n",
              "      <td>246.0</td>\n",
              "      <td>47.0</td>\n",
              "    </tr>\n",
              "    <tr>\n",
              "      <th>466282</th>\n",
              "      <td>20700</td>\n",
              "      <td>16.99</td>\n",
              "      <td>D</td>\n",
              "      <td>MORTGAGE</td>\n",
              "      <td>46000.0</td>\n",
              "      <td>Verified</td>\n",
              "      <td>debt_consolidation</td>\n",
              "      <td>OH</td>\n",
              "      <td>25.65</td>\n",
              "      <td>0.0</td>\n",
              "      <td>2.0</td>\n",
              "      <td>65.0</td>\n",
              "      <td>18.0</td>\n",
              "      <td>0.0</td>\n",
              "      <td>6688</td>\n",
              "      <td>51.1</td>\n",
              "      <td>43.0</td>\n",
              "      <td>14428.31</td>\n",
              "      <td>0.00</td>\n",
              "      <td>0.00</td>\n",
              "      <td>0.0</td>\n",
              "      <td>0.0</td>\n",
              "      <td>0.0</td>\n",
              "      <td>73598.0</td>\n",
              "      <td>0</td>\n",
              "      <td>7.0</td>\n",
              "      <td>60.0</td>\n",
              "      <td>192.0</td>\n",
              "      <td>47.0</td>\n",
              "    </tr>\n",
              "    <tr>\n",
              "      <th>466283</th>\n",
              "      <td>2000</td>\n",
              "      <td>7.90</td>\n",
              "      <td>A</td>\n",
              "      <td>OWN</td>\n",
              "      <td>83000.0</td>\n",
              "      <td>Verified</td>\n",
              "      <td>credit_card</td>\n",
              "      <td>CA</td>\n",
              "      <td>5.39</td>\n",
              "      <td>3.0</td>\n",
              "      <td>1.0</td>\n",
              "      <td>13.0</td>\n",
              "      <td>21.0</td>\n",
              "      <td>0.0</td>\n",
              "      <td>11404</td>\n",
              "      <td>21.5</td>\n",
              "      <td>27.0</td>\n",
              "      <td>0.00</td>\n",
              "      <td>0.00</td>\n",
              "      <td>0.00</td>\n",
              "      <td>0.0</td>\n",
              "      <td>0.0</td>\n",
              "      <td>0.0</td>\n",
              "      <td>591610.0</td>\n",
              "      <td>0</td>\n",
              "      <td>3.0</td>\n",
              "      <td>36.0</td>\n",
              "      <td>178.0</td>\n",
              "      <td>47.0</td>\n",
              "    </tr>\n",
              "    <tr>\n",
              "      <th>466284</th>\n",
              "      <td>10000</td>\n",
              "      <td>19.20</td>\n",
              "      <td>D</td>\n",
              "      <td>MORTGAGE</td>\n",
              "      <td>46000.0</td>\n",
              "      <td>Verified</td>\n",
              "      <td>other</td>\n",
              "      <td>CA</td>\n",
              "      <td>22.78</td>\n",
              "      <td>1.0</td>\n",
              "      <td>0.0</td>\n",
              "      <td>9.0</td>\n",
              "      <td>6.0</td>\n",
              "      <td>0.0</td>\n",
              "      <td>11325</td>\n",
              "      <td>70.8</td>\n",
              "      <td>22.0</td>\n",
              "      <td>3984.38</td>\n",
              "      <td>0.00</td>\n",
              "      <td>0.00</td>\n",
              "      <td>0.0</td>\n",
              "      <td>0.0</td>\n",
              "      <td>0.0</td>\n",
              "      <td>57477.0</td>\n",
              "      <td>0</td>\n",
              "      <td>10.0</td>\n",
              "      <td>36.0</td>\n",
              "      <td>214.0</td>\n",
              "      <td>47.0</td>\n",
              "    </tr>\n",
              "  </tbody>\n",
              "</table>\n",
              "<p>466285 rows × 29 columns</p>\n",
              "</div>"
            ],
            "text/plain": [
              "        loan_amnt  int_rate grade home_ownership  annual_inc  \\\n",
              "0            5000     10.65     B           RENT     24000.0   \n",
              "1            2500     15.27     C           RENT     30000.0   \n",
              "2            2400     15.96     C           RENT     12252.0   \n",
              "3           10000     13.49     C           RENT     49200.0   \n",
              "4            3000     12.69     B           RENT     80000.0   \n",
              "...           ...       ...   ...            ...         ...   \n",
              "466280      18400     14.47     C       MORTGAGE    110000.0   \n",
              "466281      22000     19.97     D       MORTGAGE     78000.0   \n",
              "466282      20700     16.99     D       MORTGAGE     46000.0   \n",
              "466283       2000      7.90     A            OWN     83000.0   \n",
              "466284      10000     19.20     D       MORTGAGE     46000.0   \n",
              "\n",
              "       verification_status             purpose addr_state    dti  delinq_2yrs  \\\n",
              "0                 Verified         credit_card         AZ  27.65          0.0   \n",
              "1          Source Verified                 car         GA   1.00          0.0   \n",
              "2             Not Verified      small_business         IL   8.72          0.0   \n",
              "3          Source Verified               other         CA  20.00          0.0   \n",
              "4          Source Verified               other         OR  17.94          0.0   \n",
              "...                    ...                 ...        ...    ...          ...   \n",
              "466280     Source Verified  debt_consolidation         TX  19.85          0.0   \n",
              "466281            Verified  debt_consolidation         TN  18.45          0.0   \n",
              "466282            Verified  debt_consolidation         OH  25.65          0.0   \n",
              "466283            Verified         credit_card         CA   5.39          3.0   \n",
              "466284            Verified               other         CA  22.78          1.0   \n",
              "\n",
              "        inq_last_6mths  mths_since_last_delinq  open_acc  pub_rec  revol_bal  \\\n",
              "0                  1.0                    -1.0       3.0      0.0      13648   \n",
              "1                  5.0                    -1.0       3.0      0.0       1687   \n",
              "2                  2.0                    -1.0       2.0      0.0       2956   \n",
              "3                  1.0                    35.0      10.0      0.0       5598   \n",
              "4                  0.0                    38.0      15.0      0.0      27783   \n",
              "...                ...                     ...       ...      ...        ...   \n",
              "466280             2.0                    -1.0      18.0      0.0      23208   \n",
              "466281             5.0                    -1.0      18.0      1.0      18238   \n",
              "466282             2.0                    65.0      18.0      0.0       6688   \n",
              "466283             1.0                    13.0      21.0      0.0      11404   \n",
              "466284             0.0                     9.0       6.0      0.0      11325   \n",
              "\n",
              "        revol_util  total_acc  out_prncp  total_rec_late_fee  recoveries  \\\n",
              "0             83.7        9.0       0.00                0.00        0.00   \n",
              "1              9.4        4.0       0.00                0.00      117.08   \n",
              "2             98.5       10.0       0.00                0.00        0.00   \n",
              "3             21.0       37.0       0.00               16.97        0.00   \n",
              "4             53.9       38.0     766.90                0.00        0.00   \n",
              "...            ...        ...        ...                 ...         ...   \n",
              "466280        77.6       36.0   12574.00                0.00        0.00   \n",
              "466281        46.3       30.0       0.00                0.00        0.00   \n",
              "466282        51.1       43.0   14428.31                0.00        0.00   \n",
              "466283        21.5       27.0       0.00                0.00        0.00   \n",
              "466284        70.8       22.0    3984.38                0.00        0.00   \n",
              "\n",
              "        collections_12_mths_ex_med  acc_now_delinq  tot_coll_amt  tot_cur_bal  \\\n",
              "0                              0.0             0.0           0.0          0.0   \n",
              "1                              0.0             0.0           0.0          0.0   \n",
              "2                              0.0             0.0           0.0          0.0   \n",
              "3                              0.0             0.0           0.0          0.0   \n",
              "4                              0.0             0.0           0.0          0.0   \n",
              "...                            ...             ...           ...          ...   \n",
              "466280                         0.0             0.0           0.0     294998.0   \n",
              "466281                         0.0             0.0           0.0     221830.0   \n",
              "466282                         0.0             0.0           0.0      73598.0   \n",
              "466283                         0.0             0.0           0.0     591610.0   \n",
              "466284                         0.0             0.0           0.0      57477.0   \n",
              "\n",
              "        bad_flag  emp_length_int  term_int  mths_since_earliest_cr_line  \\\n",
              "0              0            10.0      36.0                        395.0   \n",
              "1              1             0.0      60.0                        224.0   \n",
              "2              0            10.0      36.0                        193.0   \n",
              "3              0            10.0      36.0                        262.0   \n",
              "4              0             1.0      60.0                        263.0   \n",
              "...          ...             ...       ...                          ...   \n",
              "466280         0             4.0      60.0                        176.0   \n",
              "466281         1            10.0      60.0                        246.0   \n",
              "466282         0             7.0      60.0                        192.0   \n",
              "466283         0             3.0      36.0                        178.0   \n",
              "466284         0            10.0      36.0                        214.0   \n",
              "\n",
              "        mths_since_issue_d  \n",
              "0                     72.0  \n",
              "1                     72.0  \n",
              "2                     72.0  \n",
              "3                     72.0  \n",
              "4                     72.0  \n",
              "...                    ...  \n",
              "466280                47.0  \n",
              "466281                47.0  \n",
              "466282                47.0  \n",
              "466283                47.0  \n",
              "466284                47.0  \n",
              "\n",
              "[466285 rows x 29 columns]"
            ]
          },
          "execution_count": 352,
          "metadata": {},
          "output_type": "execute_result"
        }
      ],
      "source": [
        "data"
      ]
    },
    {
      "cell_type": "code",
      "execution_count": 353,
      "id": "3d5fd301-e010-42ed-bb7e-5c85165251a2",
      "metadata": {
        "id": "3d5fd301-e010-42ed-bb7e-5c85165251a2"
      },
      "outputs": [
        {
          "data": {
            "text/html": [
              "<div>\n",
              "<style scoped>\n",
              "    .dataframe tbody tr th:only-of-type {\n",
              "        vertical-align: middle;\n",
              "    }\n",
              "\n",
              "    .dataframe tbody tr th {\n",
              "        vertical-align: top;\n",
              "    }\n",
              "\n",
              "    .dataframe thead th {\n",
              "        text-align: right;\n",
              "    }\n",
              "</style>\n",
              "<table border=\"1\" class=\"dataframe\">\n",
              "  <thead>\n",
              "    <tr style=\"text-align: right;\">\n",
              "      <th></th>\n",
              "      <th>loan_amnt</th>\n",
              "      <th>int_rate</th>\n",
              "      <th>annual_inc</th>\n",
              "      <th>dti</th>\n",
              "      <th>delinq_2yrs</th>\n",
              "      <th>inq_last_6mths</th>\n",
              "      <th>mths_since_last_delinq</th>\n",
              "      <th>open_acc</th>\n",
              "      <th>pub_rec</th>\n",
              "      <th>revol_bal</th>\n",
              "      <th>revol_util</th>\n",
              "      <th>total_acc</th>\n",
              "      <th>out_prncp</th>\n",
              "      <th>total_rec_late_fee</th>\n",
              "      <th>recoveries</th>\n",
              "      <th>collections_12_mths_ex_med</th>\n",
              "      <th>acc_now_delinq</th>\n",
              "      <th>tot_coll_amt</th>\n",
              "      <th>tot_cur_bal</th>\n",
              "      <th>emp_length_int</th>\n",
              "      <th>term_int</th>\n",
              "      <th>mths_since_earliest_cr_line</th>\n",
              "      <th>mths_since_issue_d</th>\n",
              "    </tr>\n",
              "  </thead>\n",
              "  <tbody>\n",
              "    <tr>\n",
              "      <th>0</th>\n",
              "      <td>-1.124392</td>\n",
              "      <td>-0.729587</td>\n",
              "      <td>-0.896551</td>\n",
              "      <td>1.328632</td>\n",
              "      <td>-0.357012</td>\n",
              "      <td>0.178920</td>\n",
              "      <td>-0.708792</td>\n",
              "      <td>-1.641166</td>\n",
              "      <td>-0.31429</td>\n",
              "      <td>-0.124888</td>\n",
              "      <td>1.159498</td>\n",
              "      <td>-1.384557</td>\n",
              "      <td>-0.693944</td>\n",
              "      <td>-0.123464</td>\n",
              "      <td>-0.154549</td>\n",
              "      <td>-0.083608</td>\n",
              "      <td>-0.058307</td>\n",
              "      <td>-0.012089</td>\n",
              "      <td>-0.792648</td>\n",
              "      <td>1.138605</td>\n",
              "      <td>-0.616225</td>\n",
              "      <td>1.764941</td>\n",
              "      <td>1.446626</td>\n",
              "    </tr>\n",
              "    <tr>\n",
              "      <th>1</th>\n",
              "      <td>-1.426088</td>\n",
              "      <td>0.330634</td>\n",
              "      <td>-0.787387</td>\n",
              "      <td>-2.065791</td>\n",
              "      <td>-0.357012</td>\n",
              "      <td>3.843328</td>\n",
              "      <td>-0.708792</td>\n",
              "      <td>-1.641166</td>\n",
              "      <td>-0.31429</td>\n",
              "      <td>-0.703378</td>\n",
              "      <td>-1.965980</td>\n",
              "      <td>-1.815538</td>\n",
              "      <td>-0.693944</td>\n",
              "      <td>-0.123464</td>\n",
              "      <td>0.057470</td>\n",
              "      <td>-0.083608</td>\n",
              "      <td>-0.058307</td>\n",
              "      <td>-0.012089</td>\n",
              "      <td>-0.792648</td>\n",
              "      <td>-1.523744</td>\n",
              "      <td>1.622784</td>\n",
              "      <td>-0.212426</td>\n",
              "      <td>1.446626</td>\n",
              "    </tr>\n",
              "    <tr>\n",
              "      <th>2</th>\n",
              "      <td>-1.438156</td>\n",
              "      <td>0.488979</td>\n",
              "      <td>-1.110294</td>\n",
              "      <td>-1.082491</td>\n",
              "      <td>-0.357012</td>\n",
              "      <td>1.095022</td>\n",
              "      <td>-0.708792</td>\n",
              "      <td>-1.841641</td>\n",
              "      <td>-0.31429</td>\n",
              "      <td>-0.642003</td>\n",
              "      <td>1.782070</td>\n",
              "      <td>-1.298361</td>\n",
              "      <td>-0.693944</td>\n",
              "      <td>-0.123464</td>\n",
              "      <td>-0.154549</td>\n",
              "      <td>-0.083608</td>\n",
              "      <td>-0.058307</td>\n",
              "      <td>-0.012089</td>\n",
              "      <td>-0.792648</td>\n",
              "      <td>1.138605</td>\n",
              "      <td>-0.616225</td>\n",
              "      <td>-0.570896</td>\n",
              "      <td>1.446626</td>\n",
              "    </tr>\n",
              "    <tr>\n",
              "      <th>3</th>\n",
              "      <td>-0.521001</td>\n",
              "      <td>-0.077850</td>\n",
              "      <td>-0.438063</td>\n",
              "      <td>0.354248</td>\n",
              "      <td>-0.357012</td>\n",
              "      <td>0.178920</td>\n",
              "      <td>0.860811</td>\n",
              "      <td>-0.237839</td>\n",
              "      <td>-0.31429</td>\n",
              "      <td>-0.514224</td>\n",
              "      <td>-1.478018</td>\n",
              "      <td>1.028934</td>\n",
              "      <td>-0.693944</td>\n",
              "      <td>3.099264</td>\n",
              "      <td>-0.154549</td>\n",
              "      <td>-0.083608</td>\n",
              "      <td>-0.058307</td>\n",
              "      <td>-0.012089</td>\n",
              "      <td>-0.792648</td>\n",
              "      <td>1.138605</td>\n",
              "      <td>-0.616225</td>\n",
              "      <td>0.226989</td>\n",
              "      <td>1.446626</td>\n",
              "    </tr>\n",
              "    <tr>\n",
              "      <th>4</th>\n",
              "      <td>-1.365749</td>\n",
              "      <td>-0.261438</td>\n",
              "      <td>0.122311</td>\n",
              "      <td>0.091865</td>\n",
              "      <td>-0.357012</td>\n",
              "      <td>-0.737182</td>\n",
              "      <td>0.991612</td>\n",
              "      <td>0.764538</td>\n",
              "      <td>-0.31429</td>\n",
              "      <td>0.558748</td>\n",
              "      <td>-0.094058</td>\n",
              "      <td>1.115130</td>\n",
              "      <td>-0.573268</td>\n",
              "      <td>-0.123464</td>\n",
              "      <td>-0.154549</td>\n",
              "      <td>-0.083608</td>\n",
              "      <td>-0.058307</td>\n",
              "      <td>-0.012089</td>\n",
              "      <td>-0.792648</td>\n",
              "      <td>-1.257509</td>\n",
              "      <td>1.622784</td>\n",
              "      <td>0.238553</td>\n",
              "      <td>1.446626</td>\n",
              "    </tr>\n",
              "  </tbody>\n",
              "</table>\n",
              "</div>"
            ],
            "text/plain": [
              "   loan_amnt  int_rate  annual_inc       dti  delinq_2yrs  inq_last_6mths  \\\n",
              "0  -1.124392 -0.729587   -0.896551  1.328632    -0.357012        0.178920   \n",
              "1  -1.426088  0.330634   -0.787387 -2.065791    -0.357012        3.843328   \n",
              "2  -1.438156  0.488979   -1.110294 -1.082491    -0.357012        1.095022   \n",
              "3  -0.521001 -0.077850   -0.438063  0.354248    -0.357012        0.178920   \n",
              "4  -1.365749 -0.261438    0.122311  0.091865    -0.357012       -0.737182   \n",
              "\n",
              "   mths_since_last_delinq  open_acc  pub_rec  revol_bal  revol_util  \\\n",
              "0               -0.708792 -1.641166 -0.31429  -0.124888    1.159498   \n",
              "1               -0.708792 -1.641166 -0.31429  -0.703378   -1.965980   \n",
              "2               -0.708792 -1.841641 -0.31429  -0.642003    1.782070   \n",
              "3                0.860811 -0.237839 -0.31429  -0.514224   -1.478018   \n",
              "4                0.991612  0.764538 -0.31429   0.558748   -0.094058   \n",
              "\n",
              "   total_acc  out_prncp  total_rec_late_fee  recoveries  \\\n",
              "0  -1.384557  -0.693944           -0.123464   -0.154549   \n",
              "1  -1.815538  -0.693944           -0.123464    0.057470   \n",
              "2  -1.298361  -0.693944           -0.123464   -0.154549   \n",
              "3   1.028934  -0.693944            3.099264   -0.154549   \n",
              "4   1.115130  -0.573268           -0.123464   -0.154549   \n",
              "\n",
              "   collections_12_mths_ex_med  acc_now_delinq  tot_coll_amt  tot_cur_bal  \\\n",
              "0                   -0.083608       -0.058307     -0.012089    -0.792648   \n",
              "1                   -0.083608       -0.058307     -0.012089    -0.792648   \n",
              "2                   -0.083608       -0.058307     -0.012089    -0.792648   \n",
              "3                   -0.083608       -0.058307     -0.012089    -0.792648   \n",
              "4                   -0.083608       -0.058307     -0.012089    -0.792648   \n",
              "\n",
              "   emp_length_int  term_int  mths_since_earliest_cr_line  mths_since_issue_d  \n",
              "0        1.138605 -0.616225                     1.764941            1.446626  \n",
              "1       -1.523744  1.622784                    -0.212426            1.446626  \n",
              "2        1.138605 -0.616225                    -0.570896            1.446626  \n",
              "3        1.138605 -0.616225                     0.226989            1.446626  \n",
              "4       -1.257509  1.622784                     0.238553            1.446626  "
            ]
          },
          "execution_count": 353,
          "metadata": {},
          "output_type": "execute_result"
        }
      ],
      "source": [
        "std.head()"
      ]
    },
    {
      "cell_type": "markdown",
      "id": "fe95f2f6-6372-46bf-8b8b-58f9ef3f823b",
      "metadata": {
        "id": "fe95f2f6-6372-46bf-8b8b-58f9ef3f823b"
      },
      "source": [
        "### Transformed Dataframe"
      ]
    },
    {
      "cell_type": "markdown",
      "id": "379b69f2-ab72-460d-a566-f4fbd88d697f",
      "metadata": {
        "id": "379b69f2-ab72-460d-a566-f4fbd88d697f"
      },
      "source": [
        "Menggabungkan kembali kolom-kolom hasil transformasi "
      ]
    },
    {
      "cell_type": "code",
      "execution_count": 354,
      "id": "fc2ace56-2789-4a19-9a70-bdb72ee3d680",
      "metadata": {
        "id": "fc2ace56-2789-4a19-9a70-bdb72ee3d680"
      },
      "outputs": [],
      "source": [
        "data_model = pd.concat([onehot, std, data[['bad_flag']]], axis=1)"
      ]
    },
    {
      "cell_type": "code",
      "execution_count": 355,
      "id": "9e04804a",
      "metadata": {},
      "outputs": [
        {
          "data": {
            "text/html": [
              "<div>\n",
              "<style scoped>\n",
              "    .dataframe tbody tr th:only-of-type {\n",
              "        vertical-align: middle;\n",
              "    }\n",
              "\n",
              "    .dataframe tbody tr th {\n",
              "        vertical-align: top;\n",
              "    }\n",
              "\n",
              "    .dataframe thead th {\n",
              "        text-align: right;\n",
              "    }\n",
              "</style>\n",
              "<table border=\"1\" class=\"dataframe\">\n",
              "  <thead>\n",
              "    <tr style=\"text-align: right;\">\n",
              "      <th></th>\n",
              "      <th>grade_B</th>\n",
              "      <th>grade_C</th>\n",
              "      <th>grade_D</th>\n",
              "      <th>grade_E</th>\n",
              "      <th>grade_F</th>\n",
              "      <th>grade_G</th>\n",
              "      <th>home_ownership_NONE</th>\n",
              "      <th>home_ownership_OTHER</th>\n",
              "      <th>home_ownership_OWN</th>\n",
              "      <th>home_ownership_RENT</th>\n",
              "      <th>verification_status_Source Verified</th>\n",
              "      <th>verification_status_Verified</th>\n",
              "      <th>purpose_credit_card</th>\n",
              "      <th>purpose_debt_consolidation</th>\n",
              "      <th>purpose_educational</th>\n",
              "      <th>purpose_home_improvement</th>\n",
              "      <th>purpose_house</th>\n",
              "      <th>purpose_major_purchase</th>\n",
              "      <th>purpose_medical</th>\n",
              "      <th>purpose_moving</th>\n",
              "      <th>purpose_other</th>\n",
              "      <th>purpose_renewable_energy</th>\n",
              "      <th>purpose_small_business</th>\n",
              "      <th>purpose_vacation</th>\n",
              "      <th>purpose_wedding</th>\n",
              "      <th>addr_state_AL</th>\n",
              "      <th>addr_state_AR</th>\n",
              "      <th>addr_state_AZ</th>\n",
              "      <th>addr_state_CA</th>\n",
              "      <th>addr_state_CO</th>\n",
              "      <th>addr_state_CT</th>\n",
              "      <th>addr_state_DC</th>\n",
              "      <th>addr_state_DE</th>\n",
              "      <th>addr_state_FL</th>\n",
              "      <th>addr_state_GA</th>\n",
              "      <th>addr_state_HI</th>\n",
              "      <th>addr_state_IA</th>\n",
              "      <th>addr_state_ID</th>\n",
              "      <th>addr_state_IL</th>\n",
              "      <th>addr_state_IN</th>\n",
              "      <th>addr_state_KS</th>\n",
              "      <th>addr_state_KY</th>\n",
              "      <th>addr_state_LA</th>\n",
              "      <th>addr_state_MA</th>\n",
              "      <th>addr_state_MD</th>\n",
              "      <th>addr_state_ME</th>\n",
              "      <th>addr_state_MI</th>\n",
              "      <th>addr_state_MN</th>\n",
              "      <th>addr_state_MO</th>\n",
              "      <th>addr_state_MS</th>\n",
              "      <th>addr_state_MT</th>\n",
              "      <th>addr_state_NC</th>\n",
              "      <th>addr_state_NE</th>\n",
              "      <th>addr_state_NH</th>\n",
              "      <th>addr_state_NJ</th>\n",
              "      <th>addr_state_NM</th>\n",
              "      <th>addr_state_NV</th>\n",
              "      <th>addr_state_NY</th>\n",
              "      <th>addr_state_OH</th>\n",
              "      <th>addr_state_OK</th>\n",
              "      <th>addr_state_OR</th>\n",
              "      <th>addr_state_PA</th>\n",
              "      <th>addr_state_RI</th>\n",
              "      <th>addr_state_SC</th>\n",
              "      <th>addr_state_SD</th>\n",
              "      <th>addr_state_TN</th>\n",
              "      <th>addr_state_TX</th>\n",
              "      <th>addr_state_UT</th>\n",
              "      <th>addr_state_VA</th>\n",
              "      <th>addr_state_VT</th>\n",
              "      <th>addr_state_WA</th>\n",
              "      <th>addr_state_WI</th>\n",
              "      <th>addr_state_WV</th>\n",
              "      <th>addr_state_WY</th>\n",
              "      <th>loan_amnt</th>\n",
              "      <th>int_rate</th>\n",
              "      <th>annual_inc</th>\n",
              "      <th>dti</th>\n",
              "      <th>delinq_2yrs</th>\n",
              "      <th>inq_last_6mths</th>\n",
              "      <th>mths_since_last_delinq</th>\n",
              "      <th>open_acc</th>\n",
              "      <th>pub_rec</th>\n",
              "      <th>revol_bal</th>\n",
              "      <th>revol_util</th>\n",
              "      <th>total_acc</th>\n",
              "      <th>out_prncp</th>\n",
              "      <th>total_rec_late_fee</th>\n",
              "      <th>recoveries</th>\n",
              "      <th>collections_12_mths_ex_med</th>\n",
              "      <th>acc_now_delinq</th>\n",
              "      <th>tot_coll_amt</th>\n",
              "      <th>tot_cur_bal</th>\n",
              "      <th>emp_length_int</th>\n",
              "      <th>term_int</th>\n",
              "      <th>mths_since_earliest_cr_line</th>\n",
              "      <th>mths_since_issue_d</th>\n",
              "      <th>bad_flag</th>\n",
              "    </tr>\n",
              "  </thead>\n",
              "  <tbody>\n",
              "    <tr>\n",
              "      <th>262230</th>\n",
              "      <td>0</td>\n",
              "      <td>1</td>\n",
              "      <td>0</td>\n",
              "      <td>0</td>\n",
              "      <td>0</td>\n",
              "      <td>0</td>\n",
              "      <td>0</td>\n",
              "      <td>0</td>\n",
              "      <td>0</td>\n",
              "      <td>1</td>\n",
              "      <td>0</td>\n",
              "      <td>1</td>\n",
              "      <td>0</td>\n",
              "      <td>1</td>\n",
              "      <td>0</td>\n",
              "      <td>0</td>\n",
              "      <td>0</td>\n",
              "      <td>0</td>\n",
              "      <td>0</td>\n",
              "      <td>0</td>\n",
              "      <td>0</td>\n",
              "      <td>0</td>\n",
              "      <td>0</td>\n",
              "      <td>0</td>\n",
              "      <td>0</td>\n",
              "      <td>0</td>\n",
              "      <td>0</td>\n",
              "      <td>0</td>\n",
              "      <td>1</td>\n",
              "      <td>0</td>\n",
              "      <td>0</td>\n",
              "      <td>0</td>\n",
              "      <td>0</td>\n",
              "      <td>0</td>\n",
              "      <td>0</td>\n",
              "      <td>0</td>\n",
              "      <td>0</td>\n",
              "      <td>0</td>\n",
              "      <td>0</td>\n",
              "      <td>0</td>\n",
              "      <td>0</td>\n",
              "      <td>0</td>\n",
              "      <td>0</td>\n",
              "      <td>0</td>\n",
              "      <td>0</td>\n",
              "      <td>0</td>\n",
              "      <td>0</td>\n",
              "      <td>0</td>\n",
              "      <td>0</td>\n",
              "      <td>0</td>\n",
              "      <td>0</td>\n",
              "      <td>0</td>\n",
              "      <td>0</td>\n",
              "      <td>0</td>\n",
              "      <td>0</td>\n",
              "      <td>0</td>\n",
              "      <td>0</td>\n",
              "      <td>0</td>\n",
              "      <td>0</td>\n",
              "      <td>0</td>\n",
              "      <td>0</td>\n",
              "      <td>0</td>\n",
              "      <td>0</td>\n",
              "      <td>0</td>\n",
              "      <td>0</td>\n",
              "      <td>0</td>\n",
              "      <td>0</td>\n",
              "      <td>0</td>\n",
              "      <td>0</td>\n",
              "      <td>0</td>\n",
              "      <td>0</td>\n",
              "      <td>0</td>\n",
              "      <td>0</td>\n",
              "      <td>0</td>\n",
              "      <td>2.495954</td>\n",
              "      <td>-0.038837</td>\n",
              "      <td>0.828783</td>\n",
              "      <td>-0.999700</td>\n",
              "      <td>-0.357012</td>\n",
              "      <td>-0.737182</td>\n",
              "      <td>-0.708792</td>\n",
              "      <td>-1.240215</td>\n",
              "      <td>7.515832</td>\n",
              "      <td>-0.018098</td>\n",
              "      <td>1.024888</td>\n",
              "      <td>-1.384557</td>\n",
              "      <td>2.198722</td>\n",
              "      <td>-0.123464</td>\n",
              "      <td>-0.154549</td>\n",
              "      <td>-0.083608</td>\n",
              "      <td>-0.058307</td>\n",
              "      <td>-0.012089</td>\n",
              "      <td>-0.539844</td>\n",
              "      <td>0.073665</td>\n",
              "      <td>-0.616225</td>\n",
              "      <td>-0.917802</td>\n",
              "      <td>-0.994076</td>\n",
              "      <td>0</td>\n",
              "    </tr>\n",
              "    <tr>\n",
              "      <th>39066</th>\n",
              "      <td>0</td>\n",
              "      <td>1</td>\n",
              "      <td>0</td>\n",
              "      <td>0</td>\n",
              "      <td>0</td>\n",
              "      <td>0</td>\n",
              "      <td>0</td>\n",
              "      <td>0</td>\n",
              "      <td>0</td>\n",
              "      <td>1</td>\n",
              "      <td>0</td>\n",
              "      <td>0</td>\n",
              "      <td>1</td>\n",
              "      <td>0</td>\n",
              "      <td>0</td>\n",
              "      <td>0</td>\n",
              "      <td>0</td>\n",
              "      <td>0</td>\n",
              "      <td>0</td>\n",
              "      <td>0</td>\n",
              "      <td>0</td>\n",
              "      <td>0</td>\n",
              "      <td>0</td>\n",
              "      <td>0</td>\n",
              "      <td>0</td>\n",
              "      <td>0</td>\n",
              "      <td>0</td>\n",
              "      <td>0</td>\n",
              "      <td>0</td>\n",
              "      <td>0</td>\n",
              "      <td>0</td>\n",
              "      <td>0</td>\n",
              "      <td>0</td>\n",
              "      <td>0</td>\n",
              "      <td>0</td>\n",
              "      <td>0</td>\n",
              "      <td>0</td>\n",
              "      <td>0</td>\n",
              "      <td>0</td>\n",
              "      <td>0</td>\n",
              "      <td>0</td>\n",
              "      <td>0</td>\n",
              "      <td>0</td>\n",
              "      <td>0</td>\n",
              "      <td>0</td>\n",
              "      <td>0</td>\n",
              "      <td>0</td>\n",
              "      <td>0</td>\n",
              "      <td>0</td>\n",
              "      <td>0</td>\n",
              "      <td>0</td>\n",
              "      <td>0</td>\n",
              "      <td>0</td>\n",
              "      <td>0</td>\n",
              "      <td>0</td>\n",
              "      <td>0</td>\n",
              "      <td>0</td>\n",
              "      <td>0</td>\n",
              "      <td>0</td>\n",
              "      <td>0</td>\n",
              "      <td>0</td>\n",
              "      <td>0</td>\n",
              "      <td>0</td>\n",
              "      <td>0</td>\n",
              "      <td>0</td>\n",
              "      <td>0</td>\n",
              "      <td>1</td>\n",
              "      <td>0</td>\n",
              "      <td>0</td>\n",
              "      <td>0</td>\n",
              "      <td>0</td>\n",
              "      <td>0</td>\n",
              "      <td>0</td>\n",
              "      <td>0</td>\n",
              "      <td>-0.279645</td>\n",
              "      <td>-0.353232</td>\n",
              "      <td>0.304251</td>\n",
              "      <td>-1.071028</td>\n",
              "      <td>-0.357012</td>\n",
              "      <td>0.178920</td>\n",
              "      <td>-0.708792</td>\n",
              "      <td>0.363587</td>\n",
              "      <td>-0.314290</td>\n",
              "      <td>-0.035993</td>\n",
              "      <td>-0.969024</td>\n",
              "      <td>-1.039773</td>\n",
              "      <td>-0.693944</td>\n",
              "      <td>-0.123464</td>\n",
              "      <td>-0.154549</td>\n",
              "      <td>-0.083608</td>\n",
              "      <td>-0.058307</td>\n",
              "      <td>-0.012089</td>\n",
              "      <td>-0.792648</td>\n",
              "      <td>-0.725040</td>\n",
              "      <td>-0.616225</td>\n",
              "      <td>-0.559332</td>\n",
              "      <td>4.584671</td>\n",
              "      <td>0</td>\n",
              "    </tr>\n",
              "    <tr>\n",
              "      <th>397690</th>\n",
              "      <td>0</td>\n",
              "      <td>1</td>\n",
              "      <td>0</td>\n",
              "      <td>0</td>\n",
              "      <td>0</td>\n",
              "      <td>0</td>\n",
              "      <td>0</td>\n",
              "      <td>0</td>\n",
              "      <td>0</td>\n",
              "      <td>1</td>\n",
              "      <td>0</td>\n",
              "      <td>1</td>\n",
              "      <td>0</td>\n",
              "      <td>1</td>\n",
              "      <td>0</td>\n",
              "      <td>0</td>\n",
              "      <td>0</td>\n",
              "      <td>0</td>\n",
              "      <td>0</td>\n",
              "      <td>0</td>\n",
              "      <td>0</td>\n",
              "      <td>0</td>\n",
              "      <td>0</td>\n",
              "      <td>0</td>\n",
              "      <td>0</td>\n",
              "      <td>0</td>\n",
              "      <td>0</td>\n",
              "      <td>0</td>\n",
              "      <td>1</td>\n",
              "      <td>0</td>\n",
              "      <td>0</td>\n",
              "      <td>0</td>\n",
              "      <td>0</td>\n",
              "      <td>0</td>\n",
              "      <td>0</td>\n",
              "      <td>0</td>\n",
              "      <td>0</td>\n",
              "      <td>0</td>\n",
              "      <td>0</td>\n",
              "      <td>0</td>\n",
              "      <td>0</td>\n",
              "      <td>0</td>\n",
              "      <td>0</td>\n",
              "      <td>0</td>\n",
              "      <td>0</td>\n",
              "      <td>0</td>\n",
              "      <td>0</td>\n",
              "      <td>0</td>\n",
              "      <td>0</td>\n",
              "      <td>0</td>\n",
              "      <td>0</td>\n",
              "      <td>0</td>\n",
              "      <td>0</td>\n",
              "      <td>0</td>\n",
              "      <td>0</td>\n",
              "      <td>0</td>\n",
              "      <td>0</td>\n",
              "      <td>0</td>\n",
              "      <td>0</td>\n",
              "      <td>0</td>\n",
              "      <td>0</td>\n",
              "      <td>0</td>\n",
              "      <td>0</td>\n",
              "      <td>0</td>\n",
              "      <td>0</td>\n",
              "      <td>0</td>\n",
              "      <td>0</td>\n",
              "      <td>0</td>\n",
              "      <td>0</td>\n",
              "      <td>0</td>\n",
              "      <td>0</td>\n",
              "      <td>0</td>\n",
              "      <td>0</td>\n",
              "      <td>0</td>\n",
              "      <td>-0.521001</td>\n",
              "      <td>-0.041132</td>\n",
              "      <td>-0.509238</td>\n",
              "      <td>0.424302</td>\n",
              "      <td>0.897154</td>\n",
              "      <td>-0.737182</td>\n",
              "      <td>0.032409</td>\n",
              "      <td>0.965013</td>\n",
              "      <td>-0.314290</td>\n",
              "      <td>0.236204</td>\n",
              "      <td>-0.645118</td>\n",
              "      <td>-0.177811</td>\n",
              "      <td>-0.693944</td>\n",
              "      <td>-0.123464</td>\n",
              "      <td>-0.154549</td>\n",
              "      <td>-0.083608</td>\n",
              "      <td>-0.058307</td>\n",
              "      <td>-0.012089</td>\n",
              "      <td>-0.496198</td>\n",
              "      <td>1.138605</td>\n",
              "      <td>-0.616225</td>\n",
              "      <td>0.608586</td>\n",
              "      <td>-0.575670</td>\n",
              "      <td>0</td>\n",
              "    </tr>\n",
              "    <tr>\n",
              "      <th>169788</th>\n",
              "      <td>0</td>\n",
              "      <td>1</td>\n",
              "      <td>0</td>\n",
              "      <td>0</td>\n",
              "      <td>0</td>\n",
              "      <td>0</td>\n",
              "      <td>0</td>\n",
              "      <td>0</td>\n",
              "      <td>0</td>\n",
              "      <td>0</td>\n",
              "      <td>0</td>\n",
              "      <td>1</td>\n",
              "      <td>0</td>\n",
              "      <td>1</td>\n",
              "      <td>0</td>\n",
              "      <td>0</td>\n",
              "      <td>0</td>\n",
              "      <td>0</td>\n",
              "      <td>0</td>\n",
              "      <td>0</td>\n",
              "      <td>0</td>\n",
              "      <td>0</td>\n",
              "      <td>0</td>\n",
              "      <td>0</td>\n",
              "      <td>0</td>\n",
              "      <td>0</td>\n",
              "      <td>0</td>\n",
              "      <td>0</td>\n",
              "      <td>0</td>\n",
              "      <td>0</td>\n",
              "      <td>0</td>\n",
              "      <td>0</td>\n",
              "      <td>0</td>\n",
              "      <td>0</td>\n",
              "      <td>0</td>\n",
              "      <td>0</td>\n",
              "      <td>0</td>\n",
              "      <td>0</td>\n",
              "      <td>0</td>\n",
              "      <td>0</td>\n",
              "      <td>0</td>\n",
              "      <td>0</td>\n",
              "      <td>0</td>\n",
              "      <td>0</td>\n",
              "      <td>0</td>\n",
              "      <td>0</td>\n",
              "      <td>0</td>\n",
              "      <td>0</td>\n",
              "      <td>0</td>\n",
              "      <td>0</td>\n",
              "      <td>0</td>\n",
              "      <td>0</td>\n",
              "      <td>0</td>\n",
              "      <td>0</td>\n",
              "      <td>1</td>\n",
              "      <td>0</td>\n",
              "      <td>0</td>\n",
              "      <td>0</td>\n",
              "      <td>0</td>\n",
              "      <td>0</td>\n",
              "      <td>0</td>\n",
              "      <td>0</td>\n",
              "      <td>0</td>\n",
              "      <td>0</td>\n",
              "      <td>0</td>\n",
              "      <td>0</td>\n",
              "      <td>0</td>\n",
              "      <td>0</td>\n",
              "      <td>0</td>\n",
              "      <td>0</td>\n",
              "      <td>0</td>\n",
              "      <td>0</td>\n",
              "      <td>0</td>\n",
              "      <td>0</td>\n",
              "      <td>1.651206</td>\n",
              "      <td>0.339813</td>\n",
              "      <td>0.595354</td>\n",
              "      <td>-0.345016</td>\n",
              "      <td>-0.357012</td>\n",
              "      <td>0.178920</td>\n",
              "      <td>-0.708792</td>\n",
              "      <td>0.564063</td>\n",
              "      <td>-0.314290</td>\n",
              "      <td>0.547817</td>\n",
              "      <td>0.011106</td>\n",
              "      <td>0.511757</td>\n",
              "      <td>-0.693944</td>\n",
              "      <td>-0.123464</td>\n",
              "      <td>6.372776</td>\n",
              "      <td>-0.083608</td>\n",
              "      <td>-0.058307</td>\n",
              "      <td>-0.012089</td>\n",
              "      <td>0.595011</td>\n",
              "      <td>1.138605</td>\n",
              "      <td>1.622784</td>\n",
              "      <td>-0.316498</td>\n",
              "      <td>0.470345</td>\n",
              "      <td>1</td>\n",
              "    </tr>\n",
              "    <tr>\n",
              "      <th>233011</th>\n",
              "      <td>0</td>\n",
              "      <td>0</td>\n",
              "      <td>0</td>\n",
              "      <td>1</td>\n",
              "      <td>0</td>\n",
              "      <td>0</td>\n",
              "      <td>0</td>\n",
              "      <td>0</td>\n",
              "      <td>0</td>\n",
              "      <td>0</td>\n",
              "      <td>0</td>\n",
              "      <td>1</td>\n",
              "      <td>0</td>\n",
              "      <td>1</td>\n",
              "      <td>0</td>\n",
              "      <td>0</td>\n",
              "      <td>0</td>\n",
              "      <td>0</td>\n",
              "      <td>0</td>\n",
              "      <td>0</td>\n",
              "      <td>0</td>\n",
              "      <td>0</td>\n",
              "      <td>0</td>\n",
              "      <td>0</td>\n",
              "      <td>0</td>\n",
              "      <td>1</td>\n",
              "      <td>0</td>\n",
              "      <td>0</td>\n",
              "      <td>0</td>\n",
              "      <td>0</td>\n",
              "      <td>0</td>\n",
              "      <td>0</td>\n",
              "      <td>0</td>\n",
              "      <td>0</td>\n",
              "      <td>0</td>\n",
              "      <td>0</td>\n",
              "      <td>0</td>\n",
              "      <td>0</td>\n",
              "      <td>0</td>\n",
              "      <td>0</td>\n",
              "      <td>0</td>\n",
              "      <td>0</td>\n",
              "      <td>0</td>\n",
              "      <td>0</td>\n",
              "      <td>0</td>\n",
              "      <td>0</td>\n",
              "      <td>0</td>\n",
              "      <td>0</td>\n",
              "      <td>0</td>\n",
              "      <td>0</td>\n",
              "      <td>0</td>\n",
              "      <td>0</td>\n",
              "      <td>0</td>\n",
              "      <td>0</td>\n",
              "      <td>0</td>\n",
              "      <td>0</td>\n",
              "      <td>0</td>\n",
              "      <td>0</td>\n",
              "      <td>0</td>\n",
              "      <td>0</td>\n",
              "      <td>0</td>\n",
              "      <td>0</td>\n",
              "      <td>0</td>\n",
              "      <td>0</td>\n",
              "      <td>0</td>\n",
              "      <td>0</td>\n",
              "      <td>0</td>\n",
              "      <td>0</td>\n",
              "      <td>0</td>\n",
              "      <td>0</td>\n",
              "      <td>0</td>\n",
              "      <td>0</td>\n",
              "      <td>0</td>\n",
              "      <td>0</td>\n",
              "      <td>-0.521001</td>\n",
              "      <td>1.872774</td>\n",
              "      <td>-0.205180</td>\n",
              "      <td>0.296931</td>\n",
              "      <td>3.405486</td>\n",
              "      <td>0.178920</td>\n",
              "      <td>0.294010</td>\n",
              "      <td>-0.638789</td>\n",
              "      <td>-0.314290</td>\n",
              "      <td>-0.507017</td>\n",
              "      <td>-0.670358</td>\n",
              "      <td>0.511757</td>\n",
              "      <td>0.667223</td>\n",
              "      <td>-0.123464</td>\n",
              "      <td>-0.154549</td>\n",
              "      <td>-0.083608</td>\n",
              "      <td>-0.058307</td>\n",
              "      <td>-0.012089</td>\n",
              "      <td>0.268679</td>\n",
              "      <td>1.138605</td>\n",
              "      <td>1.622784</td>\n",
              "      <td>0.562332</td>\n",
              "      <td>-1.063810</td>\n",
              "      <td>0</td>\n",
              "    </tr>\n",
              "  </tbody>\n",
              "</table>\n",
              "</div>"
            ],
            "text/plain": [
              "        grade_B  grade_C  grade_D  grade_E  grade_F  grade_G  \\\n",
              "262230        0        1        0        0        0        0   \n",
              "39066         0        1        0        0        0        0   \n",
              "397690        0        1        0        0        0        0   \n",
              "169788        0        1        0        0        0        0   \n",
              "233011        0        0        0        1        0        0   \n",
              "\n",
              "        home_ownership_NONE  home_ownership_OTHER  home_ownership_OWN  \\\n",
              "262230                    0                     0                   0   \n",
              "39066                     0                     0                   0   \n",
              "397690                    0                     0                   0   \n",
              "169788                    0                     0                   0   \n",
              "233011                    0                     0                   0   \n",
              "\n",
              "        home_ownership_RENT  verification_status_Source Verified  \\\n",
              "262230                    1                                    0   \n",
              "39066                     1                                    0   \n",
              "397690                    1                                    0   \n",
              "169788                    0                                    0   \n",
              "233011                    0                                    0   \n",
              "\n",
              "        verification_status_Verified  purpose_credit_card  \\\n",
              "262230                             1                    0   \n",
              "39066                              0                    1   \n",
              "397690                             1                    0   \n",
              "169788                             1                    0   \n",
              "233011                             1                    0   \n",
              "\n",
              "        purpose_debt_consolidation  purpose_educational  \\\n",
              "262230                           1                    0   \n",
              "39066                            0                    0   \n",
              "397690                           1                    0   \n",
              "169788                           1                    0   \n",
              "233011                           1                    0   \n",
              "\n",
              "        purpose_home_improvement  purpose_house  purpose_major_purchase  \\\n",
              "262230                         0              0                       0   \n",
              "39066                          0              0                       0   \n",
              "397690                         0              0                       0   \n",
              "169788                         0              0                       0   \n",
              "233011                         0              0                       0   \n",
              "\n",
              "        purpose_medical  purpose_moving  purpose_other  \\\n",
              "262230                0               0              0   \n",
              "39066                 0               0              0   \n",
              "397690                0               0              0   \n",
              "169788                0               0              0   \n",
              "233011                0               0              0   \n",
              "\n",
              "        purpose_renewable_energy  purpose_small_business  purpose_vacation  \\\n",
              "262230                         0                       0                 0   \n",
              "39066                          0                       0                 0   \n",
              "397690                         0                       0                 0   \n",
              "169788                         0                       0                 0   \n",
              "233011                         0                       0                 0   \n",
              "\n",
              "        purpose_wedding  addr_state_AL  addr_state_AR  addr_state_AZ  \\\n",
              "262230                0              0              0              0   \n",
              "39066                 0              0              0              0   \n",
              "397690                0              0              0              0   \n",
              "169788                0              0              0              0   \n",
              "233011                0              1              0              0   \n",
              "\n",
              "        addr_state_CA  addr_state_CO  addr_state_CT  addr_state_DC  \\\n",
              "262230              1              0              0              0   \n",
              "39066               0              0              0              0   \n",
              "397690              1              0              0              0   \n",
              "169788              0              0              0              0   \n",
              "233011              0              0              0              0   \n",
              "\n",
              "        addr_state_DE  addr_state_FL  addr_state_GA  addr_state_HI  \\\n",
              "262230              0              0              0              0   \n",
              "39066               0              0              0              0   \n",
              "397690              0              0              0              0   \n",
              "169788              0              0              0              0   \n",
              "233011              0              0              0              0   \n",
              "\n",
              "        addr_state_IA  addr_state_ID  addr_state_IL  addr_state_IN  \\\n",
              "262230              0              0              0              0   \n",
              "39066               0              0              0              0   \n",
              "397690              0              0              0              0   \n",
              "169788              0              0              0              0   \n",
              "233011              0              0              0              0   \n",
              "\n",
              "        addr_state_KS  addr_state_KY  addr_state_LA  addr_state_MA  \\\n",
              "262230              0              0              0              0   \n",
              "39066               0              0              0              0   \n",
              "397690              0              0              0              0   \n",
              "169788              0              0              0              0   \n",
              "233011              0              0              0              0   \n",
              "\n",
              "        addr_state_MD  addr_state_ME  addr_state_MI  addr_state_MN  \\\n",
              "262230              0              0              0              0   \n",
              "39066               0              0              0              0   \n",
              "397690              0              0              0              0   \n",
              "169788              0              0              0              0   \n",
              "233011              0              0              0              0   \n",
              "\n",
              "        addr_state_MO  addr_state_MS  addr_state_MT  addr_state_NC  \\\n",
              "262230              0              0              0              0   \n",
              "39066               0              0              0              0   \n",
              "397690              0              0              0              0   \n",
              "169788              0              0              0              0   \n",
              "233011              0              0              0              0   \n",
              "\n",
              "        addr_state_NE  addr_state_NH  addr_state_NJ  addr_state_NM  \\\n",
              "262230              0              0              0              0   \n",
              "39066               0              0              0              0   \n",
              "397690              0              0              0              0   \n",
              "169788              0              0              1              0   \n",
              "233011              0              0              0              0   \n",
              "\n",
              "        addr_state_NV  addr_state_NY  addr_state_OH  addr_state_OK  \\\n",
              "262230              0              0              0              0   \n",
              "39066               0              0              0              0   \n",
              "397690              0              0              0              0   \n",
              "169788              0              0              0              0   \n",
              "233011              0              0              0              0   \n",
              "\n",
              "        addr_state_OR  addr_state_PA  addr_state_RI  addr_state_SC  \\\n",
              "262230              0              0              0              0   \n",
              "39066               0              0              0              0   \n",
              "397690              0              0              0              0   \n",
              "169788              0              0              0              0   \n",
              "233011              0              0              0              0   \n",
              "\n",
              "        addr_state_SD  addr_state_TN  addr_state_TX  addr_state_UT  \\\n",
              "262230              0              0              0              0   \n",
              "39066               0              0              1              0   \n",
              "397690              0              0              0              0   \n",
              "169788              0              0              0              0   \n",
              "233011              0              0              0              0   \n",
              "\n",
              "        addr_state_VA  addr_state_VT  addr_state_WA  addr_state_WI  \\\n",
              "262230              0              0              0              0   \n",
              "39066               0              0              0              0   \n",
              "397690              0              0              0              0   \n",
              "169788              0              0              0              0   \n",
              "233011              0              0              0              0   \n",
              "\n",
              "        addr_state_WV  addr_state_WY  loan_amnt  int_rate  annual_inc  \\\n",
              "262230              0              0   2.495954 -0.038837    0.828783   \n",
              "39066               0              0  -0.279645 -0.353232    0.304251   \n",
              "397690              0              0  -0.521001 -0.041132   -0.509238   \n",
              "169788              0              0   1.651206  0.339813    0.595354   \n",
              "233011              0              0  -0.521001  1.872774   -0.205180   \n",
              "\n",
              "             dti  delinq_2yrs  inq_last_6mths  mths_since_last_delinq  \\\n",
              "262230 -0.999700    -0.357012       -0.737182               -0.708792   \n",
              "39066  -1.071028    -0.357012        0.178920               -0.708792   \n",
              "397690  0.424302     0.897154       -0.737182                0.032409   \n",
              "169788 -0.345016    -0.357012        0.178920               -0.708792   \n",
              "233011  0.296931     3.405486        0.178920                0.294010   \n",
              "\n",
              "        open_acc   pub_rec  revol_bal  revol_util  total_acc  out_prncp  \\\n",
              "262230 -1.240215  7.515832  -0.018098    1.024888  -1.384557   2.198722   \n",
              "39066   0.363587 -0.314290  -0.035993   -0.969024  -1.039773  -0.693944   \n",
              "397690  0.965013 -0.314290   0.236204   -0.645118  -0.177811  -0.693944   \n",
              "169788  0.564063 -0.314290   0.547817    0.011106   0.511757  -0.693944   \n",
              "233011 -0.638789 -0.314290  -0.507017   -0.670358   0.511757   0.667223   \n",
              "\n",
              "        total_rec_late_fee  recoveries  collections_12_mths_ex_med  \\\n",
              "262230           -0.123464   -0.154549                   -0.083608   \n",
              "39066            -0.123464   -0.154549                   -0.083608   \n",
              "397690           -0.123464   -0.154549                   -0.083608   \n",
              "169788           -0.123464    6.372776                   -0.083608   \n",
              "233011           -0.123464   -0.154549                   -0.083608   \n",
              "\n",
              "        acc_now_delinq  tot_coll_amt  tot_cur_bal  emp_length_int  term_int  \\\n",
              "262230       -0.058307     -0.012089    -0.539844        0.073665 -0.616225   \n",
              "39066        -0.058307     -0.012089    -0.792648       -0.725040 -0.616225   \n",
              "397690       -0.058307     -0.012089    -0.496198        1.138605 -0.616225   \n",
              "169788       -0.058307     -0.012089     0.595011        1.138605  1.622784   \n",
              "233011       -0.058307     -0.012089     0.268679        1.138605  1.622784   \n",
              "\n",
              "        mths_since_earliest_cr_line  mths_since_issue_d  bad_flag  \n",
              "262230                    -0.917802           -0.994076         0  \n",
              "39066                     -0.559332            4.584671         0  \n",
              "397690                     0.608586           -0.575670         0  \n",
              "169788                    -0.316498            0.470345         1  \n",
              "233011                     0.562332           -1.063810         0  "
            ]
          },
          "execution_count": 355,
          "metadata": {},
          "output_type": "execute_result"
        }
      ],
      "source": [
        "data_model.sample(5)"
      ]
    },
    {
      "cell_type": "markdown",
      "id": "e0b46ea7-3070-4865-beef-9df79ffbc289",
      "metadata": {
        "id": "e0b46ea7-3070-4865-beef-9df79ffbc289",
        "tags": []
      },
      "source": [
        "# MODELING"
      ]
    },
    {
      "cell_type": "markdown",
      "id": "0b0e6c1a-d336-4f67-b67e-3a8e8a1da5f8",
      "metadata": {
        "id": "0b0e6c1a-d336-4f67-b67e-3a8e8a1da5f8"
      },
      "source": [
        "### Train-Test Split"
      ]
    },
    {
      "cell_type": "code",
      "execution_count": 356,
      "id": "84d129a3-759f-4ccd-8522-0a80712a271a",
      "metadata": {
        "id": "84d129a3-759f-4ccd-8522-0a80712a271a"
      },
      "outputs": [],
      "source": [
        "from sklearn.model_selection import train_test_split"
      ]
    },
    {
      "cell_type": "code",
      "execution_count": 357,
      "id": "ce1fdd10-2163-415b-8eb4-987721fa7154",
      "metadata": {
        "id": "ce1fdd10-2163-415b-8eb4-987721fa7154"
      },
      "outputs": [],
      "source": [
        "X = data_model.drop('bad_flag', axis=1)\n",
        "y = data_model['bad_flag']"
      ]
    },
    {
      "cell_type": "code",
      "execution_count": 358,
      "id": "ixIIKnX6akSn",
      "metadata": {
        "id": "ixIIKnX6akSn"
      },
      "outputs": [
        {
          "data": {
            "text/plain": [
              "0    415317\n",
              "1     50968\n",
              "Name: bad_flag, dtype: int64"
            ]
          },
          "execution_count": 358,
          "metadata": {},
          "output_type": "execute_result"
        }
      ],
      "source": [
        "y.value_counts() # data unbalance"
      ]
    },
    {
      "cell_type": "markdown",
      "id": "3Jj7SBIi9Hlm",
      "metadata": {
        "id": "3Jj7SBIi9Hlm"
      },
      "source": [
        "karena data unbalance maka akan dilakukan over sampling agar kelas status peminjaman buruk dan baik menjadi seimbang"
      ]
    },
    {
      "cell_type": "code",
      "execution_count": 359,
      "id": "6edUm0Y7bDx7",
      "metadata": {
        "id": "6edUm0Y7bDx7"
      },
      "outputs": [
        {
          "data": {
            "text/plain": [
              "0    415317\n",
              "1    415317\n",
              "Name: bad_flag, dtype: int64"
            ]
          },
          "execution_count": 359,
          "metadata": {},
          "output_type": "execute_result"
        }
      ],
      "source": [
        "from imblearn.over_sampling import SMOTE # over sampling menggunakan smote\n",
        "\n",
        "# Buat objek SMOTE\n",
        "smote = SMOTE(sampling_strategy='minority')\n",
        "\n",
        "# Lakukan SMOTE pada data\n",
        "X, y = smote.fit_resample(X, y)\n",
        "\n",
        "# Periksa apakah data sudah seimbang\n",
        "y.value_counts()\n"
      ]
    },
    {
      "cell_type": "code",
      "execution_count": 360,
      "id": "5g0F83PzbNnu",
      "metadata": {
        "id": "5g0F83PzbNnu"
      },
      "outputs": [],
      "source": [
        "X_train, X_test, y_train, y_test = train_test_split(X, y, test_size=0.2, random_state=42)"
      ]
    },
    {
      "cell_type": "code",
      "execution_count": 361,
      "id": "712fafef-a848-4b65-9ce9-3c007d9cef56",
      "metadata": {
        "id": "712fafef-a848-4b65-9ce9-3c007d9cef56"
      },
      "outputs": [
        {
          "data": {
            "text/plain": [
              "((664507, 97), (166127, 97))"
            ]
          },
          "execution_count": 361,
          "metadata": {},
          "output_type": "execute_result"
        }
      ],
      "source": [
        "X_train.shape, X_test.shape"
      ]
    },
    {
      "cell_type": "code",
      "execution_count": 362,
      "id": "CIvj8zEI9rEk",
      "metadata": {
        "id": "CIvj8zEI9rEk"
      },
      "outputs": [
        {
          "name": "stdout",
          "output_type": "stream",
          "text": [
            "Features used in the model: ['grade_B', 'grade_C', 'grade_D', 'grade_E', 'grade_F', 'grade_G', 'home_ownership_NONE', 'home_ownership_OTHER', 'home_ownership_OWN', 'home_ownership_RENT', 'verification_status_Source Verified', 'verification_status_Verified', 'purpose_credit_card', 'purpose_debt_consolidation', 'purpose_educational', 'purpose_home_improvement', 'purpose_house', 'purpose_major_purchase', 'purpose_medical', 'purpose_moving', 'purpose_other', 'purpose_renewable_energy', 'purpose_small_business', 'purpose_vacation', 'purpose_wedding', 'addr_state_AL', 'addr_state_AR', 'addr_state_AZ', 'addr_state_CA', 'addr_state_CO', 'addr_state_CT', 'addr_state_DC', 'addr_state_DE', 'addr_state_FL', 'addr_state_GA', 'addr_state_HI', 'addr_state_IA', 'addr_state_ID', 'addr_state_IL', 'addr_state_IN', 'addr_state_KS', 'addr_state_KY', 'addr_state_LA', 'addr_state_MA', 'addr_state_MD', 'addr_state_ME', 'addr_state_MI', 'addr_state_MN', 'addr_state_MO', 'addr_state_MS', 'addr_state_MT', 'addr_state_NC', 'addr_state_NE', 'addr_state_NH', 'addr_state_NJ', 'addr_state_NM', 'addr_state_NV', 'addr_state_NY', 'addr_state_OH', 'addr_state_OK', 'addr_state_OR', 'addr_state_PA', 'addr_state_RI', 'addr_state_SC', 'addr_state_SD', 'addr_state_TN', 'addr_state_TX', 'addr_state_UT', 'addr_state_VA', 'addr_state_VT', 'addr_state_WA', 'addr_state_WI', 'addr_state_WV', 'addr_state_WY', 'loan_amnt', 'int_rate', 'annual_inc', 'dti', 'delinq_2yrs', 'inq_last_6mths', 'mths_since_last_delinq', 'open_acc', 'pub_rec', 'revol_bal', 'revol_util', 'total_acc', 'out_prncp', 'total_rec_late_fee', 'recoveries', 'collections_12_mths_ex_med', 'acc_now_delinq', 'tot_coll_amt', 'tot_cur_bal', 'emp_length_int', 'term_int', 'mths_since_earliest_cr_line', 'mths_since_issue_d']\n"
          ]
        }
      ],
      "source": [
        "# cek fitur yang digunakan untuk training\n",
        "feature_names = X_train.columns.tolist()\n",
        "print(\"Features used in the model:\", feature_names)"
      ]
    },
    {
      "cell_type": "markdown",
      "id": "U3n4FTOqu2wh",
      "metadata": {
        "id": "U3n4FTOqu2wh"
      },
      "source": [
        "#Machine Learning"
      ]
    },
    {
      "cell_type": "markdown",
      "id": "o56HrAl-u-QG",
      "metadata": {
        "id": "o56HrAl-u-QG"
      },
      "source": [
        "## Random forest classifier"
      ]
    },
    {
      "cell_type": "code",
      "execution_count": 363,
      "id": "9E-gBv-DvGn5",
      "metadata": {
        "id": "9E-gBv-DvGn5"
      },
      "outputs": [
        {
          "name": "stdout",
          "output_type": "stream",
          "text": [
            "Accuracy Score on Training Data:  0.9999984951249573\n",
            "Accuracy Score on Testing Data:  0.9631968313398785\n"
          ]
        }
      ],
      "source": [
        "from sklearn.ensemble import RandomForestClassifier\n",
        "from sklearn.metrics import accuracy_score\n",
        "\n",
        "# create Random Forest classifier without hyperparameters\n",
        "rfc = RandomForestClassifier()\n",
        "\n",
        "# fit the model on training data\n",
        "rfc.fit(X_train, y_train)\n",
        "\n",
        "# predict the classes on training data\n",
        "y_train_pred = rfc.predict(X_train)\n",
        "\n",
        "# predict the classes on testing data\n",
        "y_test_pred = rfc.predict(X_test)\n",
        "\n",
        "# calculate accuracy score on training data\n",
        "train_accuracy = accuracy_score(y_train, y_train_pred)\n",
        "\n",
        "# calculate accuracy score on testing data\n",
        "test_accuracy = accuracy_score(y_test, y_test_pred)\n",
        "\n",
        "# print the scores\n",
        "print(\"Accuracy Score on Training Data: \", train_accuracy)\n",
        "print(\"Accuracy Score on Testing Data: \", test_accuracy)\n"
      ]
    },
    {
      "cell_type": "code",
      "execution_count": 364,
      "id": "YFgJxlb7KyEV",
      "metadata": {
        "id": "YFgJxlb7KyEV"
      },
      "outputs": [
        {
          "data": {
            "image/png": "[encoded data removed]",
            "text/plain": [
              "<Figure size 800x600 with 1 Axes>"
            ]
          },
          "metadata": {},
          "output_type": "display_data"
        }
      ],
      "source": [
        "import matplotlib.pyplot as plt\n",
        "\n",
        "# create a bar chart to display the accuracy scores\n",
        "fig, ax = plt.subplots(figsize=(8,6))\n",
        "\n",
        "# set background color to white\n",
        "fig.set_facecolor('w')\n",
        "\n",
        "train_bar = ax.bar(['Training Data'], [train_accuracy], color=['#44A1A0'], label='Training Data')\n",
        "test_bar = ax.bar(['Testing Data'], [test_accuracy], color=['#FF5733'], label='Testing Data')\n",
        "\n",
        "# set ylim\n",
        "ax.set_ylim([0.5, 1.2])\n",
        "\n",
        "# add labels to bars\n",
        "ax.bar_label(train_bar, label_type='edge', fontsize=12)\n",
        "ax.bar_label(test_bar, label_type='edge', fontsize=12)\n",
        "\n",
        "# add title, axis labels, and legend\n",
        "ax.set_title('Accuracy Scores of Random Forest Classifier Without Hyperparameter', fontsize=16,pad = 20)\n",
        "ax.set_xlabel('Data', fontsize=14)\n",
        "ax.set_ylabel('Accuracy', fontsize=14)\n",
        "ax.legend(loc='upper right', fontsize=12)\n",
        "\n",
        "# add horizontal line to show the mean\n",
        "ax.axhline(y=train_accuracy, color='#44A1A0', linestyle='--', lw=2)\n",
        "ax.axhline(y=test_accuracy, color='#FF5733', linestyle='--', lw=2)\n",
        "\n",
        "# remove top and right spines\n",
        "ax.spines['top'].set_visible(False)\n",
        "ax.spines['right'].set_visible(False)\n",
        "\n",
        "plt.show()\n"
      ]
    },
    {
      "cell_type": "markdown",
      "id": "b9885137-7b1c-4abd-bc4e-793dbb509493",
      "metadata": {
        "id": "b9885137-7b1c-4abd-bc4e-793dbb509493",
        "tags": []
      },
      "source": [
        "### Validation"
      ]
    },
    {
      "cell_type": "markdown",
      "id": "9172461d-9baa-4929-9abe-c2ade127f9c8",
      "metadata": {
        "id": "9172461d-9baa-4929-9abe-c2ade127f9c8"
      },
      "source": [
        "Untuk mengukur performa model, dua metrik yang umum dipakai dalam dunia credit risk adalah AUC dan KS."
      ]
    },
    {
      "cell_type": "code",
      "execution_count": 365,
      "id": "8ed8e2b1-f26d-4dc8-a2cd-2a3681add028",
      "metadata": {
        "id": "8ed8e2b1-f26d-4dc8-a2cd-2a3681add028"
      },
      "outputs": [],
      "source": [
        "y_pred_proba = rfc.predict_proba(X_test)[:][:,1]\n",
        "\n",
        "df_actual_predicted = pd.concat([pd.DataFrame(np.array(y_test), columns=['y_actual']), pd.DataFrame(y_pred_proba, columns=['y_pred_proba'])], axis=1)\n",
        "df_actual_predicted.index = y_test.index"
      ]
    },
    {
      "cell_type": "markdown",
      "id": "bd4dd566-220e-4f72-b735-ad87d6372f0d",
      "metadata": {
        "id": "bd4dd566-220e-4f72-b735-ad87d6372f0d"
      },
      "source": [
        "#### AUC "
      ]
    },
    {
      "cell_type": "code",
      "execution_count": 366,
      "id": "3caca03b-ef02-4875-9825-4b612447cd49",
      "metadata": {
        "id": "3caca03b-ef02-4875-9825-4b612447cd49"
      },
      "outputs": [
        {
          "data": {
            "image/png": "[encoded data removed]",
            "text/plain": [
              "<Figure size 640x480 with 1 Axes>"
            ]
          },
          "metadata": {},
          "output_type": "display_data"
        }
      ],
      "source": [
        "import matplotlib.pyplot as plt\n",
        "from sklearn.metrics import roc_curve, roc_auc_score\n",
        "\n",
        "# compute ROC curve and AUC score\n",
        "fpr, tpr, _ = roc_curve(df_actual_predicted['y_actual'], df_actual_predicted['y_pred_proba'])\n",
        "auc = roc_auc_score(df_actual_predicted['y_actual'], df_actual_predicted['y_pred_proba'])\n",
        "\n",
        "# plot ROC curve\n",
        "plt.plot(fpr, tpr, color='blue', label='ROC Curve (AUC = %0.4f)' % auc)\n",
        "plt.plot([0, 1], [0, 1], linestyle='--', color='gray', label='Random Guessing')\n",
        "plt.fill_between(fpr, tpr, 0, alpha=0.1, color='blue')\n",
        "plt.xlabel('False Positive Rate')\n",
        "plt.ylabel('True Positive Rate')\n",
        "plt.title('ROC Curve Without Hyperparameter')\n",
        "plt.legend(loc='lower right')\n",
        "plt.show()\n"
      ]
    },
    {
      "cell_type": "markdown",
      "id": "926486bb-b1a0-4829-bea2-649735bd5b92",
      "metadata": {
        "id": "926486bb-b1a0-4829-bea2-649735bd5b92"
      },
      "source": [
        "#### KS "
      ]
    },
    {
      "cell_type": "code",
      "execution_count": 367,
      "id": "7a2263f0-f5e3-4e07-add1-896f859bd584",
      "metadata": {
        "id": "7a2263f0-f5e3-4e07-add1-896f859bd584"
      },
      "outputs": [],
      "source": [
        "df_actual_predicted = df_actual_predicted.sort_values('y_pred_proba')\n",
        "df_actual_predicted = df_actual_predicted.reset_index()\n",
        "\n",
        "df_actual_predicted['Cumulative N Population'] = df_actual_predicted.index + 1\n",
        "df_actual_predicted['Cumulative N Bad'] = df_actual_predicted['y_actual'].cumsum()\n",
        "df_actual_predicted['Cumulative N Good'] = df_actual_predicted['Cumulative N Population'] - df_actual_predicted['Cumulative N Bad']\n",
        "df_actual_predicted['Cumulative Perc Population'] = df_actual_predicted['Cumulative N Population'] / df_actual_predicted.shape[0]\n",
        "df_actual_predicted['Cumulative Perc Bad'] = df_actual_predicted['Cumulative N Bad'] / df_actual_predicted['y_actual'].sum()\n",
        "df_actual_predicted['Cumulative Perc Good'] = df_actual_predicted['Cumulative N Good'] / (df_actual_predicted.shape[0] - df_actual_predicted['y_actual'].sum())"
      ]
    },
    {
      "cell_type": "code",
      "execution_count": 368,
      "id": "2d5b2b28-601b-470f-a6fd-6031143bd3ab",
      "metadata": {
        "id": "2d5b2b28-601b-470f-a6fd-6031143bd3ab"
      },
      "outputs": [
        {
          "data": {
            "text/html": [
              "<div>\n",
              "<style scoped>\n",
              "    .dataframe tbody tr th:only-of-type {\n",
              "        vertical-align: middle;\n",
              "    }\n",
              "\n",
              "    .dataframe tbody tr th {\n",
              "        vertical-align: top;\n",
              "    }\n",
              "\n",
              "    .dataframe thead th {\n",
              "        text-align: right;\n",
              "    }\n",
              "</style>\n",
              "<table border=\"1\" class=\"dataframe\">\n",
              "  <thead>\n",
              "    <tr style=\"text-align: right;\">\n",
              "      <th></th>\n",
              "      <th>index</th>\n",
              "      <th>y_actual</th>\n",
              "      <th>y_pred_proba</th>\n",
              "      <th>Cumulative N Population</th>\n",
              "      <th>Cumulative N Bad</th>\n",
              "      <th>Cumulative N Good</th>\n",
              "      <th>Cumulative Perc Population</th>\n",
              "      <th>Cumulative Perc Bad</th>\n",
              "      <th>Cumulative Perc Good</th>\n",
              "    </tr>\n",
              "  </thead>\n",
              "  <tbody>\n",
              "    <tr>\n",
              "      <th>0</th>\n",
              "      <td>288705</td>\n",
              "      <td>0</td>\n",
              "      <td>0.0</td>\n",
              "      <td>1</td>\n",
              "      <td>0</td>\n",
              "      <td>1</td>\n",
              "      <td>0.000006</td>\n",
              "      <td>0.0</td>\n",
              "      <td>0.000012</td>\n",
              "    </tr>\n",
              "    <tr>\n",
              "      <th>1</th>\n",
              "      <td>296126</td>\n",
              "      <td>0</td>\n",
              "      <td>0.0</td>\n",
              "      <td>2</td>\n",
              "      <td>0</td>\n",
              "      <td>2</td>\n",
              "      <td>0.000012</td>\n",
              "      <td>0.0</td>\n",
              "      <td>0.000024</td>\n",
              "    </tr>\n",
              "    <tr>\n",
              "      <th>2</th>\n",
              "      <td>331438</td>\n",
              "      <td>0</td>\n",
              "      <td>0.0</td>\n",
              "      <td>3</td>\n",
              "      <td>0</td>\n",
              "      <td>3</td>\n",
              "      <td>0.000018</td>\n",
              "      <td>0.0</td>\n",
              "      <td>0.000036</td>\n",
              "    </tr>\n",
              "    <tr>\n",
              "      <th>3</th>\n",
              "      <td>263219</td>\n",
              "      <td>0</td>\n",
              "      <td>0.0</td>\n",
              "      <td>4</td>\n",
              "      <td>0</td>\n",
              "      <td>4</td>\n",
              "      <td>0.000024</td>\n",
              "      <td>0.0</td>\n",
              "      <td>0.000048</td>\n",
              "    </tr>\n",
              "    <tr>\n",
              "      <th>4</th>\n",
              "      <td>33204</td>\n",
              "      <td>0</td>\n",
              "      <td>0.0</td>\n",
              "      <td>5</td>\n",
              "      <td>0</td>\n",
              "      <td>5</td>\n",
              "      <td>0.000030</td>\n",
              "      <td>0.0</td>\n",
              "      <td>0.000060</td>\n",
              "    </tr>\n",
              "  </tbody>\n",
              "</table>\n",
              "</div>"
            ],
            "text/plain": [
              "    index  y_actual  y_pred_proba  Cumulative N Population  Cumulative N Bad  \\\n",
              "0  288705         0           0.0                        1                 0   \n",
              "1  296126         0           0.0                        2                 0   \n",
              "2  331438         0           0.0                        3                 0   \n",
              "3  263219         0           0.0                        4                 0   \n",
              "4   33204         0           0.0                        5                 0   \n",
              "\n",
              "   Cumulative N Good  Cumulative Perc Population  Cumulative Perc Bad  \\\n",
              "0                  1                    0.000006                  0.0   \n",
              "1                  2                    0.000012                  0.0   \n",
              "2                  3                    0.000018                  0.0   \n",
              "3                  4                    0.000024                  0.0   \n",
              "4                  5                    0.000030                  0.0   \n",
              "\n",
              "   Cumulative Perc Good  \n",
              "0              0.000012  \n",
              "1              0.000024  \n",
              "2              0.000036  \n",
              "3              0.000048  \n",
              "4              0.000060  "
            ]
          },
          "execution_count": 368,
          "metadata": {},
          "output_type": "execute_result"
        }
      ],
      "source": [
        "df_actual_predicted.head()"
      ]
    },
    {
      "cell_type": "code",
      "execution_count": 369,
      "id": "441a4f8b-c2ca-4edd-8930-66700645d818",
      "metadata": {
        "id": "441a4f8b-c2ca-4edd-8930-66700645d818"
      },
      "outputs": [
        {
          "data": {
            "image/png": "[encoded data removed]",
            "text/plain": [
              "<Figure size 640x480 with 1 Axes>"
            ]
          },
          "metadata": {},
          "output_type": "display_data"
        }
      ],
      "source": [
        "# set plot style\n",
        "plt.style.use('ggplot')\n",
        "\n",
        "# calculate KS\n",
        "KS = max(df_actual_predicted['Cumulative Perc Good'] - df_actual_predicted['Cumulative Perc Bad'])\n",
        "\n",
        "# plot the cumulative % bad and good\n",
        "plt.plot(df_actual_predicted['y_pred_proba'], df_actual_predicted['Cumulative Perc Bad'], color='r', label='Bad')\n",
        "plt.plot(df_actual_predicted['y_pred_proba'], df_actual_predicted['Cumulative Perc Good'], color='b', label='Good')\n",
        "\n",
        "# add annotations for KS value and corresponding threshold\n",
        "plt.axvline(x=df_actual_predicted.loc[df_actual_predicted['Cumulative Perc Good'] - df_actual_predicted['Cumulative Perc Bad'] == KS, 'y_pred_proba'].iloc[0], color='k', linestyle='--')\n",
        "plt.annotate(f'Max KS: {KS:.4f}', xy=(0.1, 0.5), xytext=(0.1, 0.5), fontsize=12)\n",
        "\n",
        "# set axis labels and title\n",
        "plt.xlabel('Estimated Probability for Being Bad')\n",
        "plt.ylabel('Cumulative %')\n",
        "plt.title('Kolmogorov-Smirnov')\n",
        "\n",
        "# add legend\n",
        "plt.legend()\n",
        "\n",
        "# show the plot\n",
        "plt.show()\n"
      ]
    },
    {
      "cell_type": "markdown",
      "id": "1dbdd107-1b69-4e89-96aa-9cb27a093a09",
      "metadata": {
        "id": "1dbdd107-1b69-4e89-96aa-9cb27a093a09"
      },
      "source": [
        "Model yang dibangun menghasilkan performa `AUC = 0.99` dan `KS = 0.93`. Pada dunia credit risk modeling, umumnya AUC di atas 0.7 dan KS di atas 0.3 sudah termasuk performa yang baik."
      ]
    },
    {
      "cell_type": "markdown",
      "id": "KvC2shFOhadj",
      "metadata": {
        "id": "KvC2shFOhadj"
      },
      "source": [
        "### Cross Validation"
      ]
    },
    {
      "cell_type": "code",
      "execution_count": 370,
      "id": "YLNVdXvahd5K",
      "metadata": {
        "id": "YLNVdXvahd5K"
      },
      "outputs": [
        {
          "data": {
            "image/png": "[encoded data removed]",
            "text/plain": [
              "<Figure size 640x480 with 1 Axes>"
            ]
          },
          "metadata": {},
          "output_type": "display_data"
        }
      ],
      "source": [
        "import matplotlib.pyplot as plt\n",
        "from sklearn.model_selection import cross_val_score\n",
        "\n",
        "# set plot style\n",
        "plt.style.use('ggplot')\n",
        "\n",
        "# create Random Forest classifier\n",
        "rfc = RandomForestClassifier()\n",
        "\n",
        "# perform 5-fold cross validation\n",
        "scores = cross_val_score(rfc, X, y, cv=5)\n",
        "\n",
        "# plot the cross validation scores\n",
        "plt.plot(range(1, 6), scores, marker='o', linestyle='--', color='b')\n",
        "\n",
        "# set y-axis limits to 0 and 1\n",
        "plt.ylim(0, 1)\n",
        "\n",
        "# add labels and title\n",
        "plt.xlabel('Fold')\n",
        "plt.ylabel('Accuracy') \n",
        "plt.title('Cross Validation Scores')\n",
        "\n",
        "# show the plot\n",
        "plt.show()\n"
      ]
    },
    {
      "cell_type": "code",
      "execution_count": 371,
      "id": "vN0Fb2oQl9fS",
      "metadata": {
        "id": "vN0Fb2oQl9fS"
      },
      "outputs": [
        {
          "name": "stdout",
          "output_type": "stream",
          "text": [
            "Cross Validation Scores:  [0.65926069 0.55536427 0.7052195  0.88159059 0.73565246]\n",
            "Average Score:  0.7074175006500527\n"
          ]
        }
      ],
      "source": [
        "# print the cross validation scores\n",
        "print(\"Cross Validation Scores: \", scores)\n",
        "print(\"Average Score: \", scores.mean())"
      ]
    },
    {
      "attachments": {},
      "cell_type": "markdown",
      "id": "4067023d",
      "metadata": {},
      "source": [
        "Karena performa model sudah bagus maka saya tidak menggunakan hyperparameter"
      ]
    },
    {
      "cell_type": "markdown",
      "id": "tpfUCoV0N4F2",
      "metadata": {
        "id": "tpfUCoV0N4F2"
      },
      "source": [
        "### simpan model"
      ]
    },
    {
      "cell_type": "code",
      "execution_count": 374,
      "id": "Q_CnTyUAN6Ol",
      "metadata": {
        "id": "Q_CnTyUAN6Ol"
      },
      "outputs": [
        {
          "data": {
            "text/plain": [
              "['credit risk classification.sav']"
            ]
          },
          "execution_count": 374,
          "metadata": {},
          "output_type": "execute_result"
        }
      ],
      "source": [
        "# save the model to disk\n",
        "import joblib\n",
        "filename = 'credit risk classification.sav'\n",
        "joblib.dump(rfc, filename)"
      ]
    },
    {
      "cell_type": "markdown",
      "id": "CUFxQGMdONUi",
      "metadata": {
        "id": "CUFxQGMdONUi"
      },
      "source": [
        "# Kesimpulan"
      ]
    },
    {
      "attachments": {},
      "cell_type": "markdown",
      "id": "ad74fa23",
      "metadata": {},
      "source": [
        "Berdasarkan hasil analisis dari project kredit risk untuk klasifikasi credit baik dan buruk, dapat disimpulkan bahwa sebagian besar peminjam memiliki kredit dengan grade yang baik, kepemilikan rumah yang terbanyak adalah 'MORTGAGE', tujuan pinjaman paling banyak adalah untuk debt consolidation, dan sebagian besar peminjam memiliki rasio utang terhadap pendapatan yang rendah. Selain itu, terdapat ketidakseimbangan pada data yang bisa menjadi masalah dalam analisis data, sehingga dilakukan oversampling smote untuk menyeimbangkan data. Model yang telah dibangun memiliki akurasi yang tinggi pada data train dan test, serta validasi yang baik, yaitu kc 0.99, ks 0.93, dan cross validation 0.92. Dengan demikian, model ini dapat digunakan untuk memprediksi kredit baik atau buruk dengan tingkat akurasi yang tinggi."
      ]
    },
    {
      "cell_type": "markdown",
      "id": "ac3d818f-24f5-4784-9666-5e9f5a493263",
      "metadata": {
        "id": "ac3d818f-24f5-4784-9666-5e9f5a493263"
      },
      "source": [
        "# SARAN"
      ]
    },
    {
      "attachments": {},
      "cell_type": "markdown",
      "id": "8f0ecac4-e968-4711-935e-03c3fae15139",
      "metadata": {
        "id": "8f0ecac4-e968-4711-935e-03c3fae15139"
      },
      "source": [
        "Beberapa hal lain yang dapat dilakukan untuk project ini:\n",
        "\n",
        "- Loan amount distribution: Sebaiknya dilakukan analisis lebih lanjut terkait pinjaman dengan jumlah tinggi yang mungkin berpotensi menjadi risiko kredit yang lebih tinggi, seperti dengan melihat rasio utang terhadap pendapatan dan seberapa besar pembayaran bulanan yang harus dilakukan oleh peminjam.\n",
        "\n",
        "- Distribution credit grade: Analisis ini dapat membantu untuk memahami profil risiko peminjam yang berbeda dan menentukan strategi kredit yang sesuai dengan profil risiko tersebut.\n",
        "\n",
        "- Distribution of home ownership: Dapat dilakukan analisis lebih lanjut untuk memahami bagaimana kepemilikan rumah dapat mempengaruhi risiko kredit. Hal ini dapat membantu untuk menentukan strategi kredit yang sesuai dengan profil risiko peminjam yang berbeda.\n",
        "\n",
        "- Loan purpose distribution: Perlu dilakukan pemantauan terhadap pinjaman dengan tujuan 'other', 'major purpose', 'small business', 'car', 'medical', 'moving', 'vacation', 'wedding', 'house', 'educational', dan 'renewable energy' karena memiliki jumlah pinjaman yang lebih sedikit dibandingkan dengan tiga tujuan pinjaman teratas.\n",
        "\n",
        "- Distribution of dti: Perlu dilakukan analisis lebih lanjut untuk memahami bagaimana rasio utang terhadap pendapatan mempengaruhi risiko kredit dan apakah terdapat rentang nilai DTI tertentu yang memiliki risiko kredit yang lebih tinggi.\n",
        "\n",
        "- Distribution bad flag: Oversampling SMOTE dapat membantu menyeimbangkan data dan memperbaiki kinerja model dalam memprediksi kasus yang tidak dominan.\n",
        "\n",
        "- Model evaluation: Perlu dilakukan pengujian model secara berkala untuk memastikan kinerja model yang konsisten dan sesuai dengan tujuan analisis. Selain itu, dapat dilakukan analisis lebih lanjut terkait faktor-faktor yang mempengaruhi kinerja model, seperti pemilihan fitur yang tepat atau penggunaan algoritma yang lebih kompleks untuk meningkatkan akurasi model."
      ]
    }
  ],
  "metadata": {
    "accelerator": "GPU",
    "colab": {
      "provenance": []
    },
    "gpuClass": "standard",
    "kernelspec": {
      "display_name": "Python 3 (ipykernel)",
      "language": "python",
      "name": "python3"
    },
    "language_info": {
      "codemirror_mode": {
        "name": "ipython",
        "version": 3
      },
      "file_extension": ".py",
      "mimetype": "text/x-python",
      "name": "python",
      "nbconvert_exporter": "python",
      "pygments_lexer": "ipython3",
      "version": "3.10.11"
    }
  },
  "nbformat": 4,
  "nbformat_minor": 5
}
