{
  "cells": [
    {
      "cell_type": "markdown",
      "id": "99597ca5-47d9-4f63-bed9-b3d873f16841",
      "metadata": {
        "id": "99597ca5-47d9-4f63-bed9-b3d873f16841"
      },
      "source": [
        "# LIBRARIES"
      ]
    },
    {
      "cell_type": "code",
      "execution_count": 86,
      "id": "6b5abe4a",
      "metadata": {},
      "outputs": [
        {
          "name": "stdout",
          "output_type": "stream",
          "text": [
            "Requirement already satisfied: imblearn in c:\\users\\user\\appdata\\local\\packages\\pythonsoftwarefoundation.python.3.10_qbz5n2kfra8p0\\localcache\\local-packages\\python310\\site-packages (0.0)\n",
            "Requirement already satisfied: imbalanced-learn in c:\\users\\user\\appdata\\local\\packages\\pythonsoftwarefoundation.python.3.10_qbz5n2kfra8p0\\localcache\\local-packages\\python310\\site-packages (from imblearn) (0.10.1)\n",
            "Requirement already satisfied: scikit-learn>=1.0.2 in c:\\users\\user\\appdata\\local\\packages\\pythonsoftwarefoundation.python.3.10_qbz5n2kfra8p0\\localcache\\local-packages\\python310\\site-packages (from imbalanced-learn->imblearn) (1.2.2)\n",
            "Requirement already satisfied: joblib>=1.1.1 in c:\\users\\user\\appdata\\local\\packages\\pythonsoftwarefoundation.python.3.10_qbz5n2kfra8p0\\localcache\\local-packages\\python310\\site-packages (from imbalanced-learn->imblearn) (1.2.0)\n",
            "Requirement already satisfied: scipy>=1.3.2 in c:\\users\\user\\appdata\\local\\packages\\pythonsoftwarefoundation.python.3.10_qbz5n2kfra8p0\\localcache\\local-packages\\python310\\site-packages (from imbalanced-learn->imblearn) (1.10.1)\n",
            "Requirement already satisfied: numpy>=1.17.3 in c:\\users\\user\\appdata\\local\\packages\\pythonsoftwarefoundation.python.3.10_qbz5n2kfra8p0\\localcache\\local-packages\\python310\\site-packages (from imbalanced-learn->imblearn) (1.24.2)\n",
            "Requirement already satisfied: threadpoolctl>=2.0.0 in c:\\users\\user\\appdata\\local\\packages\\pythonsoftwarefoundation.python.3.10_qbz5n2kfra8p0\\localcache\\local-packages\\python310\\site-packages (from imbalanced-learn->imblearn) (3.1.0)\n",
            "Note: you may need to restart the kernel to use updated packages.\n"
          ]
        },
        {
          "name": "stderr",
          "output_type": "stream",
          "text": [
            "\n",
            "[notice] A new release of pip is available: 23.0.1 -> 23.1.1\n",
            "[notice] To update, run: C:\\Users\\user\\AppData\\Local\\Microsoft\\WindowsApps\\PythonSoftwareFoundation.Python.3.10_qbz5n2kfra8p0\\python.exe -m pip install --upgrade pip\n"
          ]
        }
      ],
      "source": [
        "pip install imblearn"
      ]
    },
    {
      "cell_type": "code",
      "execution_count": 87,
      "id": "02e305f8",
      "metadata": {},
      "outputs": [
        {
          "name": "stdout",
          "output_type": "stream",
          "text": [
            "Requirement already satisfied: numpy in c:\\users\\user\\appdata\\local\\packages\\pythonsoftwarefoundation.python.3.10_qbz5n2kfra8p0\\localcache\\local-packages\\python310\\site-packages (1.24.2)\n",
            "Note: you may need to restart the kernel to use updated packages.\n"
          ]
        },
        {
          "name": "stderr",
          "output_type": "stream",
          "text": [
            "\n",
            "[notice] A new release of pip is available: 23.0.1 -> 23.1.1\n",
            "[notice] To update, run: C:\\Users\\user\\AppData\\Local\\Microsoft\\WindowsApps\\PythonSoftwareFoundation.Python.3.10_qbz5n2kfra8p0\\python.exe -m pip install --upgrade pip\n"
          ]
        }
      ],
      "source": [
        "pip install numpy"
      ]
    },
    {
      "cell_type": "code",
      "execution_count": 88,
      "id": "c4ee39ad",
      "metadata": {},
      "outputs": [
        {
          "name": "stdout",
          "output_type": "stream",
          "text": [
            "Requirement already satisfied: pandas in c:\\users\\user\\appdata\\local\\packages\\pythonsoftwarefoundation.python.3.10_qbz5n2kfra8p0\\localcache\\local-packages\\python310\\site-packages (1.5.3)\n",
            "Requirement already satisfied: pytz>=2020.1 in c:\\users\\user\\appdata\\local\\packages\\pythonsoftwarefoundation.python.3.10_qbz5n2kfra8p0\\localcache\\local-packages\\python310\\site-packages (from pandas) (2023.2)\n",
            "Requirement already satisfied: python-dateutil>=2.8.1 in c:\\users\\user\\appdata\\local\\packages\\pythonsoftwarefoundation.python.3.10_qbz5n2kfra8p0\\localcache\\local-packages\\python310\\site-packages (from pandas) (2.8.2)\n",
            "Requirement already satisfied: numpy>=1.21.0 in c:\\users\\user\\appdata\\local\\packages\\pythonsoftwarefoundation.python.3.10_qbz5n2kfra8p0\\localcache\\local-packages\\python310\\site-packages (from pandas) (1.24.2)\n",
            "Requirement already satisfied: six>=1.5 in c:\\users\\user\\appdata\\local\\packages\\pythonsoftwarefoundation.python.3.10_qbz5n2kfra8p0\\localcache\\local-packages\\python310\\site-packages (from python-dateutil>=2.8.1->pandas) (1.16.0)\n",
            "Note: you may need to restart the kernel to use updated packages.\n"
          ]
        },
        {
          "name": "stderr",
          "output_type": "stream",
          "text": [
            "\n",
            "[notice] A new release of pip is available: 23.0.1 -> 23.1.1\n",
            "[notice] To update, run: C:\\Users\\user\\AppData\\Local\\Microsoft\\WindowsApps\\PythonSoftwareFoundation.Python.3.10_qbz5n2kfra8p0\\python.exe -m pip install --upgrade pip\n"
          ]
        }
      ],
      "source": [
        "pip install pandas"
      ]
    },
    {
      "cell_type": "code",
      "execution_count": 89,
      "id": "d1fa1559",
      "metadata": {},
      "outputs": [
        {
          "name": "stdout",
          "output_type": "stream",
          "text": [
            "Requirement already satisfied: seaborn in c:\\users\\user\\appdata\\local\\packages\\pythonsoftwarefoundation.python.3.10_qbz5n2kfra8p0\\localcache\\local-packages\\python310\\site-packages (0.12.2)\n",
            "Requirement already satisfied: pandas>=0.25 in c:\\users\\user\\appdata\\local\\packages\\pythonsoftwarefoundation.python.3.10_qbz5n2kfra8p0\\localcache\\local-packages\\python310\\site-packages (from seaborn) (1.5.3)\n",
            "Requirement already satisfied: matplotlib!=3.6.1,>=3.1 in c:\\users\\user\\appdata\\local\\packages\\pythonsoftwarefoundation.python.3.10_qbz5n2kfra8p0\\localcache\\local-packages\\python310\\site-packages (from seaborn) (3.7.1)\n",
            "Requirement already satisfied: numpy!=1.24.0,>=1.17 in c:\\users\\user\\appdata\\local\\packages\\pythonsoftwarefoundation.python.3.10_qbz5n2kfra8p0\\localcache\\local-packages\\python310\\site-packages (from seaborn) (1.24.2)\n",
            "Requirement already satisfied: pillow>=6.2.0 in c:\\users\\user\\appdata\\local\\packages\\pythonsoftwarefoundation.python.3.10_qbz5n2kfra8p0\\localcache\\local-packages\\python310\\site-packages (from matplotlib!=3.6.1,>=3.1->seaborn) (9.4.0)\n",
            "Requirement already satisfied: packaging>=20.0 in c:\\users\\user\\appdata\\local\\packages\\pythonsoftwarefoundation.python.3.10_qbz5n2kfra8p0\\localcache\\local-packages\\python310\\site-packages (from matplotlib!=3.6.1,>=3.1->seaborn) (23.0)\n",
            "Requirement already satisfied: pyparsing>=2.3.1 in c:\\users\\user\\appdata\\local\\packages\\pythonsoftwarefoundation.python.3.10_qbz5n2kfra8p0\\localcache\\local-packages\\python310\\site-packages (from matplotlib!=3.6.1,>=3.1->seaborn) (3.0.9)\n",
            "Requirement already satisfied: python-dateutil>=2.7 in c:\\users\\user\\appdata\\local\\packages\\pythonsoftwarefoundation.python.3.10_qbz5n2kfra8p0\\localcache\\local-packages\\python310\\site-packages (from matplotlib!=3.6.1,>=3.1->seaborn) (2.8.2)\n",
            "Requirement already satisfied: cycler>=0.10 in c:\\users\\user\\appdata\\local\\packages\\pythonsoftwarefoundation.python.3.10_qbz5n2kfra8p0\\localcache\\local-packages\\python310\\site-packages (from matplotlib!=3.6.1,>=3.1->seaborn) (0.11.0)\n",
            "Requirement already satisfied: contourpy>=1.0.1 in c:\\users\\user\\appdata\\local\\packages\\pythonsoftwarefoundation.python.3.10_qbz5n2kfra8p0\\localcache\\local-packages\\python310\\site-packages (from matplotlib!=3.6.1,>=3.1->seaborn) (1.0.7)\n",
            "Requirement already satisfied: kiwisolver>=1.0.1 in c:\\users\\user\\appdata\\local\\packages\\pythonsoftwarefoundation.python.3.10_qbz5n2kfra8p0\\localcache\\local-packages\\python310\\site-packages (from matplotlib!=3.6.1,>=3.1->seaborn) (1.4.4)\n",
            "Requirement already satisfied: fonttools>=4.22.0 in c:\\users\\user\\appdata\\local\\packages\\pythonsoftwarefoundation.python.3.10_qbz5n2kfra8p0\\localcache\\local-packages\\python310\\site-packages (from matplotlib!=3.6.1,>=3.1->seaborn) (4.39.3)\n",
            "Requirement already satisfied: pytz>=2020.1 in c:\\users\\user\\appdata\\local\\packages\\pythonsoftwarefoundation.python.3.10_qbz5n2kfra8p0\\localcache\\local-packages\\python310\\site-packages (from pandas>=0.25->seaborn) (2023.2)\n",
            "Requirement already satisfied: six>=1.5 in c:\\users\\user\\appdata\\local\\packages\\pythonsoftwarefoundation.python.3.10_qbz5n2kfra8p0\\localcache\\local-packages\\python310\\site-packages (from python-dateutil>=2.7->matplotlib!=3.6.1,>=3.1->seaborn) (1.16.0)\n",
            "Note: you may need to restart the kernel to use updated packages.\n"
          ]
        },
        {
          "name": "stderr",
          "output_type": "stream",
          "text": [
            "\n",
            "[notice] A new release of pip is available: 23.0.1 -> 23.1.1\n",
            "[notice] To update, run: C:\\Users\\user\\AppData\\Local\\Microsoft\\WindowsApps\\PythonSoftwareFoundation.Python.3.10_qbz5n2kfra8p0\\python.exe -m pip install --upgrade pip\n"
          ]
        }
      ],
      "source": [
        "pip install seaborn"
      ]
    },
    {
      "cell_type": "code",
      "execution_count": 90,
      "id": "a768a44e",
      "metadata": {},
      "outputs": [
        {
          "name": "stdout",
          "output_type": "stream",
          "text": [
            "Requirement already satisfied: matplotlib in c:\\users\\user\\appdata\\local\\packages\\pythonsoftwarefoundation.python.3.10_qbz5n2kfra8p0\\localcache\\local-packages\\python310\\site-packages (3.7.1)\n",
            "Requirement already satisfied: cycler>=0.10 in c:\\users\\user\\appdata\\local\\packages\\pythonsoftwarefoundation.python.3.10_qbz5n2kfra8p0\\localcache\\local-packages\\python310\\site-packages (from matplotlib) (0.11.0)\n",
            "Requirement already satisfied: pyparsing>=2.3.1 in c:\\users\\user\\appdata\\local\\packages\\pythonsoftwarefoundation.python.3.10_qbz5n2kfra8p0\\localcache\\local-packages\\python310\\site-packages (from matplotlib) (3.0.9)\n",
            "Requirement already satisfied: numpy>=1.20 in c:\\users\\user\\appdata\\local\\packages\\pythonsoftwarefoundation.python.3.10_qbz5n2kfra8p0\\localcache\\local-packages\\python310\\site-packages (from matplotlib) (1.24.2)\n",
            "Requirement already satisfied: kiwisolver>=1.0.1 in c:\\users\\user\\appdata\\local\\packages\\pythonsoftwarefoundation.python.3.10_qbz5n2kfra8p0\\localcache\\local-packages\\python310\\site-packages (from matplotlib) (1.4.4)\n",
            "Requirement already satisfied: contourpy>=1.0.1 in c:\\users\\user\\appdata\\local\\packages\\pythonsoftwarefoundation.python.3.10_qbz5n2kfra8p0\\localcache\\local-packages\\python310\\site-packages (from matplotlib) (1.0.7)\n",
            "Requirement already satisfied: fonttools>=4.22.0 in c:\\users\\user\\appdata\\local\\packages\\pythonsoftwarefoundation.python.3.10_qbz5n2kfra8p0\\localcache\\local-packages\\python310\\site-packages (from matplotlib) (4.39.3)\n",
            "Requirement already satisfied: packaging>=20.0 in c:\\users\\user\\appdata\\local\\packages\\pythonsoftwarefoundation.python.3.10_qbz5n2kfra8p0\\localcache\\local-packages\\python310\\site-packages (from matplotlib) (23.0)\n",
            "Requirement already satisfied: pillow>=6.2.0 in c:\\users\\user\\appdata\\local\\packages\\pythonsoftwarefoundation.python.3.10_qbz5n2kfra8p0\\localcache\\local-packages\\python310\\site-packages (from matplotlib) (9.4.0)\n",
            "Requirement already satisfied: python-dateutil>=2.7 in c:\\users\\user\\appdata\\local\\packages\\pythonsoftwarefoundation.python.3.10_qbz5n2kfra8p0\\localcache\\local-packages\\python310\\site-packages (from matplotlib) (2.8.2)\n",
            "Requirement already satisfied: six>=1.5 in c:\\users\\user\\appdata\\local\\packages\\pythonsoftwarefoundation.python.3.10_qbz5n2kfra8p0\\localcache\\local-packages\\python310\\site-packages (from python-dateutil>=2.7->matplotlib) (1.16.0)\n",
            "Note: you may need to restart the kernel to use updated packages.\n"
          ]
        },
        {
          "name": "stderr",
          "output_type": "stream",
          "text": [
            "\n",
            "[notice] A new release of pip is available: 23.0.1 -> 23.1.1\n",
            "[notice] To update, run: C:\\Users\\user\\AppData\\Local\\Microsoft\\WindowsApps\\PythonSoftwareFoundation.Python.3.10_qbz5n2kfra8p0\\python.exe -m pip install --upgrade pip\n"
          ]
        }
      ],
      "source": [
        "pip install matplotlib"
      ]
    },
    {
      "cell_type": "code",
      "execution_count": 91,
      "id": "66707289-c198-4047-ac46-0de7a73a533c",
      "metadata": {
        "id": "66707289-c198-4047-ac46-0de7a73a533c"
      },
      "outputs": [],
      "source": [
        "import numpy as np \n",
        "\n",
        "import pandas as pd \n",
        "pd.set_option('display.max_columns', None)\n",
        "pd.set_option('display.max_rows', 99)\n",
        "\n",
        "import matplotlib.pyplot as plt \n",
        "import seaborn as sns \n",
        "sns.set()"
      ]
    },
    {
      "cell_type": "markdown",
      "id": "e39d1c0c-0778-4f15-bacb-6ec77b9259d5",
      "metadata": {
        "id": "e39d1c0c-0778-4f15-bacb-6ec77b9259d5",
        "tags": []
      },
      "source": [
        "# IMPORTING DATA "
      ]
    },
    {
      "cell_type": "code",
      "execution_count": 92,
      "id": "a52599e9-619e-4263-b5a5-d14dbea62c44",
      "metadata": {
        "colab": {
          "base_uri": "https://localhost:8080/"
        },
        "id": "a52599e9-619e-4263-b5a5-d14dbea62c44",
        "outputId": "ae67f65e-65a7-4bb0-f053-89d66c576e6b"
      },
      "outputs": [
        {
          "name": "stderr",
          "output_type": "stream",
          "text": [
            "C:\\Users\\user\\AppData\\Local\\Temp\\ipykernel_11240\\2969852544.py:1: DtypeWarning: Columns (20) have mixed types. Specify dtype option on import or set low_memory=False.\n",
            "  data_raw = pd.read_csv('loan_data_2007_2014.csv', index_col=0)\n"
          ]
        }
      ],
      "source": [
        "data_raw = pd.read_csv('loan_data_2007_2014.csv', index_col=0)"
      ]
    },
    {
      "cell_type": "markdown",
      "id": "e8ea4fa6-0ae4-4435-adab-641d2f3a26b9",
      "metadata": {
        "id": "e8ea4fa6-0ae4-4435-adab-641d2f3a26b9"
      },
      "source": [
        "# EXPLORING DATA "
      ]
    },
    {
      "cell_type": "code",
      "execution_count": 93,
      "id": "d14e5613-33db-4928-b4f0-13c2c957aaeb",
      "metadata": {
        "colab": {
          "base_uri": "https://localhost:8080/"
        },
        "id": "d14e5613-33db-4928-b4f0-13c2c957aaeb",
        "outputId": "fc906199-4016-4f4b-ec5a-7a793485216a"
      },
      "outputs": [
        {
          "data": {
            "text/plain": [
              "(466285, 74)"
            ]
          },
          "execution_count": 93,
          "metadata": {},
          "output_type": "execute_result"
        }
      ],
      "source": [
        "data_raw.shape"
      ]
    },
    {
      "cell_type": "code",
      "execution_count": 94,
      "id": "14f2a434-98e4-426d-8914-5b56dba4f1c3",
      "metadata": {
        "colab": {
          "base_uri": "https://localhost:8080/"
        },
        "id": "14f2a434-98e4-426d-8914-5b56dba4f1c3",
        "outputId": "4df9e971-aaff-4556-ea7b-30fa689a2004",
        "scrolled": true,
        "tags": []
      },
      "outputs": [
        {
          "name": "stdout",
          "output_type": "stream",
          "text": [
            "<class 'pandas.core.frame.DataFrame'>\n",
            "Int64Index: 466285 entries, 0 to 466284\n",
            "Data columns (total 74 columns):\n",
            " #   Column                       Non-Null Count   Dtype  \n",
            "---  ------                       --------------   -----  \n",
            " 0   id                           466285 non-null  int64  \n",
            " 1   member_id                    466285 non-null  int64  \n",
            " 2   loan_amnt                    466285 non-null  int64  \n",
            " 3   funded_amnt                  466285 non-null  int64  \n",
            " 4   funded_amnt_inv              466285 non-null  float64\n",
            " 5   term                         466285 non-null  object \n",
            " 6   int_rate                     466285 non-null  float64\n",
            " 7   installment                  466285 non-null  float64\n",
            " 8   grade                        466285 non-null  object \n",
            " 9   sub_grade                    466285 non-null  object \n",
            " 10  emp_title                    438697 non-null  object \n",
            " 11  emp_length                   445277 non-null  object \n",
            " 12  home_ownership               466285 non-null  object \n",
            " 13  annual_inc                   466281 non-null  float64\n",
            " 14  verification_status          466285 non-null  object \n",
            " 15  issue_d                      466285 non-null  object \n",
            " 16  loan_status                  466285 non-null  object \n",
            " 17  pymnt_plan                   466285 non-null  object \n",
            " 18  url                          466285 non-null  object \n",
            " 19  desc                         125983 non-null  object \n",
            " 20  purpose                      466285 non-null  object \n",
            " 21  title                        466265 non-null  object \n",
            " 22  zip_code                     466285 non-null  object \n",
            " 23  addr_state                   466285 non-null  object \n",
            " 24  dti                          466285 non-null  float64\n",
            " 25  delinq_2yrs                  466256 non-null  float64\n",
            " 26  earliest_cr_line             466256 non-null  object \n",
            " 27  inq_last_6mths               466256 non-null  float64\n",
            " 28  mths_since_last_delinq       215934 non-null  float64\n",
            " 29  mths_since_last_record       62638 non-null   float64\n",
            " 30  open_acc                     466256 non-null  float64\n",
            " 31  pub_rec                      466256 non-null  float64\n",
            " 32  revol_bal                    466285 non-null  int64  \n",
            " 33  revol_util                   465945 non-null  float64\n",
            " 34  total_acc                    466256 non-null  float64\n",
            " 35  initial_list_status          466285 non-null  object \n",
            " 36  out_prncp                    466285 non-null  float64\n",
            " 37  out_prncp_inv                466285 non-null  float64\n",
            " 38  total_pymnt                  466285 non-null  float64\n",
            " 39  total_pymnt_inv              466285 non-null  float64\n",
            " 40  total_rec_prncp              466285 non-null  float64\n",
            " 41  total_rec_int                466285 non-null  float64\n",
            " 42  total_rec_late_fee           466285 non-null  float64\n",
            " 43  recoveries                   466285 non-null  float64\n",
            " 44  collection_recovery_fee      466285 non-null  float64\n",
            " 45  last_pymnt_d                 465909 non-null  object \n",
            " 46  last_pymnt_amnt              466285 non-null  float64\n",
            " 47  next_pymnt_d                 239071 non-null  object \n",
            " 48  last_credit_pull_d           466243 non-null  object \n",
            " 49  collections_12_mths_ex_med   466140 non-null  float64\n",
            " 50  mths_since_last_major_derog  98974 non-null   float64\n",
            " 51  policy_code                  466285 non-null  int64  \n",
            " 52  application_type             466285 non-null  object \n",
            " 53  annual_inc_joint             0 non-null       float64\n",
            " 54  dti_joint                    0 non-null       float64\n",
            " 55  verification_status_joint    0 non-null       float64\n",
            " 56  acc_now_delinq               466256 non-null  float64\n",
            " 57  tot_coll_amt                 396009 non-null  float64\n",
            " 58  tot_cur_bal                  396009 non-null  float64\n",
            " 59  open_acc_6m                  0 non-null       float64\n",
            " 60  open_il_6m                   0 non-null       float64\n",
            " 61  open_il_12m                  0 non-null       float64\n",
            " 62  open_il_24m                  0 non-null       float64\n",
            " 63  mths_since_rcnt_il           0 non-null       float64\n",
            " 64  total_bal_il                 0 non-null       float64\n",
            " 65  il_util                      0 non-null       float64\n",
            " 66  open_rv_12m                  0 non-null       float64\n",
            " 67  open_rv_24m                  0 non-null       float64\n",
            " 68  max_bal_bc                   0 non-null       float64\n",
            " 69  all_util                     0 non-null       float64\n",
            " 70  total_rev_hi_lim             396009 non-null  float64\n",
            " 71  inq_fi                       0 non-null       float64\n",
            " 72  total_cu_tl                  0 non-null       float64\n",
            " 73  inq_last_12m                 0 non-null       float64\n",
            "dtypes: float64(46), int64(6), object(22)\n",
            "memory usage: 266.8+ MB\n"
          ]
        }
      ],
      "source": [
        "data_raw.info()"
      ]
    },
    {
      "cell_type": "code",
      "execution_count": 95,
      "id": "ae2de89b-b107-4aed-a27a-d3e459dad9a7",
      "metadata": {
        "colab": {
          "base_uri": "https://localhost:8080/",
          "height": 249
        },
        "id": "ae2de89b-b107-4aed-a27a-d3e459dad9a7",
        "outputId": "7ae1e20f-8aa9-4fe6-f7c8-be26e0864cad"
      },
      "outputs": [
        {
          "data": {
            "text/html": [
              "<div>\n",
              "<style scoped>\n",
              "    .dataframe tbody tr th:only-of-type {\n",
              "        vertical-align: middle;\n",
              "    }\n",
              "\n",
              "    .dataframe tbody tr th {\n",
              "        vertical-align: top;\n",
              "    }\n",
              "\n",
              "    .dataframe thead th {\n",
              "        text-align: right;\n",
              "    }\n",
              "</style>\n",
              "<table border=\"1\" class=\"dataframe\">\n",
              "  <thead>\n",
              "    <tr style=\"text-align: right;\">\n",
              "      <th></th>\n",
              "      <th>id</th>\n",
              "      <th>member_id</th>\n",
              "      <th>loan_amnt</th>\n",
              "      <th>funded_amnt</th>\n",
              "      <th>funded_amnt_inv</th>\n",
              "      <th>term</th>\n",
              "      <th>int_rate</th>\n",
              "      <th>installment</th>\n",
              "      <th>grade</th>\n",
              "      <th>sub_grade</th>\n",
              "      <th>emp_title</th>\n",
              "      <th>emp_length</th>\n",
              "      <th>home_ownership</th>\n",
              "      <th>annual_inc</th>\n",
              "      <th>verification_status</th>\n",
              "      <th>issue_d</th>\n",
              "      <th>loan_status</th>\n",
              "      <th>pymnt_plan</th>\n",
              "      <th>url</th>\n",
              "      <th>desc</th>\n",
              "      <th>purpose</th>\n",
              "      <th>title</th>\n",
              "      <th>zip_code</th>\n",
              "      <th>addr_state</th>\n",
              "      <th>dti</th>\n",
              "      <th>delinq_2yrs</th>\n",
              "      <th>earliest_cr_line</th>\n",
              "      <th>inq_last_6mths</th>\n",
              "      <th>mths_since_last_delinq</th>\n",
              "      <th>mths_since_last_record</th>\n",
              "      <th>open_acc</th>\n",
              "      <th>pub_rec</th>\n",
              "      <th>revol_bal</th>\n",
              "      <th>revol_util</th>\n",
              "      <th>total_acc</th>\n",
              "      <th>initial_list_status</th>\n",
              "      <th>out_prncp</th>\n",
              "      <th>out_prncp_inv</th>\n",
              "      <th>total_pymnt</th>\n",
              "      <th>total_pymnt_inv</th>\n",
              "      <th>total_rec_prncp</th>\n",
              "      <th>total_rec_int</th>\n",
              "      <th>total_rec_late_fee</th>\n",
              "      <th>recoveries</th>\n",
              "      <th>collection_recovery_fee</th>\n",
              "      <th>last_pymnt_d</th>\n",
              "      <th>last_pymnt_amnt</th>\n",
              "      <th>next_pymnt_d</th>\n",
              "      <th>last_credit_pull_d</th>\n",
              "      <th>collections_12_mths_ex_med</th>\n",
              "      <th>mths_since_last_major_derog</th>\n",
              "      <th>policy_code</th>\n",
              "      <th>application_type</th>\n",
              "      <th>annual_inc_joint</th>\n",
              "      <th>dti_joint</th>\n",
              "      <th>verification_status_joint</th>\n",
              "      <th>acc_now_delinq</th>\n",
              "      <th>tot_coll_amt</th>\n",
              "      <th>tot_cur_bal</th>\n",
              "      <th>open_acc_6m</th>\n",
              "      <th>open_il_6m</th>\n",
              "      <th>open_il_12m</th>\n",
              "      <th>open_il_24m</th>\n",
              "      <th>mths_since_rcnt_il</th>\n",
              "      <th>total_bal_il</th>\n",
              "      <th>il_util</th>\n",
              "      <th>open_rv_12m</th>\n",
              "      <th>open_rv_24m</th>\n",
              "      <th>max_bal_bc</th>\n",
              "      <th>all_util</th>\n",
              "      <th>total_rev_hi_lim</th>\n",
              "      <th>inq_fi</th>\n",
              "      <th>total_cu_tl</th>\n",
              "      <th>inq_last_12m</th>\n",
              "    </tr>\n",
              "  </thead>\n",
              "  <tbody>\n",
              "    <tr>\n",
              "      <th>162538</th>\n",
              "      <td>3376889</td>\n",
              "      <td>4229417</td>\n",
              "      <td>24000</td>\n",
              "      <td>24000</td>\n",
              "      <td>23950.0</td>\n",
              "      <td>60 months</td>\n",
              "      <td>13.11</td>\n",
              "      <td>547.43</td>\n",
              "      <td>B</td>\n",
              "      <td>B4</td>\n",
              "      <td>Bureau of Public Debt</td>\n",
              "      <td>8 years</td>\n",
              "      <td>MORTGAGE</td>\n",
              "      <td>90000.0</td>\n",
              "      <td>Verified</td>\n",
              "      <td>Mar-13</td>\n",
              "      <td>Fully Paid</td>\n",
              "      <td>n</td>\n",
              "      <td>https://www.lendingclub.com/browse/loanDetail....</td>\n",
              "      <td>NaN</td>\n",
              "      <td>credit_card</td>\n",
              "      <td>Card Refinance</td>\n",
              "      <td>261xx</td>\n",
              "      <td>WV</td>\n",
              "      <td>25.49</td>\n",
              "      <td>0.0</td>\n",
              "      <td>Feb-96</td>\n",
              "      <td>1.0</td>\n",
              "      <td>NaN</td>\n",
              "      <td>NaN</td>\n",
              "      <td>15.0</td>\n",
              "      <td>0.0</td>\n",
              "      <td>69600</td>\n",
              "      <td>64.1</td>\n",
              "      <td>33.0</td>\n",
              "      <td>f</td>\n",
              "      <td>0.0</td>\n",
              "      <td>0.0</td>\n",
              "      <td>28619.48846</td>\n",
              "      <td>28559.87</td>\n",
              "      <td>24000.0</td>\n",
              "      <td>4619.49</td>\n",
              "      <td>0.0</td>\n",
              "      <td>0.0</td>\n",
              "      <td>0.0</td>\n",
              "      <td>Jan-15</td>\n",
              "      <td>124.23</td>\n",
              "      <td>NaN</td>\n",
              "      <td>Jan-16</td>\n",
              "      <td>0.0</td>\n",
              "      <td>NaN</td>\n",
              "      <td>1</td>\n",
              "      <td>INDIVIDUAL</td>\n",
              "      <td>NaN</td>\n",
              "      <td>NaN</td>\n",
              "      <td>NaN</td>\n",
              "      <td>0.0</td>\n",
              "      <td>0.0</td>\n",
              "      <td>295719.0</td>\n",
              "      <td>NaN</td>\n",
              "      <td>NaN</td>\n",
              "      <td>NaN</td>\n",
              "      <td>NaN</td>\n",
              "      <td>NaN</td>\n",
              "      <td>NaN</td>\n",
              "      <td>NaN</td>\n",
              "      <td>NaN</td>\n",
              "      <td>NaN</td>\n",
              "      <td>NaN</td>\n",
              "      <td>NaN</td>\n",
              "      <td>108600.0</td>\n",
              "      <td>NaN</td>\n",
              "      <td>NaN</td>\n",
              "      <td>NaN</td>\n",
              "    </tr>\n",
              "  </tbody>\n",
              "</table>\n",
              "</div>"
            ],
            "text/plain": [
              "             id  member_id  loan_amnt  funded_amnt  funded_amnt_inv  \\\n",
              "162538  3376889    4229417      24000        24000          23950.0   \n",
              "\n",
              "              term  int_rate  installment grade sub_grade  \\\n",
              "162538   60 months     13.11       547.43     B        B4   \n",
              "\n",
              "                    emp_title emp_length home_ownership  annual_inc  \\\n",
              "162538  Bureau of Public Debt    8 years       MORTGAGE     90000.0   \n",
              "\n",
              "       verification_status issue_d loan_status pymnt_plan  \\\n",
              "162538            Verified  Mar-13  Fully Paid          n   \n",
              "\n",
              "                                                      url desc      purpose  \\\n",
              "162538  https://www.lendingclub.com/browse/loanDetail....  NaN  credit_card   \n",
              "\n",
              "                 title zip_code addr_state    dti  delinq_2yrs  \\\n",
              "162538  Card Refinance    261xx         WV  25.49          0.0   \n",
              "\n",
              "       earliest_cr_line  inq_last_6mths  mths_since_last_delinq  \\\n",
              "162538           Feb-96             1.0                     NaN   \n",
              "\n",
              "        mths_since_last_record  open_acc  pub_rec  revol_bal  revol_util  \\\n",
              "162538                     NaN      15.0      0.0      69600        64.1   \n",
              "\n",
              "        total_acc initial_list_status  out_prncp  out_prncp_inv  total_pymnt  \\\n",
              "162538       33.0                   f        0.0            0.0  28619.48846   \n",
              "\n",
              "        total_pymnt_inv  total_rec_prncp  total_rec_int  total_rec_late_fee  \\\n",
              "162538         28559.87          24000.0        4619.49                 0.0   \n",
              "\n",
              "        recoveries  collection_recovery_fee last_pymnt_d  last_pymnt_amnt  \\\n",
              "162538         0.0                      0.0       Jan-15           124.23   \n",
              "\n",
              "       next_pymnt_d last_credit_pull_d  collections_12_mths_ex_med  \\\n",
              "162538          NaN             Jan-16                         0.0   \n",
              "\n",
              "        mths_since_last_major_derog  policy_code application_type  \\\n",
              "162538                          NaN            1       INDIVIDUAL   \n",
              "\n",
              "        annual_inc_joint  dti_joint  verification_status_joint  \\\n",
              "162538               NaN        NaN                        NaN   \n",
              "\n",
              "        acc_now_delinq  tot_coll_amt  tot_cur_bal  open_acc_6m  open_il_6m  \\\n",
              "162538             0.0           0.0     295719.0          NaN         NaN   \n",
              "\n",
              "        open_il_12m  open_il_24m  mths_since_rcnt_il  total_bal_il  il_util  \\\n",
              "162538          NaN          NaN                 NaN           NaN      NaN   \n",
              "\n",
              "        open_rv_12m  open_rv_24m  max_bal_bc  all_util  total_rev_hi_lim  \\\n",
              "162538          NaN          NaN         NaN       NaN          108600.0   \n",
              "\n",
              "        inq_fi  total_cu_tl  inq_last_12m  \n",
              "162538     NaN          NaN           NaN  "
            ]
          },
          "execution_count": 95,
          "metadata": {},
          "output_type": "execute_result"
        }
      ],
      "source": [
        "data_raw.sample()"
      ]
    },
    {
      "cell_type": "code",
      "execution_count": 96,
      "id": "b72e82ae-d940-42c7-afd7-c0b1355aee20",
      "metadata": {
        "colab": {
          "base_uri": "https://localhost:8080/"
        },
        "id": "b72e82ae-d940-42c7-afd7-c0b1355aee20",
        "outputId": "79732320-6d8c-48ef-8f79-807644d55610"
      },
      "outputs": [
        {
          "data": {
            "text/plain": [
              "466285"
            ]
          },
          "execution_count": 96,
          "metadata": {},
          "output_type": "execute_result"
        }
      ],
      "source": [
        "data_raw.id.nunique()"
      ]
    },
    {
      "cell_type": "code",
      "execution_count": 97,
      "id": "dc5c9660-f592-49a0-86ea-6117fcb1b177",
      "metadata": {
        "colab": {
          "base_uri": "https://localhost:8080/"
        },
        "id": "dc5c9660-f592-49a0-86ea-6117fcb1b177",
        "outputId": "f0a71572-764e-4fc8-92c7-754d6a6b6fd1"
      },
      "outputs": [
        {
          "data": {
            "text/plain": [
              "466285"
            ]
          },
          "execution_count": 97,
          "metadata": {},
          "output_type": "execute_result"
        }
      ],
      "source": [
        "data_raw.member_id.nunique()"
      ]
    },
    {
      "cell_type": "markdown",
      "id": "2a432ed8-4223-4a72-a272-a3ec9e088dec",
      "metadata": {
        "id": "2a432ed8-4223-4a72-a272-a3ec9e088dec",
        "jp-MarkdownHeadingCollapsed": true,
        "tags": []
      },
      "source": [
        "Terlihat bahwa tidak ada `id` atau `member_id` yang duplikat, artinya setiap baris sudah mewakili satu individu."
      ]
    },
    {
      "cell_type": "markdown",
      "id": "96d47ff1-4569-4a19-8236-51efda3c4e45",
      "metadata": {
        "id": "96d47ff1-4569-4a19-8236-51efda3c4e45"
      },
      "source": [
        "Selanjutnya, pembuangan fitur-fitur yang tidak berguna dilakukan. Contohnya seperti fitur yang merupakan id unik, berupa free text, nilainya kosong semua (NULL), dsb."
      ]
    },
    {
      "cell_type": "code",
      "execution_count": 98,
      "id": "9b836e49-0716-47c6-b5e8-657156bc41ed",
      "metadata": {
        "id": "9b836e49-0716-47c6-b5e8-657156bc41ed"
      },
      "outputs": [],
      "source": [
        "cols_to_drop = [\n",
        "    # unique id\n",
        "    'id'\n",
        "    , 'member_id'\n",
        "    \n",
        "    # free text\n",
        "    , 'url'\n",
        "    , 'desc'\n",
        "    \n",
        "    # all null / constant / others\n",
        "    , 'zip_code' \n",
        "    , 'annual_inc_joint'\n",
        "    , 'dti_joint'\n",
        "    , 'verification_status_joint'\n",
        "    , 'open_acc_6m'\n",
        "    , 'open_il_6m'\n",
        "    , 'open_il_12m'\n",
        "    , 'open_il_24m'\n",
        "    , 'mths_since_rcnt_il'\n",
        "    , 'total_bal_il'\n",
        "    , 'il_util'\n",
        "    , 'open_rv_12m'\n",
        "    , 'open_rv_24m'\n",
        "    , 'max_bal_bc'\n",
        "    , 'all_util'\n",
        "    , 'inq_fi'\n",
        "    , 'total_cu_tl'\n",
        "    , 'inq_last_12m'\n",
        "    \n",
        "    # expert judgment\n",
        "    , 'sub_grade'\n",
        "]"
      ]
    },
    {
      "cell_type": "code",
      "execution_count": 99,
      "id": "ad25b882-2dad-4f6a-a4b1-4d8560b18143",
      "metadata": {
        "id": "ad25b882-2dad-4f6a-a4b1-4d8560b18143"
      },
      "outputs": [],
      "source": [
        "data = data_raw.drop(cols_to_drop, axis=1)"
      ]
    },
    {
      "cell_type": "code",
      "execution_count": 100,
      "id": "816f0626-4128-4070-a773-89032db86642",
      "metadata": {
        "colab": {
          "base_uri": "https://localhost:8080/",
          "height": 391
        },
        "id": "816f0626-4128-4070-a773-89032db86642",
        "outputId": "49271ea7-8976-4c5f-f85d-d1b858747954"
      },
      "outputs": [
        {
          "data": {
            "text/html": [
              "<div>\n",
              "<style scoped>\n",
              "    .dataframe tbody tr th:only-of-type {\n",
              "        vertical-align: middle;\n",
              "    }\n",
              "\n",
              "    .dataframe tbody tr th {\n",
              "        vertical-align: top;\n",
              "    }\n",
              "\n",
              "    .dataframe thead th {\n",
              "        text-align: right;\n",
              "    }\n",
              "</style>\n",
              "<table border=\"1\" class=\"dataframe\">\n",
              "  <thead>\n",
              "    <tr style=\"text-align: right;\">\n",
              "      <th></th>\n",
              "      <th>loan_amnt</th>\n",
              "      <th>funded_amnt</th>\n",
              "      <th>funded_amnt_inv</th>\n",
              "      <th>term</th>\n",
              "      <th>int_rate</th>\n",
              "      <th>installment</th>\n",
              "      <th>grade</th>\n",
              "      <th>emp_title</th>\n",
              "      <th>emp_length</th>\n",
              "      <th>home_ownership</th>\n",
              "      <th>annual_inc</th>\n",
              "      <th>verification_status</th>\n",
              "      <th>issue_d</th>\n",
              "      <th>loan_status</th>\n",
              "      <th>pymnt_plan</th>\n",
              "      <th>purpose</th>\n",
              "      <th>title</th>\n",
              "      <th>addr_state</th>\n",
              "      <th>dti</th>\n",
              "      <th>delinq_2yrs</th>\n",
              "      <th>earliest_cr_line</th>\n",
              "      <th>inq_last_6mths</th>\n",
              "      <th>mths_since_last_delinq</th>\n",
              "      <th>mths_since_last_record</th>\n",
              "      <th>open_acc</th>\n",
              "      <th>pub_rec</th>\n",
              "      <th>revol_bal</th>\n",
              "      <th>revol_util</th>\n",
              "      <th>total_acc</th>\n",
              "      <th>initial_list_status</th>\n",
              "      <th>out_prncp</th>\n",
              "      <th>out_prncp_inv</th>\n",
              "      <th>total_pymnt</th>\n",
              "      <th>total_pymnt_inv</th>\n",
              "      <th>total_rec_prncp</th>\n",
              "      <th>total_rec_int</th>\n",
              "      <th>total_rec_late_fee</th>\n",
              "      <th>recoveries</th>\n",
              "      <th>collection_recovery_fee</th>\n",
              "      <th>last_pymnt_d</th>\n",
              "      <th>last_pymnt_amnt</th>\n",
              "      <th>next_pymnt_d</th>\n",
              "      <th>last_credit_pull_d</th>\n",
              "      <th>collections_12_mths_ex_med</th>\n",
              "      <th>mths_since_last_major_derog</th>\n",
              "      <th>policy_code</th>\n",
              "      <th>application_type</th>\n",
              "      <th>acc_now_delinq</th>\n",
              "      <th>tot_coll_amt</th>\n",
              "      <th>tot_cur_bal</th>\n",
              "      <th>total_rev_hi_lim</th>\n",
              "    </tr>\n",
              "  </thead>\n",
              "  <tbody>\n",
              "    <tr>\n",
              "      <th>34038</th>\n",
              "      <td>10000</td>\n",
              "      <td>10000</td>\n",
              "      <td>9875.0</td>\n",
              "      <td>36 months</td>\n",
              "      <td>8.59</td>\n",
              "      <td>316.11</td>\n",
              "      <td>A</td>\n",
              "      <td>Element Funding</td>\n",
              "      <td>&lt; 1 year</td>\n",
              "      <td>OWN</td>\n",
              "      <td>150000.0</td>\n",
              "      <td>Not Verified</td>\n",
              "      <td>Nov-09</td>\n",
              "      <td>Fully Paid</td>\n",
              "      <td>n</td>\n",
              "      <td>debt_consolidation</td>\n",
              "      <td>savy debt consolidator</td>\n",
              "      <td>GA</td>\n",
              "      <td>4.14</td>\n",
              "      <td>0.0</td>\n",
              "      <td>Dec-92</td>\n",
              "      <td>2.0</td>\n",
              "      <td>NaN</td>\n",
              "      <td>NaN</td>\n",
              "      <td>19.0</td>\n",
              "      <td>0.0</td>\n",
              "      <td>82445</td>\n",
              "      <td>16.7</td>\n",
              "      <td>32.0</td>\n",
              "      <td>f</td>\n",
              "      <td>0.00</td>\n",
              "      <td>0.00</td>\n",
              "      <td>10865.44000</td>\n",
              "      <td>10729.62</td>\n",
              "      <td>10000.00</td>\n",
              "      <td>865.44</td>\n",
              "      <td>0.0</td>\n",
              "      <td>0.0</td>\n",
              "      <td>0.0</td>\n",
              "      <td>Mar-11</td>\n",
              "      <td>6142.09</td>\n",
              "      <td>NaN</td>\n",
              "      <td>Mar-14</td>\n",
              "      <td>0.0</td>\n",
              "      <td>NaN</td>\n",
              "      <td>1</td>\n",
              "      <td>INDIVIDUAL</td>\n",
              "      <td>0.0</td>\n",
              "      <td>NaN</td>\n",
              "      <td>NaN</td>\n",
              "      <td>NaN</td>\n",
              "    </tr>\n",
              "    <tr>\n",
              "      <th>15610</th>\n",
              "      <td>12000</td>\n",
              "      <td>12000</td>\n",
              "      <td>11875.0</td>\n",
              "      <td>36 months</td>\n",
              "      <td>5.42</td>\n",
              "      <td>361.92</td>\n",
              "      <td>A</td>\n",
              "      <td>NaN</td>\n",
              "      <td>NaN</td>\n",
              "      <td>MORTGAGE</td>\n",
              "      <td>33600.0</td>\n",
              "      <td>Verified</td>\n",
              "      <td>May-11</td>\n",
              "      <td>Fully Paid</td>\n",
              "      <td>n</td>\n",
              "      <td>debt_consolidation</td>\n",
              "      <td>Debt Consolidation loan</td>\n",
              "      <td>WI</td>\n",
              "      <td>21.43</td>\n",
              "      <td>0.0</td>\n",
              "      <td>Jan-89</td>\n",
              "      <td>0.0</td>\n",
              "      <td>NaN</td>\n",
              "      <td>NaN</td>\n",
              "      <td>18.0</td>\n",
              "      <td>0.0</td>\n",
              "      <td>10805</td>\n",
              "      <td>17.9</td>\n",
              "      <td>29.0</td>\n",
              "      <td>f</td>\n",
              "      <td>0.00</td>\n",
              "      <td>0.00</td>\n",
              "      <td>13026.22487</td>\n",
              "      <td>12890.53</td>\n",
              "      <td>12000.00</td>\n",
              "      <td>1026.22</td>\n",
              "      <td>0.0</td>\n",
              "      <td>0.0</td>\n",
              "      <td>0.0</td>\n",
              "      <td>May-14</td>\n",
              "      <td>392.02</td>\n",
              "      <td>NaN</td>\n",
              "      <td>May-14</td>\n",
              "      <td>0.0</td>\n",
              "      <td>NaN</td>\n",
              "      <td>1</td>\n",
              "      <td>INDIVIDUAL</td>\n",
              "      <td>0.0</td>\n",
              "      <td>NaN</td>\n",
              "      <td>NaN</td>\n",
              "      <td>NaN</td>\n",
              "    </tr>\n",
              "    <tr>\n",
              "      <th>62581</th>\n",
              "      <td>7000</td>\n",
              "      <td>7000</td>\n",
              "      <td>7000.0</td>\n",
              "      <td>36 months</td>\n",
              "      <td>7.90</td>\n",
              "      <td>219.04</td>\n",
              "      <td>A</td>\n",
              "      <td>Branch Service Leader</td>\n",
              "      <td>8 years</td>\n",
              "      <td>MORTGAGE</td>\n",
              "      <td>66428.0</td>\n",
              "      <td>Not Verified</td>\n",
              "      <td>Nov-13</td>\n",
              "      <td>Current</td>\n",
              "      <td>n</td>\n",
              "      <td>debt_consolidation</td>\n",
              "      <td>Medical Bills</td>\n",
              "      <td>TN</td>\n",
              "      <td>20.61</td>\n",
              "      <td>0.0</td>\n",
              "      <td>Mar-97</td>\n",
              "      <td>3.0</td>\n",
              "      <td>81.0</td>\n",
              "      <td>NaN</td>\n",
              "      <td>11.0</td>\n",
              "      <td>0.0</td>\n",
              "      <td>818</td>\n",
              "      <td>7.8</td>\n",
              "      <td>28.0</td>\n",
              "      <td>w</td>\n",
              "      <td>2112.82</td>\n",
              "      <td>2112.82</td>\n",
              "      <td>5695.04000</td>\n",
              "      <td>5695.04</td>\n",
              "      <td>4887.18</td>\n",
              "      <td>807.86</td>\n",
              "      <td>0.0</td>\n",
              "      <td>0.0</td>\n",
              "      <td>0.0</td>\n",
              "      <td>Jan-16</td>\n",
              "      <td>219.04</td>\n",
              "      <td>Feb-16</td>\n",
              "      <td>Jan-16</td>\n",
              "      <td>0.0</td>\n",
              "      <td>NaN</td>\n",
              "      <td>1</td>\n",
              "      <td>INDIVIDUAL</td>\n",
              "      <td>0.0</td>\n",
              "      <td>0.0</td>\n",
              "      <td>118048.0</td>\n",
              "      <td>10500.0</td>\n",
              "    </tr>\n",
              "    <tr>\n",
              "      <th>71672</th>\n",
              "      <td>17050</td>\n",
              "      <td>17050</td>\n",
              "      <td>17050.0</td>\n",
              "      <td>36 months</td>\n",
              "      <td>11.99</td>\n",
              "      <td>566.23</td>\n",
              "      <td>B</td>\n",
              "      <td>Sr. Loan Officer</td>\n",
              "      <td>&lt; 1 year</td>\n",
              "      <td>MORTGAGE</td>\n",
              "      <td>62000.0</td>\n",
              "      <td>Verified</td>\n",
              "      <td>Nov-13</td>\n",
              "      <td>Current</td>\n",
              "      <td>n</td>\n",
              "      <td>debt_consolidation</td>\n",
              "      <td>The Consolidator</td>\n",
              "      <td>TX</td>\n",
              "      <td>18.14</td>\n",
              "      <td>1.0</td>\n",
              "      <td>Dec-00</td>\n",
              "      <td>3.0</td>\n",
              "      <td>17.0</td>\n",
              "      <td>NaN</td>\n",
              "      <td>8.0</td>\n",
              "      <td>0.0</td>\n",
              "      <td>1249</td>\n",
              "      <td>22.7</td>\n",
              "      <td>23.0</td>\n",
              "      <td>w</td>\n",
              "      <td>4339.41</td>\n",
              "      <td>4339.41</td>\n",
              "      <td>15721.98000</td>\n",
              "      <td>15721.98</td>\n",
              "      <td>12710.59</td>\n",
              "      <td>3011.39</td>\n",
              "      <td>0.0</td>\n",
              "      <td>0.0</td>\n",
              "      <td>0.0</td>\n",
              "      <td>Jan-16</td>\n",
              "      <td>566.23</td>\n",
              "      <td>Feb-16</td>\n",
              "      <td>Jun-14</td>\n",
              "      <td>0.0</td>\n",
              "      <td>17.0</td>\n",
              "      <td>1</td>\n",
              "      <td>INDIVIDUAL</td>\n",
              "      <td>0.0</td>\n",
              "      <td>0.0</td>\n",
              "      <td>207095.0</td>\n",
              "      <td>5500.0</td>\n",
              "    </tr>\n",
              "    <tr>\n",
              "      <th>288590</th>\n",
              "      <td>27200</td>\n",
              "      <td>27200</td>\n",
              "      <td>27200.0</td>\n",
              "      <td>60 months</td>\n",
              "      <td>18.99</td>\n",
              "      <td>705.44</td>\n",
              "      <td>E</td>\n",
              "      <td>VP Operations/Marketing</td>\n",
              "      <td>8 years</td>\n",
              "      <td>RENT</td>\n",
              "      <td>68000.0</td>\n",
              "      <td>Verified</td>\n",
              "      <td>Oct-14</td>\n",
              "      <td>Current</td>\n",
              "      <td>n</td>\n",
              "      <td>small_business</td>\n",
              "      <td>Business</td>\n",
              "      <td>NV</td>\n",
              "      <td>12.05</td>\n",
              "      <td>0.0</td>\n",
              "      <td>Jun-66</td>\n",
              "      <td>0.0</td>\n",
              "      <td>NaN</td>\n",
              "      <td>NaN</td>\n",
              "      <td>17.0</td>\n",
              "      <td>0.0</td>\n",
              "      <td>29048</td>\n",
              "      <td>49.2</td>\n",
              "      <td>29.0</td>\n",
              "      <td>w</td>\n",
              "      <td>22585.18</td>\n",
              "      <td>22585.18</td>\n",
              "      <td>10552.90000</td>\n",
              "      <td>10552.90</td>\n",
              "      <td>4614.82</td>\n",
              "      <td>5938.08</td>\n",
              "      <td>0.0</td>\n",
              "      <td>0.0</td>\n",
              "      <td>0.0</td>\n",
              "      <td>Jan-16</td>\n",
              "      <td>705.44</td>\n",
              "      <td>Feb-16</td>\n",
              "      <td>Jan-16</td>\n",
              "      <td>0.0</td>\n",
              "      <td>NaN</td>\n",
              "      <td>1</td>\n",
              "      <td>INDIVIDUAL</td>\n",
              "      <td>0.0</td>\n",
              "      <td>0.0</td>\n",
              "      <td>29048.0</td>\n",
              "      <td>59100.0</td>\n",
              "    </tr>\n",
              "  </tbody>\n",
              "</table>\n",
              "</div>"
            ],
            "text/plain": [
              "        loan_amnt  funded_amnt  funded_amnt_inv        term  int_rate  \\\n",
              "34038       10000        10000           9875.0   36 months      8.59   \n",
              "15610       12000        12000          11875.0   36 months      5.42   \n",
              "62581        7000         7000           7000.0   36 months      7.90   \n",
              "71672       17050        17050          17050.0   36 months     11.99   \n",
              "288590      27200        27200          27200.0   60 months     18.99   \n",
              "\n",
              "        installment grade                emp_title emp_length home_ownership  \\\n",
              "34038        316.11     A          Element Funding   < 1 year            OWN   \n",
              "15610        361.92     A                      NaN        NaN       MORTGAGE   \n",
              "62581        219.04     A    Branch Service Leader    8 years       MORTGAGE   \n",
              "71672        566.23     B         Sr. Loan Officer   < 1 year       MORTGAGE   \n",
              "288590       705.44     E  VP Operations/Marketing    8 years           RENT   \n",
              "\n",
              "        annual_inc verification_status issue_d loan_status pymnt_plan  \\\n",
              "34038     150000.0        Not Verified  Nov-09  Fully Paid          n   \n",
              "15610      33600.0            Verified  May-11  Fully Paid          n   \n",
              "62581      66428.0        Not Verified  Nov-13     Current          n   \n",
              "71672      62000.0            Verified  Nov-13     Current          n   \n",
              "288590     68000.0            Verified  Oct-14     Current          n   \n",
              "\n",
              "                   purpose                    title addr_state    dti  \\\n",
              "34038   debt_consolidation   savy debt consolidator         GA   4.14   \n",
              "15610   debt_consolidation  Debt Consolidation loan         WI  21.43   \n",
              "62581   debt_consolidation            Medical Bills         TN  20.61   \n",
              "71672   debt_consolidation         The Consolidator         TX  18.14   \n",
              "288590      small_business                 Business         NV  12.05   \n",
              "\n",
              "        delinq_2yrs earliest_cr_line  inq_last_6mths  mths_since_last_delinq  \\\n",
              "34038           0.0           Dec-92             2.0                     NaN   \n",
              "15610           0.0           Jan-89             0.0                     NaN   \n",
              "62581           0.0           Mar-97             3.0                    81.0   \n",
              "71672           1.0           Dec-00             3.0                    17.0   \n",
              "288590          0.0           Jun-66             0.0                     NaN   \n",
              "\n",
              "        mths_since_last_record  open_acc  pub_rec  revol_bal  revol_util  \\\n",
              "34038                      NaN      19.0      0.0      82445        16.7   \n",
              "15610                      NaN      18.0      0.0      10805        17.9   \n",
              "62581                      NaN      11.0      0.0        818         7.8   \n",
              "71672                      NaN       8.0      0.0       1249        22.7   \n",
              "288590                     NaN      17.0      0.0      29048        49.2   \n",
              "\n",
              "        total_acc initial_list_status  out_prncp  out_prncp_inv  total_pymnt  \\\n",
              "34038        32.0                   f       0.00           0.00  10865.44000   \n",
              "15610        29.0                   f       0.00           0.00  13026.22487   \n",
              "62581        28.0                   w    2112.82        2112.82   5695.04000   \n",
              "71672        23.0                   w    4339.41        4339.41  15721.98000   \n",
              "288590       29.0                   w   22585.18       22585.18  10552.90000   \n",
              "\n",
              "        total_pymnt_inv  total_rec_prncp  total_rec_int  total_rec_late_fee  \\\n",
              "34038          10729.62         10000.00         865.44                 0.0   \n",
              "15610          12890.53         12000.00        1026.22                 0.0   \n",
              "62581           5695.04          4887.18         807.86                 0.0   \n",
              "71672          15721.98         12710.59        3011.39                 0.0   \n",
              "288590         10552.90          4614.82        5938.08                 0.0   \n",
              "\n",
              "        recoveries  collection_recovery_fee last_pymnt_d  last_pymnt_amnt  \\\n",
              "34038          0.0                      0.0       Mar-11          6142.09   \n",
              "15610          0.0                      0.0       May-14           392.02   \n",
              "62581          0.0                      0.0       Jan-16           219.04   \n",
              "71672          0.0                      0.0       Jan-16           566.23   \n",
              "288590         0.0                      0.0       Jan-16           705.44   \n",
              "\n",
              "       next_pymnt_d last_credit_pull_d  collections_12_mths_ex_med  \\\n",
              "34038           NaN             Mar-14                         0.0   \n",
              "15610           NaN             May-14                         0.0   \n",
              "62581        Feb-16             Jan-16                         0.0   \n",
              "71672        Feb-16             Jun-14                         0.0   \n",
              "288590       Feb-16             Jan-16                         0.0   \n",
              "\n",
              "        mths_since_last_major_derog  policy_code application_type  \\\n",
              "34038                           NaN            1       INDIVIDUAL   \n",
              "15610                           NaN            1       INDIVIDUAL   \n",
              "62581                           NaN            1       INDIVIDUAL   \n",
              "71672                          17.0            1       INDIVIDUAL   \n",
              "288590                          NaN            1       INDIVIDUAL   \n",
              "\n",
              "        acc_now_delinq  tot_coll_amt  tot_cur_bal  total_rev_hi_lim  \n",
              "34038              0.0           NaN          NaN               NaN  \n",
              "15610              0.0           NaN          NaN               NaN  \n",
              "62581              0.0           0.0     118048.0           10500.0  \n",
              "71672              0.0           0.0     207095.0            5500.0  \n",
              "288590             0.0           0.0      29048.0           59100.0  "
            ]
          },
          "execution_count": 100,
          "metadata": {},
          "output_type": "execute_result"
        }
      ],
      "source": [
        "data.sample(5)"
      ]
    },
    {
      "cell_type": "markdown",
      "id": "da3e1988-70da-4958-85ec-c8866cebd7fd",
      "metadata": {
        "id": "da3e1988-70da-4958-85ec-c8866cebd7fd",
        "tags": []
      },
      "source": [
        "# DEFINE TARGET VARIABLE / LABELING"
      ]
    },
    {
      "cell_type": "markdown",
      "id": "44602917-ef8a-46c6-9331-9272c123e0e5",
      "metadata": {
        "id": "44602917-ef8a-46c6-9331-9272c123e0e5"
      },
      "source": [
        "Dalam project credit risk modeling, tujuan utama adalah untuk melakukan prediksi terhadap suatu individu akan kemampuan mereka untuk melakukan pembayaran terhadap pinjaman/kredit yang diberikan. Oleh karena itu, variabel target yang digunakan harus mencerminkan kemampuan individu dalam hal tersebut. "
      ]
    },
    {
      "cell_type": "markdown",
      "id": "5e4fcac9-6eb4-4890-9eb5-538f21f0983c",
      "metadata": {
        "id": "5e4fcac9-6eb4-4890-9eb5-538f21f0983c"
      },
      "source": [
        "Dalam dataset ini, variabel `loan_status` adalah variabel yang dapat dijadikan variabel target karena mencerminkan performa masing-masing individu dalam melakukan pembayaran terhadap pinjaman/kredit selama ini."
      ]
    },
    {
      "cell_type": "code",
      "execution_count": 101,
      "id": "44f62c30-218b-421a-a0ae-435b0a10fad1",
      "metadata": {
        "colab": {
          "base_uri": "https://localhost:8080/"
        },
        "id": "44f62c30-218b-421a-a0ae-435b0a10fad1",
        "outputId": "3720f24f-46e0-4f8c-91ec-538c59b171d9"
      },
      "outputs": [
        {
          "data": {
            "text/plain": [
              "Current                                                48.087757\n",
              "Fully Paid                                             39.619332\n",
              "Charged Off                                             9.109236\n",
              "Late (31-120 days)                                      1.479782\n",
              "In Grace Period                                         0.674695\n",
              "Does not meet the credit policy. Status:Fully Paid      0.426349\n",
              "Late (16-30 days)                                       0.261214\n",
              "Default                                                 0.178432\n",
              "Does not meet the credit policy. Status:Charged Off     0.163205\n",
              "Name: loan_status, dtype: float64"
            ]
          },
          "execution_count": 101,
          "metadata": {},
          "output_type": "execute_result"
        }
      ],
      "source": [
        "data.loan_status.value_counts(normalize=True)*100"
      ]
    },
    {
      "cell_type": "markdown",
      "id": "a2eae777-8b21-41be-b3e6-6f94e7da71b1",
      "metadata": {
        "id": "a2eae777-8b21-41be-b3e6-6f94e7da71b1"
      },
      "source": [
        "Dapat dilihat bahwa variabel `loan_status` memiliki beberapa nilai:"
      ]
    },
    {
      "cell_type": "markdown",
      "id": "aa95e9b6-184e-4f39-876a-0b10d02572e7",
      "metadata": {
        "id": "aa95e9b6-184e-4f39-876a-0b10d02572e7"
      },
      "source": [
        "`Current` artinya pembayaran lancar; `Charged Off` artinya pembayaran macet sehingga dihapusbukukan; `Late` artinya pembayaran telat dilakukan; `In Grace Period` artinya dalam masa tenggang; `Fully Paid` artinya pembayaran lunas; `Default` artinya pembayaran macet"
      ]
    },
    {
      "cell_type": "markdown",
      "id": "cef1c933-a27a-4f31-b8f5-6396b4230a71",
      "metadata": {
        "id": "cef1c933-a27a-4f31-b8f5-6396b4230a71"
      },
      "source": [
        "Dari definisi-definisi tersebut, masing-masing individu dapat ditandai apakah mereka merupakan `bad loan` (peminjam yang buruk) atau `good loan` (peminjam yang baik)"
      ]
    },
    {
      "cell_type": "markdown",
      "id": "ae1c5e10-21cc-46f5-9afe-9eb15e1cb08e",
      "metadata": {
        "id": "ae1c5e10-21cc-46f5-9afe-9eb15e1cb08e"
      },
      "source": [
        "Definisi bad dan good loan terkadang bisa berbeda tergantung dari kebutuhan bisnis. Pada contoh ini, saya menggunakan keterlambatan pembayaran di atas 30 hari dan yang lebih buruk dari itu sebagai penanda bad loan."
      ]
    },
    {
      "cell_type": "code",
      "execution_count": 102,
      "id": "40095b4b-0181-432d-af07-fc25e5c6b8fe",
      "metadata": {
        "id": "40095b4b-0181-432d-af07-fc25e5c6b8fe"
      },
      "outputs": [],
      "source": [
        "bad_status = [\n",
        "    'Charged Off' \n",
        "    , 'Default' \n",
        "    , 'Does not meet the credit policy. Status:Charged Off'\n",
        "    , 'Late (31-120 days)'\n",
        "]\n",
        "\n",
        "data['bad_flag'] = np.where(data['loan_status'].isin(bad_status), 1, 0)"
      ]
    },
    {
      "cell_type": "code",
      "execution_count": 103,
      "id": "d2e90734-c995-4dca-af6c-7db90b3beb79",
      "metadata": {
        "colab": {
          "base_uri": "https://localhost:8080/"
        },
        "id": "d2e90734-c995-4dca-af6c-7db90b3beb79",
        "outputId": "750b6316-2b85-40eb-ef30-5d5e94adfa42"
      },
      "outputs": [
        {
          "data": {
            "text/plain": [
              "0    89.069346\n",
              "1    10.930654\n",
              "Name: bad_flag, dtype: float64"
            ]
          },
          "execution_count": 103,
          "metadata": {},
          "output_type": "execute_result"
        }
      ],
      "source": [
        "data['bad_flag'].value_counts(normalize=True)*100"
      ]
    },
    {
      "cell_type": "markdown",
      "id": "934107d7-9757-42d4-9333-c234430c0648",
      "metadata": {
        "id": "934107d7-9757-42d4-9333-c234430c0648"
      },
      "source": [
        "Setelah melakukan flagging terhadap bad/good loan, dapat dilihat bahwa jumlah individu yang ditandai sebagai bad loan jauh lebih sedikit daripada good loan. Hal ini menyebabkan problem ini menjadi problem imbalanced dataset."
      ]
    },
    {
      "cell_type": "markdown",
      "id": "175024c9-9686-4a2f-8c9c-f4b2f74edb29",
      "metadata": {
        "id": "175024c9-9686-4a2f-8c9c-f4b2f74edb29"
      },
      "source": [
        "Jangan lupa untuk membuang kolom asal `loan_status` "
      ]
    },
    {
      "cell_type": "code",
      "execution_count": 104,
      "id": "64ca6b3f-d165-4e53-9368-b890335c0f04",
      "metadata": {
        "id": "64ca6b3f-d165-4e53-9368-b890335c0f04"
      },
      "outputs": [],
      "source": [
        "data.drop('loan_status', axis=1, inplace=True)"
      ]
    },
    {
      "cell_type": "markdown",
      "id": "55a4d30b-deea-4d22-b082-9e47fff922d5",
      "metadata": {
        "id": "55a4d30b-deea-4d22-b082-9e47fff922d5",
        "tags": []
      },
      "source": [
        "# CLEANING, PREPROCESSING, FEATURE ENGINEERING"
      ]
    },
    {
      "cell_type": "markdown",
      "id": "36ea8436-a032-4c92-b267-d6c600b8f51a",
      "metadata": {
        "id": "36ea8436-a032-4c92-b267-d6c600b8f51a"
      },
      "source": [
        "Pada step ini, dilakukan pembersihan/modifikasi beberapa fitur ke dalam format yang dapat digunakan untuk modeling."
      ]
    },
    {
      "cell_type": "markdown",
      "id": "07f366c4-907d-4ab9-84bb-49ba304baae7",
      "metadata": {
        "id": "07f366c4-907d-4ab9-84bb-49ba304baae7"
      },
      "source": [
        "### emp_length"
      ]
    },
    {
      "cell_type": "markdown",
      "id": "8b0089ae-9856-4295-8f13-259ffa53541e",
      "metadata": {
        "id": "8b0089ae-9856-4295-8f13-259ffa53541e"
      },
      "source": [
        "Memodifikasi `emp_length`. Contoh: 4 years -> 4"
      ]
    },
    {
      "cell_type": "code",
      "execution_count": 105,
      "id": "f3a36a04-a5dc-4e16-8930-176c03442155",
      "metadata": {
        "colab": {
          "base_uri": "https://localhost:8080/"
        },
        "id": "f3a36a04-a5dc-4e16-8930-176c03442155",
        "outputId": "c8f0256c-4a0c-4427-c0bd-5c773e96d8a3"
      },
      "outputs": [
        {
          "data": {
            "text/plain": [
              "array(['10+ years', '< 1 year', '1 year', '3 years', '8 years', '9 years',\n",
              "       '4 years', '5 years', '6 years', '2 years', '7 years', nan],\n",
              "      dtype=object)"
            ]
          },
          "execution_count": 105,
          "metadata": {},
          "output_type": "execute_result"
        }
      ],
      "source": [
        "data['emp_length'].unique()"
      ]
    },
    {
      "cell_type": "code",
      "execution_count": 106,
      "id": "e39a05a9-b651-413a-8e12-9890f68923b5",
      "metadata": {
        "colab": {
          "base_uri": "https://localhost:8080/"
        },
        "id": "e39a05a9-b651-413a-8e12-9890f68923b5",
        "outputId": "e0173987-f380-416f-ec9a-a47a6492b0e4"
      },
      "outputs": [
        {
          "name": "stderr",
          "output_type": "stream",
          "text": [
            "C:\\Users\\user\\AppData\\Local\\Temp\\ipykernel_11240\\1742887160.py:1: FutureWarning: The default value of regex will change from True to False in a future version.\n",
            "  data['emp_length_int'] = data['emp_length'].str.replace('\\+ years', '')\n"
          ]
        }
      ],
      "source": [
        "data['emp_length_int'] = data['emp_length'].str.replace('\\+ years', '')\n",
        "data['emp_length_int'] = data['emp_length_int'].str.replace('< 1 year', str(0))\n",
        "data['emp_length_int'] = data['emp_length_int'].str.replace(' years', '')\n",
        "data['emp_length_int'] = data['emp_length_int'].str.replace(' year', '')"
      ]
    },
    {
      "cell_type": "code",
      "execution_count": 107,
      "id": "da25ef25-1c61-45a4-bd2d-0b7b44ac19cd",
      "metadata": {
        "id": "da25ef25-1c61-45a4-bd2d-0b7b44ac19cd"
      },
      "outputs": [],
      "source": [
        "data['emp_length_int'] = data['emp_length_int'].astype(float)"
      ]
    },
    {
      "cell_type": "code",
      "execution_count": 108,
      "id": "882c194d-9e31-4b64-b333-c653466db304",
      "metadata": {
        "id": "882c194d-9e31-4b64-b333-c653466db304"
      },
      "outputs": [],
      "source": [
        "data.drop('emp_length', axis=1, inplace=True)"
      ]
    },
    {
      "cell_type": "markdown",
      "id": "752b77e6-0b41-4126-bf8f-48267cbadce7",
      "metadata": {
        "id": "752b77e6-0b41-4126-bf8f-48267cbadce7"
      },
      "source": [
        "### term"
      ]
    },
    {
      "cell_type": "markdown",
      "id": "d5887e83-7874-4f46-978e-c760f872da6e",
      "metadata": {
        "id": "d5887e83-7874-4f46-978e-c760f872da6e"
      },
      "source": [
        "Memodifikasi `term`. Contoh: 36 months -> 36"
      ]
    },
    {
      "cell_type": "code",
      "execution_count": 109,
      "id": "a2fe1bd1-ee4e-4d24-a7da-48915f7994ac",
      "metadata": {
        "colab": {
          "base_uri": "https://localhost:8080/"
        },
        "id": "a2fe1bd1-ee4e-4d24-a7da-48915f7994ac",
        "outputId": "d56289ba-cdf9-4a0b-c178-6654c7b60b38"
      },
      "outputs": [
        {
          "data": {
            "text/plain": [
              "array([' 36 months', ' 60 months'], dtype=object)"
            ]
          },
          "execution_count": 109,
          "metadata": {},
          "output_type": "execute_result"
        }
      ],
      "source": [
        "data['term'].unique()"
      ]
    },
    {
      "cell_type": "code",
      "execution_count": 110,
      "id": "fcb118cf-b5e6-4e4d-a599-2cbd467c93f9",
      "metadata": {
        "id": "fcb118cf-b5e6-4e4d-a599-2cbd467c93f9"
      },
      "outputs": [],
      "source": [
        "data['term_int'] = data['term'].str.replace(' months', '')\n",
        "data['term_int'] = data['term_int'].astype(float)"
      ]
    },
    {
      "cell_type": "code",
      "execution_count": 111,
      "id": "612fb81d-be67-498c-9b66-ec318aa91147",
      "metadata": {
        "id": "612fb81d-be67-498c-9b66-ec318aa91147"
      },
      "outputs": [],
      "source": [
        "data.drop('term', axis=1, inplace=True)"
      ]
    },
    {
      "cell_type": "markdown",
      "id": "29f06348-36b5-4dcb-8bf0-ba9ce8fe5926",
      "metadata": {
        "id": "29f06348-36b5-4dcb-8bf0-ba9ce8fe5926"
      },
      "source": [
        "### earliest_cr_line"
      ]
    },
    {
      "cell_type": "markdown",
      "id": "ee00acc9-5100-45d8-bd2e-f60897611c81",
      "metadata": {
        "id": "ee00acc9-5100-45d8-bd2e-f60897611c81"
      },
      "source": [
        "Memodifikasi `earliest_cr_line` dari format bulan-tahun menjadi perhitungan berapa lama waktu berlalu sejak waktu tersebut. Untuk melakukan hal ini, umumnya digunakan reference date = hari ini. Namun, karena dataset ini merupakan dataset tahun 2007-2014, maka akan lebih relevan jika menggunakan reference date di sekitar tahun 2017. Dalam contoh ini, saya menggunakan tanggal 2017-12-01 sebagai reference date."
      ]
    },
    {
      "cell_type": "code",
      "execution_count": 112,
      "id": "61a11bc8-67bc-4049-85e2-49d14e0a7595",
      "metadata": {
        "colab": {
          "base_uri": "https://localhost:8080/"
        },
        "id": "61a11bc8-67bc-4049-85e2-49d14e0a7595",
        "outputId": "4dfe7264-8817-47bf-c232-ccf5886da658"
      },
      "outputs": [
        {
          "data": {
            "text/plain": [
              "0    Jan-85\n",
              "1    Apr-99\n",
              "2    Nov-01\n",
              "Name: earliest_cr_line, dtype: object"
            ]
          },
          "execution_count": 112,
          "metadata": {},
          "output_type": "execute_result"
        }
      ],
      "source": [
        "data['earliest_cr_line'].head(3)"
      ]
    },
    {
      "cell_type": "code",
      "execution_count": 113,
      "id": "ef6a827e-9b23-4c6d-b6ea-35f18466278f",
      "metadata": {
        "colab": {
          "base_uri": "https://localhost:8080/"
        },
        "id": "ef6a827e-9b23-4c6d-b6ea-35f18466278f",
        "outputId": "d7dcb69f-731e-43f0-9f4d-912e6764e4dd"
      },
      "outputs": [
        {
          "data": {
            "text/plain": [
              "0   1985-01-01\n",
              "1   1999-04-01\n",
              "2   2001-11-01\n",
              "Name: earliest_cr_line_date, dtype: datetime64[ns]"
            ]
          },
          "execution_count": 113,
          "metadata": {},
          "output_type": "execute_result"
        }
      ],
      "source": [
        "data['earliest_cr_line_date'] = pd.to_datetime(data['earliest_cr_line'], format='%b-%y')\n",
        "data['earliest_cr_line_date'].head(3)"
      ]
    },
    {
      "cell_type": "code",
      "execution_count": 114,
      "id": "927e5fa7-f538-42c4-a41d-2d1e675e34a0",
      "metadata": {
        "colab": {
          "base_uri": "https://localhost:8080/"
        },
        "id": "927e5fa7-f538-42c4-a41d-2d1e675e34a0",
        "outputId": "f732ae70-6ed1-498c-87ce-e3fbf7b4b761"
      },
      "outputs": [
        {
          "data": {
            "text/plain": [
              "0    395.0\n",
              "1    224.0\n",
              "2    193.0\n",
              "Name: mths_since_earliest_cr_line, dtype: float64"
            ]
          },
          "execution_count": 114,
          "metadata": {},
          "output_type": "execute_result"
        }
      ],
      "source": [
        "data['mths_since_earliest_cr_line'] = round(pd.to_numeric((pd.to_datetime('2017-12-01') - data['earliest_cr_line_date']) / np.timedelta64(1, 'M')))\n",
        "data['mths_since_earliest_cr_line'].head(3)"
      ]
    },
    {
      "cell_type": "code",
      "execution_count": 115,
      "id": "734bde13-2bf2-4672-907a-4e684c2f3701",
      "metadata": {
        "colab": {
          "base_uri": "https://localhost:8080/"
        },
        "id": "734bde13-2bf2-4672-907a-4e684c2f3701",
        "outputId": "63d0883f-2eb6-42d9-ea92-82fc9581758c"
      },
      "outputs": [
        {
          "data": {
            "text/plain": [
              "count    466256.000000\n",
              "mean        239.482430\n",
              "std          93.974829\n",
              "min        -612.000000\n",
              "25%         183.000000\n",
              "50%         225.000000\n",
              "75%         285.000000\n",
              "max         587.000000\n",
              "Name: mths_since_earliest_cr_line, dtype: float64"
            ]
          },
          "execution_count": 115,
          "metadata": {},
          "output_type": "execute_result"
        }
      ],
      "source": [
        "data['mths_since_earliest_cr_line'].describe()"
      ]
    },
    {
      "cell_type": "markdown",
      "id": "17cc3cf6-d3f3-4673-97cb-53394a43ec3b",
      "metadata": {
        "id": "17cc3cf6-d3f3-4673-97cb-53394a43ec3b"
      },
      "source": [
        "Terlihat ada nilai yang aneh, yaitu negatif."
      ]
    },
    {
      "cell_type": "code",
      "execution_count": 116,
      "id": "d84de89b-00ab-40d5-8690-a78d9ef0c98d",
      "metadata": {
        "colab": {
          "base_uri": "https://localhost:8080/",
          "height": 143
        },
        "id": "d84de89b-00ab-40d5-8690-a78d9ef0c98d",
        "outputId": "8fe5e2d3-60c4-4822-a91b-60168ceedc69"
      },
      "outputs": [
        {
          "data": {
            "text/html": [
              "<div>\n",
              "<style scoped>\n",
              "    .dataframe tbody tr th:only-of-type {\n",
              "        vertical-align: middle;\n",
              "    }\n",
              "\n",
              "    .dataframe tbody tr th {\n",
              "        vertical-align: top;\n",
              "    }\n",
              "\n",
              "    .dataframe thead th {\n",
              "        text-align: right;\n",
              "    }\n",
              "</style>\n",
              "<table border=\"1\" class=\"dataframe\">\n",
              "  <thead>\n",
              "    <tr style=\"text-align: right;\">\n",
              "      <th></th>\n",
              "      <th>earliest_cr_line</th>\n",
              "      <th>earliest_cr_line_date</th>\n",
              "      <th>mths_since_earliest_cr_line</th>\n",
              "    </tr>\n",
              "  </thead>\n",
              "  <tbody>\n",
              "    <tr>\n",
              "      <th>1580</th>\n",
              "      <td>Sep-62</td>\n",
              "      <td>2062-09-01</td>\n",
              "      <td>-537.0</td>\n",
              "    </tr>\n",
              "    <tr>\n",
              "      <th>1770</th>\n",
              "      <td>Sep-68</td>\n",
              "      <td>2068-09-01</td>\n",
              "      <td>-609.0</td>\n",
              "    </tr>\n",
              "    <tr>\n",
              "      <th>2799</th>\n",
              "      <td>Sep-64</td>\n",
              "      <td>2064-09-01</td>\n",
              "      <td>-561.0</td>\n",
              "    </tr>\n",
              "  </tbody>\n",
              "</table>\n",
              "</div>"
            ],
            "text/plain": [
              "     earliest_cr_line earliest_cr_line_date  mths_since_earliest_cr_line\n",
              "1580           Sep-62            2062-09-01                       -537.0\n",
              "1770           Sep-68            2068-09-01                       -609.0\n",
              "2799           Sep-64            2064-09-01                       -561.0"
            ]
          },
          "execution_count": 116,
          "metadata": {},
          "output_type": "execute_result"
        }
      ],
      "source": [
        "data[data['mths_since_earliest_cr_line']<0][['earliest_cr_line', 'earliest_cr_line_date', 'mths_since_earliest_cr_line']].head(3)"
      ]
    },
    {
      "cell_type": "markdown",
      "id": "6a0374c3-77fa-46e3-8075-5ff6cedb7de7",
      "metadata": {
        "id": "6a0374c3-77fa-46e3-8075-5ff6cedb7de7"
      },
      "source": [
        "Ternyata nilai negatif muncul karena fungsi Python salah menginterpretasikan tahun 62 menjadi tahun 2062, padahal seharusnya merupakan tahun 1962."
      ]
    },
    {
      "cell_type": "markdown",
      "id": "3d909118-1988-4bfc-8795-f6a44809b3c7",
      "metadata": {
        "id": "3d909118-1988-4bfc-8795-f6a44809b3c7"
      },
      "source": [
        "Untuk mengatasi hal ini, dapat dilakukan preprocessing lebih jauh jika ingin membenarkan tahun 2062 menjadi 1962. Namun, kali ini saya hanya mengubah nilai yang negatif menjadi nilai maximum dari fitur tersebut. Karena di sini saya mengetahui bahwa nilai-nilai yang negatif artinya adalah data yang sudah tua (tahun 1900an), maka masih masuk akal jika saya mengganti nilai-nilai tersebut menjadi nilai terbesar."
      ]
    },
    {
      "cell_type": "code",
      "execution_count": 117,
      "id": "3eece212-c803-4298-91db-f8f645ca5e22",
      "metadata": {
        "id": "3eece212-c803-4298-91db-f8f645ca5e22"
      },
      "outputs": [],
      "source": [
        "data.loc[data['mths_since_earliest_cr_line']<0, 'mths_since_earliest_cr_line'] = data['mths_since_earliest_cr_line'].max()"
      ]
    },
    {
      "cell_type": "code",
      "execution_count": 118,
      "id": "c834fa5d-7f28-4a3e-afa7-11bd919973c3",
      "metadata": {
        "id": "c834fa5d-7f28-4a3e-afa7-11bd919973c3"
      },
      "outputs": [],
      "source": [
        "data.drop(['earliest_cr_line', 'earliest_cr_line_date'], axis=1, inplace=True)"
      ]
    },
    {
      "cell_type": "markdown",
      "id": "f37a5e3b-480f-4c63-8e95-bb4852654c6c",
      "metadata": {
        "id": "f37a5e3b-480f-4c63-8e95-bb4852654c6c",
        "tags": []
      },
      "source": [
        "### issue_d"
      ]
    },
    {
      "cell_type": "markdown",
      "id": "715e5c98-bf11-46e8-902f-601d8e2eee3f",
      "metadata": {
        "id": "715e5c98-bf11-46e8-902f-601d8e2eee3f"
      },
      "source": [
        "Konsep preprocessing yang dilakukan sama dengan yang dilakukan terhadap variabel `earliest_cr_line`"
      ]
    },
    {
      "cell_type": "code",
      "execution_count": 119,
      "id": "aa592e64-24ea-475e-b7ff-df599dc07943",
      "metadata": {
        "id": "aa592e64-24ea-475e-b7ff-df599dc07943"
      },
      "outputs": [],
      "source": [
        "data['issue_d_date'] = pd.to_datetime(data['issue_d'], format='%b-%y')\n",
        "data['mths_since_issue_d'] = round(pd.to_numeric((pd.to_datetime('2017-12-01') - data['issue_d_date']) / np.timedelta64(1, 'M')))"
      ]
    },
    {
      "cell_type": "code",
      "execution_count": 120,
      "id": "c39bc522-0586-4952-9de8-d60d4b5a605d",
      "metadata": {
        "colab": {
          "base_uri": "https://localhost:8080/"
        },
        "id": "c39bc522-0586-4952-9de8-d60d4b5a605d",
        "outputId": "a4847b42-d110-47af-edab-dbd0e7bdd959"
      },
      "outputs": [
        {
          "data": {
            "text/plain": [
              "count    466285.000000\n",
              "mean         51.255187\n",
              "std          14.340154\n",
              "min          36.000000\n",
              "25%          41.000000\n",
              "50%          47.000000\n",
              "75%          57.000000\n",
              "max         126.000000\n",
              "Name: mths_since_issue_d, dtype: float64"
            ]
          },
          "execution_count": 120,
          "metadata": {},
          "output_type": "execute_result"
        }
      ],
      "source": [
        "data['mths_since_issue_d'].describe()"
      ]
    },
    {
      "cell_type": "code",
      "execution_count": 121,
      "id": "2ac3f14a-0234-40e4-a069-86ce36cf6c48",
      "metadata": {
        "id": "2ac3f14a-0234-40e4-a069-86ce36cf6c48"
      },
      "outputs": [],
      "source": [
        "data.drop(['issue_d', 'issue_d_date'], axis=1, inplace=True)"
      ]
    },
    {
      "cell_type": "markdown",
      "id": "20cb8392-d204-4b9c-a7b2-ca6e69ce3b7e",
      "metadata": {
        "id": "20cb8392-d204-4b9c-a7b2-ca6e69ce3b7e",
        "tags": []
      },
      "source": [
        "### last_pymnt_d"
      ]
    },
    {
      "cell_type": "markdown",
      "id": "f7cdd097-6263-45da-8bf6-dc3d2a15c2c3",
      "metadata": {
        "id": "f7cdd097-6263-45da-8bf6-dc3d2a15c2c3"
      },
      "source": [
        "Konsep preprocessing yang dilakukan sama dengan yang dilakukan terhadap variabel `earliest_cr_line`"
      ]
    },
    {
      "cell_type": "code",
      "execution_count": 122,
      "id": "ee5adad6-8ab8-43df-8a34-21b21effe274",
      "metadata": {
        "id": "ee5adad6-8ab8-43df-8a34-21b21effe274"
      },
      "outputs": [],
      "source": [
        "data['last_pymnt_d_date'] = pd.to_datetime(data['last_pymnt_d'], format='%b-%y')\n",
        "data['mths_since_last_pymnt_d'] = round(pd.to_numeric((pd.to_datetime('2017-12-01') - data['last_pymnt_d_date']) / np.timedelta64(1, 'M')))"
      ]
    },
    {
      "cell_type": "code",
      "execution_count": 123,
      "id": "6ef28e75-4263-48bc-a2f2-56d05236afd4",
      "metadata": {
        "colab": {
          "base_uri": "https://localhost:8080/"
        },
        "id": "6ef28e75-4263-48bc-a2f2-56d05236afd4",
        "outputId": "dd2260a4-7784-482b-85d5-146807b4fa12"
      },
      "outputs": [
        {
          "data": {
            "text/plain": [
              "count    465909.000000\n",
              "mean         31.294369\n",
              "std          12.809898\n",
              "min          23.000000\n",
              "25%          23.000000\n",
              "50%          24.000000\n",
              "75%          35.000000\n",
              "max         120.000000\n",
              "Name: mths_since_last_pymnt_d, dtype: float64"
            ]
          },
          "execution_count": 123,
          "metadata": {},
          "output_type": "execute_result"
        }
      ],
      "source": [
        "data['mths_since_last_pymnt_d'].describe()"
      ]
    },
    {
      "cell_type": "code",
      "execution_count": 124,
      "id": "0a6c53d6-0659-4e2b-b643-6ae7531f87e6",
      "metadata": {
        "id": "0a6c53d6-0659-4e2b-b643-6ae7531f87e6"
      },
      "outputs": [],
      "source": [
        "data.drop(['last_pymnt_d', 'last_pymnt_d_date'], axis=1, inplace=True)"
      ]
    },
    {
      "cell_type": "markdown",
      "id": "f79cfb76-cf00-4c9a-9516-f27f6a2886bf",
      "metadata": {
        "id": "f79cfb76-cf00-4c9a-9516-f27f6a2886bf",
        "tags": []
      },
      "source": [
        "### next_pymnt_d"
      ]
    },
    {
      "cell_type": "markdown",
      "id": "b9590ea1-c59c-4c9e-a7b6-842cd7746bbe",
      "metadata": {
        "id": "b9590ea1-c59c-4c9e-a7b6-842cd7746bbe"
      },
      "source": [
        "Konsep preprocessing yang dilakukan sama dengan yang dilakukan terhadap variabel `earliest_cr_line`"
      ]
    },
    {
      "cell_type": "code",
      "execution_count": 125,
      "id": "e6cf8d29-edc9-42af-b837-6fa1d4eb5519",
      "metadata": {
        "id": "e6cf8d29-edc9-42af-b837-6fa1d4eb5519"
      },
      "outputs": [],
      "source": [
        "data['next_pymnt_d_date'] = pd.to_datetime(data['next_pymnt_d'], format='%b-%y')\n",
        "data['mths_since_next_pymnt_d'] = round(pd.to_numeric((pd.to_datetime('2017-12-01') - data['next_pymnt_d_date']) / np.timedelta64(1, 'M')))"
      ]
    },
    {
      "cell_type": "code",
      "execution_count": 126,
      "id": "78b1654d-25b1-4d84-9fbb-4ba6ee77f9e9",
      "metadata": {
        "colab": {
          "base_uri": "https://localhost:8080/"
        },
        "id": "78b1654d-25b1-4d84-9fbb-4ba6ee77f9e9",
        "outputId": "6047298a-215e-4bfa-cee6-7757df778efc"
      },
      "outputs": [
        {
          "data": {
            "text/plain": [
              "count    239071.000000\n",
              "mean         22.738136\n",
              "std           6.082298\n",
              "min          21.000000\n",
              "25%          22.000000\n",
              "50%          22.000000\n",
              "75%          22.000000\n",
              "max         120.000000\n",
              "Name: mths_since_next_pymnt_d, dtype: float64"
            ]
          },
          "execution_count": 126,
          "metadata": {},
          "output_type": "execute_result"
        }
      ],
      "source": [
        "data['mths_since_next_pymnt_d'].describe()"
      ]
    },
    {
      "cell_type": "code",
      "execution_count": 127,
      "id": "43b09dc7-2c7f-499d-8c9c-499252754bd4",
      "metadata": {
        "id": "43b09dc7-2c7f-499d-8c9c-499252754bd4"
      },
      "outputs": [],
      "source": [
        "data.drop(['next_pymnt_d', 'next_pymnt_d_date'], axis=1, inplace=True)"
      ]
    },
    {
      "cell_type": "markdown",
      "id": "a1af0a43-71e2-4b08-9ad3-7f8cf394b1d0",
      "metadata": {
        "id": "a1af0a43-71e2-4b08-9ad3-7f8cf394b1d0",
        "tags": []
      },
      "source": [
        "### last_credit_pull_d"
      ]
    },
    {
      "cell_type": "markdown",
      "id": "b20d2cb6-570a-4055-9c0d-5c8313f3289b",
      "metadata": {
        "id": "b20d2cb6-570a-4055-9c0d-5c8313f3289b"
      },
      "source": [
        "Konsep preprocessing yang dilakukan sama dengan yang dilakukan terhadap variabel `earliest_cr_line`"
      ]
    },
    {
      "cell_type": "code",
      "execution_count": 128,
      "id": "19581450-4d1a-4ca6-9c5b-08cd3b730b84",
      "metadata": {
        "id": "19581450-4d1a-4ca6-9c5b-08cd3b730b84"
      },
      "outputs": [],
      "source": [
        "data['last_credit_pull_d_date'] = pd.to_datetime(data['last_credit_pull_d'], format='%b-%y')\n",
        "data['mths_since_last_credit_pull_d'] = round(pd.to_numeric((pd.to_datetime('2017-12-01') - data['last_credit_pull_d_date']) / np.timedelta64(1, 'M')))"
      ]
    },
    {
      "cell_type": "code",
      "execution_count": 129,
      "id": "cb959846-54bf-4ec3-8160-b6b35b6bc093",
      "metadata": {
        "colab": {
          "base_uri": "https://localhost:8080/"
        },
        "id": "cb959846-54bf-4ec3-8160-b6b35b6bc093",
        "outputId": "2575fdbd-7495-479c-868f-a59c38d238e3"
      },
      "outputs": [
        {
          "data": {
            "text/plain": [
              "count    466243.000000\n",
              "mean         27.045588\n",
              "std           9.636423\n",
              "min          23.000000\n",
              "25%          23.000000\n",
              "50%          23.000000\n",
              "75%          25.000000\n",
              "max         127.000000\n",
              "Name: mths_since_last_credit_pull_d, dtype: float64"
            ]
          },
          "execution_count": 129,
          "metadata": {},
          "output_type": "execute_result"
        }
      ],
      "source": [
        "data['mths_since_last_credit_pull_d'].describe()"
      ]
    },
    {
      "cell_type": "code",
      "execution_count": 130,
      "id": "58a28346-0b6d-4b5f-acc6-3f8bf8ca3395",
      "metadata": {
        "id": "58a28346-0b6d-4b5f-acc6-3f8bf8ca3395"
      },
      "outputs": [],
      "source": [
        "data.drop(['last_credit_pull_d', 'last_credit_pull_d_date'], axis=1, inplace=True)"
      ]
    },
    {
      "cell_type": "markdown",
      "id": "202362f6-3d5f-4e72-a795-b3d145416277",
      "metadata": {
        "id": "202362f6-3d5f-4e72-a795-b3d145416277",
        "tags": []
      },
      "source": [
        "# EXPLORATORY DATA ANALYSIS"
      ]
    },
    {
      "cell_type": "markdown",
      "id": "f35f6fc5-19b4-47b5-83c6-410a296a3561",
      "metadata": {
        "id": "f35f6fc5-19b4-47b5-83c6-410a296a3561"
      },
      "source": [
        "### Correlation Check"
      ]
    },
    {
      "cell_type": "code",
      "execution_count": 131,
      "id": "d13dd53d-fdbf-4a55-b2c3-9c175e027a32",
      "metadata": {
        "colab": {
          "base_uri": "https://localhost:8080/",
          "height": 1000
        },
        "id": "d13dd53d-fdbf-4a55-b2c3-9c175e027a32",
        "outputId": "230bcc60-df55-404c-aa58-8e24437f72d3"
      },
      "outputs": [
        {
          "name": "stderr",
          "output_type": "stream",
          "text": [
            "C:\\Users\\user\\AppData\\Local\\Temp\\ipykernel_11240\\594547999.py:2: FutureWarning: The default value of numeric_only in DataFrame.corr is deprecated. In a future version, it will default to False. Select only valid columns or specify the value of numeric_only to silence this warning.\n",
            "  sns.heatmap(data.corr())\n"
          ]
        },
        {
          "data": {
            "text/plain": [
              "<Axes: >"
            ]
          },
          "execution_count": 131,
          "metadata": {},
          "output_type": "execute_result"
        },
        {
          "data": {
            "image/png": "[encoded data removed]",
            "text/plain": [
              "<Figure size 2000x2000 with 2 Axes>"
            ]
          },
          "metadata": {},
          "output_type": "display_data"
        }
      ],
      "source": [
        "plt.figure(figsize=(20,20))\n",
        "sns.heatmap(data.corr())"
      ]
    },
    {
      "cell_type": "markdown",
      "id": "79ee2ff5-f2a5-4ab1-b286-5bcca623bb2b",
      "metadata": {
        "id": "79ee2ff5-f2a5-4ab1-b286-5bcca623bb2b"
      },
      "source": [
        "Di sini, jika ada pasangan fitur-fitur yang memiliki korelasi tinggi maka akan diambil salah satu saja. Nilai korelasi yang dijadikan patokan sebagai korelasi tinggi tidak pasti, umumnya digunakan angka 0.7."
      ]
    },
    {
      "cell_type": "code",
      "execution_count": 132,
      "id": "c0dc104b-10be-425f-a192-7ed77ef73805",
      "metadata": {
        "colab": {
          "base_uri": "https://localhost:8080/"
        },
        "id": "c0dc104b-10be-425f-a192-7ed77ef73805",
        "outputId": "0c724aba-8ed9-4484-987d-dce6fb95f8c2"
      },
      "outputs": [
        {
          "name": "stderr",
          "output_type": "stream",
          "text": [
            "C:\\Users\\user\\AppData\\Local\\Temp\\ipykernel_11240\\2288160448.py:1: FutureWarning: The default value of numeric_only in DataFrame.corr is deprecated. In a future version, it will default to False. Select only valid columns or specify the value of numeric_only to silence this warning.\n",
            "  corr_matrix = data.corr().abs()\n"
          ]
        }
      ],
      "source": [
        "corr_matrix = data.corr().abs()\n",
        "upper = corr_matrix.where(np.triu(np.ones(corr_matrix.shape), k=1).astype(np.bool_))\n",
        "to_drop_hicorr = [column for column in upper.columns if any(upper[column] > 0.7)]"
      ]
    },
    {
      "cell_type": "code",
      "execution_count": 133,
      "id": "e113849b-e0fb-4b08-8d26-68d5436d2480",
      "metadata": {
        "colab": {
          "base_uri": "https://localhost:8080/"
        },
        "id": "e113849b-e0fb-4b08-8d26-68d5436d2480",
        "outputId": "a298fd04-628b-41a5-9f0d-aa8560f5d78d"
      },
      "outputs": [
        {
          "data": {
            "text/plain": [
              "['funded_amnt',\n",
              " 'funded_amnt_inv',\n",
              " 'installment',\n",
              " 'out_prncp_inv',\n",
              " 'total_pymnt',\n",
              " 'total_pymnt_inv',\n",
              " 'total_rec_prncp',\n",
              " 'total_rec_int',\n",
              " 'collection_recovery_fee',\n",
              " 'last_pymnt_amnt',\n",
              " 'mths_since_last_major_derog',\n",
              " 'total_rev_hi_lim',\n",
              " 'mths_since_last_pymnt_d',\n",
              " 'mths_since_next_pymnt_d',\n",
              " 'mths_since_last_credit_pull_d']"
            ]
          },
          "execution_count": 133,
          "metadata": {},
          "output_type": "execute_result"
        }
      ],
      "source": [
        "to_drop_hicorr"
      ]
    },
    {
      "cell_type": "code",
      "execution_count": 134,
      "id": "b150ab38-812e-468b-aa67-99d39a9a3fbb",
      "metadata": {
        "id": "b150ab38-812e-468b-aa67-99d39a9a3fbb"
      },
      "outputs": [],
      "source": [
        "data.drop(to_drop_hicorr, axis=1, inplace=True)"
      ]
    },
    {
      "cell_type": "markdown",
      "id": "6bb5b4b0-bab4-400d-b3ce-464273308583",
      "metadata": {
        "id": "6bb5b4b0-bab4-400d-b3ce-464273308583"
      },
      "source": [
        "### Check Categorical Features"
      ]
    },
    {
      "cell_type": "code",
      "execution_count": 135,
      "id": "1652040d-321a-46b2-890a-c1a44cb8417f",
      "metadata": {
        "colab": {
          "base_uri": "https://localhost:8080/"
        },
        "id": "1652040d-321a-46b2-890a-c1a44cb8417f",
        "outputId": "da952822-8934-477d-bd76-f96babcbf50e"
      },
      "outputs": [
        {
          "data": {
            "text/plain": [
              "grade                       7\n",
              "emp_title              205475\n",
              "home_ownership              6\n",
              "verification_status         3\n",
              "pymnt_plan                  2\n",
              "purpose                    14\n",
              "title                   63099\n",
              "addr_state                 50\n",
              "initial_list_status         2\n",
              "application_type            1\n",
              "dtype: int64"
            ]
          },
          "execution_count": 135,
          "metadata": {},
          "output_type": "execute_result"
        }
      ],
      "source": [
        "data.select_dtypes(include='object').nunique()"
      ]
    },
    {
      "cell_type": "markdown",
      "id": "6666c857-7105-4038-a02d-0e930aba210f",
      "metadata": {
        "id": "6666c857-7105-4038-a02d-0e930aba210f"
      },
      "source": [
        "Pada tahap ini dilakukan pembuangan fitur yang memiliki nilai unik yang sangat tinggi (high cardinality) dan fitur yang hanya memiliki satu nilai unik saja."
      ]
    },
    {
      "cell_type": "code",
      "execution_count": 136,
      "id": "db7d858a-8b92-4f2b-bfb5-534161faeda0",
      "metadata": {
        "id": "db7d858a-8b92-4f2b-bfb5-534161faeda0"
      },
      "outputs": [],
      "source": [
        "data.drop(['emp_title', 'title', 'application_type','initial_list_status'], axis=1, inplace=True)"
      ]
    },
    {
      "cell_type": "code",
      "execution_count": 137,
      "id": "c8d4b6e7-40d3-4558-9136-bf2ed6eba493",
      "metadata": {
        "colab": {
          "base_uri": "https://localhost:8080/"
        },
        "id": "c8d4b6e7-40d3-4558-9136-bf2ed6eba493",
        "outputId": "0b3b3daa-7569-4552-e4d7-47ff81db41e8"
      },
      "outputs": [
        {
          "data": {
            "text/plain": [
              "loan_amnt                        1352\n",
              "int_rate                          506\n",
              "annual_inc                      31901\n",
              "dti                              3997\n",
              "delinq_2yrs                        24\n",
              "inq_last_6mths                     28\n",
              "mths_since_last_delinq            145\n",
              "mths_since_last_record            123\n",
              "open_acc                           62\n",
              "pub_rec                            26\n",
              "revol_bal                       58142\n",
              "revol_util                       1269\n",
              "total_acc                         112\n",
              "out_prncp                      135665\n",
              "total_rec_late_fee               5808\n",
              "recoveries                      22773\n",
              "collections_12_mths_ex_med          9\n",
              "policy_code                         1\n",
              "acc_now_delinq                      6\n",
              "tot_coll_amt                     6321\n",
              "tot_cur_bal                    220690\n",
              "bad_flag                            2\n",
              "emp_length_int                     11\n",
              "term_int                            2\n",
              "mths_since_earliest_cr_line       515\n",
              "mths_since_issue_d                 91\n",
              "dtype: int64"
            ]
          },
          "execution_count": 137,
          "metadata": {},
          "output_type": "execute_result"
        }
      ],
      "source": [
        "data.select_dtypes(exclude='object').nunique()"
      ]
    },
    {
      "cell_type": "markdown",
      "id": "ed85b594-0a47-4fb4-9f07-9e7a3a530709",
      "metadata": {
        "id": "ed85b594-0a47-4fb4-9f07-9e7a3a530709"
      },
      "source": [
        "Ternyata, pada tipe data selain `object` juga terdapat fitur yang hanya memiliki satu nilai unik saja maka akan ikut dibuang juga. nilai nilai fitur tinggi yang terdapat diatas tidak dibuang karena penting untuk pemodelan"
      ]
    },
    {
      "cell_type": "code",
      "execution_count": 138,
      "id": "0554d26d-dec2-40fd-8eae-b58ecc295a20",
      "metadata": {
        "id": "0554d26d-dec2-40fd-8eae-b58ecc295a20"
      },
      "outputs": [],
      "source": [
        "data.drop(['policy_code'], axis=1, inplace=True)"
      ]
    },
    {
      "cell_type": "code",
      "execution_count": 139,
      "id": "dcb23327-e01d-49e2-99ed-8ddf1a59b554",
      "metadata": {
        "colab": {
          "base_uri": "https://localhost:8080/"
        },
        "id": "dcb23327-e01d-49e2-99ed-8ddf1a59b554",
        "outputId": "fb292f2c-4442-417a-c511-e364d2bf8006",
        "tags": []
      },
      "outputs": [
        {
          "name": "stdout",
          "output_type": "stream",
          "text": [
            "B    29.365946\n",
            "C    26.870476\n",
            "D    16.489486\n",
            "A    16.056060\n",
            "E     7.668486\n",
            "F     2.837106\n",
            "G     0.712440\n",
            "Name: grade, dtype: float64\n",
            "\n",
            "\n",
            "MORTGAGE    50.586015\n",
            "RENT        40.420129\n",
            "OWN          8.943886\n",
            "OTHER        0.039032\n",
            "NONE         0.010723\n",
            "ANY          0.000214\n",
            "Name: home_ownership, dtype: float64\n",
            "\n",
            "\n",
            "Verified           36.041262\n",
            "Source Verified    32.167666\n",
            "Not Verified       31.791072\n",
            "Name: verification_status, dtype: float64\n",
            "\n",
            "\n",
            "n    99.99807\n",
            "y     0.00193\n",
            "Name: pymnt_plan, dtype: float64\n",
            "\n",
            "\n",
            "debt_consolidation    58.804165\n",
            "credit_card           22.337626\n",
            "home_improvement       5.691155\n",
            "other                  5.080584\n",
            "major_purchase         2.107724\n",
            "small_business         1.504016\n",
            "car                    1.157447\n",
            "medical                0.986950\n",
            "moving                 0.642097\n",
            "vacation               0.533365\n",
            "wedding                0.502482\n",
            "house                  0.486612\n",
            "educational            0.090503\n",
            "renewable_energy       0.075276\n",
            "Name: purpose, dtype: float64\n",
            "\n",
            "\n",
            "CA    15.323247\n",
            "NY     8.630344\n",
            "TX     7.814748\n",
            "FL     6.784906\n",
            "IL     3.991550\n",
            "NJ     3.873382\n",
            "PA     3.522309\n",
            "OH     3.267744\n",
            "GA     3.211555\n",
            "VA     3.050066\n",
            "NC     2.719796\n",
            "MI     2.476811\n",
            "MA     2.374513\n",
            "MD     2.353496\n",
            "AZ     2.297307\n",
            "WA     2.255488\n",
            "CO     2.088637\n",
            "MN     1.749574\n",
            "MO     1.610174\n",
            "CT     1.544978\n",
            "IN     1.399359\n",
            "NV     1.398072\n",
            "TN     1.283335\n",
            "OR     1.275829\n",
            "WI     1.267680\n",
            "AL     1.255241\n",
            "SC     1.197336\n",
            "LA     1.177177\n",
            "KY     0.951778\n",
            "KS     0.898592\n",
            "OK     0.882936\n",
            "AR     0.748040\n",
            "UT     0.735173\n",
            "NM     0.555025\n",
            "HI     0.533365\n",
            "WV     0.517280\n",
            "NH     0.478677\n",
            "RI     0.439645\n",
            "DC     0.305822\n",
            "MT     0.299388\n",
            "DE     0.272795\n",
            "AK     0.268291\n",
            "MS     0.262929\n",
            "WY     0.241912\n",
            "SD     0.210172\n",
            "VT     0.194087\n",
            "IA     0.003002\n",
            "NE     0.003002\n",
            "ID     0.002574\n",
            "ME     0.000858\n",
            "Name: addr_state, dtype: float64\n",
            "\n",
            "\n"
          ]
        }
      ],
      "source": [
        "for col in data.select_dtypes(include='object').columns.tolist():\n",
        "    print(data[col].value_counts(normalize=True)*100)\n",
        "    print('\\n')"
      ]
    },
    {
      "cell_type": "markdown",
      "id": "69075c25-4d3e-486a-9120-b453a67e6894",
      "metadata": {
        "id": "69075c25-4d3e-486a-9120-b453a67e6894"
      },
      "source": [
        "Fitur yang sangat didominasi oleh salah satu nilai saja akan dibuang pada tahap ini."
      ]
    },
    {
      "cell_type": "code",
      "execution_count": 140,
      "id": "d01b0ed0-2223-4cd6-a7d4-b4ad40373c31",
      "metadata": {
        "id": "d01b0ed0-2223-4cd6-a7d4-b4ad40373c31"
      },
      "outputs": [],
      "source": [
        "data.drop('pymnt_plan', axis=1, inplace=True)"
      ]
    },
    {
      "cell_type": "markdown",
      "id": "8483ce96-e8bc-4dd4-b247-d58b1d269442",
      "metadata": {
        "id": "8483ce96-e8bc-4dd4-b247-d58b1d269442",
        "tags": []
      },
      "source": [
        "# MISSING VALUES"
      ]
    },
    {
      "cell_type": "markdown",
      "id": "1101903e-08e6-4d64-8b5e-89977b5b9131",
      "metadata": {
        "id": "1101903e-08e6-4d64-8b5e-89977b5b9131"
      },
      "source": [
        "### Missing Value Checking"
      ]
    },
    {
      "cell_type": "code",
      "execution_count": 141,
      "id": "5cdcfdbc-4b86-4660-8cab-a6af9c28c972",
      "metadata": {
        "colab": {
          "base_uri": "https://localhost:8080/"
        },
        "id": "5cdcfdbc-4b86-4660-8cab-a6af9c28c972",
        "outputId": "439adda5-d52d-4c7c-dbb8-c1707f3198d6",
        "tags": []
      },
      "outputs": [
        {
          "data": {
            "text/plain": [
              "mths_since_last_record         86.566585\n",
              "mths_since_last_delinq         53.690554\n",
              "tot_coll_amt                   15.071469\n",
              "tot_cur_bal                    15.071469\n",
              "emp_length_int                  4.505399\n",
              "revol_util                      0.072917\n",
              "collections_12_mths_ex_med      0.031097\n",
              "delinq_2yrs                     0.006219\n",
              "inq_last_6mths                  0.006219\n",
              "open_acc                        0.006219\n",
              "pub_rec                         0.006219\n",
              "total_acc                       0.006219\n",
              "acc_now_delinq                  0.006219\n",
              "mths_since_earliest_cr_line     0.006219\n",
              "annual_inc                      0.000858\n",
              "dtype: float64"
            ]
          },
          "execution_count": 141,
          "metadata": {},
          "output_type": "execute_result"
        }
      ],
      "source": [
        "check_missing = data.isnull().sum() * 100 / data.shape[0]\n",
        "check_missing[check_missing > 0].sort_values(ascending=False)"
      ]
    },
    {
      "cell_type": "markdown",
      "id": "0ad9003e-ebbe-4fba-8d14-ab076156679f",
      "metadata": {
        "id": "0ad9003e-ebbe-4fba-8d14-ab076156679f"
      },
      "source": [
        "Di sini, kolom-kolom dengan missing values di atas 75% dibuang"
      ]
    },
    {
      "cell_type": "code",
      "execution_count": 142,
      "id": "KgOeW3sreok0",
      "metadata": {
        "colab": {
          "base_uri": "https://localhost:8080/"
        },
        "id": "KgOeW3sreok0",
        "outputId": "39b2edb6-80cd-4627-caaa-d9f0599b6a0a"
      },
      "outputs": [
        {
          "name": "stdout",
          "output_type": "stream",
          "text": [
            "mths_since_last_record    86.566585\n",
            "dtype: float64\n"
          ]
        }
      ],
      "source": [
        "fordrop = check_missing[check_missing > 75]\n",
        "print(fordrop)"
      ]
    },
    {
      "cell_type": "code",
      "execution_count": 143,
      "id": "7ubhHNORgyEs",
      "metadata": {
        "id": "7ubhHNORgyEs"
      },
      "outputs": [],
      "source": [
        "data.drop(fordrop.index, axis=1, inplace=True)"
      ]
    },
    {
      "cell_type": "markdown",
      "id": "517f9f50-a6a9-4256-bed5-9c7257cb7d7c",
      "metadata": {
        "id": "517f9f50-a6a9-4256-bed5-9c7257cb7d7c"
      },
      "source": [
        "### Missing Values Filling"
      ]
    },
    {
      "cell_type": "code",
      "execution_count": 144,
      "id": "54d0a97a-751e-47a6-82dc-30d69f84c542",
      "metadata": {
        "colab": {
          "base_uri": "https://localhost:8080/",
          "height": 501
        },
        "id": "54d0a97a-751e-47a6-82dc-30d69f84c542",
        "outputId": "08007a20-6e13-4e35-91d8-00f47fe7249d"
      },
      "outputs": [],
      "source": [
        "data['annual_inc'].fillna(data['annual_inc'].mean(), inplace=True)\n",
        "data['mths_since_earliest_cr_line'].fillna(0, inplace=True)\n",
        "data['acc_now_delinq'].fillna(0, inplace=True)\n",
        "data['total_acc'].fillna(0, inplace=True)\n",
        "data['pub_rec'].fillna(0, inplace=True)\n",
        "data['open_acc'].fillna(0, inplace=True)\n",
        "data['inq_last_6mths'].fillna(0, inplace=True)\n",
        "data['delinq_2yrs'].fillna(0, inplace=True)\n",
        "data['collections_12_mths_ex_med'].fillna(0, inplace=True)\n",
        "data['revol_util'].fillna(0, inplace=True)\n",
        "data['emp_length_int'].fillna(0, inplace=True)\n",
        "data['tot_cur_bal'].fillna(0, inplace=True)\n",
        "data['tot_coll_amt'].fillna(0, inplace=True)\n",
        "data['mths_since_last_delinq'].fillna(-1, inplace=True)"
      ]
    },
    {
      "cell_type": "markdown",
      "id": "XfAu4omG-ev-",
      "metadata": {
        "id": "XfAu4omG-ev-"
      },
      "source": [
        "### cek missing value"
      ]
    },
    {
      "cell_type": "code",
      "execution_count": 145,
      "id": "eZeSwWrd-hqL",
      "metadata": {
        "colab": {
          "base_uri": "https://localhost:8080/"
        },
        "id": "eZeSwWrd-hqL",
        "outputId": "c093e41e-740b-48aa-b4c1-53e6a321d35a"
      },
      "outputs": [
        {
          "data": {
            "text/plain": [
              "loan_amnt                      0\n",
              "int_rate                       0\n",
              "grade                          0\n",
              "home_ownership                 0\n",
              "annual_inc                     0\n",
              "verification_status            0\n",
              "purpose                        0\n",
              "addr_state                     0\n",
              "dti                            0\n",
              "delinq_2yrs                    0\n",
              "inq_last_6mths                 0\n",
              "mths_since_last_delinq         0\n",
              "open_acc                       0\n",
              "pub_rec                        0\n",
              "revol_bal                      0\n",
              "revol_util                     0\n",
              "total_acc                      0\n",
              "out_prncp                      0\n",
              "total_rec_late_fee             0\n",
              "recoveries                     0\n",
              "collections_12_mths_ex_med     0\n",
              "acc_now_delinq                 0\n",
              "tot_coll_amt                   0\n",
              "tot_cur_bal                    0\n",
              "bad_flag                       0\n",
              "emp_length_int                 0\n",
              "term_int                       0\n",
              "mths_since_earliest_cr_line    0\n",
              "mths_since_issue_d             0\n",
              "dtype: int64"
            ]
          },
          "execution_count": 145,
          "metadata": {},
          "output_type": "execute_result"
        }
      ],
      "source": [
        "data.isnull().sum()"
      ]
    },
    {
      "cell_type": "markdown",
      "id": "IA4KPnNGCQTW",
      "metadata": {
        "id": "IA4KPnNGCQTW"
      },
      "source": [
        "pastikan semua missing value hilang dengan cara hapus baris yang terdapat missing value."
      ]
    },
    {
      "cell_type": "code",
      "execution_count": 146,
      "id": "F7cd8YdTCXxp",
      "metadata": {
        "id": "F7cd8YdTCXxp"
      },
      "outputs": [],
      "source": [
        "data.dropna(axis = 0,inplace=True)"
      ]
    },
    {
      "cell_type": "code",
      "execution_count": 147,
      "id": "0uMJWe34w-Q8",
      "metadata": {
        "id": "0uMJWe34w-Q8"
      },
      "outputs": [
        {
          "data": {
            "text/plain": [
              "loan_amnt                      0\n",
              "int_rate                       0\n",
              "grade                          0\n",
              "home_ownership                 0\n",
              "annual_inc                     0\n",
              "verification_status            0\n",
              "purpose                        0\n",
              "addr_state                     0\n",
              "dti                            0\n",
              "delinq_2yrs                    0\n",
              "inq_last_6mths                 0\n",
              "mths_since_last_delinq         0\n",
              "open_acc                       0\n",
              "pub_rec                        0\n",
              "revol_bal                      0\n",
              "revol_util                     0\n",
              "total_acc                      0\n",
              "out_prncp                      0\n",
              "total_rec_late_fee             0\n",
              "recoveries                     0\n",
              "collections_12_mths_ex_med     0\n",
              "acc_now_delinq                 0\n",
              "tot_coll_amt                   0\n",
              "tot_cur_bal                    0\n",
              "bad_flag                       0\n",
              "emp_length_int                 0\n",
              "term_int                       0\n",
              "mths_since_earliest_cr_line    0\n",
              "mths_since_issue_d             0\n",
              "dtype: int64"
            ]
          },
          "execution_count": 147,
          "metadata": {},
          "output_type": "execute_result"
        }
      ],
      "source": [
        "data.isnull().sum() # cek kembali missing value"
      ]
    },
    {
      "cell_type": "code",
      "execution_count": 148,
      "id": "d19bcc39",
      "metadata": {},
      "outputs": [
        {
          "data": {
            "text/html": [
              "<div>\n",
              "<style scoped>\n",
              "    .dataframe tbody tr th:only-of-type {\n",
              "        vertical-align: middle;\n",
              "    }\n",
              "\n",
              "    .dataframe tbody tr th {\n",
              "        vertical-align: top;\n",
              "    }\n",
              "\n",
              "    .dataframe thead th {\n",
              "        text-align: right;\n",
              "    }\n",
              "</style>\n",
              "<table border=\"1\" class=\"dataframe\">\n",
              "  <thead>\n",
              "    <tr style=\"text-align: right;\">\n",
              "      <th></th>\n",
              "      <th>loan_amnt</th>\n",
              "      <th>int_rate</th>\n",
              "      <th>grade</th>\n",
              "      <th>home_ownership</th>\n",
              "      <th>annual_inc</th>\n",
              "      <th>verification_status</th>\n",
              "      <th>purpose</th>\n",
              "      <th>addr_state</th>\n",
              "      <th>dti</th>\n",
              "      <th>delinq_2yrs</th>\n",
              "      <th>inq_last_6mths</th>\n",
              "      <th>mths_since_last_delinq</th>\n",
              "      <th>open_acc</th>\n",
              "      <th>pub_rec</th>\n",
              "      <th>revol_bal</th>\n",
              "      <th>revol_util</th>\n",
              "      <th>total_acc</th>\n",
              "      <th>out_prncp</th>\n",
              "      <th>total_rec_late_fee</th>\n",
              "      <th>recoveries</th>\n",
              "      <th>collections_12_mths_ex_med</th>\n",
              "      <th>acc_now_delinq</th>\n",
              "      <th>tot_coll_amt</th>\n",
              "      <th>tot_cur_bal</th>\n",
              "      <th>bad_flag</th>\n",
              "      <th>emp_length_int</th>\n",
              "      <th>term_int</th>\n",
              "      <th>mths_since_earliest_cr_line</th>\n",
              "      <th>mths_since_issue_d</th>\n",
              "    </tr>\n",
              "  </thead>\n",
              "  <tbody>\n",
              "    <tr>\n",
              "      <th>102473</th>\n",
              "      <td>8000</td>\n",
              "      <td>12.35</td>\n",
              "      <td>B</td>\n",
              "      <td>MORTGAGE</td>\n",
              "      <td>24000.0</td>\n",
              "      <td>Verified</td>\n",
              "      <td>debt_consolidation</td>\n",
              "      <td>FL</td>\n",
              "      <td>25.16</td>\n",
              "      <td>0.0</td>\n",
              "      <td>0.0</td>\n",
              "      <td>53.0</td>\n",
              "      <td>7.0</td>\n",
              "      <td>0.0</td>\n",
              "      <td>7293</td>\n",
              "      <td>83.8</td>\n",
              "      <td>13.0</td>\n",
              "      <td>2041.69</td>\n",
              "      <td>0.0</td>\n",
              "      <td>0.0</td>\n",
              "      <td>0.0</td>\n",
              "      <td>0.0</td>\n",
              "      <td>0.0</td>\n",
              "      <td>12131.0</td>\n",
              "      <td>0</td>\n",
              "      <td>0.0</td>\n",
              "      <td>36.0</td>\n",
              "      <td>287.0</td>\n",
              "      <td>52.0</td>\n",
              "    </tr>\n",
              "    <tr>\n",
              "      <th>140027</th>\n",
              "      <td>35000</td>\n",
              "      <td>13.11</td>\n",
              "      <td>B</td>\n",
              "      <td>MORTGAGE</td>\n",
              "      <td>276000.0</td>\n",
              "      <td>Source Verified</td>\n",
              "      <td>home_improvement</td>\n",
              "      <td>CO</td>\n",
              "      <td>14.70</td>\n",
              "      <td>0.0</td>\n",
              "      <td>1.0</td>\n",
              "      <td>-1.0</td>\n",
              "      <td>16.0</td>\n",
              "      <td>0.0</td>\n",
              "      <td>44338</td>\n",
              "      <td>88.7</td>\n",
              "      <td>58.0</td>\n",
              "      <td>4603.84</td>\n",
              "      <td>0.0</td>\n",
              "      <td>0.0</td>\n",
              "      <td>0.0</td>\n",
              "      <td>0.0</td>\n",
              "      <td>0.0</td>\n",
              "      <td>828597.0</td>\n",
              "      <td>0</td>\n",
              "      <td>10.0</td>\n",
              "      <td>36.0</td>\n",
              "      <td>575.0</td>\n",
              "      <td>55.0</td>\n",
              "    </tr>\n",
              "    <tr>\n",
              "      <th>306934</th>\n",
              "      <td>29900</td>\n",
              "      <td>19.52</td>\n",
              "      <td>E</td>\n",
              "      <td>MORTGAGE</td>\n",
              "      <td>65000.0</td>\n",
              "      <td>Verified</td>\n",
              "      <td>debt_consolidation</td>\n",
              "      <td>NC</td>\n",
              "      <td>34.08</td>\n",
              "      <td>0.0</td>\n",
              "      <td>1.0</td>\n",
              "      <td>-1.0</td>\n",
              "      <td>15.0</td>\n",
              "      <td>0.0</td>\n",
              "      <td>22337</td>\n",
              "      <td>47.4</td>\n",
              "      <td>34.0</td>\n",
              "      <td>24886.07</td>\n",
              "      <td>0.0</td>\n",
              "      <td>0.0</td>\n",
              "      <td>0.0</td>\n",
              "      <td>0.0</td>\n",
              "      <td>0.0</td>\n",
              "      <td>98442.0</td>\n",
              "      <td>0</td>\n",
              "      <td>9.0</td>\n",
              "      <td>60.0</td>\n",
              "      <td>319.0</td>\n",
              "      <td>38.0</td>\n",
              "    </tr>\n",
              "    <tr>\n",
              "      <th>27387</th>\n",
              "      <td>2500</td>\n",
              "      <td>13.98</td>\n",
              "      <td>C</td>\n",
              "      <td>RENT</td>\n",
              "      <td>54000.0</td>\n",
              "      <td>Not Verified</td>\n",
              "      <td>vacation</td>\n",
              "      <td>AR</td>\n",
              "      <td>22.64</td>\n",
              "      <td>0.0</td>\n",
              "      <td>1.0</td>\n",
              "      <td>36.0</td>\n",
              "      <td>7.0</td>\n",
              "      <td>0.0</td>\n",
              "      <td>7957</td>\n",
              "      <td>88.4</td>\n",
              "      <td>15.0</td>\n",
              "      <td>0.00</td>\n",
              "      <td>0.0</td>\n",
              "      <td>0.0</td>\n",
              "      <td>0.0</td>\n",
              "      <td>0.0</td>\n",
              "      <td>0.0</td>\n",
              "      <td>0.0</td>\n",
              "      <td>0</td>\n",
              "      <td>4.0</td>\n",
              "      <td>36.0</td>\n",
              "      <td>177.0</td>\n",
              "      <td>89.0</td>\n",
              "    </tr>\n",
              "    <tr>\n",
              "      <th>17565</th>\n",
              "      <td>20000</td>\n",
              "      <td>10.00</td>\n",
              "      <td>B</td>\n",
              "      <td>RENT</td>\n",
              "      <td>45600.0</td>\n",
              "      <td>Verified</td>\n",
              "      <td>debt_consolidation</td>\n",
              "      <td>CA</td>\n",
              "      <td>13.47</td>\n",
              "      <td>0.0</td>\n",
              "      <td>0.0</td>\n",
              "      <td>79.0</td>\n",
              "      <td>9.0</td>\n",
              "      <td>0.0</td>\n",
              "      <td>28157</td>\n",
              "      <td>41.8</td>\n",
              "      <td>21.0</td>\n",
              "      <td>0.00</td>\n",
              "      <td>0.0</td>\n",
              "      <td>0.0</td>\n",
              "      <td>0.0</td>\n",
              "      <td>0.0</td>\n",
              "      <td>0.0</td>\n",
              "      <td>0.0</td>\n",
              "      <td>0</td>\n",
              "      <td>1.0</td>\n",
              "      <td>36.0</td>\n",
              "      <td>376.0</td>\n",
              "      <td>80.0</td>\n",
              "    </tr>\n",
              "  </tbody>\n",
              "</table>\n",
              "</div>"
            ],
            "text/plain": [
              "        loan_amnt  int_rate grade home_ownership  annual_inc  \\\n",
              "102473       8000     12.35     B       MORTGAGE     24000.0   \n",
              "140027      35000     13.11     B       MORTGAGE    276000.0   \n",
              "306934      29900     19.52     E       MORTGAGE     65000.0   \n",
              "27387        2500     13.98     C           RENT     54000.0   \n",
              "17565       20000     10.00     B           RENT     45600.0   \n",
              "\n",
              "       verification_status             purpose addr_state    dti  delinq_2yrs  \\\n",
              "102473            Verified  debt_consolidation         FL  25.16          0.0   \n",
              "140027     Source Verified    home_improvement         CO  14.70          0.0   \n",
              "306934            Verified  debt_consolidation         NC  34.08          0.0   \n",
              "27387         Not Verified            vacation         AR  22.64          0.0   \n",
              "17565             Verified  debt_consolidation         CA  13.47          0.0   \n",
              "\n",
              "        inq_last_6mths  mths_since_last_delinq  open_acc  pub_rec  revol_bal  \\\n",
              "102473             0.0                    53.0       7.0      0.0       7293   \n",
              "140027             1.0                    -1.0      16.0      0.0      44338   \n",
              "306934             1.0                    -1.0      15.0      0.0      22337   \n",
              "27387              1.0                    36.0       7.0      0.0       7957   \n",
              "17565              0.0                    79.0       9.0      0.0      28157   \n",
              "\n",
              "        revol_util  total_acc  out_prncp  total_rec_late_fee  recoveries  \\\n",
              "102473        83.8       13.0    2041.69                 0.0         0.0   \n",
              "140027        88.7       58.0    4603.84                 0.0         0.0   \n",
              "306934        47.4       34.0   24886.07                 0.0         0.0   \n",
              "27387         88.4       15.0       0.00                 0.0         0.0   \n",
              "17565         41.8       21.0       0.00                 0.0         0.0   \n",
              "\n",
              "        collections_12_mths_ex_med  acc_now_delinq  tot_coll_amt  tot_cur_bal  \\\n",
              "102473                         0.0             0.0           0.0      12131.0   \n",
              "140027                         0.0             0.0           0.0     828597.0   \n",
              "306934                         0.0             0.0           0.0      98442.0   \n",
              "27387                          0.0             0.0           0.0          0.0   \n",
              "17565                          0.0             0.0           0.0          0.0   \n",
              "\n",
              "        bad_flag  emp_length_int  term_int  mths_since_earliest_cr_line  \\\n",
              "102473         0             0.0      36.0                        287.0   \n",
              "140027         0            10.0      36.0                        575.0   \n",
              "306934         0             9.0      60.0                        319.0   \n",
              "27387          0             4.0      36.0                        177.0   \n",
              "17565          0             1.0      36.0                        376.0   \n",
              "\n",
              "        mths_since_issue_d  \n",
              "102473                52.0  \n",
              "140027                55.0  \n",
              "306934                38.0  \n",
              "27387                 89.0  \n",
              "17565                 80.0  "
            ]
          },
          "execution_count": 148,
          "metadata": {},
          "output_type": "execute_result"
        }
      ],
      "source": [
        "data.sample(5)"
      ]
    },
    {
      "attachments": {},
      "cell_type": "markdown",
      "id": "W8YMViafOlvi",
      "metadata": {
        "id": "W8YMViafOlvi"
      },
      "source": [
        "# Visual Analysis"
      ]
    },
    {
      "attachments": {},
      "cell_type": "markdown",
      "id": "ada8dc65",
      "metadata": {},
      "source": [
        "### Loan amount distribution"
      ]
    },
    {
      "cell_type": "code",
      "execution_count": 149,
      "id": "wy5qNDBgQ1dO",
      "metadata": {
        "id": "wy5qNDBgQ1dO"
      },
      "outputs": [
        {
          "data": {
            "image/png": "[encoded data removed]",
            "text/plain": [
              "<Figure size 1100x600 with 1 Axes>"
            ]
          },
          "metadata": {},
          "output_type": "display_data"
        }
      ],
      "source": [
        "import matplotlib.pyplot as plt\n",
        "\n",
        "plt.figure(figsize=(11, 6))\n",
        "n, bins, patches = plt.hist(data['loan_amnt'], bins=20, edgecolor='black', alpha=0.7)\n",
        "\n",
        "plt.xlabel('Frequency', fontsize=12)\n",
        "plt.ylabel('Loan Amount ($)', fontsize=12)\n",
        "plt.title('Loan Amount Distribution', fontsize=14)\n",
        "plt.xticks(fontsize=10)\n",
        "plt.yticks(fontsize=10)\n",
        "plt.grid(axis='y', alpha=0.75)\n",
        "\n",
        "colors = ['green', 'blue', 'red', 'yellow', 'purple', 'orange', 'magenta', 'cyan', 'grey', 'pink', 'brown', 'olive', 'teal', 'navy', 'maroon', 'indigo', 'turquoise', 'lavender', 'coral', 'silver']\n",
        "\n",
        "for i in range(len(patches)):\n",
        "    patches[i].set_facecolor(colors[i])\n",
        "\n",
        "    plt.text(x=bins[i]+(bins[i+1]-bins[i])/2, y=n[i]+100, s=int(bins[i]), ha='center', fontsize=10)\n",
        "\n",
        "plt.show()\n"
      ]
    },
    {
      "attachments": {},
      "cell_type": "markdown",
      "id": "9e780304",
      "metadata": {},
      "source": [
        "loan amount distribution. pada hasil visualisasi diatas didapatkan insight bahwa pinjaman 9125$ memiliki frequensi tertinggi sedangkan 28100 dan 31550 memiliki frekuensi peminjaman paling sedikit."
      ]
    },
    {
      "attachments": {},
      "cell_type": "markdown",
      "id": "b67cdbca",
      "metadata": {},
      "source": [
        "### Distribution of credit grades"
      ]
    },
    {
      "cell_type": "code",
      "execution_count": 150,
      "id": "44da909a",
      "metadata": {},
      "outputs": [
        {
          "data": {
            "image/png": "[encoded data removed]",
            "text/plain": [
              "<Figure size 1000x600 with 1 Axes>"
            ]
          },
          "metadata": {},
          "output_type": "display_data"
        }
      ],
      "source": [
        "import seaborn as sns\n",
        "import matplotlib.pyplot as plt\n",
        "\n",
        "sns.set_style('whitegrid')\n",
        "sns.set_palette(sns.color_palette(colors))\n",
        "plt.figure(figsize=(10, 6))\n",
        "ax = sns.countplot(x='grade', data=data, palette=colors, edgecolor='black')\n",
        "\n",
        "plt.xlabel('Grade', fontsize=12)\n",
        "plt.ylabel('Count', fontsize=12)\n",
        "plt.title('Distribution of Credit Grades', fontsize=14, fontweight='bold')\n",
        "plt.xticks(fontsize=10)\n",
        "plt.yticks(fontsize=10)\n",
        "plt.grid(axis='y', alpha=0.75)\n",
        "\n",
        "for p, c in zip(ax.patches, colors):\n",
        "    plt.setp(p, facecolor=c)\n",
        "    ax.annotate('{:.1f}%'.format(p.get_height()/len(data)*100),\n",
        "                (p.get_x()+p.get_width()/2., p.get_height()),\n",
        "                ha='center', va='center', fontsize=10, color='gray', xytext=(0, 5),\n",
        "                textcoords='offset points')\n",
        "\n",
        "sns.despine(left=True, bottom=True)\n",
        "plt.tight_layout()\n",
        "plt.show()\n"
      ]
    },
    {
      "attachments": {},
      "cell_type": "markdown",
      "id": "579888b4",
      "metadata": {},
      "source": [
        "Dari visualisasi tersebut, dapat dilihat bahwa sebagian besar peminjam memiliki kredit dengan grade yang baik, yaitu di antara A hingga D. Grade B memiliki jumlah peminjam terbanyak dibandingkan dengan grade lainnya, diikuti oleh grade C dan A. Sementara itu, grade G memiliki jumlah peminjam yang paling sedikit.\n",
        "\n",
        "Dapat dilihat bahwa grade A berada pada posisi keempat tertinggi dari jumlah peminjam, meskipun masih cukup jauh dari grade B, C, dan D yang menjadi grade dengan jumlah peminjam terbanyak. Hal ini menunjukkan bahwa sebagian besar peminjam memiliki kualitas kredit yang baik, tetapi masih ada sebagian kecil yang memiliki risiko kredit yang lebih tinggi, terutama di grade E hingga G."
      ]
    },
    {
      "attachments": {},
      "cell_type": "markdown",
      "id": "671c42d5",
      "metadata": {},
      "source": [
        "### Distribution of home ownership"
      ]
    },
    {
      "cell_type": "code",
      "execution_count": 151,
      "id": "b3d86aea",
      "metadata": {},
      "outputs": [
        {
          "name": "stdout",
          "output_type": "stream",
          "text": [
            "MORTGAGE    235875\n",
            "RENT        188473\n",
            "OWN          41704\n",
            "OTHER          182\n",
            "NONE            50\n",
            "ANY              1\n",
            "Name: home_ownership, dtype: int64\n"
          ]
        }
      ],
      "source": [
        "print(data['home_ownership'].value_counts())"
      ]
    },
    {
      "attachments": {},
      "cell_type": "markdown",
      "id": "266b0817",
      "metadata": {},
      "source": [
        "any dan other gabung saja"
      ]
    },
    {
      "cell_type": "code",
      "execution_count": 152,
      "id": "441a8f70",
      "metadata": {},
      "outputs": [],
      "source": [
        "data['home_ownership'] = data['home_ownership'].replace(['ANY', 'OTHER'], 'OTHER') "
      ]
    },
    {
      "cell_type": "code",
      "execution_count": 153,
      "id": "bbbd35c4",
      "metadata": {},
      "outputs": [
        {
          "data": {
            "image/png": "[encoded data removed]",
            "text/plain": [
              "<Figure size 800x600 with 1 Axes>"
            ]
          },
          "metadata": {},
          "output_type": "display_data"
        }
      ],
      "source": [
        "import seaborn as sns\n",
        "import matplotlib.pyplot as plt\n",
        "\n",
        "sns.set_style('whitegrid')\n",
        "colors = ['magenta', 'cyan', 'grey', 'pink', 'brown']\n",
        "\n",
        "fig, ax = plt.subplots(figsize=(8, 6))\n",
        "sns.countplot(x='home_ownership', data=data, palette=colors, edgecolor='black', ax=ax)\n",
        "\n",
        "plt.xlabel('Home Ownership', fontsize=12)\n",
        "plt.ylabel('Count', fontsize=12)\n",
        "plt.title('Distribution of Home Ownership', fontsize=14, fontweight='bold')\n",
        "plt.xticks(fontsize=10)\n",
        "plt.yticks(fontsize=10)\n",
        "plt.gca().spines['top'].set_visible(False)\n",
        "plt.gca().spines['right'].set_visible(False)\n",
        "\n",
        "for p in ax.patches:\n",
        "    ax.annotate('{:.1f}%\\n{}'.format(100*p.get_height()/len(data), p.get_height()),\n",
        "    (p.get_x()+p.get_width()/2., p.get_height()),\n",
        "    ha='center', va='center', fontsize=10, color='gray', xytext=(0, 5),\n",
        "    textcoords='offset points', bbox=dict(facecolor='white', edgecolor='none', alpha=0.7))\n",
        "\n",
        "plt.show()"
      ]
    },
    {
      "attachments": {},
      "cell_type": "markdown",
      "id": "96c35673",
      "metadata": {},
      "source": [
        "Dari visualisasi distribusi kepemilikan rumah di antara peminjam, dapat dilihat bahwa kategori 'MORTGAGE' memiliki jumlah peminjam terbanyak, diikuti oleh kategori 'RENT', dan kategori 'OWN'. Sedangkan kategori 'OTHER' dan 'NONE' memiliki jumlah peminjam yang sangat sedikit, bahkan mendekati nol persen.\n",
        "\n",
        "Hal ini menunjukkan bahwa mayoritas peminjam dalam dataset ini memiliki kepemilikan rumah melalui kredit hipotek (mortgage) atau menyewa rumah (rent). Dalam perspektif risiko kredit, dapat dianggap bahwa peminjam dengan kepemilikan rumah melalui kredit hipotek memiliki tingkat risiko yang lebih rendah dibandingkan dengan peminjam yang menyewa rumah atau tidak memiliki rumah, karena memiliki tanggung jawab finansial yang lebih besar dan stabil"
      ]
    },
    {
      "attachments": {},
      "cell_type": "markdown",
      "id": "0058e21a",
      "metadata": {},
      "source": [
        "### Loan purpose distribution"
      ]
    },
    {
      "cell_type": "code",
      "execution_count": 154,
      "id": "46de3376",
      "metadata": {},
      "outputs": [
        {
          "data": {
            "image/png": "[encoded data removed]",
            "text/plain": [
              "<Figure size 1000x800 with 1 Axes>"
            ]
          },
          "metadata": {},
          "output_type": "display_data"
        }
      ],
      "source": [
        "import matplotlib.pyplot as plt\n",
        "\n",
        "# Menghitung frekuensi setiap kategori pada variabel purpose\n",
        "purpose_counts = data['purpose'].value_counts()\n",
        "\n",
        "# Membuat bar plot\n",
        "fig, ax = plt.subplots(figsize=(10, 8))\n",
        "purpose_counts.plot(kind='bar', color=['#2196F3', '#FFC107', '#4CAF50', '#9C27B0', '#E91E63', '#795548',\n",
        "                                       '#FF5722', '#607D8B', '#00BCD4', '#8BC34A', '#F44336', '#FFEB3B', '#CDDC39', '#FF9800'], ax=ax)\n",
        "\n",
        "# Menambahkan persentase pada setiap bar\n",
        "total = len(data)\n",
        "for i, v in enumerate(purpose_counts):\n",
        "    ax.text(i, v + 50, f'{(v/total*100):.1f}%', ha='center')\n",
        "\n",
        "# Menambahkan judul dan label sumbu\n",
        "ax.set_title('Loan Purpose Distribution')\n",
        "ax.set_xlabel('Purpose')\n",
        "ax.set_ylabel('Frequency')\n",
        "\n",
        "# Mengatur margin pada sumbu x agar tidak terpotong\n",
        "plt.margins(0.03, 0)\n",
        "\n",
        "# Menampilkan plot\n",
        "plt.show()\n"
      ]
    },
    {
      "attachments": {},
      "cell_type": "markdown",
      "id": "8a633e0b",
      "metadata": {},
      "source": [
        "Dari hasil visualisasi bar chart jumlah pinjaman berdasarkan tujuan, dapat disimpulkan bahwa tujuan pinjaman yang paling banyak adalah untuk debt consolidation, yang artinya pengguna pinjaman menggunakan pinjaman untuk melunasi hutang-hutang yang ada. Tujuan pinjaman kedua yang paling banyak adalah untuk credit card, yang artinya pengguna pinjaman menggunakan pinjaman untuk membayar tagihan kartu kredit. Tujuan pinjaman ketiga yang paling banyak adalah untuk home improvement, yang artinya pengguna pinjaman menggunakan pinjaman untuk melakukan perbaikan atau renovasi rumah. Tujuan pinjaman lainnya seperti other, major purpose, small business, car, medical, moving, vacation, wedding, house, educational, dan renewable energy memiliki jumlah pinjaman yang lebih sedikit dibandingkan tiga tujuan pinjaman teratas.\n",
        "\n",
        "Dengan mengetahui tujuan pinjaman yang paling banyak, pihak kreditur dapat membuat strategi pemasaran yang lebih efektif untuk menarik lebih banyak peminjam dengan menawarkan produk dan layanan yang sesuai dengan kebutuhan mereka. Selain itu, pihak kreditur juga dapat menyesuaikan syarat dan ketentuan pinjaman yang ditawarkan agar lebih cocok dengan tujuan penggunaan pinjaman. Dalam hal ini, analisis visual dapat membantu dalam pengambilan keputusan dan membuat strategi bisnis yang lebih efektif."
      ]
    },
    {
      "attachments": {},
      "cell_type": "markdown",
      "id": "f66ba75a",
      "metadata": {},
      "source": [
        "### Histogram of dti"
      ]
    },
    {
      "cell_type": "code",
      "execution_count": 155,
      "id": "dd4939eb",
      "metadata": {},
      "outputs": [
        {
          "data": {
            "image/png": "[encoded data removed]",
            "text/plain": [
              "<Figure size 640x480 with 1 Axes>"
            ]
          },
          "metadata": {},
          "output_type": "display_data"
        }
      ],
      "source": [
        "import matplotlib.pyplot as plt\n",
        "\n",
        "# Set style\n",
        "plt.style.use('ggplot')\n",
        "\n",
        "# Visualize Dti using histogram\n",
        "n, bins, patches = plt.hist(data['dti'], bins=50, color='skyblue', edgecolor='black')\n",
        "plt.xlabel('Dti')\n",
        "plt.ylabel('Count')\n",
        "plt.title('Histogram of Dti')\n",
        "\n",
        "# Add text for highest bar\n",
        "index_max = n.argmax()\n",
        "plt.text(bins[index_max], n[index_max], f'{n[index_max]}', ha='center', va='bottom', fontsize=12)\n",
        "\n",
        "# Add text for lowest bar\n",
        "index_min = n.argmin()\n",
        "plt.text(bins[index_min], n[index_min], f'{n[index_min]}', ha='center', va='top', fontsize=12)\n",
        "\n",
        "plt.show()\n"
      ]
    },
    {
      "attachments": {},
      "cell_type": "markdown",
      "id": "1723bb4b",
      "metadata": {},
      "source": [
        "Berdasarkan informasi bahwa nilai tertinggi pada DTI adalah 17573 dengan nilai DTI 15, sementara nilai terendah adalah 467 dengan nilai DTI 40, dapat disimpulkan bahwa terdapat pola kenaikan dan penurunan pada nilai DTI. Pada rentang nilai DTI antara 0 hingga 15, jumlah peminjam dengan rasio utang terhadap pendapatan yang lebih rendah lebih banyak dibandingkan dengan peminjam dengan rasio utang terhadap pendapatan yang lebih tinggi. Hal ini dapat mengindikasikan bahwa pada rentang nilai DTI ini, peminjam memiliki kemampuan yang lebih baik dalam membayar cicilan utang mereka.\n",
        "\n",
        "Namun, pada rentang nilai DTI antara 16 hingga 40, terdapat penurunan jumlah peminjam dengan rasio utang terhadap pendapatan yang lebih rendah dan peningkatan jumlah peminjam dengan rasio utang terhadap pendapatan yang lebih tinggi. Hal ini dapat mengindikasikan bahwa pada rentang nilai DTI ini, peminjam memiliki kemampuan yang lebih rendah dalam membayar cicilan utang mereka."
      ]
    },
    {
      "attachments": {},
      "cell_type": "markdown",
      "id": "2fde4d9e",
      "metadata": {},
      "source": [
        "### Distribution of bad flag"
      ]
    },
    {
      "cell_type": "code",
      "execution_count": 156,
      "id": "e87a297e",
      "metadata": {},
      "outputs": [
        {
          "data": {
            "image/png": "[encoded data removed]",
            "text/plain": [
              "<Figure size 640x480 with 1 Axes>"
            ]
          },
          "metadata": {},
          "output_type": "display_data"
        }
      ],
      "source": [
        "import matplotlib.pyplot as plt\n",
        "\n",
        "# Set style\n",
        "plt.style.use('ggplot')\n",
        "\n",
        "# Count the number of loans in each category\n",
        "bad_flag_count = data['bad_flag'].value_counts()\n",
        "\n",
        "# Create a bar plot\n",
        "plt.bar(bad_flag_count.index.astype(str), bad_flag_count.values, color=['skyblue','red'], edgecolor='black')\n",
        "\n",
        "# Set the title and axis labels\n",
        "plt.title('Distribution of Bad Flag')\n",
        "plt.xlabel('Bad Flag')\n",
        "plt.ylabel('Number of Loans')\n",
        "\n",
        "# Display the plot\n",
        "plt.show()\n"
      ]
    },
    {
      "attachments": {},
      "cell_type": "markdown",
      "id": "cd162a15",
      "metadata": {},
      "source": [
        "Dari distribusi variabel bad_flag yang dapat divisualisasikan dalam bentuk bar plot, jika terdapat ketimpangan antara jumlah pinjaman yang dianggap bermasalah dan tidak, dapat diinterpretasikan sebagai adanya ketidakseimbangan pada data. Ketidakseimbangan pada data ini bisa menjadi masalah dalam analisis data karena model yang dibangun dapat cenderung lebih banyak memprediksi hasil yang dominan (misalnya, model dapat cenderung memprediksi bahwa semua pinjaman akan baik-baik saja). Hal ini dapat menghasilkan kinerja model yang buruk dalam memprediksi kasus yang tidak dominan (dalam kasus ini, kasus pinjaman yang dianggap bermasalah).\n",
        "\n",
        "Oleh karena itu, jika terdapat ketidakseimbangan pada data, maka biasanya perlu dilakukan teknik pengolahan data khusus seperti oversampling atau undersampling untuk mengatasi masalah tersebut dan meningkatkan kinerja model dalam memprediksi kasus minoritas."
      ]
    },
    {
      "cell_type": "markdown",
      "id": "c28ecfd6-bfd0-4d45-b34e-42317e867501",
      "metadata": {
        "id": "c28ecfd6-bfd0-4d45-b34e-42317e867501"
      },
      "source": [
        "# FEATURE SCALING AND TRANSFORMATION"
      ]
    },
    {
      "cell_type": "code",
      "execution_count": 157,
      "id": "875b2661",
      "metadata": {},
      "outputs": [
        {
          "name": "stderr",
          "output_type": "stream",
          "text": [
            "C:\\Users\\user\\AppData\\Local\\Temp\\ipykernel_11240\\3910729940.py:2: FutureWarning: The default value of numeric_only in DataFrame.corr is deprecated. In a future version, it will default to False. Select only valid columns or specify the value of numeric_only to silence this warning.\n",
            "  corr_pearson = data.corr(method='pearson')['bad_flag'].sort_values()\n",
            "C:\\Users\\user\\AppData\\Local\\Temp\\ipykernel_11240\\3910729940.py:5: FutureWarning: The default value of numeric_only in DataFrame.corr is deprecated. In a future version, it will default to False. Select only valid columns or specify the value of numeric_only to silence this warning.\n",
            "  corr_spearman = data.corr(method='spearman')['bad_flag'].sort_values()\n"
          ]
        }
      ],
      "source": [
        "# Menghitung korelasi Pearson\n",
        "corr_pearson = data.corr(method='pearson')['bad_flag'].sort_values()\n",
        "\n",
        "# Menghitung korelasi Spearman\n",
        "corr_spearman = data.corr(method='spearman')['bad_flag'].sort_values()\n",
        "\n",
        "# Menghapus kolom dengan korelasi Pearson atau Spearman < 0.1\n",
        "idx_pearson = corr_pearson[abs(corr_pearson) < 0.07].index.tolist()\n",
        "idx_spearman = corr_spearman[abs(corr_spearman) < 0.07].index.tolist()\n",
        "data = data.drop(columns=idx_pearson+idx_spearman)\n"
      ]
    },
    {
      "cell_type": "code",
      "execution_count": 158,
      "id": "6bc3a78a",
      "metadata": {},
      "outputs": [
        {
          "name": "stdout",
          "output_type": "stream",
          "text": [
            "Korelasi Pearson dan Spearman yang tidak dihapus:\n",
            "out_prncp            -0.158676\n",
            "inq_last_6mths        0.073099\n",
            "mths_since_issue_d    0.087575\n",
            "total_rec_late_fee    0.147750\n",
            "int_rate              0.172361\n",
            "recoveries            0.441171\n",
            "bad_flag              1.000000\n",
            "Name: bad_flag, dtype: float64\n",
            "out_prncp            -0.223551\n",
            "tot_cur_bal          -0.071981\n",
            "annual_inc           -0.071916\n",
            "mths_since_issue_d    0.100357\n",
            "int_rate              0.169572\n",
            "total_rec_late_fee    0.173627\n",
            "recoveries            0.670039\n",
            "bad_flag              1.000000\n",
            "Name: bad_flag, dtype: float64\n"
          ]
        }
      ],
      "source": [
        "# Menampilkan kolom yang tidak dihapus\n",
        "print(\"Korelasi Pearson dan Spearman yang tidak dihapus:\")\n",
        "print(corr_pearson[abs(corr_pearson) > 0.07])\n",
        "print(corr_spearman[abs(corr_spearman) > 0.07])"
      ]
    },
    {
      "cell_type": "code",
      "execution_count": 159,
      "id": "667f614b",
      "metadata": {},
      "outputs": [
        {
          "name": "stdout",
          "output_type": "stream",
          "text": [
            "Korelasi Pearson dan Spearman yang dihapus:\n",
            "tot_cur_bal                   -0.063741\n",
            "annual_inc                    -0.049864\n",
            "mths_since_earliest_cr_line   -0.034101\n",
            "total_acc                     -0.023062\n",
            "emp_length_int                -0.020629\n",
            "revol_bal                     -0.018348\n",
            "pub_rec                       -0.009110\n",
            "open_acc                      -0.006170\n",
            "collections_12_mths_ex_med    -0.005119\n",
            "mths_since_last_delinq        -0.004815\n",
            "tot_coll_amt                  -0.001394\n",
            "acc_now_delinq                -0.000197\n",
            "delinq_2yrs                    0.001228\n",
            "loan_amnt                      0.011819\n",
            "dti                            0.048102\n",
            "revol_util                     0.049739\n",
            "term_int                       0.063565\n",
            "Name: bad_flag, dtype: float64\n",
            "mths_since_earliest_cr_line   -0.035973\n",
            "total_acc                     -0.024910\n",
            "emp_length_int                -0.021560\n",
            "revol_bal                     -0.017977\n",
            "tot_coll_amt                  -0.011460\n",
            "pub_rec                       -0.007689\n",
            "mths_since_last_delinq        -0.005294\n",
            "open_acc                      -0.005226\n",
            "collections_12_mths_ex_med    -0.004664\n",
            "acc_now_delinq                -0.000488\n",
            "delinq_2yrs                   -0.000453\n",
            "loan_amnt                      0.011456\n",
            "dti                            0.049770\n",
            "revol_util                     0.050495\n",
            "term_int                       0.063565\n",
            "inq_last_6mths                 0.069158\n",
            "Name: bad_flag, dtype: float64\n"
          ]
        }
      ],
      "source": [
        "\n",
        "# Menampilkan kolom yang dihapus\n",
        "print(\"Korelasi Pearson dan Spearman yang dihapus:\")\n",
        "print(corr_pearson[abs(corr_pearson) < 0.07])\n",
        "print(corr_spearman[abs(corr_spearman) < 0.07])\n"
      ]
    },
    {
      "cell_type": "code",
      "execution_count": 160,
      "id": "59172c48",
      "metadata": {},
      "outputs": [
        {
          "name": "stdout",
          "output_type": "stream",
          "text": [
            "<class 'pandas.core.frame.DataFrame'>\n",
            "Int64Index: 466285 entries, 0 to 466284\n",
            "Data columns (total 11 columns):\n",
            " #   Column               Non-Null Count   Dtype  \n",
            "---  ------               --------------   -----  \n",
            " 0   int_rate             466285 non-null  float64\n",
            " 1   grade                466285 non-null  object \n",
            " 2   home_ownership       466285 non-null  object \n",
            " 3   verification_status  466285 non-null  object \n",
            " 4   purpose              466285 non-null  object \n",
            " 5   addr_state           466285 non-null  object \n",
            " 6   out_prncp            466285 non-null  float64\n",
            " 7   total_rec_late_fee   466285 non-null  float64\n",
            " 8   recoveries           466285 non-null  float64\n",
            " 9   bad_flag             466285 non-null  int32  \n",
            " 10  mths_since_issue_d   466285 non-null  float64\n",
            "dtypes: float64(5), int32(1), object(5)\n",
            "memory usage: 40.9+ MB\n"
          ]
        }
      ],
      "source": [
        "data.info()"
      ]
    },
    {
      "cell_type": "code",
      "execution_count": 161,
      "id": "3224e576",
      "metadata": {},
      "outputs": [],
      "source": [
        "data = data.drop('addr_state', axis=1)"
      ]
    },
    {
      "cell_type": "code",
      "execution_count": 162,
      "id": "247c229a",
      "metadata": {},
      "outputs": [
        {
          "name": "stdout",
          "output_type": "stream",
          "text": [
            "Column 'int_rate': 506 unique values\n",
            "Column 'grade': 7 unique values\n",
            "Column 'home_ownership': 5 unique values\n",
            "Column 'verification_status': 3 unique values\n",
            "Column 'purpose': 14 unique values\n",
            "Column 'out_prncp': 135665 unique values\n",
            "Column 'total_rec_late_fee': 5808 unique values\n",
            "Column 'recoveries': 22773 unique values\n",
            "Column 'bad_flag': 2 unique values\n",
            "Column 'mths_since_issue_d': 91 unique values\n"
          ]
        }
      ],
      "source": [
        "for column in data.columns:\n",
        "    unique_values = data[column].nunique()\n",
        "    print(\"Column '{}': {} unique values\".format(column, unique_values))"
      ]
    },
    {
      "cell_type": "code",
      "execution_count": 163,
      "id": "7b446239",
      "metadata": {},
      "outputs": [
        {
          "name": "stdout",
          "output_type": "stream",
          "text": [
            "<class 'pandas.core.frame.DataFrame'>\n",
            "Int64Index: 466285 entries, 0 to 466284\n",
            "Data columns (total 10 columns):\n",
            " #   Column               Non-Null Count   Dtype  \n",
            "---  ------               --------------   -----  \n",
            " 0   int_rate             466285 non-null  float64\n",
            " 1   grade                466285 non-null  object \n",
            " 2   home_ownership       466285 non-null  object \n",
            " 3   verification_status  466285 non-null  object \n",
            " 4   purpose              466285 non-null  object \n",
            " 5   out_prncp            466285 non-null  float64\n",
            " 6   total_rec_late_fee   466285 non-null  float64\n",
            " 7   recoveries           466285 non-null  float64\n",
            " 8   bad_flag             466285 non-null  int32  \n",
            " 9   mths_since_issue_d   466285 non-null  float64\n",
            "dtypes: float64(5), int32(1), object(4)\n",
            "memory usage: 37.4+ MB\n"
          ]
        }
      ],
      "source": [
        "data.info()"
      ]
    },
    {
      "cell_type": "markdown",
      "id": "ab3c322d-1522-4a5c-9dcf-c1a886b39682",
      "metadata": {
        "id": "ab3c322d-1522-4a5c-9dcf-c1a886b39682"
      },
      "source": [
        "### One Hot Encoding"
      ]
    },
    {
      "cell_type": "markdown",
      "id": "991d3330-8cca-499e-9954-1c808d3b2f34",
      "metadata": {
        "id": "991d3330-8cca-499e-9954-1c808d3b2f34"
      },
      "source": [
        "Semua kolom kategorikal dilakukan One Hot Encoding."
      ]
    },
    {
      "cell_type": "code",
      "execution_count": 164,
      "id": "10d8e597",
      "metadata": {},
      "outputs": [
        {
          "name": "stdout",
          "output_type": "stream",
          "text": [
            "        grade_A  grade_B  grade_C  grade_D  grade_E  grade_F  grade_G  \\\n",
            "239969        0        1        0        0        0        0        0   \n",
            "434403        0        0        0        0        1        0        0   \n",
            "426994        0        1        0        0        0        0        0   \n",
            "75010         0        0        1        0        0        0        0   \n",
            "45550         1        0        0        0        0        0        0   \n",
            "\n",
            "        Status_Not Verified  Status_Source Verified  Status_Verified  \\\n",
            "239969                    1                       0                0   \n",
            "434403                    0                       0                1   \n",
            "426994                    0                       1                0   \n",
            "75010                     0                       0                1   \n",
            "45550                     0                       0                1   \n",
            "\n",
            "        Home_MORTGAGE  Home_NONE  Home_OTHER  Home_OWN  Home_RENT  \\\n",
            "239969              1          0           0         0          0   \n",
            "434403              0          0           0         0          1   \n",
            "426994              1          0           0         0          0   \n",
            "75010               0          0           0         1          0   \n",
            "45550               1          0           0         0          0   \n",
            "\n",
            "        Purpose_car  Purpose_credit_card  Purpose_debt_consolidation  \\\n",
            "239969            0                    0                           1   \n",
            "434403            0                    1                           0   \n",
            "426994            0                    0                           1   \n",
            "75010             0                    0                           1   \n",
            "45550             0                    1                           0   \n",
            "\n",
            "        Purpose_educational  Purpose_home_improvement  Purpose_house  \\\n",
            "239969                    0                         0              0   \n",
            "434403                    0                         0              0   \n",
            "426994                    0                         0              0   \n",
            "75010                     0                         0              0   \n",
            "45550                     0                         0              0   \n",
            "\n",
            "        Purpose_major_purchase  Purpose_medical  Purpose_moving  \\\n",
            "239969                       0                0               0   \n",
            "434403                       0                0               0   \n",
            "426994                       0                0               0   \n",
            "75010                        0                0               0   \n",
            "45550                        0                0               0   \n",
            "\n",
            "        Purpose_other  Purpose_renewable_energy  Purpose_small_business  \\\n",
            "239969              0                         0                       0   \n",
            "434403              0                         0                       0   \n",
            "426994              0                         0                       0   \n",
            "75010               0                         0                       0   \n",
            "45550               0                         0                       0   \n",
            "\n",
            "        Purpose_vacation  Purpose_wedding  \n",
            "239969                 0                0  \n",
            "434403                 0                0  \n",
            "426994                 0                0  \n",
            "75010                  0                0  \n",
            "45550                  0                0  \n"
          ]
        }
      ],
      "source": [
        "import pandas as pd\n",
        "\n",
        "# separate 'grade' and 'verification_status' columns\n",
        "grade = pd.get_dummies(data['grade'], prefix='grade')\n",
        "verification_status = pd.get_dummies(data['verification_status'], prefix='Status')\n",
        "home_ownership = pd.get_dummies(data['home_ownership'], prefix='Home')\n",
        "purpose = pd.get_dummies(data['purpose'], prefix='Purpose')\n",
        "\n",
        "# concatenate the new columns into a new dataframe 'onehot'\n",
        "onehot = pd.concat([grade, verification_status, home_ownership, purpose ], axis=1)\n",
        "\n",
        "# display the updated dataframe\n",
        "print(onehot.sample(5))\n"
      ]
    },
    {
      "cell_type": "code",
      "execution_count": 165,
      "id": "1b03ef73-68fa-4cf1-a818-30c351da5371",
      "metadata": {
        "id": "1b03ef73-68fa-4cf1-a818-30c351da5371"
      },
      "outputs": [
        {
          "data": {
            "text/html": [
              "<div>\n",
              "<style scoped>\n",
              "    .dataframe tbody tr th:only-of-type {\n",
              "        vertical-align: middle;\n",
              "    }\n",
              "\n",
              "    .dataframe tbody tr th {\n",
              "        vertical-align: top;\n",
              "    }\n",
              "\n",
              "    .dataframe thead th {\n",
              "        text-align: right;\n",
              "    }\n",
              "</style>\n",
              "<table border=\"1\" class=\"dataframe\">\n",
              "  <thead>\n",
              "    <tr style=\"text-align: right;\">\n",
              "      <th></th>\n",
              "      <th>grade_A</th>\n",
              "      <th>grade_B</th>\n",
              "      <th>grade_C</th>\n",
              "      <th>grade_D</th>\n",
              "      <th>grade_E</th>\n",
              "      <th>grade_F</th>\n",
              "      <th>grade_G</th>\n",
              "      <th>Status_Not Verified</th>\n",
              "      <th>Status_Source Verified</th>\n",
              "      <th>Status_Verified</th>\n",
              "      <th>Home_MORTGAGE</th>\n",
              "      <th>Home_NONE</th>\n",
              "      <th>Home_OTHER</th>\n",
              "      <th>Home_OWN</th>\n",
              "      <th>Home_RENT</th>\n",
              "      <th>Purpose_car</th>\n",
              "      <th>Purpose_credit_card</th>\n",
              "      <th>Purpose_debt_consolidation</th>\n",
              "      <th>Purpose_educational</th>\n",
              "      <th>Purpose_home_improvement</th>\n",
              "      <th>Purpose_house</th>\n",
              "      <th>Purpose_major_purchase</th>\n",
              "      <th>Purpose_medical</th>\n",
              "      <th>Purpose_moving</th>\n",
              "      <th>Purpose_other</th>\n",
              "      <th>Purpose_renewable_energy</th>\n",
              "      <th>Purpose_small_business</th>\n",
              "      <th>Purpose_vacation</th>\n",
              "      <th>Purpose_wedding</th>\n",
              "    </tr>\n",
              "  </thead>\n",
              "  <tbody>\n",
              "    <tr>\n",
              "      <th>0</th>\n",
              "      <td>0</td>\n",
              "      <td>1</td>\n",
              "      <td>0</td>\n",
              "      <td>0</td>\n",
              "      <td>0</td>\n",
              "      <td>0</td>\n",
              "      <td>0</td>\n",
              "      <td>0</td>\n",
              "      <td>0</td>\n",
              "      <td>1</td>\n",
              "      <td>0</td>\n",
              "      <td>0</td>\n",
              "      <td>0</td>\n",
              "      <td>0</td>\n",
              "      <td>1</td>\n",
              "      <td>0</td>\n",
              "      <td>1</td>\n",
              "      <td>0</td>\n",
              "      <td>0</td>\n",
              "      <td>0</td>\n",
              "      <td>0</td>\n",
              "      <td>0</td>\n",
              "      <td>0</td>\n",
              "      <td>0</td>\n",
              "      <td>0</td>\n",
              "      <td>0</td>\n",
              "      <td>0</td>\n",
              "      <td>0</td>\n",
              "      <td>0</td>\n",
              "    </tr>\n",
              "    <tr>\n",
              "      <th>1</th>\n",
              "      <td>0</td>\n",
              "      <td>0</td>\n",
              "      <td>1</td>\n",
              "      <td>0</td>\n",
              "      <td>0</td>\n",
              "      <td>0</td>\n",
              "      <td>0</td>\n",
              "      <td>0</td>\n",
              "      <td>1</td>\n",
              "      <td>0</td>\n",
              "      <td>0</td>\n",
              "      <td>0</td>\n",
              "      <td>0</td>\n",
              "      <td>0</td>\n",
              "      <td>1</td>\n",
              "      <td>1</td>\n",
              "      <td>0</td>\n",
              "      <td>0</td>\n",
              "      <td>0</td>\n",
              "      <td>0</td>\n",
              "      <td>0</td>\n",
              "      <td>0</td>\n",
              "      <td>0</td>\n",
              "      <td>0</td>\n",
              "      <td>0</td>\n",
              "      <td>0</td>\n",
              "      <td>0</td>\n",
              "      <td>0</td>\n",
              "      <td>0</td>\n",
              "    </tr>\n",
              "    <tr>\n",
              "      <th>2</th>\n",
              "      <td>0</td>\n",
              "      <td>0</td>\n",
              "      <td>1</td>\n",
              "      <td>0</td>\n",
              "      <td>0</td>\n",
              "      <td>0</td>\n",
              "      <td>0</td>\n",
              "      <td>1</td>\n",
              "      <td>0</td>\n",
              "      <td>0</td>\n",
              "      <td>0</td>\n",
              "      <td>0</td>\n",
              "      <td>0</td>\n",
              "      <td>0</td>\n",
              "      <td>1</td>\n",
              "      <td>0</td>\n",
              "      <td>0</td>\n",
              "      <td>0</td>\n",
              "      <td>0</td>\n",
              "      <td>0</td>\n",
              "      <td>0</td>\n",
              "      <td>0</td>\n",
              "      <td>0</td>\n",
              "      <td>0</td>\n",
              "      <td>0</td>\n",
              "      <td>0</td>\n",
              "      <td>1</td>\n",
              "      <td>0</td>\n",
              "      <td>0</td>\n",
              "    </tr>\n",
              "    <tr>\n",
              "      <th>3</th>\n",
              "      <td>0</td>\n",
              "      <td>0</td>\n",
              "      <td>1</td>\n",
              "      <td>0</td>\n",
              "      <td>0</td>\n",
              "      <td>0</td>\n",
              "      <td>0</td>\n",
              "      <td>0</td>\n",
              "      <td>1</td>\n",
              "      <td>0</td>\n",
              "      <td>0</td>\n",
              "      <td>0</td>\n",
              "      <td>0</td>\n",
              "      <td>0</td>\n",
              "      <td>1</td>\n",
              "      <td>0</td>\n",
              "      <td>0</td>\n",
              "      <td>0</td>\n",
              "      <td>0</td>\n",
              "      <td>0</td>\n",
              "      <td>0</td>\n",
              "      <td>0</td>\n",
              "      <td>0</td>\n",
              "      <td>0</td>\n",
              "      <td>1</td>\n",
              "      <td>0</td>\n",
              "      <td>0</td>\n",
              "      <td>0</td>\n",
              "      <td>0</td>\n",
              "    </tr>\n",
              "    <tr>\n",
              "      <th>4</th>\n",
              "      <td>0</td>\n",
              "      <td>1</td>\n",
              "      <td>0</td>\n",
              "      <td>0</td>\n",
              "      <td>0</td>\n",
              "      <td>0</td>\n",
              "      <td>0</td>\n",
              "      <td>0</td>\n",
              "      <td>1</td>\n",
              "      <td>0</td>\n",
              "      <td>0</td>\n",
              "      <td>0</td>\n",
              "      <td>0</td>\n",
              "      <td>0</td>\n",
              "      <td>1</td>\n",
              "      <td>0</td>\n",
              "      <td>0</td>\n",
              "      <td>0</td>\n",
              "      <td>0</td>\n",
              "      <td>0</td>\n",
              "      <td>0</td>\n",
              "      <td>0</td>\n",
              "      <td>0</td>\n",
              "      <td>0</td>\n",
              "      <td>1</td>\n",
              "      <td>0</td>\n",
              "      <td>0</td>\n",
              "      <td>0</td>\n",
              "      <td>0</td>\n",
              "    </tr>\n",
              "  </tbody>\n",
              "</table>\n",
              "</div>"
            ],
            "text/plain": [
              "   grade_A  grade_B  grade_C  grade_D  grade_E  grade_F  grade_G  \\\n",
              "0        0        1        0        0        0        0        0   \n",
              "1        0        0        1        0        0        0        0   \n",
              "2        0        0        1        0        0        0        0   \n",
              "3        0        0        1        0        0        0        0   \n",
              "4        0        1        0        0        0        0        0   \n",
              "\n",
              "   Status_Not Verified  Status_Source Verified  Status_Verified  \\\n",
              "0                    0                       0                1   \n",
              "1                    0                       1                0   \n",
              "2                    1                       0                0   \n",
              "3                    0                       1                0   \n",
              "4                    0                       1                0   \n",
              "\n",
              "   Home_MORTGAGE  Home_NONE  Home_OTHER  Home_OWN  Home_RENT  Purpose_car  \\\n",
              "0              0          0           0         0          1            0   \n",
              "1              0          0           0         0          1            1   \n",
              "2              0          0           0         0          1            0   \n",
              "3              0          0           0         0          1            0   \n",
              "4              0          0           0         0          1            0   \n",
              "\n",
              "   Purpose_credit_card  Purpose_debt_consolidation  Purpose_educational  \\\n",
              "0                    1                           0                    0   \n",
              "1                    0                           0                    0   \n",
              "2                    0                           0                    0   \n",
              "3                    0                           0                    0   \n",
              "4                    0                           0                    0   \n",
              "\n",
              "   Purpose_home_improvement  Purpose_house  Purpose_major_purchase  \\\n",
              "0                         0              0                       0   \n",
              "1                         0              0                       0   \n",
              "2                         0              0                       0   \n",
              "3                         0              0                       0   \n",
              "4                         0              0                       0   \n",
              "\n",
              "   Purpose_medical  Purpose_moving  Purpose_other  Purpose_renewable_energy  \\\n",
              "0                0               0              0                         0   \n",
              "1                0               0              0                         0   \n",
              "2                0               0              0                         0   \n",
              "3                0               0              1                         0   \n",
              "4                0               0              1                         0   \n",
              "\n",
              "   Purpose_small_business  Purpose_vacation  Purpose_wedding  \n",
              "0                       0                 0                0  \n",
              "1                       0                 0                0  \n",
              "2                       1                 0                0  \n",
              "3                       0                 0                0  \n",
              "4                       0                 0                0  "
            ]
          },
          "execution_count": 165,
          "metadata": {},
          "output_type": "execute_result"
        }
      ],
      "source": [
        "onehot.head(5)"
      ]
    },
    {
      "attachments": {},
      "cell_type": "markdown",
      "id": "deb37d80-a83a-4256-837f-f3e4f66cc148",
      "metadata": {
        "id": "deb37d80-a83a-4256-837f-f3e4f66cc148"
      },
      "source": [
        "### Numerik "
      ]
    },
    {
      "cell_type": "code",
      "execution_count": 166,
      "id": "e46550bb-77e4-49dd-b995-4d3c8cd9bd00",
      "metadata": {
        "id": "e46550bb-77e4-49dd-b995-4d3c8cd9bd00"
      },
      "outputs": [],
      "source": [
        "categorical_cols = ['grade', 'verification_status', 'home_ownership', 'purpose']\n",
        "numerical_cols = [col for col in data.columns.tolist() if col not in categorical_cols + ['bad_flag']]"
      ]
    },
    {
      "cell_type": "code",
      "execution_count": 167,
      "id": "ebe7d536",
      "metadata": {},
      "outputs": [],
      "source": [
        "numerical = data[numerical_cols]"
      ]
    },
    {
      "cell_type": "code",
      "execution_count": 168,
      "id": "3d5fd301-e010-42ed-bb7e-5c85165251a2",
      "metadata": {
        "id": "3d5fd301-e010-42ed-bb7e-5c85165251a2"
      },
      "outputs": [
        {
          "data": {
            "text/html": [
              "<div>\n",
              "<style scoped>\n",
              "    .dataframe tbody tr th:only-of-type {\n",
              "        vertical-align: middle;\n",
              "    }\n",
              "\n",
              "    .dataframe tbody tr th {\n",
              "        vertical-align: top;\n",
              "    }\n",
              "\n",
              "    .dataframe thead th {\n",
              "        text-align: right;\n",
              "    }\n",
              "</style>\n",
              "<table border=\"1\" class=\"dataframe\">\n",
              "  <thead>\n",
              "    <tr style=\"text-align: right;\">\n",
              "      <th></th>\n",
              "      <th>int_rate</th>\n",
              "      <th>out_prncp</th>\n",
              "      <th>total_rec_late_fee</th>\n",
              "      <th>recoveries</th>\n",
              "      <th>mths_since_issue_d</th>\n",
              "    </tr>\n",
              "  </thead>\n",
              "  <tbody>\n",
              "    <tr>\n",
              "      <th>198762</th>\n",
              "      <td>18.75</td>\n",
              "      <td>0.00</td>\n",
              "      <td>0.0</td>\n",
              "      <td>0.0</td>\n",
              "      <td>63.0</td>\n",
              "    </tr>\n",
              "    <tr>\n",
              "      <th>335196</th>\n",
              "      <td>6.03</td>\n",
              "      <td>0.00</td>\n",
              "      <td>0.0</td>\n",
              "      <td>0.0</td>\n",
              "      <td>40.0</td>\n",
              "    </tr>\n",
              "    <tr>\n",
              "      <th>130147</th>\n",
              "      <td>21.98</td>\n",
              "      <td>9252.46</td>\n",
              "      <td>0.0</td>\n",
              "      <td>0.0</td>\n",
              "      <td>54.0</td>\n",
              "    </tr>\n",
              "    <tr>\n",
              "      <th>389704</th>\n",
              "      <td>15.61</td>\n",
              "      <td>3213.47</td>\n",
              "      <td>0.0</td>\n",
              "      <td>0.0</td>\n",
              "      <td>43.0</td>\n",
              "    </tr>\n",
              "    <tr>\n",
              "      <th>269548</th>\n",
              "      <td>25.80</td>\n",
              "      <td>17688.08</td>\n",
              "      <td>0.0</td>\n",
              "      <td>0.0</td>\n",
              "      <td>38.0</td>\n",
              "    </tr>\n",
              "  </tbody>\n",
              "</table>\n",
              "</div>"
            ],
            "text/plain": [
              "        int_rate  out_prncp  total_rec_late_fee  recoveries  \\\n",
              "198762     18.75       0.00                 0.0         0.0   \n",
              "335196      6.03       0.00                 0.0         0.0   \n",
              "130147     21.98    9252.46                 0.0         0.0   \n",
              "389704     15.61    3213.47                 0.0         0.0   \n",
              "269548     25.80   17688.08                 0.0         0.0   \n",
              "\n",
              "        mths_since_issue_d  \n",
              "198762                63.0  \n",
              "335196                40.0  \n",
              "130147                54.0  \n",
              "389704                43.0  \n",
              "269548                38.0  "
            ]
          },
          "execution_count": 168,
          "metadata": {},
          "output_type": "execute_result"
        }
      ],
      "source": [
        "numerical.sample(5)"
      ]
    },
    {
      "cell_type": "markdown",
      "id": "fe95f2f6-6372-46bf-8b8b-58f9ef3f823b",
      "metadata": {
        "id": "fe95f2f6-6372-46bf-8b8b-58f9ef3f823b"
      },
      "source": [
        "### Transformed Dataframe"
      ]
    },
    {
      "cell_type": "markdown",
      "id": "379b69f2-ab72-460d-a566-f4fbd88d697f",
      "metadata": {
        "id": "379b69f2-ab72-460d-a566-f4fbd88d697f"
      },
      "source": [
        "Menggabungkan kembali kolom-kolom hasil transformasi "
      ]
    },
    {
      "cell_type": "code",
      "execution_count": 169,
      "id": "fc2ace56-2789-4a19-9a70-bdb72ee3d680",
      "metadata": {
        "id": "fc2ace56-2789-4a19-9a70-bdb72ee3d680"
      },
      "outputs": [],
      "source": [
        "data_model = pd.concat([onehot, numerical, data[['bad_flag']]], axis=1)"
      ]
    },
    {
      "cell_type": "code",
      "execution_count": 170,
      "id": "9e04804a",
      "metadata": {},
      "outputs": [
        {
          "data": {
            "text/html": [
              "<div>\n",
              "<style scoped>\n",
              "    .dataframe tbody tr th:only-of-type {\n",
              "        vertical-align: middle;\n",
              "    }\n",
              "\n",
              "    .dataframe tbody tr th {\n",
              "        vertical-align: top;\n",
              "    }\n",
              "\n",
              "    .dataframe thead th {\n",
              "        text-align: right;\n",
              "    }\n",
              "</style>\n",
              "<table border=\"1\" class=\"dataframe\">\n",
              "  <thead>\n",
              "    <tr style=\"text-align: right;\">\n",
              "      <th></th>\n",
              "      <th>grade_A</th>\n",
              "      <th>grade_B</th>\n",
              "      <th>grade_C</th>\n",
              "      <th>grade_D</th>\n",
              "      <th>grade_E</th>\n",
              "      <th>grade_F</th>\n",
              "      <th>grade_G</th>\n",
              "      <th>Status_Not Verified</th>\n",
              "      <th>Status_Source Verified</th>\n",
              "      <th>Status_Verified</th>\n",
              "      <th>Home_MORTGAGE</th>\n",
              "      <th>Home_NONE</th>\n",
              "      <th>Home_OTHER</th>\n",
              "      <th>Home_OWN</th>\n",
              "      <th>Home_RENT</th>\n",
              "      <th>Purpose_car</th>\n",
              "      <th>Purpose_credit_card</th>\n",
              "      <th>Purpose_debt_consolidation</th>\n",
              "      <th>Purpose_educational</th>\n",
              "      <th>Purpose_home_improvement</th>\n",
              "      <th>Purpose_house</th>\n",
              "      <th>Purpose_major_purchase</th>\n",
              "      <th>Purpose_medical</th>\n",
              "      <th>Purpose_moving</th>\n",
              "      <th>Purpose_other</th>\n",
              "      <th>Purpose_renewable_energy</th>\n",
              "      <th>Purpose_small_business</th>\n",
              "      <th>Purpose_vacation</th>\n",
              "      <th>Purpose_wedding</th>\n",
              "      <th>int_rate</th>\n",
              "      <th>out_prncp</th>\n",
              "      <th>total_rec_late_fee</th>\n",
              "      <th>recoveries</th>\n",
              "      <th>mths_since_issue_d</th>\n",
              "      <th>bad_flag</th>\n",
              "    </tr>\n",
              "  </thead>\n",
              "  <tbody>\n",
              "    <tr>\n",
              "      <th>213502</th>\n",
              "      <td>0</td>\n",
              "      <td>0</td>\n",
              "      <td>1</td>\n",
              "      <td>0</td>\n",
              "      <td>0</td>\n",
              "      <td>0</td>\n",
              "      <td>0</td>\n",
              "      <td>1</td>\n",
              "      <td>0</td>\n",
              "      <td>0</td>\n",
              "      <td>0</td>\n",
              "      <td>0</td>\n",
              "      <td>0</td>\n",
              "      <td>1</td>\n",
              "      <td>0</td>\n",
              "      <td>0</td>\n",
              "      <td>1</td>\n",
              "      <td>0</td>\n",
              "      <td>0</td>\n",
              "      <td>0</td>\n",
              "      <td>0</td>\n",
              "      <td>0</td>\n",
              "      <td>0</td>\n",
              "      <td>0</td>\n",
              "      <td>0</td>\n",
              "      <td>0</td>\n",
              "      <td>0</td>\n",
              "      <td>0</td>\n",
              "      <td>0</td>\n",
              "      <td>13.99</td>\n",
              "      <td>0.00</td>\n",
              "      <td>0.0</td>\n",
              "      <td>0.0</td>\n",
              "      <td>66.0</td>\n",
              "      <td>0</td>\n",
              "    </tr>\n",
              "    <tr>\n",
              "      <th>296446</th>\n",
              "      <td>0</td>\n",
              "      <td>0</td>\n",
              "      <td>1</td>\n",
              "      <td>0</td>\n",
              "      <td>0</td>\n",
              "      <td>0</td>\n",
              "      <td>0</td>\n",
              "      <td>1</td>\n",
              "      <td>0</td>\n",
              "      <td>0</td>\n",
              "      <td>0</td>\n",
              "      <td>0</td>\n",
              "      <td>0</td>\n",
              "      <td>0</td>\n",
              "      <td>1</td>\n",
              "      <td>0</td>\n",
              "      <td>0</td>\n",
              "      <td>1</td>\n",
              "      <td>0</td>\n",
              "      <td>0</td>\n",
              "      <td>0</td>\n",
              "      <td>0</td>\n",
              "      <td>0</td>\n",
              "      <td>0</td>\n",
              "      <td>0</td>\n",
              "      <td>0</td>\n",
              "      <td>0</td>\n",
              "      <td>0</td>\n",
              "      <td>0</td>\n",
              "      <td>12.99</td>\n",
              "      <td>5290.23</td>\n",
              "      <td>0.0</td>\n",
              "      <td>0.0</td>\n",
              "      <td>38.0</td>\n",
              "      <td>0</td>\n",
              "    </tr>\n",
              "    <tr>\n",
              "      <th>38409</th>\n",
              "      <td>0</td>\n",
              "      <td>0</td>\n",
              "      <td>1</td>\n",
              "      <td>0</td>\n",
              "      <td>0</td>\n",
              "      <td>0</td>\n",
              "      <td>0</td>\n",
              "      <td>1</td>\n",
              "      <td>0</td>\n",
              "      <td>0</td>\n",
              "      <td>0</td>\n",
              "      <td>0</td>\n",
              "      <td>0</td>\n",
              "      <td>0</td>\n",
              "      <td>1</td>\n",
              "      <td>0</td>\n",
              "      <td>0</td>\n",
              "      <td>1</td>\n",
              "      <td>0</td>\n",
              "      <td>0</td>\n",
              "      <td>0</td>\n",
              "      <td>0</td>\n",
              "      <td>0</td>\n",
              "      <td>0</td>\n",
              "      <td>0</td>\n",
              "      <td>0</td>\n",
              "      <td>0</td>\n",
              "      <td>0</td>\n",
              "      <td>0</td>\n",
              "      <td>6.00</td>\n",
              "      <td>0.00</td>\n",
              "      <td>0.0</td>\n",
              "      <td>0.0</td>\n",
              "      <td>110.0</td>\n",
              "      <td>0</td>\n",
              "    </tr>\n",
              "    <tr>\n",
              "      <th>13331</th>\n",
              "      <td>0</td>\n",
              "      <td>1</td>\n",
              "      <td>0</td>\n",
              "      <td>0</td>\n",
              "      <td>0</td>\n",
              "      <td>0</td>\n",
              "      <td>0</td>\n",
              "      <td>0</td>\n",
              "      <td>1</td>\n",
              "      <td>0</td>\n",
              "      <td>0</td>\n",
              "      <td>0</td>\n",
              "      <td>0</td>\n",
              "      <td>0</td>\n",
              "      <td>1</td>\n",
              "      <td>0</td>\n",
              "      <td>0</td>\n",
              "      <td>0</td>\n",
              "      <td>0</td>\n",
              "      <td>0</td>\n",
              "      <td>0</td>\n",
              "      <td>0</td>\n",
              "      <td>0</td>\n",
              "      <td>0</td>\n",
              "      <td>1</td>\n",
              "      <td>0</td>\n",
              "      <td>0</td>\n",
              "      <td>0</td>\n",
              "      <td>0</td>\n",
              "      <td>10.59</td>\n",
              "      <td>0.00</td>\n",
              "      <td>0.0</td>\n",
              "      <td>0.0</td>\n",
              "      <td>78.0</td>\n",
              "      <td>0</td>\n",
              "    </tr>\n",
              "    <tr>\n",
              "      <th>220991</th>\n",
              "      <td>0</td>\n",
              "      <td>1</td>\n",
              "      <td>0</td>\n",
              "      <td>0</td>\n",
              "      <td>0</td>\n",
              "      <td>0</td>\n",
              "      <td>0</td>\n",
              "      <td>0</td>\n",
              "      <td>0</td>\n",
              "      <td>1</td>\n",
              "      <td>1</td>\n",
              "      <td>0</td>\n",
              "      <td>0</td>\n",
              "      <td>0</td>\n",
              "      <td>0</td>\n",
              "      <td>1</td>\n",
              "      <td>0</td>\n",
              "      <td>0</td>\n",
              "      <td>0</td>\n",
              "      <td>0</td>\n",
              "      <td>0</td>\n",
              "      <td>0</td>\n",
              "      <td>0</td>\n",
              "      <td>0</td>\n",
              "      <td>0</td>\n",
              "      <td>0</td>\n",
              "      <td>0</td>\n",
              "      <td>0</td>\n",
              "      <td>0</td>\n",
              "      <td>12.12</td>\n",
              "      <td>1855.36</td>\n",
              "      <td>0.0</td>\n",
              "      <td>0.0</td>\n",
              "      <td>68.0</td>\n",
              "      <td>0</td>\n",
              "    </tr>\n",
              "  </tbody>\n",
              "</table>\n",
              "</div>"
            ],
            "text/plain": [
              "        grade_A  grade_B  grade_C  grade_D  grade_E  grade_F  grade_G  \\\n",
              "213502        0        0        1        0        0        0        0   \n",
              "296446        0        0        1        0        0        0        0   \n",
              "38409         0        0        1        0        0        0        0   \n",
              "13331         0        1        0        0        0        0        0   \n",
              "220991        0        1        0        0        0        0        0   \n",
              "\n",
              "        Status_Not Verified  Status_Source Verified  Status_Verified  \\\n",
              "213502                    1                       0                0   \n",
              "296446                    1                       0                0   \n",
              "38409                     1                       0                0   \n",
              "13331                     0                       1                0   \n",
              "220991                    0                       0                1   \n",
              "\n",
              "        Home_MORTGAGE  Home_NONE  Home_OTHER  Home_OWN  Home_RENT  \\\n",
              "213502              0          0           0         1          0   \n",
              "296446              0          0           0         0          1   \n",
              "38409               0          0           0         0          1   \n",
              "13331               0          0           0         0          1   \n",
              "220991              1          0           0         0          0   \n",
              "\n",
              "        Purpose_car  Purpose_credit_card  Purpose_debt_consolidation  \\\n",
              "213502            0                    1                           0   \n",
              "296446            0                    0                           1   \n",
              "38409             0                    0                           1   \n",
              "13331             0                    0                           0   \n",
              "220991            1                    0                           0   \n",
              "\n",
              "        Purpose_educational  Purpose_home_improvement  Purpose_house  \\\n",
              "213502                    0                         0              0   \n",
              "296446                    0                         0              0   \n",
              "38409                     0                         0              0   \n",
              "13331                     0                         0              0   \n",
              "220991                    0                         0              0   \n",
              "\n",
              "        Purpose_major_purchase  Purpose_medical  Purpose_moving  \\\n",
              "213502                       0                0               0   \n",
              "296446                       0                0               0   \n",
              "38409                        0                0               0   \n",
              "13331                        0                0               0   \n",
              "220991                       0                0               0   \n",
              "\n",
              "        Purpose_other  Purpose_renewable_energy  Purpose_small_business  \\\n",
              "213502              0                         0                       0   \n",
              "296446              0                         0                       0   \n",
              "38409               0                         0                       0   \n",
              "13331               1                         0                       0   \n",
              "220991              0                         0                       0   \n",
              "\n",
              "        Purpose_vacation  Purpose_wedding  int_rate  out_prncp  \\\n",
              "213502                 0                0     13.99       0.00   \n",
              "296446                 0                0     12.99    5290.23   \n",
              "38409                  0                0      6.00       0.00   \n",
              "13331                  0                0     10.59       0.00   \n",
              "220991                 0                0     12.12    1855.36   \n",
              "\n",
              "        total_rec_late_fee  recoveries  mths_since_issue_d  bad_flag  \n",
              "213502                 0.0         0.0                66.0         0  \n",
              "296446                 0.0         0.0                38.0         0  \n",
              "38409                  0.0         0.0               110.0         0  \n",
              "13331                  0.0         0.0                78.0         0  \n",
              "220991                 0.0         0.0                68.0         0  "
            ]
          },
          "execution_count": 170,
          "metadata": {},
          "output_type": "execute_result"
        }
      ],
      "source": [
        "data_model.sample(5)"
      ]
    },
    {
      "cell_type": "code",
      "execution_count": 171,
      "id": "7441aceb",
      "metadata": {},
      "outputs": [],
      "source": [
        "data_model = data_model.rename(columns={'Status_Not Verified': 'Status_Not_Verified',\n",
        "                                        'Status_Verified': 'Status_Verified',\n",
        "                                        'Status_Source Verified': 'Status_Source_Verified'})\n"
      ]
    },
    {
      "cell_type": "code",
      "execution_count": 172,
      "id": "5e245cc4",
      "metadata": {},
      "outputs": [],
      "source": [
        "data_model.dropna(inplace=True)\n"
      ]
    },
    {
      "cell_type": "code",
      "execution_count": 173,
      "id": "86d25599",
      "metadata": {},
      "outputs": [
        {
          "name": "stdout",
          "output_type": "stream",
          "text": [
            "grade_A                       0\n",
            "grade_B                       0\n",
            "grade_C                       0\n",
            "grade_D                       0\n",
            "grade_E                       0\n",
            "grade_F                       0\n",
            "grade_G                       0\n",
            "Status_Not_Verified           0\n",
            "Status_Source_Verified        0\n",
            "Status_Verified               0\n",
            "Home_MORTGAGE                 0\n",
            "Home_NONE                     0\n",
            "Home_OTHER                    0\n",
            "Home_OWN                      0\n",
            "Home_RENT                     0\n",
            "Purpose_car                   0\n",
            "Purpose_credit_card           0\n",
            "Purpose_debt_consolidation    0\n",
            "Purpose_educational           0\n",
            "Purpose_home_improvement      0\n",
            "Purpose_house                 0\n",
            "Purpose_major_purchase        0\n",
            "Purpose_medical               0\n",
            "Purpose_moving                0\n",
            "Purpose_other                 0\n",
            "Purpose_renewable_energy      0\n",
            "Purpose_small_business        0\n",
            "Purpose_vacation              0\n",
            "Purpose_wedding               0\n",
            "int_rate                      0\n",
            "out_prncp                     0\n",
            "total_rec_late_fee            0\n",
            "recoveries                    0\n",
            "mths_since_issue_d            0\n",
            "bad_flag                      0\n",
            "dtype: int64\n"
          ]
        }
      ],
      "source": [
        "print(np.isnan(data_model).sum())"
      ]
    },
    {
      "cell_type": "markdown",
      "id": "e0b46ea7-3070-4865-beef-9df79ffbc289",
      "metadata": {
        "id": "e0b46ea7-3070-4865-beef-9df79ffbc289",
        "tags": []
      },
      "source": [
        "# MODELING"
      ]
    },
    {
      "cell_type": "markdown",
      "id": "0b0e6c1a-d336-4f67-b67e-3a8e8a1da5f8",
      "metadata": {
        "id": "0b0e6c1a-d336-4f67-b67e-3a8e8a1da5f8"
      },
      "source": [
        "### Train-Test Split"
      ]
    },
    {
      "cell_type": "code",
      "execution_count": 174,
      "id": "84d129a3-759f-4ccd-8522-0a80712a271a",
      "metadata": {
        "id": "84d129a3-759f-4ccd-8522-0a80712a271a"
      },
      "outputs": [],
      "source": [
        "from sklearn.model_selection import train_test_split"
      ]
    },
    {
      "cell_type": "code",
      "execution_count": 175,
      "id": "ce1fdd10-2163-415b-8eb4-987721fa7154",
      "metadata": {
        "id": "ce1fdd10-2163-415b-8eb4-987721fa7154"
      },
      "outputs": [],
      "source": [
        "X = data_model.drop('bad_flag', axis=1)\n",
        "y = data_model['bad_flag']"
      ]
    },
    {
      "cell_type": "code",
      "execution_count": 176,
      "id": "ixIIKnX6akSn",
      "metadata": {
        "id": "ixIIKnX6akSn"
      },
      "outputs": [
        {
          "data": {
            "text/plain": [
              "0    415317\n",
              "1     50968\n",
              "Name: bad_flag, dtype: int64"
            ]
          },
          "execution_count": 176,
          "metadata": {},
          "output_type": "execute_result"
        }
      ],
      "source": [
        "y.value_counts() # data unbalance"
      ]
    },
    {
      "cell_type": "markdown",
      "id": "3Jj7SBIi9Hlm",
      "metadata": {
        "id": "3Jj7SBIi9Hlm"
      },
      "source": [
        "karena data unbalance maka akan dilakukan over sampling agar kelas status peminjaman buruk dan baik menjadi seimbang"
      ]
    },
    {
      "cell_type": "code",
      "execution_count": 177,
      "id": "6edUm0Y7bDx7",
      "metadata": {
        "id": "6edUm0Y7bDx7"
      },
      "outputs": [
        {
          "data": {
            "text/plain": [
              "0    415317\n",
              "1    415317\n",
              "Name: bad_flag, dtype: int64"
            ]
          },
          "execution_count": 177,
          "metadata": {},
          "output_type": "execute_result"
        }
      ],
      "source": [
        "from imblearn.over_sampling import SMOTE # over sampling menggunakan smote\n",
        "\n",
        "# Buat objek SMOTE\n",
        "smote = SMOTE(sampling_strategy='minority')\n",
        "\n",
        "# Lakukan SMOTE pada data\n",
        "X, y = smote.fit_resample(X, y)\n",
        "\n",
        "# Periksa apakah data sudah seimbang\n",
        "y.value_counts()\n"
      ]
    },
    {
      "cell_type": "code",
      "execution_count": 178,
      "id": "5g0F83PzbNnu",
      "metadata": {
        "id": "5g0F83PzbNnu"
      },
      "outputs": [],
      "source": [
        "X_train, X_test, y_train, y_test = train_test_split(X, y, test_size=0.2, random_state=42)"
      ]
    },
    {
      "cell_type": "code",
      "execution_count": 179,
      "id": "712fafef-a848-4b65-9ce9-3c007d9cef56",
      "metadata": {
        "id": "712fafef-a848-4b65-9ce9-3c007d9cef56"
      },
      "outputs": [
        {
          "data": {
            "text/plain": [
              "((664507, 34), (166127, 34))"
            ]
          },
          "execution_count": 179,
          "metadata": {},
          "output_type": "execute_result"
        }
      ],
      "source": [
        "X_train.shape, X_test.shape"
      ]
    },
    {
      "cell_type": "code",
      "execution_count": 180,
      "id": "CIvj8zEI9rEk",
      "metadata": {
        "id": "CIvj8zEI9rEk"
      },
      "outputs": [
        {
          "name": "stdout",
          "output_type": "stream",
          "text": [
            "Features used in the model: ['grade_A', 'grade_B', 'grade_C', 'grade_D', 'grade_E', 'grade_F', 'grade_G', 'Status_Not_Verified', 'Status_Source_Verified', 'Status_Verified', 'Home_MORTGAGE', 'Home_NONE', 'Home_OTHER', 'Home_OWN', 'Home_RENT', 'Purpose_car', 'Purpose_credit_card', 'Purpose_debt_consolidation', 'Purpose_educational', 'Purpose_home_improvement', 'Purpose_house', 'Purpose_major_purchase', 'Purpose_medical', 'Purpose_moving', 'Purpose_other', 'Purpose_renewable_energy', 'Purpose_small_business', 'Purpose_vacation', 'Purpose_wedding', 'int_rate', 'out_prncp', 'total_rec_late_fee', 'recoveries', 'mths_since_issue_d']\n"
          ]
        }
      ],
      "source": [
        "# cek fitur yang digunakan untuk training\n",
        "feature_names = X_train.columns.tolist()\n",
        "print(\"Features used in the model:\", feature_names)"
      ]
    },
    {
      "cell_type": "markdown",
      "id": "U3n4FTOqu2wh",
      "metadata": {
        "id": "U3n4FTOqu2wh"
      },
      "source": [
        "#Machine Learning"
      ]
    },
    {
      "cell_type": "markdown",
      "id": "o56HrAl-u-QG",
      "metadata": {
        "id": "o56HrAl-u-QG"
      },
      "source": [
        "## Random forest classifier"
      ]
    },
    {
      "cell_type": "code",
      "execution_count": 181,
      "id": "9E-gBv-DvGn5",
      "metadata": {
        "id": "9E-gBv-DvGn5"
      },
      "outputs": [
        {
          "name": "stdout",
          "output_type": "stream",
          "text": [
            "Accuracy Score on Training Data:  0.955100548225978\n",
            "Accuracy Score on Testing Data:  0.9257616161129738\n"
          ]
        }
      ],
      "source": [
        "from sklearn.ensemble import RandomForestClassifier\n",
        "from sklearn.metrics import accuracy_score\n",
        "\n",
        "# create Random Forest classifier without hyperparameters\n",
        "rfc = RandomForestClassifier()\n",
        "\n",
        "# fit the model on training data \n",
        "rfc.fit(X_train, y_train)\n",
        "\n",
        "# predict the classes on training data\n",
        "y_train_pred = rfc.predict(X_train)\n",
        "\n",
        "# predict the classes on testing data\n",
        "y_test_pred = rfc.predict(X_test)\n",
        "\n",
        "# calculate accuracy score on training data\n",
        "train_accuracy = accuracy_score(y_train, y_train_pred)\n",
        "\n",
        "# calculate accuracy score on testing data\n",
        "test_accuracy = accuracy_score(y_test, y_test_pred)\n",
        "\n",
        "# print the scores\n",
        "print(\"Accuracy Score on Training Data: \", train_accuracy)\n",
        "print(\"Accuracy Score on Testing Data: \", test_accuracy)\n"
      ]
    },
    {
      "cell_type": "code",
      "execution_count": 182,
      "id": "bfe16744",
      "metadata": {},
      "outputs": [
        {
          "name": "stdout",
          "output_type": "stream",
          "text": [
            "Precision Score on Testing Data:  0.9376416250820342\n",
            "Recall Score on Testing Data:  0.9121055167429535\n",
            "F1 Score on Testing Data:  0.9246973055153591\n"
          ]
        }
      ],
      "source": [
        "from sklearn.metrics import precision_score, recall_score, f1_score\n",
        "\n",
        "# membuat prediksi pada data testing\n",
        "y_pred = rfc.predict(X_test)\n",
        "\n",
        "# menghitung precision score\n",
        "precision = precision_score(y_test, y_pred)\n",
        "\n",
        "# menghitung recall score\n",
        "recall = recall_score(y_test, y_pred)\n",
        "\n",
        "# menghitung f1 score\n",
        "f1 = f1_score(y_test, y_pred)\n",
        "\n",
        "# print hasilnya\n",
        "print(\"Precision Score on Testing Data: \", precision)\n",
        "print(\"Recall Score on Testing Data: \", recall)\n",
        "print(\"F1 Score on Testing Data: \", f1)\n"
      ]
    },
    {
      "attachments": {},
      "cell_type": "markdown",
      "id": "578e2111",
      "metadata": {},
      "source": [
        "### simpan model"
      ]
    },
    {
      "cell_type": "code",
      "execution_count": null,
      "id": "b55fead3",
      "metadata": {},
      "outputs": [],
      "source": [
        "from joblib import dump,load\n",
        "dump(rfc,'credit_risk_classification.joblib')"
      ]
    },
    {
      "cell_type": "code",
      "execution_count": 183,
      "id": "YFgJxlb7KyEV",
      "metadata": {
        "id": "YFgJxlb7KyEV"
      },
      "outputs": [
        {
          "data": {
            "image/png": "[encoded data removed]",
            "text/plain": [
              "<Figure size 800x600 with 1 Axes>"
            ]
          },
          "metadata": {},
          "output_type": "display_data"
        }
      ],
      "source": [
        "import matplotlib.pyplot as plt\n",
        "\n",
        "# create a bar chart to display the accuracy scores\n",
        "fig, ax = plt.subplots(figsize=(8,6))\n",
        "\n",
        "# set background color to white\n",
        "fig.set_facecolor('w')\n",
        "\n",
        "train_bar = ax.bar(['Training Data'], [train_accuracy], color=['#44A1A0'], label='Training Data')\n",
        "test_bar = ax.bar(['Testing Data'], [test_accuracy], color=['#FF5733'], label='Testing Data')\n",
        "\n",
        "# set ylim\n",
        "ax.set_ylim([0.5, 1.2])\n",
        "\n",
        "# add labels to bars\n",
        "ax.bar_label(train_bar, label_type='edge', fontsize=12)\n",
        "ax.bar_label(test_bar, label_type='edge', fontsize=12)\n",
        "\n",
        "# add title, axis labels, and legend\n",
        "ax.set_title('Accuracy Scores of Random Forest Classifier Without Hyperparameter', fontsize=16,pad = 20)\n",
        "ax.set_xlabel('Data', fontsize=14)\n",
        "ax.set_ylabel('Accuracy', fontsize=14)\n",
        "ax.legend(loc='upper right', fontsize=12)\n",
        "\n",
        "# add horizontal line to show the mean\n",
        "ax.axhline(y=train_accuracy, color='#44A1A0', linestyle='--', lw=2)\n",
        "ax.axhline(y=test_accuracy, color='#FF5733', linestyle='--', lw=2)\n",
        "\n",
        "# remove top and right spines\n",
        "ax.spines['top'].set_visible(False)\n",
        "ax.spines['right'].set_visible(False)\n",
        "\n",
        "plt.show()\n"
      ]
    },
    {
      "cell_type": "markdown",
      "id": "b9885137-7b1c-4abd-bc4e-793dbb509493",
      "metadata": {
        "id": "b9885137-7b1c-4abd-bc4e-793dbb509493",
        "tags": []
      },
      "source": [
        "### Validation"
      ]
    },
    {
      "cell_type": "markdown",
      "id": "9172461d-9baa-4929-9abe-c2ade127f9c8",
      "metadata": {
        "id": "9172461d-9baa-4929-9abe-c2ade127f9c8"
      },
      "source": [
        "Untuk mengukur performa model, dua metrik yang umum dipakai dalam dunia credit risk adalah AUC dan KS."
      ]
    },
    {
      "cell_type": "code",
      "execution_count": 184,
      "id": "8ed8e2b1-f26d-4dc8-a2cd-2a3681add028",
      "metadata": {
        "id": "8ed8e2b1-f26d-4dc8-a2cd-2a3681add028"
      },
      "outputs": [],
      "source": [
        "y_pred_proba = rfc.predict_proba(X_test)[:][:,1]\n",
        "\n",
        "df_actual_predicted = pd.concat([pd.DataFrame(np.array(y_test), columns=['y_actual']), pd.DataFrame(y_pred_proba, columns=['y_pred_proba'])], axis=1)\n",
        "df_actual_predicted.index = y_test.index"
      ]
    },
    {
      "cell_type": "markdown",
      "id": "bd4dd566-220e-4f72-b735-ad87d6372f0d",
      "metadata": {
        "id": "bd4dd566-220e-4f72-b735-ad87d6372f0d"
      },
      "source": [
        "#### AUC "
      ]
    },
    {
      "cell_type": "code",
      "execution_count": 185,
      "id": "3caca03b-ef02-4875-9825-4b612447cd49",
      "metadata": {
        "id": "3caca03b-ef02-4875-9825-4b612447cd49"
      },
      "outputs": [
        {
          "data": {
            "image/png": "[encoded data removed]",
            "text/plain": [
              "<Figure size 640x480 with 1 Axes>"
            ]
          },
          "metadata": {},
          "output_type": "display_data"
        }
      ],
      "source": [
        "import matplotlib.pyplot as plt\n",
        "from sklearn.metrics import roc_curve, roc_auc_score\n",
        "\n",
        "# compute ROC curve and AUC score\n",
        "fpr, tpr, _ = roc_curve(df_actual_predicted['y_actual'], df_actual_predicted['y_pred_proba'])\n",
        "auc = roc_auc_score(df_actual_predicted['y_actual'], df_actual_predicted['y_pred_proba'])\n",
        "\n",
        "# plot ROC curve\n",
        "plt.plot(fpr, tpr, color='blue', label='ROC Curve (AUC = %0.4f)' % auc)\n",
        "plt.plot([0, 1], [0, 1], linestyle='--', color='gray', label='Random Guessing')\n",
        "plt.fill_between(fpr, tpr, 0, alpha=0.1, color='blue')\n",
        "plt.xlabel('False Positive Rate')\n",
        "plt.ylabel('True Positive Rate')\n",
        "plt.title('ROC Curve Without Hyperparameter')\n",
        "plt.legend(loc='lower right')\n",
        "plt.show()\n"
      ]
    },
    {
      "cell_type": "markdown",
      "id": "926486bb-b1a0-4829-bea2-649735bd5b92",
      "metadata": {
        "id": "926486bb-b1a0-4829-bea2-649735bd5b92"
      },
      "source": [
        "#### KS "
      ]
    },
    {
      "cell_type": "code",
      "execution_count": 186,
      "id": "7a2263f0-f5e3-4e07-add1-896f859bd584",
      "metadata": {
        "id": "7a2263f0-f5e3-4e07-add1-896f859bd584"
      },
      "outputs": [],
      "source": [
        "df_actual_predicted = df_actual_predicted.sort_values('y_pred_proba')\n",
        "df_actual_predicted = df_actual_predicted.reset_index()\n",
        "\n",
        "df_actual_predicted['Cumulative N Population'] = df_actual_predicted.index + 1\n",
        "df_actual_predicted['Cumulative N Bad'] = df_actual_predicted['y_actual'].cumsum()\n",
        "df_actual_predicted['Cumulative N Good'] = df_actual_predicted['Cumulative N Population'] - df_actual_predicted['Cumulative N Bad']\n",
        "df_actual_predicted['Cumulative Perc Population'] = df_actual_predicted['Cumulative N Population'] / df_actual_predicted.shape[0]\n",
        "df_actual_predicted['Cumulative Perc Bad'] = df_actual_predicted['Cumulative N Bad'] / df_actual_predicted['y_actual'].sum()\n",
        "df_actual_predicted['Cumulative Perc Good'] = df_actual_predicted['Cumulative N Good'] / (df_actual_predicted.shape[0] - df_actual_predicted['y_actual'].sum())"
      ]
    },
    {
      "cell_type": "code",
      "execution_count": 187,
      "id": "2d5b2b28-601b-470f-a6fd-6031143bd3ab",
      "metadata": {
        "id": "2d5b2b28-601b-470f-a6fd-6031143bd3ab"
      },
      "outputs": [
        {
          "data": {
            "text/html": [
              "<div>\n",
              "<style scoped>\n",
              "    .dataframe tbody tr th:only-of-type {\n",
              "        vertical-align: middle;\n",
              "    }\n",
              "\n",
              "    .dataframe tbody tr th {\n",
              "        vertical-align: top;\n",
              "    }\n",
              "\n",
              "    .dataframe thead th {\n",
              "        text-align: right;\n",
              "    }\n",
              "</style>\n",
              "<table border=\"1\" class=\"dataframe\">\n",
              "  <thead>\n",
              "    <tr style=\"text-align: right;\">\n",
              "      <th></th>\n",
              "      <th>index</th>\n",
              "      <th>y_actual</th>\n",
              "      <th>y_pred_proba</th>\n",
              "      <th>Cumulative N Population</th>\n",
              "      <th>Cumulative N Bad</th>\n",
              "      <th>Cumulative N Good</th>\n",
              "      <th>Cumulative Perc Population</th>\n",
              "      <th>Cumulative Perc Bad</th>\n",
              "      <th>Cumulative Perc Good</th>\n",
              "    </tr>\n",
              "  </thead>\n",
              "  <tbody>\n",
              "    <tr>\n",
              "      <th>0</th>\n",
              "      <td>110134</td>\n",
              "      <td>0</td>\n",
              "      <td>0.0</td>\n",
              "      <td>1</td>\n",
              "      <td>0</td>\n",
              "      <td>1</td>\n",
              "      <td>0.000006</td>\n",
              "      <td>0.0</td>\n",
              "      <td>0.000012</td>\n",
              "    </tr>\n",
              "    <tr>\n",
              "      <th>1</th>\n",
              "      <td>48708</td>\n",
              "      <td>0</td>\n",
              "      <td>0.0</td>\n",
              "      <td>2</td>\n",
              "      <td>0</td>\n",
              "      <td>2</td>\n",
              "      <td>0.000012</td>\n",
              "      <td>0.0</td>\n",
              "      <td>0.000024</td>\n",
              "    </tr>\n",
              "    <tr>\n",
              "      <th>2</th>\n",
              "      <td>250157</td>\n",
              "      <td>0</td>\n",
              "      <td>0.0</td>\n",
              "      <td>3</td>\n",
              "      <td>0</td>\n",
              "      <td>3</td>\n",
              "      <td>0.000018</td>\n",
              "      <td>0.0</td>\n",
              "      <td>0.000036</td>\n",
              "    </tr>\n",
              "    <tr>\n",
              "      <th>3</th>\n",
              "      <td>412124</td>\n",
              "      <td>0</td>\n",
              "      <td>0.0</td>\n",
              "      <td>4</td>\n",
              "      <td>0</td>\n",
              "      <td>4</td>\n",
              "      <td>0.000024</td>\n",
              "      <td>0.0</td>\n",
              "      <td>0.000048</td>\n",
              "    </tr>\n",
              "    <tr>\n",
              "      <th>4</th>\n",
              "      <td>423592</td>\n",
              "      <td>0</td>\n",
              "      <td>0.0</td>\n",
              "      <td>5</td>\n",
              "      <td>0</td>\n",
              "      <td>5</td>\n",
              "      <td>0.000030</td>\n",
              "      <td>0.0</td>\n",
              "      <td>0.000060</td>\n",
              "    </tr>\n",
              "  </tbody>\n",
              "</table>\n",
              "</div>"
            ],
            "text/plain": [
              "    index  y_actual  y_pred_proba  Cumulative N Population  Cumulative N Bad  \\\n",
              "0  110134         0           0.0                        1                 0   \n",
              "1   48708         0           0.0                        2                 0   \n",
              "2  250157         0           0.0                        3                 0   \n",
              "3  412124         0           0.0                        4                 0   \n",
              "4  423592         0           0.0                        5                 0   \n",
              "\n",
              "   Cumulative N Good  Cumulative Perc Population  Cumulative Perc Bad  \\\n",
              "0                  1                    0.000006                  0.0   \n",
              "1                  2                    0.000012                  0.0   \n",
              "2                  3                    0.000018                  0.0   \n",
              "3                  4                    0.000024                  0.0   \n",
              "4                  5                    0.000030                  0.0   \n",
              "\n",
              "   Cumulative Perc Good  \n",
              "0              0.000012  \n",
              "1              0.000024  \n",
              "2              0.000036  \n",
              "3              0.000048  \n",
              "4              0.000060  "
            ]
          },
          "execution_count": 187,
          "metadata": {},
          "output_type": "execute_result"
        }
      ],
      "source": [
        "df_actual_predicted.head()"
      ]
    },
    {
      "cell_type": "code",
      "execution_count": 188,
      "id": "441a4f8b-c2ca-4edd-8930-66700645d818",
      "metadata": {
        "id": "441a4f8b-c2ca-4edd-8930-66700645d818"
      },
      "outputs": [
        {
          "data": {
            "image/png": "[encoded data removed]",
            "text/plain": [
              "<Figure size 640x480 with 1 Axes>"
            ]
          },
          "metadata": {},
          "output_type": "display_data"
        }
      ],
      "source": [
        "# set plot style\n",
        "plt.style.use('ggplot')\n",
        "\n",
        "# calculate KS\n",
        "KS = max(df_actual_predicted['Cumulative Perc Good'] - df_actual_predicted['Cumulative Perc Bad'])\n",
        "\n",
        "# plot the cumulative % bad and good\n",
        "plt.plot(df_actual_predicted['y_pred_proba'], df_actual_predicted['Cumulative Perc Bad'], color='r', label='Bad')\n",
        "plt.plot(df_actual_predicted['y_pred_proba'], df_actual_predicted['Cumulative Perc Good'], color='b', label='Good')\n",
        "\n",
        "# add annotations for KS value and corresponding threshold\n",
        "plt.axvline(x=df_actual_predicted.loc[df_actual_predicted['Cumulative Perc Good'] - df_actual_predicted['Cumulative Perc Bad'] == KS, 'y_pred_proba'].iloc[0], color='k', linestyle='--')\n",
        "plt.annotate(f'Max KS: {KS:.4f}', xy=(0.1, 0.5), xytext=(0.1, 0.5), fontsize=12)\n",
        "\n",
        "# set axis labels and title\n",
        "plt.xlabel('Estimated Probability for Being Bad')\n",
        "plt.ylabel('Cumulative %')\n",
        "plt.title('Kolmogorov-Smirnov')\n",
        "\n",
        "# add legend\n",
        "plt.legend()\n",
        "\n",
        "# show the plot\n",
        "plt.show()\n"
      ]
    },
    {
      "attachments": {},
      "cell_type": "markdown",
      "id": "1dbdd107-1b69-4e89-96aa-9cb27a093a09",
      "metadata": {
        "id": "1dbdd107-1b69-4e89-96aa-9cb27a093a09"
      },
      "source": [
        "Model yang dibangun menghasilkan performa `AUC = 0.97` dan `KS = 0.85`. Pada dunia credit risk modeling, umumnya AUC di atas 0.7 dan KS di atas 0.3 sudah termasuk performa yang baik."
      ]
    },
    {
      "cell_type": "markdown",
      "id": "KvC2shFOhadj",
      "metadata": {
        "id": "KvC2shFOhadj"
      },
      "source": [
        "### Cross Validation"
      ]
    },
    {
      "cell_type": "code",
      "execution_count": 189,
      "id": "YLNVdXvahd5K",
      "metadata": {
        "id": "YLNVdXvahd5K"
      },
      "outputs": [
        {
          "data": {
            "image/png": "[encoded data removed]",
            "text/plain": [
              "<Figure size 640x480 with 1 Axes>"
            ]
          },
          "metadata": {},
          "output_type": "display_data"
        }
      ],
      "source": [
        "import matplotlib.pyplot as plt\n",
        "from sklearn.model_selection import cross_val_score\n",
        "\n",
        "# set plot style\n",
        "plt.style.use('ggplot')\n",
        "\n",
        "# create Random Forest classifier\n",
        "rfc = RandomForestClassifier()\n",
        "\n",
        "# perform 5-fold cross validation\n",
        "scores = cross_val_score(rfc, X, y, cv=5)\n",
        "\n",
        "# plot the cross validation scores\n",
        "plt.plot(range(1, 6), scores, marker='o', linestyle='--', color='b')\n",
        "\n",
        "# set y-axis limits to 0 and 1\n",
        "plt.ylim(0, 1)\n",
        "\n",
        "# add labels and title\n",
        "plt.xlabel('Fold')\n",
        "plt.ylabel('Accuracy') \n",
        "plt.title('Cross Validation Scores')\n",
        "\n",
        "# show the plot\n",
        "plt.show()\n"
      ]
    },
    {
      "cell_type": "code",
      "execution_count": 190,
      "id": "vN0Fb2oQl9fS",
      "metadata": {
        "id": "vN0Fb2oQl9fS"
      },
      "outputs": [
        {
          "name": "stdout",
          "output_type": "stream",
          "text": [
            "Cross Validation Scores:  [0.56092628 0.52335864 0.61716638 0.70505697 0.55204483]\n",
            "Average Score:  0.5917106214460425\n"
          ]
        }
      ],
      "source": [
        "# print the cross validation scores\n",
        "print(\"Cross Validation Scores: \", scores)\n",
        "print(\"Average Score: \", scores.mean())"
      ]
    },
    {
      "attachments": {},
      "cell_type": "markdown",
      "id": "4067023d",
      "metadata": {},
      "source": [
        "Karena performa model sudah bagus maka saya tidak menggunakan hyperparameter"
      ]
    },
    {
      "cell_type": "markdown",
      "id": "CUFxQGMdONUi",
      "metadata": {
        "id": "CUFxQGMdONUi"
      },
      "source": [
        "# Kesimpulan"
      ]
    },
    {
      "attachments": {},
      "cell_type": "markdown",
      "id": "ad74fa23",
      "metadata": {},
      "source": [
        "Berdasarkan hasil analisis dari project kredit risk untuk klasifikasi credit baik dan buruk, dapat disimpulkan bahwa sebagian besar peminjam memiliki kredit dengan grade yang baik, kepemilikan rumah yang terbanyak adalah 'MORTGAGE', tujuan pinjaman paling banyak adalah untuk debt consolidation, dan sebagian besar peminjam memiliki rasio utang terhadap pendapatan yang rendah. Selain itu, terdapat ketidakseimbangan pada data yang bisa menjadi masalah dalam analisis data, sehingga dilakukan oversampling smote untuk menyeimbangkan data. Model yang telah dibangun memiliki akurasi yang tinggi pada data train dan test, serta validasi yang baik, yaitu kc 0.97, ks 0.85, dan cross validation 0.60. Dengan demikian, model ini dapat digunakan untuk memprediksi kredit baik atau buruk dengan tingkat akurasi yang tinggi."
      ]
    },
    {
      "cell_type": "markdown",
      "id": "ac3d818f-24f5-4784-9666-5e9f5a493263",
      "metadata": {
        "id": "ac3d818f-24f5-4784-9666-5e9f5a493263"
      },
      "source": [
        "# SARAN"
      ]
    },
    {
      "attachments": {},
      "cell_type": "markdown",
      "id": "8f0ecac4-e968-4711-935e-03c3fae15139",
      "metadata": {
        "id": "8f0ecac4-e968-4711-935e-03c3fae15139"
      },
      "source": [
        "Beberapa hal lain yang dapat dilakukan untuk project ini:\n",
        "\n",
        "- Loan amount distribution: Sebaiknya dilakukan analisis lebih lanjut terkait pinjaman dengan jumlah tinggi yang mungkin berpotensi menjadi risiko kredit yang lebih tinggi, seperti dengan melihat rasio utang terhadap pendapatan dan seberapa besar pembayaran bulanan yang harus dilakukan oleh peminjam.\n",
        "\n",
        "- Distribution credit grade: Analisis ini dapat membantu untuk memahami profil risiko peminjam yang berbeda dan menentukan strategi kredit yang sesuai dengan profil risiko tersebut.\n",
        "\n",
        "- Distribution of home ownership: Dapat dilakukan analisis lebih lanjut untuk memahami bagaimana kepemilikan rumah dapat mempengaruhi risiko kredit. Hal ini dapat membantu untuk menentukan strategi kredit yang sesuai dengan profil risiko peminjam yang berbeda.\n",
        "\n",
        "- Loan purpose distribution: Perlu dilakukan pemantauan terhadap pinjaman dengan tujuan 'other', 'major purpose', 'small business', 'car', 'medical', 'moving', 'vacation', 'wedding', 'house', 'educational', dan 'renewable energy' karena memiliki jumlah pinjaman yang lebih sedikit dibandingkan dengan tiga tujuan pinjaman teratas.\n",
        "\n",
        "- Distribution of dti: Perlu dilakukan analisis lebih lanjut untuk memahami bagaimana rasio utang terhadap pendapatan mempengaruhi risiko kredit dan apakah terdapat rentang nilai DTI tertentu yang memiliki risiko kredit yang lebih tinggi.\n",
        "\n",
        "- Distribution bad flag: Oversampling SMOTE dapat membantu menyeimbangkan data dan memperbaiki kinerja model dalam memprediksi kasus yang tidak dominan.\n",
        "\n",
        "- Model evaluation: Perlu dilakukan pengujian model secara berkala untuk memastikan kinerja model yang konsisten dan sesuai dengan tujuan analisis. Selain itu, dapat dilakukan analisis lebih lanjut terkait faktor-faktor yang mempengaruhi kinerja model, seperti pemilihan fitur yang tepat atau penggunaan algoritma yang lebih kompleks untuk meningkatkan akurasi model."
      ]
    }
  ],
  "metadata": {
    "accelerator": "GPU",
    "colab": {
      "provenance": []
    },
    "gpuClass": "standard",
    "kernelspec": {
      "display_name": "Python 3",
      "language": "python",
      "name": "python3"
    },
    "language_info": {
      "codemirror_mode": {
        "name": "ipython",
        "version": 3
      },
      "file_extension": ".py",
      "mimetype": "text/x-python",
      "name": "python",
      "nbconvert_exporter": "python",
      "pygments_lexer": "ipython3",
      "version": "3.10.11"
    },
    "vscode": {
      "interpreter": {
        "hash": "7b1f2b33e866b0bf2409397e5f58ba9cdf170d3b7f64c8f359c79998e2f88ad4"
      }
    }
  },
  "nbformat": 4,
  "nbformat_minor": 5
}
